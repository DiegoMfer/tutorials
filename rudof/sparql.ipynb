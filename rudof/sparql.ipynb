{
  "cells": [
    {
      "cell_type": "markdown",
      "metadata": {
        "id": "sUm7kokski_K"
      },
      "source": [
        "# SPARQL"
      ]
    },
    {
      "cell_type": "markdown",
      "metadata": {
        "id": "LMC6kMsUp3de"
      },
      "source": []
    },
    {
      "cell_type": "markdown",
      "metadata": {
        "id": "FlaljkGCkn_Q"
      },
      "source": [
        "This document contains a short introduction to [SPARQL](https://www.w3.org/TR/sparql11-query/) using [rudof](https://rudof-project.github.io/).\n"
      ]
    },
    {
      "cell_type": "markdown",
      "metadata": {
        "id": "whZHWrGG6Y8O"
      },
      "source": [
        "## Preliminaries"
      ]
    },
    {
      "cell_type": "markdown",
      "metadata": {
        "id": "YpF48mZrjqwo"
      },
      "source": [
        "The library is available as `pyrudof`."
      ]
    },
    {
      "cell_type": "code",
      "execution_count": 1,
      "metadata": {
        "colab": {
          "base_uri": "https://localhost:8080/"
        },
        "id": "voGWk2uO6gcP",
        "outputId": "f883101c-f508-48f3-e549-f1b0fc705833"
      },
      "outputs": [
        {
          "output_type": "stream",
          "name": "stdout",
          "text": [
            "Collecting pyrudof\n",
            "  Downloading pyrudof-0.1.121-cp37-abi3-manylinux_2_17_x86_64.manylinux2014_x86_64.whl.metadata (1.9 kB)\n",
            "Downloading pyrudof-0.1.121-cp37-abi3-manylinux_2_17_x86_64.manylinux2014_x86_64.whl (10.2 MB)\n",
            "\u001b[2K   \u001b[90m━━━━━━━━━━━━━━━━━━━━━━━━━━━━━━━━━━━━━━━━\u001b[0m \u001b[32m10.2/10.2 MB\u001b[0m \u001b[31m75.4 MB/s\u001b[0m eta \u001b[36m0:00:00\u001b[0m\n",
            "\u001b[?25hInstalling collected packages: pyrudof\n",
            "Successfully installed pyrudof-0.1.121\n"
          ]
        }
      ],
      "source": [
        "!pip install pyrudof"
      ]
    },
    {
      "cell_type": "markdown",
      "metadata": {
        "id": "FzsA78qu-xXP"
      },
      "source": [
        "The main entry point if a class called `Rudof` through which most of the functionality is provided."
      ]
    },
    {
      "cell_type": "code",
      "execution_count": 2,
      "metadata": {
        "id": "I3jvDAPBJ3OQ"
      },
      "outputs": [],
      "source": [
        "from pyrudof import Rudof, RudofConfig"
      ]
    },
    {
      "cell_type": "markdown",
      "metadata": {
        "id": "0Io7V7y9_G_P"
      },
      "source": [
        "In order to initialize that class, it is possible to pass a RudofConfig instance which contains configuration parameters for customization."
      ]
    },
    {
      "cell_type": "code",
      "execution_count": 3,
      "metadata": {
        "id": "OAV_KSrH6qn-"
      },
      "outputs": [],
      "source": [
        "rudof = Rudof(RudofConfig())"
      ]
    },
    {
      "cell_type": "markdown",
      "metadata": {
        "id": "rCOlUq9H_5b2"
      },
      "source": [
        "## SPARQL queries with local RDF data"
      ]
    },
    {
      "cell_type": "markdown",
      "source": [
        "As SPARQL is an RDF query language, we first need some RDF data.\n",
        "\n",
        "rudof can run queries against local RDF data or RDF that is available through some SPARQL endpoint.\n",
        "\n",
        "Let's start with some local RDF data."
      ],
      "metadata": {
        "id": "A3nPgQ8zI1-e"
      }
    },
    {
      "cell_type": "code",
      "execution_count": 4,
      "metadata": {
        "id": "WH2rBJ5b_8go"
      },
      "outputs": [],
      "source": [
        "rdf = \"\"\"\n",
        "prefix :    <http://example.org/>\n",
        "prefix xsd: <http://www.w3.org/2001/XMLSchema#>\n",
        "\n",
        ":alice a :Person ;\n",
        " :name      \"Alice\"                ;\n",
        " :birthDate \"2005-03-01\"^^xsd:date ;\n",
        " :worksFor  :acme                   .\n",
        ":bob a :Person   ;\n",
        " :name      \"Robert Smith\"         ;\n",
        " :birthDate \"2003-01-02\"^^xsd:date ;\n",
        " :worksFor  :acme  .\n",
        ":acme a :Company ;\n",
        " :name \"Acme Inc.\" .\n",
        "\"\"\"\n",
        "rudof.read_data_str(rdf)"
      ]
    },
    {
      "cell_type": "markdown",
      "source": [
        "We can run SPARQL queries as follows:"
      ],
      "metadata": {
        "id": "YLIV8NRzKO24"
      }
    },
    {
      "cell_type": "code",
      "execution_count": 5,
      "metadata": {
        "id": "ags_QBb4DVaC"
      },
      "outputs": [],
      "source": [
        "query = \"\"\"\n",
        "PREFIX : <http://example.org/>\n",
        "\n",
        "SELECT ?person ?name ?date ?company WHERE {\n",
        "  ?person a          :Person ;\n",
        "          :name      ?name   ;\n",
        "          :birthDate ?date   ;\n",
        "          :worksFor  ?c   .\n",
        "  ?c      :name      ?company .\n",
        "}\n",
        "\"\"\"\n",
        "\n",
        "results = rudof.run_query_str(query)\n"
      ]
    },
    {
      "cell_type": "markdown",
      "metadata": {
        "id": "w4x5cYh-CBnP"
      },
      "source": [
        "Show the results:"
      ]
    },
    {
      "cell_type": "code",
      "execution_count": 6,
      "metadata": {
        "colab": {
          "base_uri": "https://localhost:8080/"
        },
        "id": "t8Bp-fcSCDsW",
        "outputId": "8328701a-9f4a-43c1-fc6f-719aa4f861ef"
      },
      "outputs": [
        {
          "output_type": "stream",
          "name": "stdout",
          "text": [
            "╭───┬─────────┬────────────────┬────────────────────────┬─────────────╮\n",
            "│   │ ?person │ ?name          │ ?date                  │ ?company    │\n",
            "├───┼─────────┼────────────────┼────────────────────────┼─────────────┤\n",
            "│ 1 │ :alice  │ \"Alice\"        │ \"2005-03-01\"^^xsd:date │ \"Acme Inc.\" │\n",
            "├───┼─────────┼────────────────┼────────────────────────┼─────────────┤\n",
            "│ 2 │ :bob    │ \"Robert Smith\" │ \"2003-01-02\"^^xsd:date │ \"Acme Inc.\" │\n",
            "╰───┴─────────┴────────────────┴────────────────────────┴─────────────╯\n",
            "\n"
          ]
        }
      ],
      "source": [
        "print(results.show())"
      ]
    },
    {
      "cell_type": "code",
      "source": [
        "rudof.reset_all()"
      ],
      "metadata": {
        "id": "_XccjYtQNm63"
      },
      "execution_count": 7,
      "outputs": []
    },
    {
      "cell_type": "markdown",
      "source": [
        "## SPARQL queries with an endpoint"
      ],
      "metadata": {
        "id": "-a2VO8dFKcn_"
      }
    },
    {
      "cell_type": "markdown",
      "source": [
        "It is also possible to run SPARQL queries against SPARQL endpoints.\n",
        "\n",
        "SPARQL endpoints are usually identified by an IRI.\n",
        "\n",
        "rudof contains a list of popular SPARQL endpoints which can also be identified by name, like wikidata, whose IRI is: https://query.wikidata.org/sparql"
      ],
      "metadata": {
        "id": "MTwPucenKoYn"
      }
    },
    {
      "cell_type": "code",
      "source": [
        "query = \"\"\"\n",
        "PREFIX wd: <http://www.wikidata.org/entity/>\n",
        "PREFIX wdt: <http://www.wikidata.org/prop/direct/>\n",
        "SELECT ?person ?occupation WHERE {\n",
        "    ?p wdt:P31 wd:Q5 ;\n",
        "          wdt:P106 ?o ;\n",
        "          rdfs:label ?person ;\n",
        "          wdt:P19 wd:Q14317 .\n",
        "  ?o rdfs:label ?occupation\n",
        "  FILTER (lang(?person) = \"en\" && lang(?occupation) = \"en\")\n",
        "}\n",
        "LIMIT 10\n",
        "\"\"\""
      ],
      "metadata": {
        "id": "idcwGDNWNlgX"
      },
      "execution_count": 8,
      "outputs": []
    },
    {
      "cell_type": "code",
      "source": [
        "rudof.use_endpoint(\"https://query.wikidata.org/sparql\")\n"
      ],
      "metadata": {
        "id": "gbrqFmkqNzc-"
      },
      "execution_count": 9,
      "outputs": []
    },
    {
      "cell_type": "code",
      "source": [
        "results = rudof.run_query_str(query)"
      ],
      "metadata": {
        "id": "7tQSbSZlRbeH"
      },
      "execution_count": 10,
      "outputs": []
    },
    {
      "cell_type": "code",
      "source": [
        "print(results.show())"
      ],
      "metadata": {
        "colab": {
          "base_uri": "https://localhost:8080/"
        },
        "id": "QhntEKe9O-xX",
        "outputId": "4e012fb0-6eb4-476e-ca66-2e8c470d6a49"
      },
      "execution_count": 11,
      "outputs": [
        {
          "output_type": "stream",
          "name": "stdout",
          "text": [
            "╭────┬──────────────────────────────────────────┬────────────────────────╮\n",
            "│    │ ?person                                  │ ?occupation            │\n",
            "├────┼──────────────────────────────────────────┼────────────────────────┤\n",
            "│ 1  │ \"Luis López-Doriga\"en                    │ \"politician\"en         │\n",
            "├────┼──────────────────────────────────────────┼────────────────────────┤\n",
            "│ 2  │ \"Leticia Sánchez Ruiz\"en                 │ \"writer\"en             │\n",
            "├────┼──────────────────────────────────────────┼────────────────────────┤\n",
            "│ 3  │ \"Luis Menéndez-Pidal y Álvarez\"en        │ \"architect\"en          │\n",
            "├────┼──────────────────────────────────────────┼────────────────────────┤\n",
            "│ 4  │ \"Elena Fernández\"en                      │ \"actor\"en              │\n",
            "├────┼──────────────────────────────────────────┼────────────────────────┤\n",
            "│ 5  │ \"Alberto Rionda\"en                       │ \"composer\"en           │\n",
            "├────┼──────────────────────────────────────────┼────────────────────────┤\n",
            "│ 6  │ \"Fernando Alonso\"en                      │ \"Formula One driver\"en │\n",
            "├────┼──────────────────────────────────────────┼────────────────────────┤\n",
            "│ 7  │ \"Carlos Tartiere de las Alas Pumariño\"en │ \"businessperson\"en     │\n",
            "├────┼──────────────────────────────────────────┼────────────────────────┤\n",
            "│ 8  │ \"Alberto Rionda\"en                       │ \"guitarist\"en          │\n",
            "├────┼──────────────────────────────────────────┼────────────────────────┤\n",
            "│ 9  │ \"Luis López-Doriga\"en                    │ \"Catholic priest\"en    │\n",
            "├────┼──────────────────────────────────────────┼────────────────────────┤\n",
            "│ 10 │ \"Fernando Alonso\"en                      │ \"vegetarian\"en         │\n",
            "╰────┴──────────────────────────────────────────┴────────────────────────╯\n",
            "\n"
          ]
        }
      ]
    },
    {
      "cell_type": "code",
      "source": [
        "rudof.use_endpoint(\"https://query.wikidata.org/sparql\")\n"
      ],
      "metadata": {
        "id": "WWOovIHuPASz"
      },
      "execution_count": 12,
      "outputs": []
    },
    {
      "cell_type": "code",
      "source": [
        "rudof.reset_all()"
      ],
      "metadata": {
        "id": "1CW79IYHPEwz"
      },
      "execution_count": 13,
      "outputs": []
    },
    {
      "cell_type": "markdown",
      "source": [
        "## Federated queries"
      ],
      "metadata": {
        "id": "fj_-kDkyQKOE"
      }
    },
    {
      "cell_type": "markdown",
      "source": [
        "TBD"
      ],
      "metadata": {
        "id": "HKbWZqWaQMqD"
      }
    },
    {
      "cell_type": "markdown",
      "source": [
        "## CONSTRUCT queries"
      ],
      "metadata": {
        "id": "3eimits8OMXb"
      }
    },
    {
      "cell_type": "code",
      "source": [
        "from pyrudof import QueryResultFormat"
      ],
      "metadata": {
        "id": "MDafK9dL626B"
      },
      "execution_count": 18,
      "outputs": []
    },
    {
      "cell_type": "markdown",
      "source": [
        "It is also possible to run SPARQL CONSTRUCT queries which can be used to return RDF results.\n",
        "\n",
        "For example:"
      ],
      "metadata": {
        "id": "JmZOY0QNOQgl"
      }
    },
    {
      "cell_type": "code",
      "source": [
        "query = \"\"\"\n",
        "PREFIX wd:  <http://www.wikidata.org/entity/>\n",
        "PREFIX wdt: <http://www.wikidata.org/prop/direct/>\n",
        "PREFIX :    <http://example.org/>\n",
        "\n",
        "CONSTRUCT {\n",
        "   ?p a     :Person ;\n",
        "      :name ?person ;\n",
        "      :occupation ?occupation\n",
        "} WHERE {\n",
        "    ?p wdt:P31 wd:Q5 ;\n",
        "          wdt:P106 ?o ;\n",
        "          rdfs:label ?person ;\n",
        "          wdt:P19 wd:Q14317 .\n",
        "  ?o rdfs:label ?occupation\n",
        "  FILTER (lang(?person) = \"en\" && lang(?occupation) = \"en\")\n",
        "}\n",
        "LIMIT 10\n",
        "\"\"\""
      ],
      "metadata": {
        "id": "EaT5nZ4kOb2L"
      },
      "execution_count": 19,
      "outputs": []
    },
    {
      "cell_type": "markdown",
      "source": [
        "We indicate rudof that we will use Wikidata's endpoint:"
      ],
      "metadata": {
        "id": "1Fn7b37nPOrT"
      }
    },
    {
      "cell_type": "code",
      "source": [
        "rudof.use_endpoint(\"https://query.wikidata.org/sparql\")"
      ],
      "metadata": {
        "id": "ManQHdQwO9B0"
      },
      "execution_count": 20,
      "outputs": []
    },
    {
      "cell_type": "code",
      "source": [],
      "metadata": {
        "id": "ez1BNwOGQRGM"
      },
      "execution_count": 15,
      "outputs": []
    },
    {
      "cell_type": "code",
      "source": [
        "result = rudof.run_query_construct_str(query, QueryResultFormat.Turtle)"
      ],
      "metadata": {
        "id": "zhnAJGzDPNns"
      },
      "execution_count": 21,
      "outputs": []
    },
    {
      "cell_type": "code",
      "source": [
        "print(result)"
      ],
      "metadata": {
        "colab": {
          "base_uri": "https://localhost:8080/"
        },
        "id": "eQYxOLSbPmsL",
        "outputId": "37abed28-c065-4af9-d310-bbb0786dbfd0"
      },
      "execution_count": 22,
      "outputs": [
        {
          "output_type": "stream",
          "name": "stdout",
          "text": [
            "@prefix wd: <http://www.wikidata.org/entity/> .\n",
            "@prefix wdt: <http://www.wikidata.org/prop/direct/> .\n",
            "@prefix : <http://example.org/> .\n",
            "@prefix rdf: <http://www.w3.org/1999/02/22-rdf-syntax-ns#> .\n",
            "@prefix rdfs: <http://www.w3.org/2000/01/rdf-schema#> .\n",
            "@prefix sesame: <http://www.openrdf.org/schema/sesame#> .\n",
            "@prefix owl: <http://www.w3.org/2002/07/owl#> .\n",
            "@prefix xsd: <http://www.w3.org/2001/XMLSchema#> .\n",
            "@prefix fn: <http://www.w3.org/2005/xpath-functions#> .\n",
            "@prefix foaf: <http://xmlns.com/foaf/0.1/> .\n",
            "@prefix dc: <http://purl.org/dc/elements/1.1/> .\n",
            "@prefix hint: <http://www.bigdata.com/queryHints#> .\n",
            "@prefix bd: <http://www.bigdata.com/rdf#> .\n",
            "@prefix bds: <http://www.bigdata.com/rdf/search#> .\n",
            "@prefix psn: <http://www.wikidata.org/prop/statement/value-normalized/> .\n",
            "@prefix pqn: <http://www.wikidata.org/prop/qualifier/value-normalized/> .\n",
            "@prefix prn: <http://www.wikidata.org/prop/reference/value-normalized/> .\n",
            "@prefix mwapi: <https://www.mediawiki.org/ontology#API/> .\n",
            "@prefix gas: <http://www.bigdata.com/rdf/gas#> .\n",
            "@prefix wdsubgraph: <https://query.wikidata.org/subgraph/> .\n",
            "@prefix wdtn: <http://www.wikidata.org/prop/direct-normalized/> .\n",
            "@prefix psv: <http://www.wikidata.org/prop/statement/value/> .\n",
            "@prefix ps: <http://www.wikidata.org/prop/statement/> .\n",
            "@prefix pqv: <http://www.wikidata.org/prop/qualifier/value/> .\n",
            "@prefix pq: <http://www.wikidata.org/prop/qualifier/> .\n",
            "@prefix prv: <http://www.wikidata.org/prop/reference/value/> .\n",
            "@prefix pr: <http://www.wikidata.org/prop/reference/> .\n",
            "@prefix wdno: <http://www.wikidata.org/prop/novalue/> .\n",
            "@prefix p: <http://www.wikidata.org/prop/> .\n",
            "@prefix wikibase: <http://wikiba.se/ontology#> .\n",
            "@prefix wdata: <http://www.wikidata.org/wiki/Special:EntityData/> .\n",
            "@prefix wds: <http://www.wikidata.org/entity/statement/> .\n",
            "@prefix wdv: <http://www.wikidata.org/value/> .\n",
            "@prefix wdref: <http://www.wikidata.org/reference/> .\n",
            "@prefix schema: <http://schema.org/> .\n",
            "@prefix prov: <http://www.w3.org/ns/prov#> .\n",
            "@prefix skos: <http://www.w3.org/2004/02/skos/core#> .\n",
            "@prefix geo: <http://www.opengis.net/ont/geosparql#> .\n",
            "@prefix geof: <http://www.opengis.net/def/geosparql/function/> .\n",
            "@prefix mediawiki: <https://www.mediawiki.org/ontology#> .\n",
            "@prefix ontolex: <http://www.w3.org/ns/lemon/ontolex#> .\n",
            "@prefix dct: <http://purl.org/dc/terms/> .\n",
            "@prefix wikibaseqs: <http://wikiba.se/queryService#> .\n",
            "\n",
            "wd:Q5973925 a :Person ;\n",
            "\t:name \"Leticia SÃ¡nchez Ruiz\"@en ;\n",
            "\t:occupation \"writer\"@en .\n",
            "\n",
            "wd:Q5983811 a :Person ;\n",
            "\t:name \"Luis LÃ³pez-Doriga\"@en ;\n",
            "\t:occupation \"politician\"@en .\n",
            "\n",
            "wd:Q5983724 a :Person ;\n",
            "\t:name \"Luis JosÃ© de Ãvila\"@en ;\n",
            "\t:occupation \"journalist\"@en .\n",
            "\n",
            "wd:Q5983811 :occupation \"Catholic priest\"@en , \"theologian\"@en .\n",
            "\n",
            "wd:Q6001860 a :Person ;\n",
            "\t:name \"Marta Azcona\"@en ;\n",
            "\t:occupation \"screenwriter\"@en .\n",
            "\n",
            "wd:Q6003214 a :Person ;\n",
            "\t:name \"Mary Paz Pondal\"@en ;\n",
            "\t:occupation \"actor\"@en .\n",
            "\n",
            "wd:Q10514 a :Person ;\n",
            "\t:name \"Fernando Alonso\"@en ;\n",
            "\t:occupation \"vegetarian\"@en .\n",
            "\n",
            "wd:Q27688 a :Person ;\n",
            "\t:name \"Javier Paredes\"@en ;\n",
            "\t:occupation \"association football player\"@en .\n",
            "\n",
            "wd:Q10514 :occupation \"Formula One driver\"@en .\n",
            "\n"
          ]
        }
      ]
    },
    {
      "cell_type": "markdown",
      "source": [
        "## References\n",
        "\n"
      ],
      "metadata": {
        "id": "XghKhhb1Kc1V"
      }
    },
    {
      "cell_type": "markdown",
      "source": [
        "### Resources for learning SPARQL\n",
        "\n",
        "*   [Learning SPARQL](https://learningsparql.com/) book and blog by Bob Ducharne.\n",
        "*   [SPARQL tutorial](https://www.wikidata.org/wiki/Wikidata:SPARQL_tutorial) from Wikidata\n",
        "\n",
        "### Lists of SPARQL endpoints\n",
        "\n",
        "*   [SPARQL endpoints](https://www.wikidata.org/wiki/Wikidata:Lists/SPARQL_endpoints) collected in Wikidata\n",
        "*   [SPARQL endpoints](https://www.w3.org/wiki/SparqlEndpoints) collected at W3C.\n",
        "\n"
      ],
      "metadata": {
        "id": "_Uv4p9FaKhVk"
      }
    },
    {
      "cell_type": "code",
      "source": [],
      "metadata": {
        "id": "f4masM30Rvem"
      },
      "execution_count": null,
      "outputs": []
    }
  ],
  "metadata": {
    "colab": {
      "provenance": [],
      "toc_visible": true
    },
    "kernelspec": {
      "display_name": "Python 3",
      "name": "python3"
    },
    "language_info": {
      "name": "python"
    }
  },
  "nbformat": 4,
  "nbformat_minor": 0
}