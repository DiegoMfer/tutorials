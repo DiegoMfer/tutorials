{
  "cells": [
    {
      "cell_type": "markdown",
      "metadata": {
        "id": "sUm7kokski_K"
      },
      "source": [
        "# SHACL"
      ]
    },
    {
      "cell_type": "markdown",
      "metadata": {
        "id": "LMC6kMsUp3de"
      },
      "source": []
    },
    {
      "cell_type": "markdown",
      "metadata": {
        "id": "FlaljkGCkn_Q"
      },
      "source": [
        "This document contains a short introduction to [RDF](https://www.w3.org/TR/rdf11-primer/) using [rudof](https://rudof-project.github.io/).\n"
      ]
    },
    {
      "cell_type": "markdown",
      "metadata": {
        "id": "whZHWrGG6Y8O"
      },
      "source": [
        "## Preliminaries: Install and configure rudof"
      ]
    },
    {
      "cell_type": "markdown",
      "metadata": {
        "id": "YpF48mZrjqwo"
      },
      "source": [
        "The library is available as `pyrudof`."
      ]
    },
    {
      "cell_type": "code",
      "execution_count": 1,
      "metadata": {
        "colab": {
          "base_uri": "https://localhost:8080/"
        },
        "id": "voGWk2uO6gcP",
        "outputId": "4c68d338-6f6b-4d07-9e3c-f42e76a7b3d2",
        "cellView": "form"
      },
      "outputs": [
        {
          "output_type": "stream",
          "name": "stdout",
          "text": [
            "Collecting pyrudof\n",
            "  Downloading pyrudof-0.1.130-cp37-abi3-manylinux_2_17_x86_64.manylinux2014_x86_64.whl.metadata (1.9 kB)\n",
            "Downloading pyrudof-0.1.130-cp37-abi3-manylinux_2_17_x86_64.manylinux2014_x86_64.whl (10.5 MB)\n",
            "\u001b[2K   \u001b[90m━━━━━━━━━━━━━━━━━━━━━━━━━━━━━━━━━━━━━━━━\u001b[0m \u001b[32m10.5/10.5 MB\u001b[0m \u001b[31m6.4 MB/s\u001b[0m eta \u001b[36m0:00:00\u001b[0m\n",
            "\u001b[?25hInstalling collected packages: pyrudof\n",
            "Successfully installed pyrudof-0.1.130\n"
          ]
        }
      ],
      "source": [
        "# @title\n",
        "!pip install pyrudof\n",
        "from pyrudof import Rudof, RudofConfig\n",
        "rudof = Rudof(RudofConfig())"
      ]
    },
    {
      "cell_type": "markdown",
      "metadata": {
        "id": "RdCph-Et7PwG"
      },
      "source": [
        "## Validate using SHACL"
      ]
    },
    {
      "cell_type": "code",
      "source": [
        "# @title\n",
        "rudof = Rudof(RudofConfig())"
      ],
      "metadata": {
        "cellView": "form",
        "id": "boKDfbEzyMrW"
      },
      "execution_count": 9,
      "outputs": []
    },
    {
      "cell_type": "markdown",
      "metadata": {
        "id": "jr6gkZuQ_WaO"
      },
      "source": [
        "Let's read some RDF data."
      ]
    },
    {
      "cell_type": "code",
      "execution_count": 10,
      "metadata": {
        "id": "Mql8MdI06vj3"
      },
      "outputs": [],
      "source": [
        "rudof.read_data_str(\"\"\"\n",
        "prefix :       <http://example.org/>\n",
        "prefix xsd:    <http://www.w3.org/2001/XMLSchema#>\n",
        "prefix rdf:    <http://www.w3.org/1999/02/22-rdf-syntax-ns#>\n",
        "prefix schema: <http://schema.org/>\n",
        "prefix rdfs: <http://www.w3.org/2000/01/rdf-schema#>\n",
        "\n",
        ":timbl  rdf:type    :Human ;\n",
        "        :name       \"Tim Berners-Lee\" ;\n",
        "        :birthPlace :london ;\n",
        "        :birthDate  \"1955-06-08\"^^xsd:date ;\n",
        "        :employer   :CERN ;\n",
        "        :knows      _:1 .\n",
        ":london rdf:type    :city, :metropolis ;\n",
        "        :country    :UK .\n",
        ":CERN   rdf:type    :Organization .\n",
        "_:1     :birthPlace :Spain .\n",
        "\"\"\")"
      ]
    },
    {
      "cell_type": "code",
      "execution_count": 11,
      "metadata": {
        "id": "jZzlVjXp60H2"
      },
      "outputs": [],
      "source": [
        "rudof.read_shacl_str(\"\"\"\n",
        "prefix :       <http://example.org/>\n",
        "prefix sh:     <http://www.w3.org/ns/shacl#>\n",
        "prefix xsd:    <http://www.w3.org/2001/XMLSchema#>\n",
        "prefix rdfs:   <http://www.w3.org/2000/01/rdf-schema#>\n",
        "prefix schema: <http://schema.org/>\n",
        "\n",
        ":Person a sh:NodeShape ;\n",
        " sh:targetClass :Human ;\n",
        " sh:property [ sh:path :name ;\n",
        "               sh:datatype xsd:string;\n",
        "               sh:minCount 1 ; sh:maxCount 1 ] ;\n",
        " sh:property [ sh:path :birthDate ; sh:datatype xsd:date;\n",
        "                                    sh:maxCount 1 ] ;\n",
        " sh:property [ sh:path :birthPlace ;\n",
        "               sh:node :Place; sh:maxCount 1 ] ;\n",
        " sh:property [\n",
        "    sh:path :employer ;\n",
        "    sh:node :Organization\n",
        "] .\n",
        "\n",
        ":Place a sh:NodeShape .\n",
        ":Organization a sh:NodeShape .\n",
        "\"\"\")"
      ]
    },
    {
      "cell_type": "code",
      "execution_count": 12,
      "metadata": {
        "id": "1fidxZsb643H"
      },
      "outputs": [],
      "source": [
        "result = rudof.validate_shacl()"
      ]
    },
    {
      "cell_type": "code",
      "execution_count": 13,
      "metadata": {
        "colab": {
          "base_uri": "https://localhost:8080/"
        },
        "id": "L_gWERG86665",
        "outputId": "f94e2c12-5598-4cdb-acd4-cc4ec800ffd0"
      },
      "outputs": [
        {
          "output_type": "stream",
          "name": "stdout",
          "text": [
            "No Errors found\n"
          ]
        }
      ],
      "source": [
        "print(result.show_as_table())"
      ]
    },
    {
      "cell_type": "markdown",
      "source": [
        "The previous data didn't have errors. We can add some data with errors like the following:"
      ],
      "metadata": {
        "id": "QoDSvkdhxUq9"
      }
    },
    {
      "cell_type": "code",
      "source": [
        "rudof.read_data_str(\"\"\"\n",
        "prefix :       <http://example.org/>\n",
        "prefix xsd:    <http://www.w3.org/2001/XMLSchema#>\n",
        "prefix rdf:    <http://www.w3.org/1999/02/22-rdf-syntax-ns#>\n",
        "prefix schema: <http://schema.org/>\n",
        "prefix rdfs: <http://www.w3.org/2000/01/rdf-schema#>\n",
        "\n",
        ":wrong1 rdf:type    :Human ;\n",
        "        :name       \"John\" ;\n",
        "        :birthDate  \"1955-06-08\"^^xsd:date, \"1956-06-08\"^^xsd:date .\n",
        ":wrong2 rdf:type    :Human ;\n",
        "        :name       23 ;\n",
        "        :birthDate  \"1955-06-08\"^^xsd:date .\n",
        "\"\"\", merge = True)"
      ],
      "metadata": {
        "id": "JY3KloOkxcON"
      },
      "execution_count": 14,
      "outputs": []
    },
    {
      "cell_type": "code",
      "source": [
        "result = rudof.validate_shacl()\n",
        "print(result.show_as_table())"
      ],
      "metadata": {
        "colab": {
          "base_uri": "https://localhost:8080/"
        },
        "id": "4Ps2tZOgx4xv",
        "outputId": "606d1fcb-5240-4e17-b95c-abc2432bcdc7"
      },
      "execution_count": 15,
      "outputs": [
        {
          "output_type": "stream",
          "name": "stdout",
          "text": [
            "╭──────────────┬─────────┬─────────────┬─────────────┬───────┬────────────────────────────────────╮\n",
            "│ Severity     │ node    │ Component   │ Path        │ value │ Source shape                       │\n",
            "├──────────────┼─────────┼─────────────┼─────────────┼───────┼────────────────────────────────────┤\n",
            "│ sh:Violation │ :wrong1 │ sh:maxCount │ :birthDate, │       │ _:a2be1ef3e3525520e4d8385beb068da0 │\n",
            "├──────────────┼─────────┼─────────────┼─────────────┼───────┼────────────────────────────────────┤\n",
            "│ sh:Violation │ :wrong2 │ sh:datatype │ :name,      │ 23    │ _:edc7efa4afe26f7c1b229a48ad7e99a9 │\n",
            "╰──────────────┴─────────┴─────────────┴─────────────┴───────┴────────────────────────────────────╯\n",
            "\n"
          ]
        }
      ]
    }
  ],
  "metadata": {
    "colab": {
      "provenance": [],
      "toc_visible": true
    },
    "kernelspec": {
      "display_name": "Python 3",
      "name": "python3"
    },
    "language_info": {
      "name": "python"
    }
  },
  "nbformat": 4,
  "nbformat_minor": 0
}