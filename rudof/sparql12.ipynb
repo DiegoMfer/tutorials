{
  "cells": [
    {
      "cell_type": "markdown",
      "metadata": {
        "id": "sUm7kokski_K"
      },
      "source": [
        "# SPARQL 1.2"
      ]
    },
    {
      "cell_type": "markdown",
      "metadata": {
        "id": "LMC6kMsUp3de"
      },
      "source": []
    },
    {
      "cell_type": "markdown",
      "metadata": {},
      "source": [
        "[![Open In Colab](https://colab.research.google.com/assets/colab-badge.svg)](\n",
        "https://colab.research.google.com/github/<yourusername>/<yourrepo>/blob/main/book/notebooks/example.ipynb)"
      ]
    },
    {
      "cell_type": "markdown",
      "metadata": {
        "id": "FlaljkGCkn_Q"
      },
      "source": [
        "This document contains a short introduction to [RDF](https://www.w3.org/TR/rdf11-primer/) using [rudof](https://rudof-project.github.io/). \n"
      ]
    },
    {
      "cell_type": "markdown",
      "metadata": {
        "id": "whZHWrGG6Y8O"
      },
      "source": [
        "## Install and configure rudof"
      ]
    },
    {
      "cell_type": "markdown",
      "metadata": {
        "id": "YpF48mZrjqwo"
      },
      "source": [
        "The library is available as `pyrudof`."
      ]
    },
    {
      "cell_type": "code",
      "execution_count": 1,
      "metadata": {
        "colab": {
          "base_uri": "https://localhost:8080/"
        },
        "id": "voGWk2uO6gcP",
        "outputId": "84b241ce-5369-408e-8b6b-5b80c33cc04d"
      },
      "outputs": [
        {
          "name": "stdout",
          "output_type": "stream",
          "text": [
            "Collecting pyrudof\n",
            "  Downloading pyrudof-0.1.120-cp37-abi3-manylinux_2_17_x86_64.manylinux2014_x86_64.whl.metadata (1.8 kB)\n",
            "Downloading pyrudof-0.1.120-cp37-abi3-manylinux_2_17_x86_64.manylinux2014_x86_64.whl (10.6 MB)\n",
            "\u001b[2K   \u001b[90m━━━━━━━━━━━━━━━━━━━━━━━━━━━━━━━━━━━━━━━━\u001b[0m \u001b[32m10.6/10.6 MB\u001b[0m \u001b[31m23.2 MB/s\u001b[0m eta \u001b[36m0:00:00\u001b[0m\n",
            "\u001b[?25hInstalling collected packages: pyrudof\n",
            "Successfully installed pyrudof-0.1.120\n"
          ]
        }
      ],
      "source": [
        "!pip install pyrudof"
      ]
    },
    {
      "cell_type": "markdown",
      "metadata": {
        "id": "FzsA78qu-xXP"
      },
      "source": [
        "The main entry point if a class called `Rudof` through which most of the functionality is provided."
      ]
    },
    {
      "cell_type": "code",
      "execution_count": 2,
      "metadata": {
        "id": "I3jvDAPBJ3OQ"
      },
      "outputs": [],
      "source": [
        "from pyrudof import Rudof, RudofConfig"
      ]
    },
    {
      "cell_type": "markdown",
      "metadata": {
        "id": "0Io7V7y9_G_P"
      },
      "source": [
        "In order to initialize that class, it is possible to pass a RudofConfig instance which contains configuration parameters for customization."
      ]
    },
    {
      "cell_type": "code",
      "execution_count": 3,
      "metadata": {
        "id": "OAV_KSrH6qn-"
      },
      "outputs": [],
      "source": [
        "rudof = Rudof(RudofConfig())"
      ]
    },
    {
      "cell_type": "code",
      "execution_count": null,
      "metadata": {},
      "outputs": [],
      "source": [
        "! pip install ipython"
      ]
    },
    {
      "cell_type": "code",
      "execution_count": null,
      "metadata": {},
      "outputs": [],
      "source": [
        "from IPython.display import Image"
      ]
    },
    {
      "cell_type": "markdown",
      "metadata": {
        "id": "yju-jjtPuNhO"
      },
      "source": [
        "## Creating some RDF 1.2 content"
      ]
    },
    {
      "cell_type": "markdown",
      "metadata": {
        "id": "XMMU1ERuuXBd"
      },
      "source": [
        "Rudof has added support for [RDF 1.2](https://www.w3.org/TR/rdf12-primer). It is possible, for example, to load some RDF 1.2 files and visualize them.\n"
      ]
    },
    {
      "cell_type": "markdown",
      "metadata": {
        "id": "gyP41zIRYGtr"
      },
      "source": [
        "RDF 1.2 introduces [triple terms](https://www.w3.org/TR/rdf12-primer/#section-triple-terms) which denote statements that can be the object of some triples.\n",
        "\n",
        "For example, we can state that `:bob` is interested in `:MonaLisa` since `4th October 1998` using the following code:"
      ]
    },
    {
      "cell_type": "code",
      "execution_count": 45,
      "metadata": {
        "id": "-nqLufg4upeV"
      },
      "outputs": [],
      "source": [
        "rudof.read_data_str(\"\"\"\n",
        " prefix : <http://example.org/>\n",
        " prefix rdf: <http://www.w3.org/1999/02/22-rdf-syntax-ns#>\n",
        " prefix xsd: <http://www.w3.org/2001/XMLSchema#>\n",
        "\n",
        " :aliceBelief a :Statement ;\n",
        "    rdf:reifies <<( :bob :knows :dave  )>> ;\n",
        "    :since 2025 ;\n",
        "    :accordingTo :dave  .\n",
        " \"\"\")\n"
      ]
    },
    {
      "cell_type": "markdown",
      "metadata": {},
      "source": [
        "## SPARQL 1.2"
      ]
    }
  ],
  "metadata": {
    "colab": {
      "provenance": [],
      "toc_visible": true
    },
    "kernelspec": {
      "display_name": "Python 3",
      "name": "python3"
    },
    "language_info": {
      "name": "python"
    }
  },
  "nbformat": 4,
  "nbformat_minor": 0
}
