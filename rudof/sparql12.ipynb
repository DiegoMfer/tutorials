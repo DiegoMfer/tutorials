{
  "cells": [
    {
      "cell_type": "markdown",
      "metadata": {
        "id": "sUm7kokski_K"
      },
      "source": [
        "# SPARQL 1.2"
      ]
    },
    {
      "cell_type": "markdown",
      "metadata": {
        "id": "LMC6kMsUp3de"
      },
      "source": []
    },
    {
      "cell_type": "markdown",
      "metadata": {
        "id": "FlaljkGCkn_Q"
      },
      "source": [
        "This document contains a short introduction to [RDF](https://www.w3.org/TR/rdf11-primer/) using [rudof](https://rudof-project.github.io/).\n"
      ]
    },
    {
      "cell_type": "markdown",
      "metadata": {
        "id": "whZHWrGG6Y8O"
      },
      "source": [
        "## Preliminaries: Install and configure rudof"
      ]
    },
    {
      "cell_type": "markdown",
      "metadata": {
        "id": "YpF48mZrjqwo"
      },
      "source": [
        "The library is available as `pyrudof`."
      ]
    },
    {
      "cell_type": "code",
      "execution_count": 1,
      "metadata": {
        "colab": {
          "base_uri": "https://localhost:8080/"
        },
        "id": "voGWk2uO6gcP",
        "outputId": "37cee349-4eb3-4576-8571-0481eabf77c7"
      },
      "outputs": [
        {
          "output_type": "stream",
          "name": "stdout",
          "text": [
            "Collecting pyrudof\n",
            "  Downloading pyrudof-0.1.130-cp37-abi3-manylinux_2_17_x86_64.manylinux2014_x86_64.whl.metadata (1.9 kB)\n",
            "Downloading pyrudof-0.1.130-cp37-abi3-manylinux_2_17_x86_64.manylinux2014_x86_64.whl (10.5 MB)\n",
            "\u001b[2K   \u001b[90m━━━━━━━━━━━━━━━━━━━━━━━━━━━━━━━━━━━━━━━━\u001b[0m \u001b[32m10.5/10.5 MB\u001b[0m \u001b[31m63.7 MB/s\u001b[0m eta \u001b[36m0:00:00\u001b[0m\n",
            "\u001b[?25hInstalling collected packages: pyrudof\n",
            "Successfully installed pyrudof-0.1.130\n",
            "Requirement already satisfied: ipython in /usr/local/lib/python3.12/dist-packages (7.34.0)\n",
            "Requirement already satisfied: setuptools>=18.5 in /usr/local/lib/python3.12/dist-packages (from ipython) (75.2.0)\n",
            "Collecting jedi>=0.16 (from ipython)\n",
            "  Downloading jedi-0.19.2-py2.py3-none-any.whl.metadata (22 kB)\n",
            "Requirement already satisfied: decorator in /usr/local/lib/python3.12/dist-packages (from ipython) (4.4.2)\n",
            "Requirement already satisfied: pickleshare in /usr/local/lib/python3.12/dist-packages (from ipython) (0.7.5)\n",
            "Requirement already satisfied: traitlets>=4.2 in /usr/local/lib/python3.12/dist-packages (from ipython) (5.7.1)\n",
            "Requirement already satisfied: prompt-toolkit!=3.0.0,!=3.0.1,<3.1.0,>=2.0.0 in /usr/local/lib/python3.12/dist-packages (from ipython) (3.0.52)\n",
            "Requirement already satisfied: pygments in /usr/local/lib/python3.12/dist-packages (from ipython) (2.19.2)\n",
            "Requirement already satisfied: backcall in /usr/local/lib/python3.12/dist-packages (from ipython) (0.2.0)\n",
            "Requirement already satisfied: matplotlib-inline in /usr/local/lib/python3.12/dist-packages (from ipython) (0.1.7)\n",
            "Requirement already satisfied: pexpect>4.3 in /usr/local/lib/python3.12/dist-packages (from ipython) (4.9.0)\n",
            "Requirement already satisfied: parso<0.9.0,>=0.8.4 in /usr/local/lib/python3.12/dist-packages (from jedi>=0.16->ipython) (0.8.5)\n",
            "Requirement already satisfied: ptyprocess>=0.5 in /usr/local/lib/python3.12/dist-packages (from pexpect>4.3->ipython) (0.7.0)\n",
            "Requirement already satisfied: wcwidth in /usr/local/lib/python3.12/dist-packages (from prompt-toolkit!=3.0.0,!=3.0.1,<3.1.0,>=2.0.0->ipython) (0.2.14)\n",
            "Downloading jedi-0.19.2-py2.py3-none-any.whl (1.6 MB)\n",
            "\u001b[2K   \u001b[90m━━━━━━━━━━━━━━━━━━━━━━━━━━━━━━━━━━━━━━━━\u001b[0m \u001b[32m1.6/1.6 MB\u001b[0m \u001b[31m20.7 MB/s\u001b[0m eta \u001b[36m0:00:00\u001b[0m\n",
            "\u001b[?25hInstalling collected packages: jedi\n",
            "Successfully installed jedi-0.19.2\n",
            "Collecting plantuml\n",
            "  Downloading plantuml-0.3.0-py3-none-any.whl.metadata (2.5 kB)\n",
            "Requirement already satisfied: httplib2 in /usr/local/lib/python3.12/dist-packages (from plantuml) (0.31.0)\n",
            "Requirement already satisfied: pyparsing<4,>=3.0.4 in /usr/local/lib/python3.12/dist-packages (from httplib2->plantuml) (3.2.5)\n",
            "Downloading plantuml-0.3.0-py3-none-any.whl (5.8 kB)\n",
            "Installing collected packages: plantuml\n",
            "Successfully installed plantuml-0.3.0\n"
          ]
        }
      ],
      "source": [
        "!pip install pyrudof   # Pyrudof\n",
        "! pip install ipython\n",
        "! pip install plantuml # To visualize graphs\n",
        "from IPython.display import Image\n",
        "from pyrudof import Rudof, RudofConfig\n",
        "rudof = Rudof(RudofConfig())"
      ]
    },
    {
      "cell_type": "markdown",
      "metadata": {
        "id": "yju-jjtPuNhO"
      },
      "source": [
        "## Tim Berners-Lee exampl in RDF 1.2"
      ]
    },
    {
      "cell_type": "markdown",
      "metadata": {
        "id": "XMMU1ERuuXBd"
      },
      "source": [
        "Rudof supports [RDF 1.2](https://www.w3.org/TR/rdf12-primer)."
      ]
    },
    {
      "cell_type": "markdown",
      "metadata": {
        "id": "gyP41zIRYGtr"
      },
      "source": [
        "RDF 1.2 introduces [triple terms](https://www.w3.org/TR/rdf12-primer/#section-triple-terms) which denote statements that can be the object of some triples.\n",
        "\n",
        "The following example declares some information about a node `:timbl` that indicates that he worked at CERN between 1984 and 1994, and in 1980, and that he obtained the Princess of Asturias Award in 2002 together with Vinton Cerf,"
      ]
    },
    {
      "cell_type": "code",
      "execution_count": 10,
      "metadata": {
        "id": "-nqLufg4upeV"
      },
      "outputs": [],
      "source": [
        "rudof.read_data_str(\"\"\"\n",
        "prefix : <http://example.org/>\n",
        "prefix sh:     <http://www.w3.org/ns/shacl#>\n",
        "prefix xsd:    <http://www.w3.org/2001/XMLSchema#>\n",
        "prefix rdfs:   <http://www.w3.org/2000/01/rdf-schema#>\n",
        "prefix rdf:    <http://www.w3.org/1999/02/22-rdf-syntax-ns#>\n",
        "\n",
        ":timbl    rdfs:label    \"Tim Berners Lee\" .\n",
        "_:r       rdf:reifies   <<( :timbl :employer :CERN )>> ;\n",
        "          :start        \"1984\" ;\n",
        "          :end          \"1994\" .\n",
        "_:s       rdf:reifies   <<( :timbl :employer :CERN )>> ;\n",
        "          :start        \"1980\" ;\n",
        "          :end          \"1980\" .\n",
        "_:t       rdf:reifies   <<( :timbl :award :PA )>> ;\n",
        "          :time         \"2002\" ;\n",
        "          :togetherWith :vint, :bob, :lawrence  .\n",
        ":vint     rdfs:label    \"Vinton Cerf\" .\n",
        ":bob      rdfs:label    \"Bob kahn\" .\n",
        ":lawrence rdfs:label    \"Lawrence Roberts\" .\n",
        ":PA       rdfs:label    \"Princess of Asturias Award\" .\n",
        ":CERN     rdfs:label    \"CERN\" .\n",
        "\"\"\")\n"
      ]
    },
    {
      "cell_type": "markdown",
      "metadata": {
        "id": "FSVHFP7f5LEH"
      },
      "source": [
        "## SPARQL 1.2"
      ]
    },
    {
      "cell_type": "code",
      "source": [
        "results = rudof.run_query_str(\"\"\"\n",
        "prefix : <http://example.org/>\n",
        "prefix rdfs:   <http://www.w3.org/2000/01/rdf-schema#>\n",
        "prefix rdf:    <http://www.w3.org/1999/02/22-rdf-syntax-ns#>\n",
        "\n",
        "SELECT ?person ?employer ?start ?end WHERE {\n",
        "  ?r rdf:reifies <<( ?person :employer ?employer )>> ;\n",
        "     :start ?start ;\n",
        "     :end ?end .\n",
        " }\n",
        " \"\"\")\n",
        "print(results.show())\n"
      ],
      "metadata": {
        "id": "aCcBvlHaAYnk",
        "outputId": "54180b87-80ce-40b6-9f36-14fa743060a5",
        "colab": {
          "base_uri": "https://localhost:8080/"
        }
      },
      "execution_count": 11,
      "outputs": [
        {
          "output_type": "stream",
          "name": "stdout",
          "text": [
            "╭───┬─────────┬───────────┬────────┬────────╮\n",
            "│   │ ?person │ ?employer │ ?start │ ?end   │\n",
            "├───┼─────────┼───────────┼────────┼────────┤\n",
            "│ 1 │ :timbl  │ :CERN     │ \"1984\" │ \"1994\" │\n",
            "├───┼─────────┼───────────┼────────┼────────┤\n",
            "│ 2 │ :timbl  │ :CERN     │ \"1980\" │ \"1980\" │\n",
            "╰───┴─────────┴───────────┴────────┴────────╯\n",
            "\n"
          ]
        }
      ]
    },
    {
      "cell_type": "code",
      "source": [
        "results = rudof.run_query_str(\"\"\"\n",
        "prefix : <http://example.org/>\n",
        "prefix rdfs:   <http://www.w3.org/2000/01/rdf-schema#>\n",
        "prefix rdf:    <http://www.w3.org/1999/02/22-rdf-syntax-ns#>\n",
        "\n",
        "SELECT ?person ?award ?togetherPerson ?time WHERE {\n",
        "  ?r rdf:reifies <<( ?person :award ?award )>> ;\n",
        "  OPTIONAL {?r :time ?time }\n",
        "  OPTIONAL {\n",
        "    ?r            :togetherWith ?togetherWith .\n",
        "    ?togetherWith rdfs:label    ?togetherPerson\n",
        "  }\n",
        " }\n",
        " \"\"\")\n",
        "print(results.show())"
      ],
      "metadata": {
        "id": "E0VlAXpkBu8b",
        "outputId": "b9054233-7e9c-43bb-9d17-1e52cc3b6344",
        "colab": {
          "base_uri": "https://localhost:8080/"
        }
      },
      "execution_count": 14,
      "outputs": [
        {
          "output_type": "stream",
          "name": "stdout",
          "text": [
            "╭───┬─────────┬────────┬────────────────────┬────────╮\n",
            "│   │ ?person │ ?award │ ?togetherPerson    │ ?time  │\n",
            "├───┼─────────┼────────┼────────────────────┼────────┤\n",
            "│ 1 │ :timbl  │ :PA    │ \"Vinton Cerf\"      │ \"2002\" │\n",
            "├───┼─────────┼────────┼────────────────────┼────────┤\n",
            "│ 2 │ :timbl  │ :PA    │ \"Lawrence Roberts\" │ \"2002\" │\n",
            "├───┼─────────┼────────┼────────────────────┼────────┤\n",
            "│ 3 │ :timbl  │ :PA    │ \"Bob kahn\"         │ \"2002\" │\n",
            "╰───┴─────────┴────────┴────────────────────┴────────╯\n",
            "\n"
          ]
        }
      ]
    }
  ],
  "metadata": {
    "colab": {
      "provenance": [],
      "toc_visible": true
    },
    "kernelspec": {
      "display_name": "Python 3",
      "name": "python3"
    },
    "language_info": {
      "name": "python"
    }
  },
  "nbformat": 4,
  "nbformat_minor": 0
}