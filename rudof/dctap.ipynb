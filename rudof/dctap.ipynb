{
  "cells": [
    {
      "cell_type": "markdown",
      "metadata": {
        "id": "sUm7kokski_K"
      },
      "source": [
        "# Introduction to DCTAP"
      ]
    },
    {
      "cell_type": "markdown",
      "metadata": {
        "id": "LMC6kMsUp3de"
      },
      "source": []
    },
    {
      "cell_type": "markdown",
      "metadata": {},
      "source": [
        "[![Open In Colab](https://colab.research.google.com/assets/colab-badge.svg)](\n",
        "https://colab.research.google.com/github/<yourusername>/<yourrepo>/blob/main/book/notebooks/example.ipynb)"
      ]
    },
    {
      "cell_type": "markdown",
      "metadata": {
        "id": "FlaljkGCkn_Q"
      },
      "source": [
        "This document contains a short introduction to DCTAP using [rudof](https://rudof-project.github.io/). \n"
      ]
    },
    {
      "cell_type": "markdown",
      "metadata": {
        "id": "W0j6rPmxJfPY"
      },
      "source": [
        "## Converting DCTAP to ShEx"
      ]
    },
    {
      "cell_type": "markdown",
      "metadata": {
        "id": "xFXK6AkjJnmy"
      },
      "source": [
        "Rudof can be used to convert [DCTAP](https://www.dublincore.org/specifications/dctap/) files to ShEx."
      ]
    },
    {
      "cell_type": "markdown",
      "metadata": {
        "id": "mFtcvAieQP7Q"
      },
      "source": [
        "DCTAP can be used to represent shapes using a tabular representation using CSV or an spreadsheet format like XLSX. As an example, the following CSV data:\n"
      ]
    },
    {
      "cell_type": "code",
      "execution_count": null,
      "metadata": {
        "id": "2E6N1wzZQk23"
      },
      "outputs": [],
      "source": [
        "dctap_str = \"\"\"shapeId,propertyId,Mandatory,Repeatable,valueDatatype,valueShape\n",
        "Person,name,true,false,xsd:string,\n",
        ",birthdate,false,false,xsd:date,\n",
        ",worksFor,false,true,,Company\n",
        "Company,name,true,false,xsd:string,\n",
        ",employee,false,true,,Person\n",
        "\"\"\""
      ]
    },
    {
      "cell_type": "code",
      "execution_count": null,
      "metadata": {
        "id": "k66wE-LPJyvR"
      },
      "outputs": [],
      "source": [
        "rudof.read_dctap_str(dctap_str)"
      ]
    },
    {
      "cell_type": "code",
      "execution_count": null,
      "metadata": {
        "id": "1vx602BebWqH"
      },
      "outputs": [],
      "source": [
        "dctap = rudof.get_dctap()"
      ]
    },
    {
      "cell_type": "code",
      "execution_count": null,
      "metadata": {
        "colab": {
          "base_uri": "https://localhost:8080/"
        },
        "id": "G-SnI2jfbnpX",
        "outputId": "520d1c60-9229-452b-f080-c877c4187d78"
      },
      "outputs": [
        {
          "name": "stdout",
          "output_type": "stream",
          "text": [
            "Shape(Person)  \n",
            " name xsd:string \n",
            " birthdate xsd:date ?\n",
            " worksFor @Company *\n",
            "Shape(Company)  \n",
            " name xsd:string \n",
            " employee @Person *\n",
            "\n"
          ]
        }
      ],
      "source": [
        "print(dctap)"
      ]
    },
    {
      "cell_type": "markdown",
      "metadata": {
        "id": "utlhcAiYFjdv"
      },
      "source": [
        "It is possible to convert the DCTAP obtained to ShEx"
      ]
    },
    {
      "cell_type": "code",
      "execution_count": null,
      "metadata": {
        "id": "djzyJkAxFhIV"
      },
      "outputs": [],
      "source": [
        "rudof.dctap2shex()\n"
      ]
    },
    {
      "cell_type": "code",
      "execution_count": null,
      "metadata": {
        "id": "2IwnrHIOFxGM"
      },
      "outputs": [],
      "source": [
        "from pyrudof import ShExFormatter"
      ]
    },
    {
      "cell_type": "code",
      "execution_count": null,
      "metadata": {
        "id": "04gjCw2lFoak"
      },
      "outputs": [],
      "source": [
        "shex = rudof.get_shex()\n",
        "\n",
        "result = rudof.serialize_shex(shex, ShExFormatter())\n"
      ]
    },
    {
      "cell_type": "code",
      "execution_count": null,
      "metadata": {
        "colab": {
          "base_uri": "https://localhost:8080/"
        },
        "id": "KZBeAbztGCSh",
        "outputId": "b1146e92-f6af-456b-89c0-bce182a797a1"
      },
      "outputs": [
        {
          "name": "stdout",
          "output_type": "stream",
          "text": [
            "prefix sh: <http://www.w3.org/ns/shacl#>\n",
            "prefix : <http://example.org/>\n",
            "prefix xsd: <http://www.w3.org/2001/XMLSchema#>\n",
            "prefix rdfs: <http://www.w3.org/2000/01/rdf-schema#>\n",
            "prefix dc: <http://purl.org/dc/elements/1.1/>\n",
            "prefix rdf: <http://www.w3.org/1999/02/22-rdf-syntax-ns#>\n",
            ":Person { :name xsd:string; :birthdate xsd:date ?; :worksFor @:Company * }\n",
            ":Company { :name xsd:string; :employee @:Person * }\n"
          ]
        }
      ],
      "source": [
        "print(result)"
      ]
    }
  ],
  "metadata": {
    "colab": {
      "provenance": [],
      "toc_visible": true
    },
    "kernelspec": {
      "display_name": "Python 3",
      "name": "python3"
    },
    "language_info": {
      "name": "python"
    }
  },
  "nbformat": 4,
  "nbformat_minor": 0
}
