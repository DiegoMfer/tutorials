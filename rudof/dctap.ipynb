{
  "cells": [
    {
      "cell_type": "markdown",
      "metadata": {
        "id": "sUm7kokski_K"
      },
      "source": [
        "# Introduction to DCTAP"
      ]
    },
    {
      "cell_type": "markdown",
      "metadata": {
        "id": "FlaljkGCkn_Q"
      },
      "source": [
        "This document contains a short introduction to DCTAP using [rudof](https://rudof-project.github.io/).\n"
      ]
    },
    {
      "cell_type": "code",
      "execution_count": 2,
      "metadata": {
        "id": "iJM1vIbRC_qR",
        "outputId": "061f04fd-fad1-4a6b-f76c-1260d2f435ef",
        "colab": {
          "base_uri": "https://localhost:8080/"
        }
      },
      "outputs": [
        {
          "output_type": "stream",
          "name": "stdout",
          "text": [
            "Collecting pyrudof\n",
            "  Downloading pyrudof-0.1.135-cp37-abi3-manylinux_2_17_x86_64.manylinux2014_x86_64.whl.metadata (4.8 kB)\n",
            "Downloading pyrudof-0.1.135-cp37-abi3-manylinux_2_17_x86_64.manylinux2014_x86_64.whl (11.3 MB)\n",
            "\u001b[2K   \u001b[90m━━━━━━━━━━━━━━━━━━━━━━━━━━━━━━━━━━━━━━━━\u001b[0m \u001b[32m11.3/11.3 MB\u001b[0m \u001b[31m89.9 MB/s\u001b[0m eta \u001b[36m0:00:00\u001b[0m\n",
            "\u001b[?25hInstalling collected packages: pyrudof\n",
            "Successfully installed pyrudof-0.1.135\n",
            "Requirement already satisfied: ipython in /usr/local/lib/python3.12/dist-packages (7.34.0)\n",
            "Requirement already satisfied: setuptools>=18.5 in /usr/local/lib/python3.12/dist-packages (from ipython) (75.2.0)\n",
            "Collecting jedi>=0.16 (from ipython)\n",
            "  Downloading jedi-0.19.2-py2.py3-none-any.whl.metadata (22 kB)\n",
            "Requirement already satisfied: decorator in /usr/local/lib/python3.12/dist-packages (from ipython) (4.4.2)\n",
            "Requirement already satisfied: pickleshare in /usr/local/lib/python3.12/dist-packages (from ipython) (0.7.5)\n",
            "Requirement already satisfied: traitlets>=4.2 in /usr/local/lib/python3.12/dist-packages (from ipython) (5.7.1)\n",
            "Requirement already satisfied: prompt-toolkit!=3.0.0,!=3.0.1,<3.1.0,>=2.0.0 in /usr/local/lib/python3.12/dist-packages (from ipython) (3.0.52)\n",
            "Requirement already satisfied: pygments in /usr/local/lib/python3.12/dist-packages (from ipython) (2.19.2)\n",
            "Requirement already satisfied: backcall in /usr/local/lib/python3.12/dist-packages (from ipython) (0.2.0)\n",
            "Requirement already satisfied: matplotlib-inline in /usr/local/lib/python3.12/dist-packages (from ipython) (0.1.7)\n",
            "Requirement already satisfied: pexpect>4.3 in /usr/local/lib/python3.12/dist-packages (from ipython) (4.9.0)\n",
            "Requirement already satisfied: parso<0.9.0,>=0.8.4 in /usr/local/lib/python3.12/dist-packages (from jedi>=0.16->ipython) (0.8.5)\n",
            "Requirement already satisfied: ptyprocess>=0.5 in /usr/local/lib/python3.12/dist-packages (from pexpect>4.3->ipython) (0.7.0)\n",
            "Requirement already satisfied: wcwidth in /usr/local/lib/python3.12/dist-packages (from prompt-toolkit!=3.0.0,!=3.0.1,<3.1.0,>=2.0.0->ipython) (0.2.14)\n",
            "Downloading jedi-0.19.2-py2.py3-none-any.whl (1.6 MB)\n",
            "\u001b[2K   \u001b[90m━━━━━━━━━━━━━━━━━━━━━━━━━━━━━━━━━━━━━━━━\u001b[0m \u001b[32m1.6/1.6 MB\u001b[0m \u001b[31m65.0 MB/s\u001b[0m eta \u001b[36m0:00:00\u001b[0m\n",
            "\u001b[?25hInstalling collected packages: jedi\n",
            "Successfully installed jedi-0.19.2\n",
            "Collecting plantuml\n",
            "  Downloading plantuml-0.3.0-py3-none-any.whl.metadata (2.5 kB)\n",
            "Requirement already satisfied: httplib2 in /usr/local/lib/python3.12/dist-packages (from plantuml) (0.31.0)\n",
            "Requirement already satisfied: pyparsing<4,>=3.0.4 in /usr/local/lib/python3.12/dist-packages (from httplib2->plantuml) (3.2.5)\n",
            "Downloading plantuml-0.3.0-py3-none-any.whl (5.8 kB)\n",
            "Installing collected packages: plantuml\n",
            "Successfully installed plantuml-0.3.0\n"
          ]
        }
      ],
      "source": [
        "!pip install pyrudof\n",
        "from pyrudof import Rudof, RudofConfig\n",
        "rudof = Rudof(RudofConfig())\n",
        "!pip install ipython # If not already installed\n",
        "!pip install plantuml\n",
        "from IPython.display import Image # For displaying images"
      ]
    },
    {
      "cell_type": "markdown",
      "metadata": {
        "id": "y6xzHd2rC_qS"
      },
      "source": [
        "## What is DCTAP?"
      ]
    },
    {
      "cell_type": "markdown",
      "source": [
        "DCTAP (Dublin Core Tabular Application Profiles) is a model that can be used to define metadata using a tabular format.\n",
        "\n",
        "In this way, it is possible to define models in CSV which can then be converted to other schema technologies like ShEx or SHACL."
      ],
      "metadata": {
        "id": "j1SMTt8cDF7S"
      }
    },
    {
      "cell_type": "markdown",
      "metadata": {
        "id": "W0j6rPmxJfPY"
      },
      "source": [
        "## Converting DCTAP to ShEx"
      ]
    },
    {
      "cell_type": "markdown",
      "metadata": {
        "id": "xFXK6AkjJnmy"
      },
      "source": [
        "Rudof has support for [DCTAP](https://www.dublincore.org/specifications/dctap/) and can be used to read DCTAP files in CSV or Excel files and convert those models to other schema languages."
      ]
    },
    {
      "cell_type": "markdown",
      "metadata": {
        "id": "mFtcvAieQP7Q"
      },
      "source": [
        "DCTAP can be used to represent shapes using a tabular representation using CSV or an spreadsheet format like XLSX. As an example, the following CSV data:\n"
      ]
    },
    {
      "cell_type": "code",
      "execution_count": 3,
      "metadata": {
        "id": "2E6N1wzZQk23"
      },
      "outputs": [],
      "source": [
        "dctap_str = \"\"\"shapeId,propertyId,Mandatory,Repeatable,valueDatatype,valueShape\n",
        "Person,name,true,false,xsd:string,\n",
        ",birthdate,false,false,xsd:date,\n",
        ",worksFor,false,true,,Company\n",
        "Company,name,true,false,xsd:string,\n",
        ",employee,false,true,,Person\n",
        "\"\"\""
      ]
    },
    {
      "cell_type": "code",
      "execution_count": 4,
      "metadata": {
        "id": "k66wE-LPJyvR"
      },
      "outputs": [],
      "source": [
        "rudof.read_dctap_str(dctap_str)"
      ]
    },
    {
      "cell_type": "code",
      "execution_count": 5,
      "metadata": {
        "id": "1vx602BebWqH"
      },
      "outputs": [],
      "source": [
        "dctap = rudof.get_dctap()"
      ]
    },
    {
      "cell_type": "code",
      "execution_count": 6,
      "metadata": {
        "colab": {
          "base_uri": "https://localhost:8080/"
        },
        "id": "G-SnI2jfbnpX",
        "outputId": "ce48c93f-a5cc-4032-c309-26372d92dcdd"
      },
      "outputs": [
        {
          "output_type": "stream",
          "name": "stdout",
          "text": [
            "Shape(Person)  \n",
            " name xsd:string \n",
            " birthdate xsd:date ?\n",
            " worksFor @Company *\n",
            "Shape(Company)  \n",
            " name xsd:string \n",
            " employee @Person *\n",
            "\n"
          ]
        }
      ],
      "source": [
        "print(dctap)"
      ]
    },
    {
      "cell_type": "markdown",
      "metadata": {
        "id": "utlhcAiYFjdv"
      },
      "source": [
        "It is possible to convert the DCTAP obtained to ShEx"
      ]
    },
    {
      "cell_type": "code",
      "execution_count": 7,
      "metadata": {
        "id": "djzyJkAxFhIV"
      },
      "outputs": [],
      "source": [
        "rudof.dctap2shex()\n"
      ]
    },
    {
      "cell_type": "code",
      "execution_count": 8,
      "metadata": {
        "id": "2IwnrHIOFxGM"
      },
      "outputs": [],
      "source": [
        "from pyrudof import ShExFormatter, UmlGenerationMode"
      ]
    },
    {
      "cell_type": "code",
      "execution_count": 9,
      "metadata": {
        "id": "04gjCw2lFoak"
      },
      "outputs": [],
      "source": [
        "shex = rudof.get_shex()\n",
        "\n",
        "result = rudof.serialize_shex(shex, ShExFormatter().without_colors())\n"
      ]
    },
    {
      "cell_type": "code",
      "execution_count": 10,
      "metadata": {
        "colab": {
          "base_uri": "https://localhost:8080/"
        },
        "id": "KZBeAbztGCSh",
        "outputId": "49641a4a-5f8a-4105-d03c-94b2a41af172"
      },
      "outputs": [
        {
          "output_type": "stream",
          "name": "stdout",
          "text": [
            "prefix dct: <http://purl.org/dc/terms/>\n",
            "prefix rdf: <http://www.w3.org/1999/02/22-rdf-syntax-ns#>\n",
            "prefix rdfs: <http://www.w3.org/2000/01/rdf-schema#>\n",
            "prefix owl: <http://www.w3.org/2002/07/owl#>\n",
            "prefix foaf: <http://xmlns.com/foaf/0.1/>\n",
            "prefix xsd: <http://www.w3.org/2001/XMLSchema#>\n",
            "prefix sdo: <https://schema.org/>\n",
            "prefix schema: <http://schema.org/>\n",
            "prefix ex: <http://example.org/>\n",
            "prefix base: <http://base/>\n",
            "ex:Person { ex:name xsd:string; ex:birthdate xsd:date ?; ex:worksFor @ex:Company * }\n",
            "ex:Company { ex:name xsd:string; ex:employee @ex:Person * }\n"
          ]
        }
      ],
      "source": [
        "print(result)"
      ]
    },
    {
      "cell_type": "markdown",
      "source": [
        "## Validating data with the ShEx generated from DCTAP"
      ],
      "metadata": {
        "id": "yWCtedfpH-a0"
      }
    },
    {
      "cell_type": "code",
      "source": [
        "rudof.read_shex_str(result)"
      ],
      "metadata": {
        "id": "BNHV9JvHGEiT"
      },
      "execution_count": 11,
      "outputs": []
    },
    {
      "cell_type": "code",
      "source": [
        "rudof.read_data_str(\"\"\"\n",
        "prefix : <http://example.org/>\n",
        "prefix xsd: <http://www.w3.org/2001/XMLSchema#>\n",
        ":alice :name \"Alice\" ;\n",
        "       :birthdate \"1970-01-01\"^^xsd:date ;\n",
        "       :worksFor :acme .\n",
        ":acme  :name \"ACME INC.\" .\n",
        "\n",
        ":bob   :name 23 .\n",
        "\"\"\")"
      ],
      "metadata": {
        "id": "kWDwi9LGG7YE"
      },
      "execution_count": 12,
      "outputs": []
    },
    {
      "cell_type": "code",
      "source": [
        "rudof.read_shapemap_str(\":alice@ex:Person, :bob@ex:Person\")"
      ],
      "metadata": {
        "id": "lq3B-mnLHRsc"
      },
      "execution_count": 13,
      "outputs": []
    },
    {
      "cell_type": "code",
      "source": [
        "validation_results = rudof.validate_shex()"
      ],
      "metadata": {
        "id": "WGqrvfQ8HW8N"
      },
      "execution_count": 14,
      "outputs": []
    },
    {
      "cell_type": "code",
      "source": [
        "print(validation_results.show_as_table())"
      ],
      "metadata": {
        "id": "X5E75uHNHcLz",
        "outputId": "eb0f4e2a-2c26-4892-df95-ac32a60c534f",
        "colab": {
          "base_uri": "https://localhost:8080/"
        }
      },
      "execution_count": 15,
      "outputs": [
        {
          "output_type": "stream",
          "name": "stdout",
          "text": [
            "╭────────┬───────────┬────────╮\n",
            "│ Node   │ Shape     │ Status │\n",
            "├────────┼───────────┼────────┤\n",
            "│ :alice │ ex:Person │ OK     │\n",
            "├────────┼───────────┼────────┤\n",
            "│ :bob   │ ex:Person │ FAIL   │\n",
            "╰────────┴───────────┴────────╯\n",
            "\n"
          ]
        }
      ]
    },
    {
      "cell_type": "markdown",
      "source": [
        "## Visualizing DCTAP content as a UML diagrams"
      ],
      "metadata": {
        "id": "pNHLiRGeIF48"
      }
    },
    {
      "cell_type": "code",
      "source": [
        "rudof.shex2plantuml_file(UmlGenerationMode(), 'out.puml')"
      ],
      "metadata": {
        "id": "bXFU52muGNRD"
      },
      "execution_count": 16,
      "outputs": []
    },
    {
      "cell_type": "code",
      "source": [],
      "metadata": {
        "id": "dgPuTw9wHxKt"
      },
      "execution_count": 16,
      "outputs": []
    },
    {
      "cell_type": "code",
      "execution_count": 17,
      "metadata": {
        "colab": {
          "base_uri": "https://localhost:8080/"
        },
        "id": "WK_yRDiXIS9x",
        "outputId": "2b42b302-5cd4-47f7-f3d9-681c45649e6f"
      },
      "outputs": [
        {
          "output_type": "stream",
          "name": "stdout",
          "text": [
            "[{'filename': 'out.puml', 'gen_success': True}]\n"
          ]
        }
      ],
      "source": [
        "!python -m plantuml out.puml\n"
      ]
    },
    {
      "cell_type": "code",
      "source": [
        "Image(\"out.png\")"
      ],
      "metadata": {
        "id": "XNpzmShIH2ic",
        "outputId": "c131b5f2-7824-4c3a-d9b3-7b76c60af2c2",
        "colab": {
          "base_uri": "https://localhost:8080/",
          "height": 236
        }
      },
      "execution_count": 18,
      "outputs": [
        {
          "output_type": "execute_result",
          "data": {
            "image/png": "[encoded data removed]",
            "text/plain": [
              "<IPython.core.display.Image object>"
            ]
          },
          "metadata": {},
          "execution_count": 18
        }
      ]
    }
  ],
  "metadata": {
    "colab": {
      "provenance": [],
      "toc_visible": true
    },
    "kernelspec": {
      "display_name": "Python 3",
      "name": "python3"
    },
    "language_info": {
      "name": "python"
    }
  },
  "nbformat": 4,
  "nbformat_minor": 0
}