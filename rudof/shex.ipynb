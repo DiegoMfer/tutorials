{
  "cells": [
    {
      "cell_type": "markdown",
      "metadata": {
        "id": "sUm7kokski_K"
      },
      "source": [
        "# ShEx"
      ]
    },
    {
      "cell_type": "markdown",
      "metadata": {
        "id": "LMC6kMsUp3de"
      },
      "source": []
    },
    {
      "cell_type": "markdown",
      "metadata": {
        "id": "FlaljkGCkn_Q"
      },
      "source": [
        "This document contains a short introduction to ShEx using [rudof](https://rudof-project.github.io/).\n"
      ]
    },
    {
      "cell_type": "markdown",
      "metadata": {
        "id": "whZHWrGG6Y8O"
      },
      "source": [
        "## Preliminaries: Install and configure rudof"
      ]
    },
    {
      "cell_type": "markdown",
      "metadata": {
        "id": "YpF48mZrjqwo"
      },
      "source": [
        "First, we install and configure `rudof`."
      ]
    },
    {
      "cell_type": "code",
      "execution_count": 100,
      "metadata": {
        "colab": {
          "base_uri": "https://localhost:8080/"
        },
        "id": "voGWk2uO6gcP",
        "outputId": "2fac0dbe-73b8-4fcb-e99b-fb72b939acdd"
      },
      "outputs": [
        {
          "output_type": "stream",
          "name": "stdout",
          "text": [
            "Requirement already satisfied: pyrudof in /usr/local/lib/python3.12/dist-packages (0.1.128)\n"
          ]
        }
      ],
      "source": [
        "# @title\n",
        "!pip install pyrudof\n",
        "from pyrudof import Rudof, RudofConfig\n",
        "rudof = Rudof(RudofConfig())"
      ]
    },
    {
      "cell_type": "markdown",
      "metadata": {
        "id": "JUgsyHtW7bA5"
      },
      "source": [
        "## Validating RDF using ShEx"
      ]
    },
    {
      "cell_type": "markdown",
      "source": [
        "[ShEx (Shape Expressions)](https://shex.io/) is a concise and human-readable language to describe and validate RDF data.\n",
        "\n",
        "A ShEx schema contains several declarations of shapes and can be defined in several formats: a compact format (ShExC), a JSON-LD format (ShExJ) and an RDF based on (ShExR).\n",
        "\n",
        "Let's start defining a simple ShEx schema as:"
      ],
      "metadata": {
        "id": "enmHHUsF_rdy"
      }
    },
    {
      "cell_type": "code",
      "execution_count": 101,
      "metadata": {
        "id": "CwDQcbAq7XJe"
      },
      "outputs": [],
      "source": [
        "rudof.read_shex_str(\"\"\"\n",
        "prefix :     <http://example.org/>\n",
        "prefix xsd:  <http://www.w3.org/2001/XMLSchema#>\n",
        "\n",
        ":User {\n",
        " :name      xsd:string   ;\n",
        " :birthDate xsd:date     ;\n",
        " :knows     @:User     * ;\n",
        " :worksFor  @:Company  *\n",
        "}\n",
        "\n",
        ":Company {\n",
        "  :name     xsd:string    ;\n",
        "  :code     xsd:integer   ;\n",
        "  :employee @:User      *\n",
        "}\n",
        "\"\"\")"
      ]
    },
    {
      "cell_type": "markdown",
      "source": [
        "And let's define some RDF data."
      ],
      "metadata": {
        "id": "BNK7hcXPAkTz"
      }
    },
    {
      "cell_type": "code",
      "execution_count": 102,
      "metadata": {
        "id": "yo97eI09nFOm"
      },
      "outputs": [],
      "source": [
        "rudof.read_data_str(\"\"\"\n",
        "prefix : <http://example.org/>\n",
        "prefix rdf: <http://www.w3.org/1999/02/22-rdf-syntax-ns#>\n",
        "prefix xsd: <http://www.w3.org/2001/XMLSchema#>\n",
        "\n",
        ":alice a :Person ;\n",
        " :name      \"Alice\"                ;\n",
        " :birthDate \"2005-03-01\"^^xsd:date ;\n",
        " :worksFor  :acme                  ;\n",
        " :knows     :bob                   .\n",
        ":bob a :Person   ;\n",
        " :name      \"Robert Smith\"         ;\n",
        " :birthDate \"2003-01-02\"^^xsd:date ;\n",
        " :worksFor  :acme                  ;\n",
        " :knows     :alice                 .\n",
        ":acme  a :Company  ;\n",
        " :name      \"Acme Inc.\" ;\n",
        " :code      23          .\n",
        "\"\"\")"
      ]
    },
    {
      "cell_type": "markdown",
      "source": [
        "In order to validate nodes in a graph, ShEx uses a [ShapeMap](https://shex.io/shape-map/), which associates a node selector with a shape.\n",
        "\n",
        "The simplest shape map is a pair `node@shape`.\n",
        "\n",
        "Rudof keeps the current shape map in a structure so it can be reused.\n",
        "\n",
        "The method `read_shapemap_str(shapemap)` can be used to read a shapemap from a string and store it's value as the currrent shape map.\n",
        "\n",
        "In the previous example, if we want to validate `:alice` as a `:Person` we can use:"
      ],
      "metadata": {
        "id": "pFceIKpGA0HD"
      }
    },
    {
      "cell_type": "code",
      "execution_count": 103,
      "metadata": {
        "id": "_EFY-RpNnHwh"
      },
      "outputs": [],
      "source": [
        "rudof.read_shapemap_str(\":alice@:User\")"
      ]
    },
    {
      "cell_type": "markdown",
      "metadata": {
        "id": "0VA7Nyh3xa36"
      },
      "source": [
        "Once the ShEx schema and the Shapemap have been added to `rudof`, it is possible to validate the current RDF data with the `validate_shex()` method:"
      ]
    },
    {
      "cell_type": "code",
      "execution_count": 104,
      "metadata": {
        "id": "RtJYkJ6T7tm1"
      },
      "outputs": [],
      "source": [
        "results = rudof.validate_shex()"
      ]
    },
    {
      "cell_type": "markdown",
      "metadata": {
        "id": "-kqBLihnxoZz"
      },
      "source": [
        "`validate_shex()` returns a [`ResultShapeMap`](https://pyrudof.readthedocs.io/en/stable/library.html#resultshapemap) object which contains a `show_as_table()` method to show the results of the validation."
      ]
    },
    {
      "cell_type": "code",
      "source": [
        "print(results.show_as_table())"
      ],
      "metadata": {
        "id": "2ONXJXj0xKDo",
        "outputId": "32333c0a-af6b-406f-a14c-d25a268f7074",
        "colab": {
          "base_uri": "https://localhost:8080/"
        }
      },
      "execution_count": 105,
      "outputs": [
        {
          "output_type": "stream",
          "name": "stdout",
          "text": [
            "╭────────┬───────┬────────╮\n",
            "│ Node   │ Shape │ Status │\n",
            "├────────┼───────┼────────┤\n",
            "│ :alice │ :User │ OK     │\n",
            "╰────────┴───────┴────────╯\n",
            "\n"
          ]
        }
      ]
    },
    {
      "cell_type": "markdown",
      "source": [
        "If we want to validate `:acme` as a `:Person`, we could do:"
      ],
      "metadata": {
        "id": "My8zqOwIFZr8"
      }
    },
    {
      "cell_type": "code",
      "source": [
        "rudof.read_shapemap_str(\":alice@:Company\")\n",
        "results = rudof.validate_shex()\n",
        "print(results.show_as_table())"
      ],
      "metadata": {
        "colab": {
          "base_uri": "https://localhost:8080/"
        },
        "id": "_6-dDT-zFhur",
        "outputId": "c3e49efc-6ac8-4cad-b372-8430a601b3e6"
      },
      "execution_count": 106,
      "outputs": [
        {
          "output_type": "stream",
          "name": "stdout",
          "text": [
            "╭────────┬──────────┬────────╮\n",
            "│ Node   │ Shape    │ Status │\n",
            "├────────┼──────────┼────────┤\n",
            "│ :alice │ :Company │ FAIL   │\n",
            "╰────────┴──────────┴────────╯\n",
            "\n"
          ]
        }
      ]
    },
    {
      "cell_type": "markdown",
      "source": [
        "It is possible to know more details about the reason for failing with the `with_details=True` parameter."
      ],
      "metadata": {
        "id": "7QunvyAhHc2E"
      }
    },
    {
      "cell_type": "code",
      "source": [
        "print(results.show_as_table(with_details=True))"
      ],
      "metadata": {
        "id": "hvo5eXE9Hk-9",
        "outputId": "6fc25101-a462-4c19-804e-a0657eb57689",
        "colab": {
          "base_uri": "https://localhost:8080/"
        }
      },
      "execution_count": 107,
      "outputs": [
        {
          "output_type": "stream",
          "name": "stdout",
          "text": [
            "╭────────┬──────────┬────────┬─────────────────────────────────────────────────────────────────────╮\n",
            "│ Node   │ Shape    │ Status │ Details                                                             │\n",
            "├────────┼──────────┼────────┼─────────────────────────────────────────────────────────────────────┤\n",
            "│ :alice │ :Company │ FAIL   │ Error Shape 1 failed for node http://example.org/alice with errors  │\n",
            "│        │          │        │                                                                     │\n",
            "╰────────┴──────────┴────────┴─────────────────────────────────────────────────────────────────────╯\n",
            "\n"
          ]
        }
      ]
    },
    {
      "cell_type": "code",
      "source": [],
      "metadata": {
        "id": "dDHurJl1H-r1"
      },
      "execution_count": 107,
      "outputs": []
    },
    {
      "cell_type": "markdown",
      "source": [
        "The shapemap can contain a list of nodes and shapes, so it is possible to run several validations like:"
      ],
      "metadata": {
        "id": "d-_np9M1H4Kl"
      }
    },
    {
      "cell_type": "code",
      "source": [
        "rudof.read_shapemap_str(\":alice@:User, :bob@:User\")\n",
        "results = rudof.validate_shex()\n",
        "print(results.show_as_table())"
      ],
      "metadata": {
        "id": "tZ8usMB7IB5s",
        "outputId": "73f58008-37d9-4552-8563-a52f735e15c8",
        "colab": {
          "base_uri": "https://localhost:8080/"
        }
      },
      "execution_count": 108,
      "outputs": [
        {
          "output_type": "stream",
          "name": "stdout",
          "text": [
            "╭────────┬───────┬────────╮\n",
            "│ Node   │ Shape │ Status │\n",
            "├────────┼───────┼────────┤\n",
            "│ :alice │ :User │ OK     │\n",
            "├────────┼───────┼────────┤\n",
            "│ :bob   │ :User │ OK     │\n",
            "╰────────┴───────┴────────╯\n",
            "\n"
          ]
        }
      ]
    },
    {
      "cell_type": "markdown",
      "source": [
        "Sometimes, it is necessary to get the list of results in Python to process them. The [ResultShapeMap](https://pyrudof.readthedocs.io/en/latest/library.html#resultshapemap) class contains a method `to_list()` which returns a tuple of `(node, shape, status)`."
      ],
      "metadata": {
        "id": "3HmMXB-xII4N"
      }
    },
    {
      "cell_type": "code",
      "execution_count": 109,
      "metadata": {
        "colab": {
          "base_uri": "https://localhost:8080/"
        },
        "id": "5-gu1z1NnUkO",
        "outputId": "8edb2e4c-e9c9-48b2-e357-42758c3bd1d1"
      },
      "outputs": [
        {
          "output_type": "stream",
          "name": "stdout",
          "text": [
            "Node: http://example.org/bob\n",
            "Shape: http://example.org/User\n",
            "Conformant?: True\n",
            "Appinfo: {'info': [{'reason': 'Shape passed. Node http://example.org/bob, shape 0: Shape  Preds: http://example.org/name,http://example.org/birthDate,http://example.org/knows,http://example.org/worksFor, TripleExpr: RBE [C0;C1;C2*;C3*;], Keys: [http://example.org/name -> {C0}, http://example.org/birthDate -> {C1}, http://example.org/knows -> {C2}, http://example.org/worksFor -> {C3}], conds: [C0 -> xsd:string, C1 -> xsd:date, C2 -> @0, C3 -> @1], References: [http://example.org/worksFor->1, http://example.org/knows->0]'}], 'reason': 'Shape passed. Node :bob, shape 0: :User = {(:name xsd:string ; :birthDate xsd:date ; :knows @0* ; :worksFor @1* ; )}\\n', 'status': 'conformant'}\n",
            "\n",
            "Node: http://example.org/alice\n",
            "Shape: http://example.org/User\n",
            "Conformant?: True\n",
            "Appinfo: {'info': [{'reason': 'Shape passed. Node http://example.org/alice, shape 0: Shape  Preds: http://example.org/name,http://example.org/birthDate,http://example.org/knows,http://example.org/worksFor, TripleExpr: RBE [C0;C1;C2*;C3*;], Keys: [http://example.org/name -> {C0}, http://example.org/birthDate -> {C1}, http://example.org/knows -> {C2}, http://example.org/worksFor -> {C3}], conds: [C0 -> xsd:string, C1 -> xsd:date, C2 -> @0, C3 -> @1], References: [http://example.org/worksFor->1, http://example.org/knows->0]'}], 'reason': 'Shape passed. Node :alice, shape 0: :User = {(:name xsd:string ; :birthDate xsd:date ; :knows @0* ; :worksFor @1* ; )}\\n', 'status': 'conformant'}\n",
            "\n"
          ]
        }
      ],
      "source": [
        "for (node, shape, status) in results.to_list():\n",
        "    print(f\"Node: {node.show()}\")\n",
        "    print(f\"Shape: {shape.show()}\")\n",
        "    print(f\"Conformant?: {status.is_conformant()}\")\n",
        "    print(f\"Appinfo: {status.as_json()}\")\n",
        "    print(\"\")\n"
      ]
    },
    {
      "cell_type": "markdown",
      "metadata": {
        "id": "jiEga6RWx8sf"
      },
      "source": [
        "We reset the status of the `ShEx` schema, the `Shapemap` and the current `RDF data` for the next section."
      ]
    },
    {
      "cell_type": "code",
      "execution_count": 110,
      "metadata": {
        "id": "6YD7UcNXnjkN",
        "cellView": "form"
      },
      "outputs": [],
      "source": [
        "# @title\n",
        "rudof.reset_all()"
      ]
    },
    {
      "cell_type": "markdown",
      "metadata": {
        "id": "_7iBx5Ocn1Fc"
      },
      "source": [
        "## Visualizing ShEx schemas"
      ]
    },
    {
      "cell_type": "markdown",
      "metadata": {
        "id": "2KRvu2HXJ3Bi"
      },
      "source": [
        "`rudof` can be used to convert ShEx to diagrams in UML-like style. The converter generates a [PlantUML](https://plantuml.com/) string which can be written to a file and converted to an image using the PlantUML tool."
      ]
    },
    {
      "cell_type": "code",
      "execution_count": 111,
      "metadata": {
        "id": "cO0QQJJSlm1j"
      },
      "outputs": [],
      "source": [
        "from pyrudof import UmlGenerationMode"
      ]
    },
    {
      "cell_type": "code",
      "execution_count": 112,
      "metadata": {
        "id": "cZThqbvXn4y1"
      },
      "outputs": [],
      "source": [
        "rudof.read_shex_str(\"\"\"\n",
        "prefix : <http://example.org/>\n",
        "prefix xsd:    <http://www.w3.org/2001/XMLSchema#>\n",
        "\n",
        ":User {\n",
        " :name     xsd:string  ;\n",
        " :worksFor @:Company * ;\n",
        " :addres   @:Address   ;\n",
        " :knows    @:User\n",
        "}\n",
        "\n",
        ":Company {\n",
        "  :name     xsd:string     ;\n",
        "  :code     xsd:string     ;\n",
        "  :employee @:User\n",
        "}\n",
        ":Address {\n",
        "  :name     xsd:string ;\n",
        "  :zip_code xsd:string\n",
        "}\n",
        "\"\"\")"
      ]
    },
    {
      "cell_type": "code",
      "execution_count": 113,
      "metadata": {
        "id": "TgF9X8BoHyft"
      },
      "outputs": [],
      "source": [
        "plant_uml = rudof.shex2plantuml_file(UmlGenerationMode(), 'out.puml')"
      ]
    },
    {
      "cell_type": "markdown",
      "metadata": {
        "id": "BkET25UlKblP"
      },
      "source": [
        "Now we install the PlantUML tools necessary to process the generated `plant_uml`"
      ]
    },
    {
      "cell_type": "code",
      "execution_count": null,
      "metadata": {
        "colab": {
          "base_uri": "https://localhost:8080/"
        },
        "id": "WK_yRDiXIS9x",
        "outputId": "cc5a02bd-533b-41a7-cdd0-0e5802aeffdd",
        "cellView": "form"
      },
      "outputs": [
        {
          "output_type": "stream",
          "name": "stdout",
          "text": [
            "Requirement already satisfied: plantuml in /usr/local/lib/python3.12/dist-packages (0.3.0)\n",
            "Requirement already satisfied: httplib2 in /usr/local/lib/python3.12/dist-packages (from plantuml) (0.31.0)\n",
            "Requirement already satisfied: pyparsing<4,>=3.0.4 in /usr/local/lib/python3.12/dist-packages (from httplib2->plantuml) (3.2.5)\n",
            "Requirement already satisfied: ipython in /usr/local/lib/python3.12/dist-packages (7.34.0)\n",
            "Requirement already satisfied: setuptools>=18.5 in /usr/local/lib/python3.12/dist-packages (from ipython) (75.2.0)\n",
            "Requirement already satisfied: jedi>=0.16 in /usr/local/lib/python3.12/dist-packages (from ipython) (0.19.2)\n",
            "Requirement already satisfied: decorator in /usr/local/lib/python3.12/dist-packages (from ipython) (4.4.2)\n",
            "Requirement already satisfied: pickleshare in /usr/local/lib/python3.12/dist-packages (from ipython) (0.7.5)\n",
            "Requirement already satisfied: traitlets>=4.2 in /usr/local/lib/python3.12/dist-packages (from ipython) (5.7.1)\n",
            "Requirement already satisfied: prompt-toolkit!=3.0.0,!=3.0.1,<3.1.0,>=2.0.0 in /usr/local/lib/python3.12/dist-packages (from ipython) (3.0.52)\n",
            "Requirement already satisfied: pygments in /usr/local/lib/python3.12/dist-packages (from ipython) (2.19.2)\n",
            "Requirement already satisfied: backcall in /usr/local/lib/python3.12/dist-packages (from ipython) (0.2.0)\n",
            "Requirement already satisfied: matplotlib-inline in /usr/local/lib/python3.12/dist-packages (from ipython) (0.1.7)\n",
            "Requirement already satisfied: pexpect>4.3 in /usr/local/lib/python3.12/dist-packages (from ipython) (4.9.0)\n",
            "Requirement already satisfied: parso<0.9.0,>=0.8.4 in /usr/local/lib/python3.12/dist-packages (from jedi>=0.16->ipython) (0.8.5)\n",
            "Requirement already satisfied: ptyprocess>=0.5 in /usr/local/lib/python3.12/dist-packages (from pexpect>4.3->ipython) (0.7.0)\n",
            "Requirement already satisfied: wcwidth in /usr/local/lib/python3.12/dist-packages (from prompt-toolkit!=3.0.0,!=3.0.1,<3.1.0,>=2.0.0->ipython) (0.2.14)\n"
          ]
        }
      ],
      "source": [
        "# @title\n",
        "! pip install plantuml\n",
        "! pip install ipython\n",
        "!python -m plantuml out.puml\n",
        "from IPython.display import Image"
      ]
    },
    {
      "cell_type": "code",
      "execution_count": null,
      "metadata": {
        "id": "e4dRHoIUJabG"
      },
      "outputs": [],
      "source": [
        "Image(f\"out.png\")"
      ]
    },
    {
      "cell_type": "code",
      "execution_count": null,
      "metadata": {
        "id": "ZLuBCHWpFuIR"
      },
      "outputs": [],
      "source": [
        "rudof.reset_all()"
      ]
    }
  ],
  "metadata": {
    "colab": {
      "provenance": [],
      "toc_visible": true
    },
    "kernelspec": {
      "display_name": "Python 3",
      "name": "python3"
    },
    "language_info": {
      "name": "python"
    }
  },
  "nbformat": 4,
  "nbformat_minor": 0
}