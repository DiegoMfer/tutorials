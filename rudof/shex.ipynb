{
  "cells": [
    {
      "cell_type": "markdown",
      "metadata": {
        "id": "sUm7kokski_K"
      },
      "source": [
        "# ShEx"
      ]
    },
    {
      "cell_type": "markdown",
      "metadata": {
        "id": "LMC6kMsUp3de"
      },
      "source": []
    },
    {
      "cell_type": "markdown",
      "metadata": {
        "id": "FlaljkGCkn_Q"
      },
      "source": [
        "This document contains a short introduction to ShEx using [rudof](https://rudof-project.github.io/).\n"
      ]
    },
    {
      "cell_type": "markdown",
      "metadata": {
        "id": "whZHWrGG6Y8O"
      },
      "source": [
        "## Preliminaries: Install and configure rudof"
      ]
    },
    {
      "cell_type": "markdown",
      "metadata": {
        "id": "YpF48mZrjqwo"
      },
      "source": [
        "First, we install and configure `rudof`."
      ]
    },
    {
      "cell_type": "code",
      "execution_count": 1,
      "metadata": {
        "colab": {
          "base_uri": "https://localhost:8080/"
        },
        "id": "voGWk2uO6gcP",
        "outputId": "1ff45b4b-ea2a-4cf5-aa48-bc7b33d08768"
      },
      "outputs": [
        {
          "output_type": "stream",
          "name": "stdout",
          "text": [
            "Collecting pyrudof\n",
            "  Downloading pyrudof-0.1.130-cp37-abi3-manylinux_2_17_x86_64.manylinux2014_x86_64.whl.metadata (1.9 kB)\n",
            "Downloading pyrudof-0.1.130-cp37-abi3-manylinux_2_17_x86_64.manylinux2014_x86_64.whl (10.5 MB)\n",
            "\u001b[2K   \u001b[90m━━━━━━━━━━━━━━━━━━━━━━━━━━━━━━━━━━━━━━━━\u001b[0m \u001b[32m10.5/10.5 MB\u001b[0m \u001b[31m14.1 MB/s\u001b[0m eta \u001b[36m0:00:00\u001b[0m\n",
            "\u001b[?25hInstalling collected packages: pyrudof\n",
            "Successfully installed pyrudof-0.1.130\n"
          ]
        }
      ],
      "source": [
        "# @title\n",
        "!pip install pyrudof\n",
        "from pyrudof import Rudof, RudofConfig\n",
        "rudof = Rudof(RudofConfig())"
      ]
    },
    {
      "cell_type": "markdown",
      "metadata": {
        "id": "JUgsyHtW7bA5"
      },
      "source": [
        "## Validating RDF using ShEx"
      ]
    },
    {
      "cell_type": "markdown",
      "source": [
        "[ShEx (Shape Expressions)](https://shex.io/) is a concise and human-readable language to describe and validate RDF data.\n",
        "\n",
        "A ShEx schema contains several declarations of shapes and can be defined in several formats: a compact format (ShExC), a JSON-LD format (ShExJ) and an RDF based on (ShExR).\n",
        "\n",
        "Let's start defining a simple ShEx schema as:"
      ],
      "metadata": {
        "id": "enmHHUsF_rdy"
      }
    },
    {
      "cell_type": "code",
      "execution_count": 2,
      "metadata": {
        "id": "CwDQcbAq7XJe"
      },
      "outputs": [],
      "source": [
        "rudof.read_shex_str(\"\"\"\n",
        "prefix :     <http://example.org/>\n",
        "prefix xsd:  <http://www.w3.org/2001/XMLSchema#>\n",
        "\n",
        ":User {\n",
        " :name      xsd:string   ;\n",
        " :birthDate xsd:date     ;\n",
        " :knows     @:User     * ;\n",
        " :worksFor  @:Company  *\n",
        "}\n",
        "\n",
        ":Company {\n",
        "  :name     xsd:string    ;\n",
        "  :code     xsd:integer   ;\n",
        "  :employee @:User      *\n",
        "}\n",
        "\"\"\")"
      ]
    },
    {
      "cell_type": "markdown",
      "source": [
        "And let's define some RDF data."
      ],
      "metadata": {
        "id": "BNK7hcXPAkTz"
      }
    },
    {
      "cell_type": "code",
      "execution_count": 3,
      "metadata": {
        "id": "yo97eI09nFOm"
      },
      "outputs": [],
      "source": [
        "rudof.read_data_str(\"\"\"\n",
        "prefix : <http://example.org/>\n",
        "prefix rdf: <http://www.w3.org/1999/02/22-rdf-syntax-ns#>\n",
        "prefix xsd: <http://www.w3.org/2001/XMLSchema#>\n",
        "\n",
        ":alice a :Person ;\n",
        " :name      \"Alice\"                ;\n",
        " :birthDate \"2005-03-01\"^^xsd:date ;\n",
        " :worksFor  :acme                  ;\n",
        " :knows     :bob                   .\n",
        ":bob a :Person   ;\n",
        " :name      \"Robert Smith\"         ;\n",
        " :birthDate \"2003-01-02\"^^xsd:date ;\n",
        " :worksFor  :acme                  ;\n",
        " :knows     :alice                 .\n",
        ":acme  a :Company  ;\n",
        " :name      \"Acme Inc.\" ;\n",
        " :code      23          .\n",
        "\"\"\")"
      ]
    },
    {
      "cell_type": "markdown",
      "source": [
        "In order to validate nodes in a graph, ShEx uses a [ShapeMap](https://shex.io/shape-map/), which associates a node selector with a shape.\n",
        "\n",
        "The simplest shape map is a pair `node@shape`.\n",
        "\n",
        "Rudof keeps the current shape map in a structure so it can be reused.\n",
        "\n",
        "The method `read_shapemap_str(shapemap)` can be used to read a shapemap from a string and store it's value as the currrent shape map.\n",
        "\n",
        "In the previous example, if we want to validate `:alice` as a `:Person` we can use:"
      ],
      "metadata": {
        "id": "pFceIKpGA0HD"
      }
    },
    {
      "cell_type": "code",
      "execution_count": 4,
      "metadata": {
        "id": "_EFY-RpNnHwh"
      },
      "outputs": [],
      "source": [
        "rudof.read_shapemap_str(\":alice@:User\")"
      ]
    },
    {
      "cell_type": "markdown",
      "metadata": {
        "id": "0VA7Nyh3xa36"
      },
      "source": [
        "Once the ShEx schema and the Shapemap have been added to `rudof`, it is possible to validate the current RDF data with the `validate_shex()` method:"
      ]
    },
    {
      "cell_type": "code",
      "execution_count": 5,
      "metadata": {
        "id": "RtJYkJ6T7tm1"
      },
      "outputs": [],
      "source": [
        "results = rudof.validate_shex()"
      ]
    },
    {
      "cell_type": "markdown",
      "metadata": {
        "id": "-kqBLihnxoZz"
      },
      "source": [
        "`validate_shex()` returns a [`ResultShapeMap`](https://pyrudof.readthedocs.io/en/stable/library.html#resultshapemap) object which contains a `show_as_table()` method to show the results of the validation."
      ]
    },
    {
      "cell_type": "code",
      "source": [
        "print(results.show_as_table())"
      ],
      "metadata": {
        "colab": {
          "base_uri": "https://localhost:8080/"
        },
        "id": "2ONXJXj0xKDo",
        "outputId": "0ec133e1-b816-4c52-8c44-3920b79fe966"
      },
      "execution_count": 6,
      "outputs": [
        {
          "output_type": "stream",
          "name": "stdout",
          "text": [
            "╭────────┬───────┬────────╮\n",
            "│ Node   │ Shape │ Status │\n",
            "├────────┼───────┼────────┤\n",
            "│ :alice │ :User │ OK     │\n",
            "╰────────┴───────┴────────╯\n",
            "\n"
          ]
        }
      ]
    },
    {
      "cell_type": "markdown",
      "source": [
        "If we want to validate `:acme` as a `:Person`, we could do:"
      ],
      "metadata": {
        "id": "My8zqOwIFZr8"
      }
    },
    {
      "cell_type": "code",
      "source": [
        "rudof.read_shapemap_str(\":alice@:Company\")\n",
        "results = rudof.validate_shex()\n",
        "print(results.show_as_table())"
      ],
      "metadata": {
        "colab": {
          "base_uri": "https://localhost:8080/"
        },
        "id": "_6-dDT-zFhur",
        "outputId": "c9906074-030c-437b-e12e-08d8a9ba7e68"
      },
      "execution_count": 7,
      "outputs": [
        {
          "output_type": "stream",
          "name": "stdout",
          "text": [
            "╭────────┬──────────┬────────╮\n",
            "│ Node   │ Shape    │ Status │\n",
            "├────────┼──────────┼────────┤\n",
            "│ :alice │ :Company │ FAIL   │\n",
            "╰────────┴──────────┴────────╯\n",
            "\n"
          ]
        }
      ]
    },
    {
      "cell_type": "markdown",
      "source": [
        "It is possible to know more details about the reason for failing with the `with_details=True` parameter."
      ],
      "metadata": {
        "id": "7QunvyAhHc2E"
      }
    },
    {
      "cell_type": "code",
      "source": [
        "print(results.show_as_table(with_details=True))"
      ],
      "metadata": {
        "colab": {
          "base_uri": "https://localhost:8080/"
        },
        "id": "hvo5eXE9Hk-9",
        "outputId": "c8a91c7c-9024-42f9-b3e8-030468105a6b"
      },
      "execution_count": 8,
      "outputs": [
        {
          "output_type": "stream",
          "name": "stdout",
          "text": [
            "╭────────┬──────────┬────────┬─────────────────────────────────────────────────────────────────────╮\n",
            "│ Node   │ Shape    │ Status │ Details                                                             │\n",
            "├────────┼──────────┼────────┼─────────────────────────────────────────────────────────────────────┤\n",
            "│ :alice │ :Company │ FAIL   │ Error Shape 1 failed for node http://example.org/alice with errors  │\n",
            "│        │          │        │                                                                     │\n",
            "╰────────┴──────────┴────────┴─────────────────────────────────────────────────────────────────────╯\n",
            "\n"
          ]
        }
      ]
    },
    {
      "cell_type": "markdown",
      "source": [
        "The shapemap can contain a list of nodes and shapes, so it is possible to run several validations like:"
      ],
      "metadata": {
        "id": "d-_np9M1H4Kl"
      }
    },
    {
      "cell_type": "code",
      "source": [
        "rudof.read_shapemap_str(\":alice@:User, :bob@:User\")\n",
        "results = rudof.validate_shex()\n",
        "print(results.show_as_table())"
      ],
      "metadata": {
        "colab": {
          "base_uri": "https://localhost:8080/"
        },
        "id": "tZ8usMB7IB5s",
        "outputId": "2d265bbd-6ad1-4c61-b678-b3a9a5fb484d"
      },
      "execution_count": 9,
      "outputs": [
        {
          "output_type": "stream",
          "name": "stdout",
          "text": [
            "╭────────┬───────┬────────╮\n",
            "│ Node   │ Shape │ Status │\n",
            "├────────┼───────┼────────┤\n",
            "│ :alice │ :User │ OK     │\n",
            "├────────┼───────┼────────┤\n",
            "│ :bob   │ :User │ OK     │\n",
            "╰────────┴───────┴────────╯\n",
            "\n"
          ]
        }
      ]
    },
    {
      "cell_type": "markdown",
      "source": [
        "Sometimes, it is necessary to get the list of results in Python to process them. The [ResultShapeMap](https://pyrudof.readthedocs.io/en/latest/library.html#resultshapemap) class contains a method `to_list()` which returns a tuple of `(node, shape, status)`."
      ],
      "metadata": {
        "id": "3HmMXB-xII4N"
      }
    },
    {
      "cell_type": "code",
      "execution_count": 10,
      "metadata": {
        "colab": {
          "base_uri": "https://localhost:8080/"
        },
        "id": "5-gu1z1NnUkO",
        "outputId": "a5791638-863a-4faf-c7e2-c7503478e708"
      },
      "outputs": [
        {
          "output_type": "stream",
          "name": "stdout",
          "text": [
            "Node: http://example.org/alice\n",
            "Shape: http://example.org/User\n",
            "Conformant?: True\n",
            "Appinfo: {'info': [{'reason': 'Shape passed. Node http://example.org/alice, shape 0: Shape  Preds: http://example.org/name,http://example.org/birthDate,http://example.org/knows,http://example.org/worksFor, TripleExpr: RBE [C0;C1;C2*;C3*;], Keys: [http://example.org/name -> {C0}, http://example.org/birthDate -> {C1}, http://example.org/knows -> {C2}, http://example.org/worksFor -> {C3}], conds: [C0 -> xsd:string, C1 -> xsd:date, C2 -> @0, C3 -> @1], References: [http://example.org/knows->0, http://example.org/worksFor->1]'}], 'reason': 'Shape passed. Node :alice, shape 0: :User = {(:name xsd:string ; :birthDate xsd:date ; :knows @0* ; :worksFor @1* ; )}\\n', 'status': 'conformant'}\n",
            "\n",
            "Node: http://example.org/bob\n",
            "Shape: http://example.org/User\n",
            "Conformant?: True\n",
            "Appinfo: {'info': [{'reason': 'Shape passed. Node http://example.org/bob, shape 0: Shape  Preds: http://example.org/name,http://example.org/birthDate,http://example.org/knows,http://example.org/worksFor, TripleExpr: RBE [C0;C1;C2*;C3*;], Keys: [http://example.org/name -> {C0}, http://example.org/birthDate -> {C1}, http://example.org/knows -> {C2}, http://example.org/worksFor -> {C3}], conds: [C0 -> xsd:string, C1 -> xsd:date, C2 -> @0, C3 -> @1], References: [http://example.org/knows->0, http://example.org/worksFor->1]'}], 'reason': 'Shape passed. Node :bob, shape 0: :User = {(:name xsd:string ; :birthDate xsd:date ; :knows @0* ; :worksFor @1* ; )}\\n', 'status': 'conformant'}\n",
            "\n"
          ]
        }
      ],
      "source": [
        "for (node, shape, status) in results.to_list():\n",
        "    print(f\"Node: {node.show()}\")\n",
        "    print(f\"Shape: {shape.show()}\")\n",
        "    print(f\"Conformant?: {status.is_conformant()}\")\n",
        "    print(f\"Appinfo: {status.as_json()}\")\n",
        "    print(\"\")\n"
      ]
    },
    {
      "cell_type": "markdown",
      "metadata": {
        "id": "jiEga6RWx8sf"
      },
      "source": [
        "We reset the status of the `ShEx` schema, the `Shapemap` and the current `RDF data` for the next section."
      ]
    },
    {
      "cell_type": "code",
      "execution_count": 13,
      "metadata": {
        "id": "6YD7UcNXnjkN"
      },
      "outputs": [],
      "source": [
        "# @title\n",
        "rudof = Rudof(RudofConfig())\n"
      ]
    },
    {
      "cell_type": "markdown",
      "source": [
        "## Validating SPARQL endpoints"
      ],
      "metadata": {
        "id": "-JvHCaCbHoCa"
      }
    },
    {
      "cell_type": "markdown",
      "source": [
        "It is also possible to validate RDF data which is not local but is available in a SPARQL endpoint like wikidata or dbpedia. Let's start with Wikidata:"
      ],
      "metadata": {
        "id": "S9OpRHjNHrn-"
      }
    },
    {
      "cell_type": "code",
      "source": [
        "rudof.use_endpoint(\"wikidata\")"
      ],
      "metadata": {
        "id": "Gy7he1l0IOww"
      },
      "execution_count": 14,
      "outputs": []
    },
    {
      "cell_type": "markdown",
      "source": [
        "We can declare a simple shape in Wikidata as follows:"
      ],
      "metadata": {
        "id": "H2oTNq4fIcBS"
      }
    },
    {
      "cell_type": "code",
      "source": [
        "rudof.read_shex_str(\"\"\"\n",
        "prefix : <http://example.org/>\n",
        "prefix wd: <http://www.wikidata.org/entity/>\n",
        "prefix wdt: <http://www.wikidata.org/prop/direct/>\n",
        "\n",
        ":Researcher {\n",
        "  wdt:P31 [ wd:Q5 ] ; # Instance of Human\n",
        "  wdt:P19 @:Place   ; # BirthPlace\n",
        "}\n",
        ":Place {\n",
        "  wdt:P17 @:Country * ; # Country\n",
        "}\n",
        ":Country {}\n",
        "\"\"\")"
      ],
      "metadata": {
        "id": "QXyKrFDRIidP"
      },
      "execution_count": 15,
      "outputs": []
    },
    {
      "cell_type": "code",
      "source": [
        "rudof.read_shapemap_str(\"wd:Q80@:Researcher\")"
      ],
      "metadata": {
        "id": "8ghpl3oNJQfA"
      },
      "execution_count": 16,
      "outputs": []
    },
    {
      "cell_type": "code",
      "source": [
        "results = rudof.validate_shex()"
      ],
      "metadata": {
        "id": "V4abMTJBJV1Q"
      },
      "execution_count": 17,
      "outputs": []
    },
    {
      "cell_type": "code",
      "source": [
        "print(results.show_as_table(with_details=True))"
      ],
      "metadata": {
        "colab": {
          "base_uri": "https://localhost:8080/"
        },
        "id": "iHiNwXYfJYgX",
        "outputId": "f9700c53-f0bf-4367-890c-c2430d3e423d"
      },
      "execution_count": 18,
      "outputs": [
        {
          "output_type": "stream",
          "name": "stdout",
          "text": [
            "╭────────────────────────────────────┬─────────────┬────────┬──────────────────────────────────────────────────────────────────────────────────╮\n",
            "│ Node                               │ Shape       │ Status │ Details                                                                          │\n",
            "├────────────────────────────────────┼─────────────┼────────┼──────────────────────────────────────────────────────────────────────────────────┤\n",
            "│ http://www.wikidata.org/entity/Q80 │ :Researcher │ OK     │ Shape passed. Node http://www.wikidata.org/entity/Q80, shape 0: :Researcher = {( │\n",
            "│                                    │             │        │ wdt:P31 [wd:Q5 ] ; wdt:P19 @1 ; )}                                               │\n",
            "│                                    │             │        │                                                                                  │\n",
            "╰────────────────────────────────────┴─────────────┴────────┴──────────────────────────────────────────────────────────────────────────────────╯\n",
            "\n"
          ]
        }
      ]
    },
    {
      "cell_type": "markdown",
      "metadata": {
        "id": "_7iBx5Ocn1Fc"
      },
      "source": [
        "## Visualizing ShEx schemas"
      ]
    },
    {
      "cell_type": "markdown",
      "metadata": {
        "id": "2KRvu2HXJ3Bi"
      },
      "source": [
        "`rudof` can be used to convert ShEx to diagrams in UML-like style. The converter generates a [PlantUML](https://plantuml.com/) string which can be written to a file and converted to an image using the PlantUML tool."
      ]
    },
    {
      "cell_type": "code",
      "execution_count": 19,
      "metadata": {
        "id": "cO0QQJJSlm1j"
      },
      "outputs": [],
      "source": [
        "from pyrudof import UmlGenerationMode"
      ]
    },
    {
      "cell_type": "code",
      "execution_count": 20,
      "metadata": {
        "id": "cZThqbvXn4y1"
      },
      "outputs": [],
      "source": [
        "rudof.read_shex_str(\"\"\"\n",
        "prefix : <http://example.org/>\n",
        "prefix xsd:    <http://www.w3.org/2001/XMLSchema#>\n",
        "\n",
        ":User {\n",
        " :name     xsd:string  ;\n",
        " :worksFor @:Company * ;\n",
        " :addres   @:Address   ;\n",
        " :knows    @:User\n",
        "}\n",
        "\n",
        ":Company {\n",
        "  :name     xsd:string     ;\n",
        "  :code     xsd:string     ;\n",
        "  :employee @:User\n",
        "}\n",
        ":Address {\n",
        "  :name     xsd:string ;\n",
        "  :zip_code xsd:string\n",
        "}\n",
        "\"\"\")"
      ]
    },
    {
      "cell_type": "code",
      "execution_count": 21,
      "metadata": {
        "id": "TgF9X8BoHyft"
      },
      "outputs": [],
      "source": [
        "plant_uml = rudof.shex2plantuml_file(UmlGenerationMode(), 'out.puml')"
      ]
    },
    {
      "cell_type": "markdown",
      "metadata": {
        "id": "BkET25UlKblP"
      },
      "source": [
        "Now we install the PlantUML tools necessary to process the generated `plant_uml`"
      ]
    },
    {
      "cell_type": "code",
      "execution_count": 22,
      "metadata": {
        "colab": {
          "base_uri": "https://localhost:8080/"
        },
        "id": "WK_yRDiXIS9x",
        "outputId": "c5ed665d-741e-4df9-bfc5-f1022ca59994",
        "cellView": "form"
      },
      "outputs": [
        {
          "output_type": "stream",
          "name": "stdout",
          "text": [
            "Collecting plantuml\n",
            "  Downloading plantuml-0.3.0-py3-none-any.whl.metadata (2.5 kB)\n",
            "Requirement already satisfied: httplib2 in /usr/local/lib/python3.12/dist-packages (from plantuml) (0.31.0)\n",
            "Requirement already satisfied: pyparsing<4,>=3.0.4 in /usr/local/lib/python3.12/dist-packages (from httplib2->plantuml) (3.2.5)\n",
            "Downloading plantuml-0.3.0-py3-none-any.whl (5.8 kB)\n",
            "Installing collected packages: plantuml\n",
            "Successfully installed plantuml-0.3.0\n",
            "Requirement already satisfied: ipython in /usr/local/lib/python3.12/dist-packages (7.34.0)\n",
            "Requirement already satisfied: setuptools>=18.5 in /usr/local/lib/python3.12/dist-packages (from ipython) (75.2.0)\n",
            "Collecting jedi>=0.16 (from ipython)\n",
            "  Downloading jedi-0.19.2-py2.py3-none-any.whl.metadata (22 kB)\n",
            "Requirement already satisfied: decorator in /usr/local/lib/python3.12/dist-packages (from ipython) (4.4.2)\n",
            "Requirement already satisfied: pickleshare in /usr/local/lib/python3.12/dist-packages (from ipython) (0.7.5)\n",
            "Requirement already satisfied: traitlets>=4.2 in /usr/local/lib/python3.12/dist-packages (from ipython) (5.7.1)\n",
            "Requirement already satisfied: prompt-toolkit!=3.0.0,!=3.0.1,<3.1.0,>=2.0.0 in /usr/local/lib/python3.12/dist-packages (from ipython) (3.0.52)\n",
            "Requirement already satisfied: pygments in /usr/local/lib/python3.12/dist-packages (from ipython) (2.19.2)\n",
            "Requirement already satisfied: backcall in /usr/local/lib/python3.12/dist-packages (from ipython) (0.2.0)\n",
            "Requirement already satisfied: matplotlib-inline in /usr/local/lib/python3.12/dist-packages (from ipython) (0.1.7)\n",
            "Requirement already satisfied: pexpect>4.3 in /usr/local/lib/python3.12/dist-packages (from ipython) (4.9.0)\n",
            "Requirement already satisfied: parso<0.9.0,>=0.8.4 in /usr/local/lib/python3.12/dist-packages (from jedi>=0.16->ipython) (0.8.5)\n",
            "Requirement already satisfied: ptyprocess>=0.5 in /usr/local/lib/python3.12/dist-packages (from pexpect>4.3->ipython) (0.7.0)\n",
            "Requirement already satisfied: wcwidth in /usr/local/lib/python3.12/dist-packages (from prompt-toolkit!=3.0.0,!=3.0.1,<3.1.0,>=2.0.0->ipython) (0.2.14)\n",
            "Downloading jedi-0.19.2-py2.py3-none-any.whl (1.6 MB)\n",
            "\u001b[2K   \u001b[90m━━━━━━━━━━━━━━━━━━━━━━━━━━━━━━━━━━━━━━━━\u001b[0m \u001b[32m1.6/1.6 MB\u001b[0m \u001b[31m32.8 MB/s\u001b[0m eta \u001b[36m0:00:00\u001b[0m\n",
            "\u001b[?25hInstalling collected packages: jedi\n",
            "Successfully installed jedi-0.19.2\n",
            "[{'filename': 'out.puml', 'gen_success': True}]\n"
          ]
        }
      ],
      "source": [
        "# @title\n",
        "! pip install plantuml\n",
        "! pip install ipython\n",
        "!python -m plantuml out.puml\n",
        "from IPython.display import Image"
      ]
    },
    {
      "cell_type": "code",
      "execution_count": 23,
      "metadata": {
        "colab": {
          "base_uri": "https://localhost:8080/",
          "height": 253
        },
        "id": "e4dRHoIUJabG",
        "outputId": "013e58f8-0577-46c4-99e6-c49ae1024c29"
      },
      "outputs": [
        {
          "output_type": "execute_result",
          "data": {
            "image/png": "[encoded data removed]",
            "text/plain": [
              "<IPython.core.display.Image object>"
            ]
          },
          "metadata": {},
          "execution_count": 23
        }
      ],
      "source": [
        "Image(f\"out.png\")"
      ]
    }
  ],
  "metadata": {
    "colab": {
      "provenance": [],
      "toc_visible": true
    },
    "kernelspec": {
      "display_name": "Python 3",
      "name": "python3"
    },
    "language_info": {
      "name": "python"
    }
  },
  "nbformat": 4,
  "nbformat_minor": 0
}