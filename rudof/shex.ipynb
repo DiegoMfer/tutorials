{
  "cells": [
    {
      "cell_type": "markdown",
      "metadata": {
        "id": "sUm7kokski_K"
      },
      "source": [
        "# ShEx"
      ]
    },
    {
      "cell_type": "markdown",
      "metadata": {
        "id": "LMC6kMsUp3de"
      },
      "source": []
    },
    {
      "cell_type": "markdown",
      "metadata": {
        "id": "FlaljkGCkn_Q"
      },
      "source": [
        "This document contains a short introduction to ShEx using [rudof](https://rudof-project.github.io/).\n"
      ]
    },
    {
      "cell_type": "markdown",
      "metadata": {
        "id": "whZHWrGG6Y8O"
      },
      "source": [
        "## Install and configure rudof"
      ]
    },
    {
      "cell_type": "markdown",
      "metadata": {
        "id": "YpF48mZrjqwo"
      },
      "source": [
        "The library is available as `pyrudof`."
      ]
    },
    {
      "cell_type": "code",
      "execution_count": 1,
      "metadata": {
        "colab": {
          "base_uri": "https://localhost:8080/"
        },
        "id": "voGWk2uO6gcP",
        "outputId": "ad87b5cb-2760-4465-9f95-08d4aa6783ab"
      },
      "outputs": [
        {
          "output_type": "stream",
          "name": "stdout",
          "text": [
            "Collecting pyrudof\n",
            "  Downloading pyrudof-0.1.124-cp37-abi3-manylinux_2_17_x86_64.manylinux2014_x86_64.whl.metadata (1.9 kB)\n",
            "Downloading pyrudof-0.1.124-cp37-abi3-manylinux_2_17_x86_64.manylinux2014_x86_64.whl (10.4 MB)\n",
            "\u001b[2K   \u001b[90m━━━━━━━━━━━━━━━━━━━━━━━━━━━━━━━━━━━━━━━━\u001b[0m \u001b[32m10.4/10.4 MB\u001b[0m \u001b[31m7.8 MB/s\u001b[0m eta \u001b[36m0:00:00\u001b[0m\n",
            "\u001b[?25hInstalling collected packages: pyrudof\n",
            "Successfully installed pyrudof-0.1.124\n"
          ]
        }
      ],
      "source": [
        "!pip install pyrudof"
      ]
    },
    {
      "cell_type": "markdown",
      "metadata": {
        "id": "FzsA78qu-xXP"
      },
      "source": [
        "The main entry point if a class called `Rudof` through which most of the functionality is provided."
      ]
    },
    {
      "cell_type": "code",
      "execution_count": 2,
      "metadata": {
        "id": "I3jvDAPBJ3OQ"
      },
      "outputs": [],
      "source": [
        "from pyrudof import Rudof, RudofConfig"
      ]
    },
    {
      "cell_type": "markdown",
      "metadata": {
        "id": "0Io7V7y9_G_P"
      },
      "source": [
        "In order to initialize that class, it is possible to pass a RudofConfig instance which contains configuration parameters for customization."
      ]
    },
    {
      "cell_type": "code",
      "execution_count": 3,
      "metadata": {
        "id": "OAV_KSrH6qn-"
      },
      "outputs": [],
      "source": [
        "rudof = Rudof(RudofConfig())"
      ]
    },
    {
      "cell_type": "markdown",
      "metadata": {
        "id": "JUgsyHtW7bA5"
      },
      "source": [
        "## Validate using ShEx"
      ]
    },
    {
      "cell_type": "code",
      "execution_count": 4,
      "metadata": {
        "id": "CwDQcbAq7XJe"
      },
      "outputs": [],
      "source": [
        "rudof.read_shex_str(\"\"\"\n",
        "prefix : <http://example.org/>\n",
        "prefix xsd:    <http://www.w3.org/2001/XMLSchema#>\n",
        "\n",
        ":Person {\n",
        " :name xsd:string\n",
        "}\n",
        "\"\"\")\n"
      ]
    },
    {
      "cell_type": "code",
      "execution_count": 5,
      "metadata": {
        "id": "yo97eI09nFOm"
      },
      "outputs": [],
      "source": [
        "rudof.read_data_str(\"\"\"\n",
        "prefix : <http://example.org/>\n",
        "\n",
        ":ok :name \"alice\" .\n",
        ":ko :name 1 .\n",
        "\"\"\")"
      ]
    },
    {
      "cell_type": "code",
      "execution_count": 6,
      "metadata": {
        "id": "_EFY-RpNnHwh"
      },
      "outputs": [],
      "source": [
        "rudof.read_shapemap_str(\":ok@:Person, :ko@:Person\")"
      ]
    },
    {
      "cell_type": "markdown",
      "metadata": {
        "id": "0VA7Nyh3xa36"
      },
      "source": [
        "Once the ShEx schema and the Shapemap have been added to `rudof`, it is possible to validate the current RDF data with the `validate_shex()` method:"
      ]
    },
    {
      "cell_type": "code",
      "execution_count": 7,
      "metadata": {
        "id": "RtJYkJ6T7tm1"
      },
      "outputs": [],
      "source": [
        "results = rudof.validate_shex()"
      ]
    },
    {
      "cell_type": "markdown",
      "metadata": {
        "id": "-kqBLihnxoZz"
      },
      "source": [
        "`validate_shex()` returns a `ResultShapeMap` object which contains a `show()` method to show the results of the validation:"
      ]
    },
    {
      "cell_type": "code",
      "execution_count": 8,
      "metadata": {
        "colab": {
          "base_uri": "https://localhost:8080/"
        },
        "id": "5-gu1z1NnUkO",
        "outputId": "95de645e-b71a-4652-c5fd-53e11791f168"
      },
      "outputs": [
        {
          "output_type": "stream",
          "name": "stdout",
          "text": [
            "Node: http://example.org/ok\n",
            "Shape: http://example.org/Person\n",
            "Conformant?: True\n",
            "Appinfo: {'info': [{'reason': 'Shape passed. Node http://example.org/ok, shape 0: Shape  Preds: http://example.org/name, TripleExpr: RBE [C0], Keys: [http://example.org/name -> {C0}], conds: [C0 -> xsd:string], References: []'}], 'reason': 'Shape passed. Node :ok, shape 0: :Person = {:name xsd:string}\\n', 'status': 'conformant'}\n",
            "\n",
            "Node: http://example.org/ko\n",
            "Shape: http://example.org/Person\n",
            "Conformant?: False\n",
            "Appinfo: {'info': [{'error': 'Datatype error: Datatype expected http://www.w3.org/2001/XMLSchema#string but found http://www.w3.org/2001/XMLSchema#integer for literal with lexical form 1'}], 'reason': 'Error Datatype error: Datatype expected http://www.w3.org/2001/XMLSchema#string but found http://www.w3.org/2001/XMLSchema#integer for literal with lexical form 1\\n', 'status': 'nonconformant'}\n",
            "\n"
          ]
        }
      ],
      "source": [
        "for (node, shape, status) in results.to_list():\n",
        "    print(f\"Node: {node.show()}\")\n",
        "    print(f\"Shape: {shape.show()}\")\n",
        "    print(f\"Conformant?: {status.is_conformant()}\")\n",
        "    print(f\"Appinfo: {status.as_json()}\")\n",
        "    print(\"\")\n"
      ]
    },
    {
      "cell_type": "markdown",
      "metadata": {
        "id": "jiEga6RWx8sf"
      },
      "source": [
        "We reset the status of the `ShEx` schema, the `Shapemap` and the current `RDF data` for the next section."
      ]
    },
    {
      "cell_type": "code",
      "execution_count": 9,
      "metadata": {
        "id": "6YD7UcNXnjkN"
      },
      "outputs": [],
      "source": [
        "rudof.reset_all()"
      ]
    },
    {
      "cell_type": "markdown",
      "metadata": {
        "id": "_7iBx5Ocn1Fc"
      },
      "source": [
        "## Converting ShEx to UML"
      ]
    },
    {
      "cell_type": "markdown",
      "metadata": {
        "id": "2KRvu2HXJ3Bi"
      },
      "source": [
        "`rudof` can be used to convert ShEx to diagrams in UML-like style. The converter generates a [PlantUML](https://plantuml.com/) string which can be written to a file and converted to an image using the PlantUML tool."
      ]
    },
    {
      "cell_type": "code",
      "execution_count": 10,
      "metadata": {
        "id": "cO0QQJJSlm1j"
      },
      "outputs": [],
      "source": [
        "from pyrudof import UmlGenerationMode"
      ]
    },
    {
      "cell_type": "code",
      "execution_count": 11,
      "metadata": {
        "id": "cZThqbvXn4y1"
      },
      "outputs": [],
      "source": [
        "rudof.read_shex_str(\"\"\"\n",
        "prefix : <http://example.org/>\n",
        "prefix xsd:    <http://www.w3.org/2001/XMLSchema#>\n",
        "\n",
        ":User {\n",
        " :name     xsd:string  ;\n",
        " :worksFor @:Company * ;\n",
        " :addres   @:Address   ;\n",
        " :knows    @:User\n",
        "}\n",
        "\n",
        ":Company {\n",
        "  :name     xsd:string     ;\n",
        "  :code     xsd:string     ;\n",
        "  :employee @:User\n",
        "}\n",
        ":Address {\n",
        "  :name     xsd:string ;\n",
        "  :zip_code xsd:string\n",
        "}\n",
        "\"\"\")"
      ]
    },
    {
      "cell_type": "code",
      "execution_count": 12,
      "metadata": {
        "id": "TgF9X8BoHyft"
      },
      "outputs": [],
      "source": [
        "plant_uml = rudof.shex2plantuml_file(UmlGenerationMode(), 'out.puml')"
      ]
    },
    {
      "cell_type": "markdown",
      "metadata": {
        "id": "BkET25UlKblP"
      },
      "source": [
        "Now we install the PlantUML tools necessary to process the generated `plant_uml`"
      ]
    },
    {
      "cell_type": "code",
      "execution_count": 13,
      "metadata": {
        "colab": {
          "base_uri": "https://localhost:8080/"
        },
        "id": "WK_yRDiXIS9x",
        "outputId": "579b3ca2-0151-4500-c4e5-c6ea544e3bd4"
      },
      "outputs": [
        {
          "output_type": "stream",
          "name": "stdout",
          "text": [
            "Collecting plantuml\n",
            "  Downloading plantuml-0.3.0-py3-none-any.whl.metadata (2.5 kB)\n",
            "Requirement already satisfied: httplib2 in /usr/local/lib/python3.12/dist-packages (from plantuml) (0.31.0)\n",
            "Requirement already satisfied: pyparsing<4,>=3.0.4 in /usr/local/lib/python3.12/dist-packages (from httplib2->plantuml) (3.2.5)\n",
            "Downloading plantuml-0.3.0-py3-none-any.whl (5.8 kB)\n",
            "Installing collected packages: plantuml\n",
            "Successfully installed plantuml-0.3.0\n"
          ]
        }
      ],
      "source": [
        "! pip install plantuml"
      ]
    },
    {
      "cell_type": "code",
      "execution_count": 14,
      "metadata": {
        "colab": {
          "base_uri": "https://localhost:8080/"
        },
        "id": "Uztbqe6bJGXj",
        "outputId": "b4af40d8-8a86-4413-f57d-75ab5c7b2b5a"
      },
      "outputs": [
        {
          "output_type": "stream",
          "name": "stdout",
          "text": [
            "Requirement already satisfied: ipython in /usr/local/lib/python3.12/dist-packages (7.34.0)\n",
            "Requirement already satisfied: setuptools>=18.5 in /usr/local/lib/python3.12/dist-packages (from ipython) (75.2.0)\n",
            "Collecting jedi>=0.16 (from ipython)\n",
            "  Downloading jedi-0.19.2-py2.py3-none-any.whl.metadata (22 kB)\n",
            "Requirement already satisfied: decorator in /usr/local/lib/python3.12/dist-packages (from ipython) (4.4.2)\n",
            "Requirement already satisfied: pickleshare in /usr/local/lib/python3.12/dist-packages (from ipython) (0.7.5)\n",
            "Requirement already satisfied: traitlets>=4.2 in /usr/local/lib/python3.12/dist-packages (from ipython) (5.7.1)\n",
            "Requirement already satisfied: prompt-toolkit!=3.0.0,!=3.0.1,<3.1.0,>=2.0.0 in /usr/local/lib/python3.12/dist-packages (from ipython) (3.0.52)\n",
            "Requirement already satisfied: pygments in /usr/local/lib/python3.12/dist-packages (from ipython) (2.19.2)\n",
            "Requirement already satisfied: backcall in /usr/local/lib/python3.12/dist-packages (from ipython) (0.2.0)\n",
            "Requirement already satisfied: matplotlib-inline in /usr/local/lib/python3.12/dist-packages (from ipython) (0.1.7)\n",
            "Requirement already satisfied: pexpect>4.3 in /usr/local/lib/python3.12/dist-packages (from ipython) (4.9.0)\n",
            "Requirement already satisfied: parso<0.9.0,>=0.8.4 in /usr/local/lib/python3.12/dist-packages (from jedi>=0.16->ipython) (0.8.5)\n",
            "Requirement already satisfied: ptyprocess>=0.5 in /usr/local/lib/python3.12/dist-packages (from pexpect>4.3->ipython) (0.7.0)\n",
            "Requirement already satisfied: wcwidth in /usr/local/lib/python3.12/dist-packages (from prompt-toolkit!=3.0.0,!=3.0.1,<3.1.0,>=2.0.0->ipython) (0.2.14)\n",
            "Downloading jedi-0.19.2-py2.py3-none-any.whl (1.6 MB)\n",
            "\u001b[2K   \u001b[90m━━━━━━━━━━━━━━━━━━━━━━━━━━━━━━━━━━━━━━━━\u001b[0m \u001b[32m1.6/1.6 MB\u001b[0m \u001b[31m25.9 MB/s\u001b[0m eta \u001b[36m0:00:00\u001b[0m\n",
            "\u001b[?25hInstalling collected packages: jedi\n",
            "Successfully installed jedi-0.19.2\n"
          ]
        }
      ],
      "source": [
        "! pip install ipython"
      ]
    },
    {
      "cell_type": "code",
      "execution_count": 15,
      "metadata": {
        "colab": {
          "base_uri": "https://localhost:8080/"
        },
        "id": "VTN0x4H-I4Mo",
        "outputId": "cd435690-e2bc-4152-cfcf-469e4c03cf3b"
      },
      "outputs": [
        {
          "output_type": "stream",
          "name": "stdout",
          "text": [
            "[{'filename': 'out.puml', 'gen_success': True}]\n"
          ]
        }
      ],
      "source": [
        "!python -m plantuml out.puml"
      ]
    },
    {
      "cell_type": "code",
      "execution_count": 16,
      "metadata": {
        "id": "XrFhCm6yJP3x"
      },
      "outputs": [],
      "source": [
        "from IPython.display import Image"
      ]
    },
    {
      "cell_type": "code",
      "execution_count": 17,
      "metadata": {
        "colab": {
          "base_uri": "https://localhost:8080/",
          "height": 253
        },
        "id": "e4dRHoIUJabG",
        "outputId": "99982b94-ec9a-4acf-bb94-be449dea9114"
      },
      "outputs": [
        {
          "output_type": "execute_result",
          "data": {
            "image/png": "[encoded data removed]",
            "text/plain": [
              "<IPython.core.display.Image object>"
            ]
          },
          "metadata": {},
          "execution_count": 17
        }
      ],
      "source": [
        "Image(f\"out.png\")"
      ]
    },
    {
      "cell_type": "code",
      "execution_count": 18,
      "metadata": {
        "id": "ZLuBCHWpFuIR"
      },
      "outputs": [],
      "source": [
        "rudof.reset_all()"
      ]
    }
  ],
  "metadata": {
    "colab": {
      "provenance": [],
      "toc_visible": true
    },
    "kernelspec": {
      "display_name": "Python 3",
      "name": "python3"
    },
    "language_info": {
      "name": "python"
    }
  },
  "nbformat": 4,
  "nbformat_minor": 0
}