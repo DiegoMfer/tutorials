{
  "cells": [
    {
      "cell_type": "markdown",
      "metadata": {
        "id": "sUm7kokski_K"
      },
      "source": [
        "# ShEx"
      ]
    },
    {
      "cell_type": "markdown",
      "metadata": {
        "id": "LMC6kMsUp3de"
      },
      "source": []
    },
    {
      "cell_type": "markdown",
      "metadata": {
        "id": "FlaljkGCkn_Q"
      },
      "source": [
        "This document contains a short introduction to ShEx using [rudof](https://rudof-project.github.io/). \n"
      ]
    },
    {
      "cell_type": "markdown",
      "metadata": {
        "id": "whZHWrGG6Y8O"
      },
      "source": [
        "## Install and configure rudof"
      ]
    },
    {
      "cell_type": "markdown",
      "metadata": {
        "id": "YpF48mZrjqwo"
      },
      "source": [
        "The library is available as `pyrudof`."
      ]
    },
    {
      "cell_type": "code",
      "execution_count": 1,
      "metadata": {
        "colab": {
          "base_uri": "https://localhost:8080/"
        },
        "id": "voGWk2uO6gcP",
        "outputId": "84b241ce-5369-408e-8b6b-5b80c33cc04d"
      },
      "outputs": [
        {
          "name": "stdout",
          "output_type": "stream",
          "text": [
            "Collecting pyrudof\n",
            "  Downloading pyrudof-0.1.120-cp37-abi3-manylinux_2_17_x86_64.manylinux2014_x86_64.whl.metadata (1.8 kB)\n",
            "Downloading pyrudof-0.1.120-cp37-abi3-manylinux_2_17_x86_64.manylinux2014_x86_64.whl (10.6 MB)\n",
            "\u001b[2K   \u001b[90m━━━━━━━━━━━━━━━━━━━━━━━━━━━━━━━━━━━━━━━━\u001b[0m \u001b[32m10.6/10.6 MB\u001b[0m \u001b[31m23.2 MB/s\u001b[0m eta \u001b[36m0:00:00\u001b[0m\n",
            "\u001b[?25hInstalling collected packages: pyrudof\n",
            "Successfully installed pyrudof-0.1.120\n"
          ]
        }
      ],
      "source": [
        "!pip install pyrudof"
      ]
    },
    {
      "cell_type": "markdown",
      "metadata": {
        "id": "FzsA78qu-xXP"
      },
      "source": [
        "The main entry point if a class called `Rudof` through which most of the functionality is provided."
      ]
    },
    {
      "cell_type": "code",
      "execution_count": 2,
      "metadata": {
        "id": "I3jvDAPBJ3OQ"
      },
      "outputs": [],
      "source": [
        "from pyrudof import Rudof, RudofConfig"
      ]
    },
    {
      "cell_type": "markdown",
      "metadata": {
        "id": "0Io7V7y9_G_P"
      },
      "source": [
        "In order to initialize that class, it is possible to pass a RudofConfig instance which contains configuration parameters for customization."
      ]
    },
    {
      "cell_type": "code",
      "execution_count": 3,
      "metadata": {
        "id": "OAV_KSrH6qn-"
      },
      "outputs": [],
      "source": [
        "rudof = Rudof(RudofConfig())"
      ]
    },
    {
      "cell_type": "markdown",
      "metadata": {
        "id": "JUgsyHtW7bA5"
      },
      "source": [
        "## Validate using ShEx"
      ]
    },
    {
      "cell_type": "code",
      "execution_count": 17,
      "metadata": {
        "id": "CwDQcbAq7XJe"
      },
      "outputs": [],
      "source": [
        "rudof.read_shex_str(\"\"\"\n",
        "prefix : <http://example.org/>\n",
        "prefix xsd:    <http://www.w3.org/2001/XMLSchema#>\n",
        "\n",
        ":Person {\n",
        " :name xsd:string\n",
        "}\n",
        "\"\"\")\n"
      ]
    },
    {
      "cell_type": "code",
      "execution_count": 18,
      "metadata": {
        "id": "yo97eI09nFOm"
      },
      "outputs": [],
      "source": [
        "rudof.read_data_str(\"\"\"\n",
        "prefix : <http://example.org/>\n",
        "\n",
        ":ok :name \"alice\" .\n",
        ":ko :name 1 .\n",
        "\"\"\")"
      ]
    },
    {
      "cell_type": "code",
      "execution_count": 19,
      "metadata": {
        "id": "_EFY-RpNnHwh"
      },
      "outputs": [],
      "source": [
        "rudof.read_shapemap_str(\":ok@:Person, :ko@:Person\")"
      ]
    },
    {
      "cell_type": "markdown",
      "metadata": {
        "id": "0VA7Nyh3xa36"
      },
      "source": [
        "Once the ShEx schema and the Shapemap have been added to `rudof`, it is possible to validate the current RDF data with the `validate_shex()` method:"
      ]
    },
    {
      "cell_type": "code",
      "execution_count": 22,
      "metadata": {
        "id": "RtJYkJ6T7tm1"
      },
      "outputs": [],
      "source": [
        "results = rudof.validate_shex()"
      ]
    },
    {
      "cell_type": "markdown",
      "metadata": {
        "id": "-kqBLihnxoZz"
      },
      "source": [
        "`validate_shex()` returns a `ResultShapeMap` object which contains a `show()` method to show the results of the validation:"
      ]
    },
    {
      "cell_type": "code",
      "execution_count": 23,
      "metadata": {
        "colab": {
          "base_uri": "https://localhost:8080/"
        },
        "id": "5-gu1z1NnUkO",
        "outputId": "cdfe0d74-d608-4203-8503-5e39d24f7b07"
      },
      "outputs": [
        {
          "name": "stdout",
          "output_type": "stream",
          "text": [
            "Node: http://example.org/ok\n",
            "Shape: http://example.org/Person\n",
            "Conformant?: True\n",
            "Appinfo: {'info': [{'reason': 'Shape passed. Node http://example.org/ok, shape 0: Shape  Preds: http://example.org/name, TripleExpr: RBE [C0], Keys: [http://example.org/name -> {C0}], conds: [C0 -> xsd:string], References: []'}], 'reason': 'Shape passed. Node :ok, shape 0: :Person = {:name xsd:string}\\n', 'status': 'conformant'}\n",
            "\n",
            "Node: http://example.org/ko\n",
            "Shape: http://example.org/Person\n",
            "Conformant?: False\n",
            "Appinfo: {'info': [{'error': 'Datatype error: Datatype expected http://www.w3.org/2001/XMLSchema#string but found http://www.w3.org/2001/XMLSchema#integer for literal with lexical form 1'}], 'reason': 'Error Datatype error: Datatype expected http://www.w3.org/2001/XMLSchema#string but found http://www.w3.org/2001/XMLSchema#integer for literal with lexical form 1\\n', 'status': 'nonconformant'}\n",
            "\n"
          ]
        }
      ],
      "source": [
        "for (node, shape, status) in results.to_list():\n",
        "    print(f\"Node: {node.show()}\")\n",
        "    print(f\"Shape: {shape.show()}\")\n",
        "    print(f\"Conformant?: {status.is_conformant()}\")\n",
        "    print(f\"Appinfo: {status.as_json()}\")\n",
        "    print(\"\")\n"
      ]
    },
    {
      "cell_type": "markdown",
      "metadata": {
        "id": "jiEga6RWx8sf"
      },
      "source": [
        "We reset the status of the `ShEx` schema, the `Shapemap` and the current `RDF data` for the next section."
      ]
    },
    {
      "cell_type": "code",
      "execution_count": 24,
      "metadata": {
        "id": "6YD7UcNXnjkN"
      },
      "outputs": [],
      "source": [
        "rudof.reset_all()"
      ]
    },
    {
      "cell_type": "markdown",
      "metadata": {
        "id": "_7iBx5Ocn1Fc"
      },
      "source": [
        "## Converting ShEx to UML"
      ]
    },
    {
      "cell_type": "markdown",
      "metadata": {
        "id": "2KRvu2HXJ3Bi"
      },
      "source": [
        "`rudof` can be used to convert ShEx to diagrams in UML-like style. The converter generates a [PlantUML](https://plantuml.com/) string which can be written to a file and converted to an image using the PlantUML tool."
      ]
    },
    {
      "cell_type": "code",
      "execution_count": 25,
      "metadata": {
        "id": "cO0QQJJSlm1j"
      },
      "outputs": [],
      "source": [
        "from pyrudof import UmlGenerationMode"
      ]
    },
    {
      "cell_type": "code",
      "execution_count": 27,
      "metadata": {
        "id": "cZThqbvXn4y1"
      },
      "outputs": [],
      "source": [
        "rudof.read_shex_str(\"\"\"\n",
        "prefix : <http://example.org/>\n",
        "prefix xsd:    <http://www.w3.org/2001/XMLSchema#>\n",
        "\n",
        ":User {\n",
        " :name     xsd:string  ;\n",
        " :worksFor @:Company * ;\n",
        " :addres   @:Address   ;\n",
        " :knows    @:User\n",
        "}\n",
        "\n",
        ":Company {\n",
        "  :name     xsd:string     ;\n",
        "  :code     xsd:string     ;\n",
        "  :employee @:User\n",
        "}\n",
        ":Address {\n",
        "  :name     xsd:string ;\n",
        "  :zip_code xsd:string\n",
        "}\n",
        "\"\"\")"
      ]
    },
    {
      "cell_type": "code",
      "execution_count": 28,
      "metadata": {
        "id": "TgF9X8BoHyft"
      },
      "outputs": [],
      "source": [
        "plant_uml = rudof.shex2plantuml_file(UmlGenerationMode(), 'out.puml')"
      ]
    },
    {
      "cell_type": "markdown",
      "metadata": {
        "id": "BkET25UlKblP"
      },
      "source": [
        "Now we install the PlantUML tools necessary to process the generated `plant_uml`"
      ]
    },
    {
      "cell_type": "code",
      "execution_count": 29,
      "metadata": {
        "colab": {
          "base_uri": "https://localhost:8080/"
        },
        "id": "WK_yRDiXIS9x",
        "outputId": "54eb50c2-3b47-4142-b6b9-2a80d59f7258"
      },
      "outputs": [
        {
          "name": "stdout",
          "output_type": "stream",
          "text": [
            "Collecting plantuml\n",
            "  Downloading plantuml-0.3.0-py3-none-any.whl.metadata (2.5 kB)\n",
            "Requirement already satisfied: httplib2 in /usr/local/lib/python3.12/dist-packages (from plantuml) (0.31.0)\n",
            "Requirement already satisfied: pyparsing<4,>=3.0.4 in /usr/local/lib/python3.12/dist-packages (from httplib2->plantuml) (3.2.5)\n",
            "Downloading plantuml-0.3.0-py3-none-any.whl (5.8 kB)\n",
            "Installing collected packages: plantuml\n",
            "Successfully installed plantuml-0.3.0\n"
          ]
        }
      ],
      "source": [
        "! pip install plantuml"
      ]
    },
    {
      "cell_type": "code",
      "execution_count": 30,
      "metadata": {
        "colab": {
          "base_uri": "https://localhost:8080/"
        },
        "id": "Uztbqe6bJGXj",
        "outputId": "403c6580-e99b-41dc-9ad5-c6d6df83c849"
      },
      "outputs": [
        {
          "name": "stdout",
          "output_type": "stream",
          "text": [
            "Requirement already satisfied: ipython in /usr/local/lib/python3.12/dist-packages (7.34.0)\n",
            "Requirement already satisfied: setuptools>=18.5 in /usr/local/lib/python3.12/dist-packages (from ipython) (75.2.0)\n",
            "Collecting jedi>=0.16 (from ipython)\n",
            "  Downloading jedi-0.19.2-py2.py3-none-any.whl.metadata (22 kB)\n",
            "Requirement already satisfied: decorator in /usr/local/lib/python3.12/dist-packages (from ipython) (4.4.2)\n",
            "Requirement already satisfied: pickleshare in /usr/local/lib/python3.12/dist-packages (from ipython) (0.7.5)\n",
            "Requirement already satisfied: traitlets>=4.2 in /usr/local/lib/python3.12/dist-packages (from ipython) (5.7.1)\n",
            "Requirement already satisfied: prompt-toolkit!=3.0.0,!=3.0.1,<3.1.0,>=2.0.0 in /usr/local/lib/python3.12/dist-packages (from ipython) (3.0.52)\n",
            "Requirement already satisfied: pygments in /usr/local/lib/python3.12/dist-packages (from ipython) (2.19.2)\n",
            "Requirement already satisfied: backcall in /usr/local/lib/python3.12/dist-packages (from ipython) (0.2.0)\n",
            "Requirement already satisfied: matplotlib-inline in /usr/local/lib/python3.12/dist-packages (from ipython) (0.1.7)\n",
            "Requirement already satisfied: pexpect>4.3 in /usr/local/lib/python3.12/dist-packages (from ipython) (4.9.0)\n",
            "Requirement already satisfied: parso<0.9.0,>=0.8.4 in /usr/local/lib/python3.12/dist-packages (from jedi>=0.16->ipython) (0.8.5)\n",
            "Requirement already satisfied: ptyprocess>=0.5 in /usr/local/lib/python3.12/dist-packages (from pexpect>4.3->ipython) (0.7.0)\n",
            "Requirement already satisfied: wcwidth in /usr/local/lib/python3.12/dist-packages (from prompt-toolkit!=3.0.0,!=3.0.1,<3.1.0,>=2.0.0->ipython) (0.2.14)\n",
            "Downloading jedi-0.19.2-py2.py3-none-any.whl (1.6 MB)\n",
            "\u001b[2K   \u001b[90m━━━━━━━━━━━━━━━━━━━━━━━━━━━━━━━━━━━━━━━━\u001b[0m \u001b[32m1.6/1.6 MB\u001b[0m \u001b[31m13.8 MB/s\u001b[0m eta \u001b[36m0:00:00\u001b[0m\n",
            "\u001b[?25hInstalling collected packages: jedi\n",
            "Successfully installed jedi-0.19.2\n"
          ]
        }
      ],
      "source": [
        "! pip install ipython"
      ]
    },
    {
      "cell_type": "code",
      "execution_count": 31,
      "metadata": {
        "colab": {
          "base_uri": "https://localhost:8080/"
        },
        "id": "VTN0x4H-I4Mo",
        "outputId": "818682ad-0482-4468-8d6c-5f808b0450bc"
      },
      "outputs": [
        {
          "name": "stdout",
          "output_type": "stream",
          "text": [
            "[{'filename': 'out.puml', 'gen_success': True}]\n"
          ]
        }
      ],
      "source": [
        "!python -m plantuml out.puml"
      ]
    },
    {
      "cell_type": "code",
      "execution_count": 32,
      "metadata": {
        "id": "XrFhCm6yJP3x"
      },
      "outputs": [],
      "source": [
        "from IPython.display import Image"
      ]
    },
    {
      "cell_type": "code",
      "execution_count": 33,
      "metadata": {
        "colab": {
          "base_uri": "https://localhost:8080/",
          "height": 379
        },
        "id": "e4dRHoIUJabG",
        "outputId": "1cac7dae-6588-4bfd-c425-37fe84a59a67"
      },
      "outputs": [
        {
          "data": {
            "image/png": "[encoded data removed]",
            "text/plain": [
              "<IPython.core.display.Image object>"
            ]
          },
          "execution_count": 33,
          "metadata": {},
          "output_type": "execute_result"
        }
      ],
      "source": [
        "Image(f\"out.png\")"
      ]
    },
    {
      "cell_type": "code",
      "execution_count": 34,
      "metadata": {
        "id": "ZLuBCHWpFuIR"
      },
      "outputs": [],
      "source": [
        "rudof.reset_all()"
      ]
    },
    {
      "cell_type": "markdown",
      "metadata": {
        "id": "W0j6rPmxJfPY"
      },
      "source": [
        "## Converting DCTAP to ShEx"
      ]
    },
    {
      "cell_type": "markdown",
      "metadata": {
        "id": "xFXK6AkjJnmy"
      },
      "source": [
        "Rudof can be used to convert [DCTAP](https://www.dublincore.org/specifications/dctap/) files to ShEx."
      ]
    },
    {
      "cell_type": "markdown",
      "metadata": {
        "id": "mFtcvAieQP7Q"
      },
      "source": [
        "DCTAP can be used to represent shapes using a tabular representation using CSV or an spreadsheet format like XLSX. As an example, the following CSV data:\n"
      ]
    },
    {
      "cell_type": "code",
      "execution_count": 35,
      "metadata": {
        "id": "2E6N1wzZQk23"
      },
      "outputs": [],
      "source": [
        "dctap_str = \"\"\"shapeId,propertyId,Mandatory,Repeatable,valueDatatype,valueShape\n",
        "Person,name,true,false,xsd:string,\n",
        ",birthdate,false,false,xsd:date,\n",
        ",worksFor,false,true,,Company\n",
        "Company,name,true,false,xsd:string,\n",
        ",employee,false,true,,Person\n",
        "\"\"\""
      ]
    },
    {
      "cell_type": "code",
      "execution_count": 36,
      "metadata": {
        "id": "k66wE-LPJyvR"
      },
      "outputs": [],
      "source": [
        "rudof.read_dctap_str(dctap_str)"
      ]
    },
    {
      "cell_type": "code",
      "execution_count": 37,
      "metadata": {
        "id": "1vx602BebWqH"
      },
      "outputs": [],
      "source": [
        "dctap = rudof.get_dctap()"
      ]
    },
    {
      "cell_type": "code",
      "execution_count": 38,
      "metadata": {
        "colab": {
          "base_uri": "https://localhost:8080/"
        },
        "id": "G-SnI2jfbnpX",
        "outputId": "520d1c60-9229-452b-f080-c877c4187d78"
      },
      "outputs": [
        {
          "name": "stdout",
          "output_type": "stream",
          "text": [
            "Shape(Person)  \n",
            " name xsd:string \n",
            " birthdate xsd:date ?\n",
            " worksFor @Company *\n",
            "Shape(Company)  \n",
            " name xsd:string \n",
            " employee @Person *\n",
            "\n"
          ]
        }
      ],
      "source": [
        "print(dctap)"
      ]
    },
    {
      "cell_type": "markdown",
      "metadata": {
        "id": "utlhcAiYFjdv"
      },
      "source": [
        "It is possible to convert the DCTAP obtained to ShEx"
      ]
    },
    {
      "cell_type": "code",
      "execution_count": 39,
      "metadata": {
        "id": "djzyJkAxFhIV"
      },
      "outputs": [],
      "source": [
        "rudof.dctap2shex()\n"
      ]
    },
    {
      "cell_type": "code",
      "execution_count": 40,
      "metadata": {
        "id": "2IwnrHIOFxGM"
      },
      "outputs": [],
      "source": [
        "from pyrudof import ShExFormatter"
      ]
    },
    {
      "cell_type": "code",
      "execution_count": 41,
      "metadata": {
        "id": "04gjCw2lFoak"
      },
      "outputs": [],
      "source": [
        "shex = rudof.get_shex()\n",
        "\n",
        "result = rudof.serialize_shex(shex, ShExFormatter())\n"
      ]
    },
    {
      "cell_type": "code",
      "execution_count": 42,
      "metadata": {
        "colab": {
          "base_uri": "https://localhost:8080/"
        },
        "id": "KZBeAbztGCSh",
        "outputId": "b1146e92-f6af-456b-89c0-bce182a797a1"
      },
      "outputs": [
        {
          "name": "stdout",
          "output_type": "stream",
          "text": [
            "prefix sh: <http://www.w3.org/ns/shacl#>\n",
            "prefix : <http://example.org/>\n",
            "prefix xsd: <http://www.w3.org/2001/XMLSchema#>\n",
            "prefix rdfs: <http://www.w3.org/2000/01/rdf-schema#>\n",
            "prefix dc: <http://purl.org/dc/elements/1.1/>\n",
            "prefix rdf: <http://www.w3.org/1999/02/22-rdf-syntax-ns#>\n",
            ":Person { :name xsd:string; :birthdate xsd:date ?; :worksFor @:Company * }\n",
            ":Company { :name xsd:string; :employee @:Person * }\n"
          ]
        }
      ],
      "source": [
        "print(result)"
      ]
    }
  ],
  "metadata": {
    "colab": {
      "provenance": [],
      "toc_visible": true
    },
    "kernelspec": {
      "display_name": "Python 3",
      "name": "python3"
    },
    "language_info": {
      "name": "python"
    }
  },
  "nbformat": 4,
  "nbformat_minor": 0
}
