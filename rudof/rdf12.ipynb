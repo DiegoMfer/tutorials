{
  "cells": [
    {
      "cell_type": "markdown",
      "metadata": {
        "id": "sUm7kokski_K"
      },
      "source": [
        "# RDF 1.2"
      ]
    },
    {
      "cell_type": "markdown",
      "metadata": {
        "id": "LMC6kMsUp3de"
      },
      "source": []
    },
    {
      "cell_type": "markdown",
      "metadata": {
        "id": "FlaljkGCkn_Q"
      },
      "source": [
        "This document contains a short introduction to [RDF](https://www.w3.org/TR/rdf11-primer/) using [rudof](https://rudof-project.github.io/).\n"
      ]
    },
    {
      "cell_type": "markdown",
      "metadata": {
        "id": "whZHWrGG6Y8O"
      },
      "source": [
        "## Preliminaries: Install and configure rudof"
      ]
    },
    {
      "cell_type": "markdown",
      "metadata": {
        "id": "YpF48mZrjqwo"
      },
      "source": [
        "The library is available as `pyrudof`."
      ]
    },
    {
      "cell_type": "code",
      "execution_count": 1,
      "metadata": {
        "colab": {
          "base_uri": "https://localhost:8080/"
        },
        "id": "voGWk2uO6gcP",
        "outputId": "4f76b652-7d87-4fd8-ba0b-26e4f2284454"
      },
      "outputs": [
        {
          "output_type": "stream",
          "name": "stdout",
          "text": [
            "Collecting pyrudof\n",
            "  Downloading pyrudof-0.1.130-cp37-abi3-manylinux_2_17_x86_64.manylinux2014_x86_64.whl.metadata (1.9 kB)\n",
            "Downloading pyrudof-0.1.130-cp37-abi3-manylinux_2_17_x86_64.manylinux2014_x86_64.whl (10.5 MB)\n",
            "\u001b[2K   \u001b[90m━━━━━━━━━━━━━━━━━━━━━━━━━━━━━━━━━━━━━━━━\u001b[0m \u001b[32m10.5/10.5 MB\u001b[0m \u001b[31m68.8 MB/s\u001b[0m eta \u001b[36m0:00:00\u001b[0m\n",
            "\u001b[?25hInstalling collected packages: pyrudof\n",
            "Successfully installed pyrudof-0.1.130\n"
          ]
        }
      ],
      "source": [
        "!pip install pyrudof"
      ]
    },
    {
      "cell_type": "markdown",
      "metadata": {
        "id": "FzsA78qu-xXP"
      },
      "source": [
        "The main entry point if a class called `Rudof` through which most of the functionality is provided."
      ]
    },
    {
      "cell_type": "code",
      "execution_count": 2,
      "metadata": {
        "id": "I3jvDAPBJ3OQ"
      },
      "outputs": [],
      "source": [
        "from pyrudof import Rudof, RudofConfig"
      ]
    },
    {
      "cell_type": "markdown",
      "metadata": {
        "id": "0Io7V7y9_G_P"
      },
      "source": [
        "In order to initialize that class, it is possible to pass a RudofConfig instance which contains configuration parameters for customization."
      ]
    },
    {
      "cell_type": "code",
      "execution_count": 3,
      "metadata": {
        "id": "OAV_KSrH6qn-"
      },
      "outputs": [],
      "source": [
        "rudof = Rudof(RudofConfig())"
      ]
    },
    {
      "cell_type": "code",
      "execution_count": 26,
      "metadata": {
        "id": "weU_sblwdXTW",
        "outputId": "79e3aa09-e935-47e1-d6e5-a77fe4b29376",
        "colab": {
          "base_uri": "https://localhost:8080/"
        }
      },
      "outputs": [
        {
          "output_type": "stream",
          "name": "stdout",
          "text": [
            "Requirement already satisfied: ipython in /usr/local/lib/python3.12/dist-packages (7.34.0)\n",
            "Requirement already satisfied: setuptools>=18.5 in /usr/local/lib/python3.12/dist-packages (from ipython) (75.2.0)\n",
            "Requirement already satisfied: jedi>=0.16 in /usr/local/lib/python3.12/dist-packages (from ipython) (0.19.2)\n",
            "Requirement already satisfied: decorator in /usr/local/lib/python3.12/dist-packages (from ipython) (4.4.2)\n",
            "Requirement already satisfied: pickleshare in /usr/local/lib/python3.12/dist-packages (from ipython) (0.7.5)\n",
            "Requirement already satisfied: traitlets>=4.2 in /usr/local/lib/python3.12/dist-packages (from ipython) (5.7.1)\n",
            "Requirement already satisfied: prompt-toolkit!=3.0.0,!=3.0.1,<3.1.0,>=2.0.0 in /usr/local/lib/python3.12/dist-packages (from ipython) (3.0.52)\n",
            "Requirement already satisfied: pygments in /usr/local/lib/python3.12/dist-packages (from ipython) (2.19.2)\n",
            "Requirement already satisfied: backcall in /usr/local/lib/python3.12/dist-packages (from ipython) (0.2.0)\n",
            "Requirement already satisfied: matplotlib-inline in /usr/local/lib/python3.12/dist-packages (from ipython) (0.1.7)\n",
            "Requirement already satisfied: pexpect>4.3 in /usr/local/lib/python3.12/dist-packages (from ipython) (4.9.0)\n",
            "Requirement already satisfied: parso<0.9.0,>=0.8.4 in /usr/local/lib/python3.12/dist-packages (from jedi>=0.16->ipython) (0.8.5)\n",
            "Requirement already satisfied: ptyprocess>=0.5 in /usr/local/lib/python3.12/dist-packages (from pexpect>4.3->ipython) (0.7.0)\n",
            "Requirement already satisfied: wcwidth in /usr/local/lib/python3.12/dist-packages (from prompt-toolkit!=3.0.0,!=3.0.1,<3.1.0,>=2.0.0->ipython) (0.2.14)\n",
            "Collecting plantuml\n",
            "  Downloading plantuml-0.3.0-py3-none-any.whl.metadata (2.5 kB)\n",
            "Requirement already satisfied: httplib2 in /usr/local/lib/python3.12/dist-packages (from plantuml) (0.31.0)\n",
            "Requirement already satisfied: pyparsing<4,>=3.0.4 in /usr/local/lib/python3.12/dist-packages (from httplib2->plantuml) (3.2.5)\n",
            "Downloading plantuml-0.3.0-py3-none-any.whl (5.8 kB)\n",
            "Installing collected packages: plantuml\n",
            "Successfully installed plantuml-0.3.0\n"
          ]
        }
      ],
      "source": [
        "! pip install ipython # If not already installed\n",
        "!pip install plantuml\n",
        "from IPython.display import Image # For displaying images"
      ]
    },
    {
      "cell_type": "markdown",
      "metadata": {
        "id": "yju-jjtPuNhO"
      },
      "source": [
        "## Support for RDF 1.2"
      ]
    },
    {
      "cell_type": "markdown",
      "metadata": {
        "id": "pAu8aiVgZ2m7"
      },
      "source": [
        "Reset previous state of `rudof` and remnove the temporary file `out.puml` if it exists."
      ]
    },
    {
      "cell_type": "code",
      "execution_count": 27,
      "metadata": {
        "id": "ihjNIGutGMUG"
      },
      "outputs": [],
      "source": [
        "rudof.reset_all()"
      ]
    },
    {
      "cell_type": "code",
      "execution_count": 28,
      "metadata": {
        "id": "fYMYBP9zvP9V"
      },
      "outputs": [],
      "source": [
        "!rm -f out.puml out.png"
      ]
    },
    {
      "cell_type": "markdown",
      "metadata": {
        "id": "XMMU1ERuuXBd"
      },
      "source": [
        "Rudof has added support for [RDF 1.2](https://www.w3.org/TR/rdf12-primer). It is possible, for example, to load some RDF 1.2 files and visualize them.\n"
      ]
    },
    {
      "cell_type": "markdown",
      "metadata": {
        "id": "gyP41zIRYGtr"
      },
      "source": [
        "RDF 1.2 introduces [triple terms](https://www.w3.org/TR/rdf12-primer/#section-triple-terms) which denote statements that can be the object of some triples.\n",
        "\n",
        "For example, we can state that `:bob` is interested in `:MonaLisa` since `4th October 1998` using the following code:"
      ]
    },
    {
      "cell_type": "code",
      "execution_count": 29,
      "metadata": {
        "id": "-nqLufg4upeV"
      },
      "outputs": [],
      "source": [
        "rudof.read_data_str(\"\"\"\n",
        " prefix : <http://example.org/>\n",
        " prefix rdf: <http://www.w3.org/1999/02/22-rdf-syntax-ns#>\n",
        " prefix xsd: <http://www.w3.org/2001/XMLSchema#>\n",
        "\n",
        " :aliceBelief a :Statement ;\n",
        "    rdf:reifies <<( :bob :knows :dave  )>> ;\n",
        "    :since 2025 ;\n",
        "    :accordingTo :dave  .\n",
        " \"\"\")\n"
      ]
    },
    {
      "cell_type": "code",
      "execution_count": 30,
      "metadata": {
        "id": "o96nBbWgvL-l"
      },
      "outputs": [],
      "source": [
        "uml = rudof.data2plantuml_file('out.puml')"
      ]
    },
    {
      "cell_type": "markdown",
      "metadata": {
        "id": "jX9NeZAkafOq"
      },
      "source": [
        "Convert the `puml` to an image."
      ]
    },
    {
      "cell_type": "code",
      "execution_count": 8,
      "metadata": {
        "id": "zWmIFbFYwO_G"
      },
      "outputs": [],
      "source": []
    },
    {
      "cell_type": "code",
      "execution_count": 31,
      "metadata": {
        "colab": {
          "base_uri": "https://localhost:8080/"
        },
        "id": "znszHWGuvlvF",
        "outputId": "89607802-fe33-43cb-8ad4-be12e3b5cbcb"
      },
      "outputs": [
        {
          "output_type": "stream",
          "name": "stdout",
          "text": [
            "[{'filename': 'out.puml', 'gen_success': True}]\n"
          ]
        }
      ],
      "source": [
        "!python -m plantuml out.puml"
      ]
    },
    {
      "cell_type": "code",
      "execution_count": 32,
      "metadata": {
        "colab": {
          "base_uri": "https://localhost:8080/",
          "height": 291
        },
        "id": "PcTrKaabwZvW",
        "outputId": "c1af92c2-58d5-4caa-c9b9-311a6a7b444e"
      },
      "outputs": [
        {
          "output_type": "execute_result",
          "data": {
            "image/png": "[encoded data removed]",
            "text/plain": [
              "<IPython.core.display.Image object>"
            ]
          },
          "metadata": {},
          "execution_count": 32
        }
      ],
      "source": [
        "Image(f\"out.png\")"
      ]
    },
    {
      "cell_type": "markdown",
      "metadata": {
        "id": "erXpY9MSbPNT"
      },
      "source": [
        "In [RDF 1.2 turtle syntax](https://www.w3.org/TR/rdf12-turtle/), there are several possibilities to define triple terms.\n",
        "\n"
      ]
    },
    {
      "cell_type": "markdown",
      "metadata": {
        "id": "2nbEG7h0b1N6"
      },
      "source": [
        "### Declaring triple terms directly"
      ]
    },
    {
      "cell_type": "code",
      "execution_count": 33,
      "metadata": {
        "id": "SKn-6FBLcAOi"
      },
      "outputs": [],
      "source": [
        "!rm -f out.puml out.pnf\n",
        "rudof.reset_all()"
      ]
    },
    {
      "cell_type": "markdown",
      "metadata": {
        "id": "KRVXarFNb3R2"
      },
      "source": [
        "A triple term can be declared enclosing it between `<<(` and `)>>`. For example:"
      ]
    },
    {
      "cell_type": "code",
      "execution_count": 34,
      "metadata": {
        "id": "YFNlU537b0yb"
      },
      "outputs": [],
      "source": [
        "rudof.read_data_str(\"\"\"\n",
        "PREFIX :    <http://www.example.org/>\n",
        "PREFIX rdf: <http://www.w3.org/1999/02/22-rdf-syntax-ns#>\n",
        "\n",
        "_:e38  :familyName                     \"Smith\" .\n",
        "_:anno rdf:reifies <<( _:e38 :jobTitle \"Designer\" )>> .\n",
        "_:anno :accordingTo                     :eric .\n",
        " \"\"\")"
      ]
    },
    {
      "cell_type": "code",
      "execution_count": 35,
      "metadata": {
        "id": "a-LI3oaOcTJC"
      },
      "outputs": [],
      "source": [
        "uml = rudof.data2plantuml_file('out.puml')"
      ]
    },
    {
      "cell_type": "code",
      "execution_count": 36,
      "metadata": {
        "colab": {
          "base_uri": "https://localhost:8080/"
        },
        "id": "ZhkGPQyscYwz",
        "outputId": "f86a2038-a392-421a-ae17-ca109cc318c3"
      },
      "outputs": [
        {
          "output_type": "stream",
          "name": "stdout",
          "text": [
            "[{'filename': 'out.puml', 'gen_success': True}]\n"
          ]
        }
      ],
      "source": [
        "!python -m plantuml out.puml"
      ]
    },
    {
      "cell_type": "code",
      "execution_count": 37,
      "metadata": {
        "colab": {
          "base_uri": "https://localhost:8080/",
          "height": 388
        },
        "id": "01xaro82cciN",
        "outputId": "db63f8b1-7557-4566-d61e-30408bb84e8d"
      },
      "outputs": [
        {
          "output_type": "execute_result",
          "data": {
            "image/png": "[encoded data removed]",
            "text/plain": [
              "<IPython.core.display.Image object>"
            ]
          },
          "metadata": {},
          "execution_count": 37
        }
      ],
      "source": [
        "Image(f\"out.png\")"
      ]
    },
    {
      "cell_type": "markdown",
      "metadata": {
        "id": "iWMQVoWgchXL"
      },
      "source": [
        "### Reifying triples"
      ]
    },
    {
      "cell_type": "code",
      "execution_count": 38,
      "metadata": {
        "id": "rW4pPtohdQwc"
      },
      "outputs": [],
      "source": [
        "!rm -f out.puml out.pnf\n",
        "rudof.reset_all()"
      ]
    },
    {
      "cell_type": "markdown",
      "metadata": {
        "id": "OIAm5jIRck0C"
      },
      "source": [
        "Enclosing a triple between `<<` and `>>`, is a syntactic sugar that declares that there is a reifier whose object is that triple and that can be used to add more declarations about that reifier.\n",
        "\n",
        "For example:"
      ]
    },
    {
      "cell_type": "code",
      "execution_count": 39,
      "metadata": {
        "id": "eVatupSpdJRN"
      },
      "outputs": [],
      "source": [
        "rudof.read_data_str(\"\"\"\n",
        " PREFIX :    <http://www.example.org/>\n",
        "PREFIX rdf: <http://www.w3.org/1999/02/22-rdf-syntax-ns#>\n",
        "\n",
        ":employee38 :familyName \"Smith\" .\n",
        "<< :employee38 :jobTitle \"Assistant Designer\" >> :accordingTo :employee22 .\n",
        " \"\"\")"
      ]
    },
    {
      "cell_type": "code",
      "execution_count": 40,
      "metadata": {
        "colab": {
          "base_uri": "https://localhost:8080/",
          "height": 405
        },
        "id": "fAR310j1dZiq",
        "outputId": "23e41772-bc4c-49cb-b5ea-c3b8db151584"
      },
      "outputs": [
        {
          "output_type": "stream",
          "name": "stdout",
          "text": [
            "[{'filename': 'out.puml', 'gen_success': True}]\n"
          ]
        },
        {
          "output_type": "execute_result",
          "data": {
            "image/png": "[encoded data removed]",
            "text/plain": [
              "<IPython.core.display.Image object>"
            ]
          },
          "metadata": {},
          "execution_count": 40
        }
      ],
      "source": [
        "uml = rudof.data2plantuml_file('out.puml')\n",
        "!python -m plantuml out.puml\n",
        "Image(f\"out.png\")"
      ]
    },
    {
      "cell_type": "markdown",
      "metadata": {
        "id": "r_SUp610dn1P"
      },
      "source": [
        "### Annotation syntax"
      ]
    },
    {
      "cell_type": "code",
      "execution_count": 41,
      "metadata": {
        "id": "kCgn0u2CeApq"
      },
      "outputs": [],
      "source": [
        "# Clean the workspace\n",
        "!rm -f out.puml out.pnf\n",
        "rudof.reset_all()"
      ]
    },
    {
      "cell_type": "markdown",
      "metadata": {
        "id": "teWMPNSQdsPr"
      },
      "source": [
        "It is also possible to use the annotation syntax where a statement can be annotated with `{|` and `|}` as follows:\n"
      ]
    },
    {
      "cell_type": "code",
      "execution_count": 42,
      "metadata": {
        "id": "Trman2A3d9Py"
      },
      "outputs": [],
      "source": [
        "rudof.read_data_str(\"\"\"\n",
        " PREFIX : <http://example.com/>\n",
        " PREFIX xsd: <http://www.w3.org/2001/XMLSchema#>\n",
        " :alice :name \"Alice\" ~ :t {|\n",
        "   :statedBy :bob ;\n",
        "   :recorded \"2021-07-07\"^^xsd:date\n",
        " |} .\n",
        " \"\"\")"
      ]
    },
    {
      "cell_type": "code",
      "execution_count": 43,
      "metadata": {
        "colab": {
          "base_uri": "https://localhost:8080/",
          "height": 422
        },
        "id": "hnIFvo4PeUSz",
        "outputId": "feea13a0-fd63-47e0-c8f4-2f3df8218125"
      },
      "outputs": [
        {
          "output_type": "stream",
          "name": "stdout",
          "text": [
            "[{'filename': 'out.puml', 'gen_success': True}]\n"
          ]
        },
        {
          "output_type": "execute_result",
          "data": {
            "image/png": "[encoded data removed]",
            "text/plain": [
              "<IPython.core.display.Image object>"
            ]
          },
          "metadata": {},
          "execution_count": 43
        }
      ],
      "source": [
        "uml = rudof.data2plantuml_file('out.puml')\n",
        "!python -m plantuml out.puml\n",
        "Image(f\"out.png\")"
      ]
    },
    {
      "cell_type": "markdown",
      "metadata": {
        "id": "VySOS5cOemOr"
      },
      "source": [
        "Notice that in the visualization, we differentiate between a statement that is part of the graph which is represented by a box from a statement that is not part of the graph, which is represented by a cloud symbol."
      ]
    },
    {
      "cell_type": "markdown",
      "source": [
        "## Tim Berners-Lee's example"
      ],
      "metadata": {
        "id": "aQHM0BGKdq3K"
      }
    },
    {
      "cell_type": "code",
      "source": [
        "# @title\n",
        "rudof.reset_all()"
      ],
      "metadata": {
        "cellView": "form",
        "id": "0gozJ-rwd_by"
      },
      "execution_count": 44,
      "outputs": []
    },
    {
      "cell_type": "markdown",
      "source": [
        "Example declaring that Tim Berners-Lee worked for the CERN between 1984 and 1994 and in 1980, and that he received the Princess of Asturias Award in 2002 together with Vinton-Cerf."
      ],
      "metadata": {
        "id": "7r--tDGDduei"
      }
    },
    {
      "cell_type": "code",
      "source": [
        "rudof.read_data_str(\"\"\"\n",
        "prefix : <http://example.org/>\n",
        "prefix sh:     <http://www.w3.org/ns/shacl#>\n",
        "prefix xsd:    <http://www.w3.org/2001/XMLSchema#>\n",
        "prefix rdfs:   <http://www.w3.org/2000/01/rdf-schema#>\n",
        "\n",
        ":timbl rdfs:label \"Tim Berners Lee\" ;\n",
        "       :employer :CERN {| :start \"1984\" ;\n",
        "                          :end   \"1994\" |}\n",
        "                       {| :start \"1980\" ;\n",
        "                          :end   \"1980\" |} ;\n",
        "       :award :PA {| :time \"2002\" ;\n",
        "                     :togetherWith :vint |} .\n",
        ":vint  rdfs:label \"Vinton Cerf\" .\n",
        "\"\"\")"
      ],
      "metadata": {
        "id": "Ls3GXT2Gd92c"
      },
      "execution_count": 45,
      "outputs": []
    },
    {
      "cell_type": "markdown",
      "source": [
        "Visualization:"
      ],
      "metadata": {
        "id": "GJXD1hQNePJK"
      }
    },
    {
      "cell_type": "markdown",
      "source": [],
      "metadata": {
        "id": "eTuaKlXPeE_a"
      }
    },
    {
      "cell_type": "code",
      "source": [
        "uml = rudof.data2plantuml_file('out.puml')\n",
        "!python -m plantuml out.puml\n",
        "Image(f\"out.png\")"
      ],
      "metadata": {
        "id": "JycdhF3EeNDi",
        "outputId": "bb48183f-28bc-4330-ba63-459326bed5c5",
        "colab": {
          "base_uri": "https://localhost:8080/",
          "height": 405
        }
      },
      "execution_count": 46,
      "outputs": [
        {
          "output_type": "stream",
          "name": "stdout",
          "text": [
            "[{'filename': 'out.puml', 'gen_success': True}]\n"
          ]
        },
        {
          "output_type": "execute_result",
          "data": {
            "image/png": "[encoded data removed]",
            "text/plain": [
              "<IPython.core.display.Image object>"
            ]
          },
          "metadata": {},
          "execution_count": 46
        }
      ]
    },
    {
      "cell_type": "markdown",
      "source": [],
      "metadata": {
        "id": "BkEFh2VaeL3y"
      }
    }
  ],
  "metadata": {
    "colab": {
      "provenance": [],
      "toc_visible": true
    },
    "kernelspec": {
      "display_name": "Python 3",
      "name": "python3"
    },
    "language_info": {
      "name": "python"
    }
  },
  "nbformat": 4,
  "nbformat_minor": 0
}