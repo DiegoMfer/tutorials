{
 "cells": [
  {
   "cell_type": "markdown",
   "metadata": {
    "id": "sUm7kokski_K"
   },
   "source": [
    "# Introduction to DCTAP"
   ]
  },
  {
   "cell_type": "markdown",
   "metadata": {
    "id": "LMC6kMsUp3de"
   },
   "source": []
  },
  {
   "cell_type": "markdown",
   "metadata": {
    "id": "FlaljkGCkn_Q"
   },
   "source": [
    "This document contains a short introduction to DCTAP using [rudof](https://rudof-project.github.io/). \n"
   ]
  },
  {
   "cell_type": "code",
   "execution_count": 1,
   "metadata": {},
   "outputs": [
    {
     "name": "stdout",
     "output_type": "stream",
     "text": [
      "Requirement already satisfied: pyrudof in /home/labra/src/python/rudof/tutorials/.venv/lib/python3.12/site-packages (0.1.120)\r\n"
     ]
    }
   ],
   "source": [
    "!pip install pyrudof\n",
    "from pyrudof import Rudof, RudofConfig\n",
    "rudof = Rudof(RudofConfig())"
   ]
  },
  {
   "cell_type": "markdown",
   "metadata": {},
   "source": [
    "## What is DCTAP?"
   ]
  },
  {
   "cell_type": "markdown",
   "metadata": {
    "id": "W0j6rPmxJfPY"
   },
   "source": [
    "## Converting DCTAP to ShEx"
   ]
  },
  {
   "cell_type": "markdown",
   "metadata": {
    "id": "xFXK6AkjJnmy"
   },
   "source": [
    "Rudof can be used to convert [DCTAP](https://www.dublincore.org/specifications/dctap/) files to ShEx."
   ]
  },
  {
   "cell_type": "markdown",
   "metadata": {
    "id": "mFtcvAieQP7Q"
   },
   "source": [
    "DCTAP can be used to represent shapes using a tabular representation using CSV or an spreadsheet format like XLSX. As an example, the following CSV data:\n"
   ]
  },
  {
   "cell_type": "code",
   "execution_count": 2,
   "metadata": {
    "id": "2E6N1wzZQk23"
   },
   "outputs": [],
   "source": [
    "dctap_str = \"\"\"shapeId,propertyId,Mandatory,Repeatable,valueDatatype,valueShape\n",
    "Person,name,true,false,xsd:string,\n",
    ",birthdate,false,false,xsd:date,\n",
    ",worksFor,false,true,,Company\n",
    "Company,name,true,false,xsd:string,\n",
    ",employee,false,true,,Person\n",
    "\"\"\""
   ]
  },
  {
   "cell_type": "code",
   "execution_count": 3,
   "metadata": {
    "id": "k66wE-LPJyvR"
   },
   "outputs": [],
   "source": [
    "rudof.read_dctap_str(dctap_str)"
   ]
  },
  {
   "cell_type": "code",
   "execution_count": 4,
   "metadata": {
    "id": "1vx602BebWqH"
   },
   "outputs": [],
   "source": [
    "dctap = rudof.get_dctap()"
   ]
  },
  {
   "cell_type": "code",
   "execution_count": 5,
   "metadata": {
    "colab": {
     "base_uri": "https://localhost:8080/"
    },
    "id": "G-SnI2jfbnpX",
    "outputId": "520d1c60-9229-452b-f080-c877c4187d78"
   },
   "outputs": [
    {
     "name": "stdout",
     "output_type": "stream",
     "text": [
      "Shape(Person)  \n",
      " name xsd:string \n",
      " birthdate xsd:date ?\n",
      " worksFor @Company *\n",
      "Shape(Company)  \n",
      " name xsd:string \n",
      " employee @Person *\n",
      "\n"
     ]
    }
   ],
   "source": [
    "print(dctap)"
   ]
  },
  {
   "cell_type": "markdown",
   "metadata": {
    "id": "utlhcAiYFjdv"
   },
   "source": [
    "It is possible to convert the DCTAP obtained to ShEx"
   ]
  },
  {
   "cell_type": "code",
   "execution_count": 6,
   "metadata": {
    "id": "djzyJkAxFhIV"
   },
   "outputs": [],
   "source": [
    "rudof.dctap2shex()\n"
   ]
  },
  {
   "cell_type": "code",
   "execution_count": 7,
   "metadata": {
    "id": "2IwnrHIOFxGM"
   },
   "outputs": [],
   "source": [
    "from pyrudof import ShExFormatter"
   ]
  },
  {
   "cell_type": "code",
   "execution_count": 8,
   "metadata": {
    "id": "04gjCw2lFoak"
   },
   "outputs": [],
   "source": [
    "shex = rudof.get_shex()\n",
    "\n",
    "result = rudof.serialize_shex(shex, ShExFormatter())\n"
   ]
  },
  {
   "cell_type": "code",
   "execution_count": 9,
   "metadata": {
    "colab": {
     "base_uri": "https://localhost:8080/"
    },
    "id": "KZBeAbztGCSh",
    "outputId": "b1146e92-f6af-456b-89c0-bce182a797a1"
   },
   "outputs": [
    {
     "name": "stdout",
     "output_type": "stream",
     "text": [
      "\u001b[94mprefix\u001b[0m rdf: <http://www.w3.org/1999/02/22-rdf-syntax-ns#>\n",
      "\u001b[94mprefix\u001b[0m xsd: <http://www.w3.org/2001/XMLSchema#>\n",
      "\u001b[94mprefix\u001b[0m : <http://example.org/>\n",
      "\u001b[94mprefix\u001b[0m dc: <http://purl.org/dc/elements/1.1/>\n",
      "\u001b[94mprefix\u001b[0m rdfs: <http://www.w3.org/2000/01/rdf-schema#>\n",
      "\u001b[94mprefix\u001b[0m sh: <http://www.w3.org/ns/shacl#>\n",
      "\u001b[34m\u001b[0m\u001b[92m:\u001b[0m\u001b[30mPerson\u001b[0m {\n",
      "    \u001b[34m\u001b[0m\u001b[92m:\u001b[0m\u001b[30mname\u001b[0m \u001b[34mxsd\u001b[0m\u001b[92m:\u001b[0m\u001b[30mstring\u001b[0m;\n",
      "    \u001b[34m\u001b[0m\u001b[92m:\u001b[0m\u001b[30mbirthdate\u001b[0m \u001b[34mxsd\u001b[0m\u001b[92m:\u001b[0m\u001b[30mdate\u001b[0m ?;\n",
      "    \u001b[34m\u001b[0m\u001b[92m:\u001b[0m\u001b[30mworksFor\u001b[0m @\u001b[34m\u001b[0m\u001b[92m:\u001b[0m\u001b[30mCompany\u001b[0m *\n",
      "}\n",
      "\u001b[34m\u001b[0m\u001b[92m:\u001b[0m\u001b[30mCompany\u001b[0m {\n",
      "    \u001b[34m\u001b[0m\u001b[92m:\u001b[0m\u001b[30mname\u001b[0m \u001b[34mxsd\u001b[0m\u001b[92m:\u001b[0m\u001b[30mstring\u001b[0m;\n",
      "    \u001b[34m\u001b[0m\u001b[92m:\u001b[0m\u001b[30memployee\u001b[0m @\u001b[34m\u001b[0m\u001b[92m:\u001b[0m\u001b[30mPerson\u001b[0m *\n",
      "}\n"
     ]
    }
   ],
   "source": [
    "print(result)"
   ]
  }
 ],
 "metadata": {
  "colab": {
   "provenance": [],
   "toc_visible": true
  },
  "kernelspec": {
   "display_name": "Python 3",
   "name": "python3"
  },
  "language_info": {
   "codemirror_mode": {
    "name": "ipython",
    "version": 3
   },
   "file_extension": ".py",
   "mimetype": "text/x-python",
   "name": "python",
   "nbconvert_exporter": "python",
   "pygments_lexer": "ipython3",
   "version": "3.12.3"
  }
 },
 "nbformat": 4,
 "nbformat_minor": 0
}