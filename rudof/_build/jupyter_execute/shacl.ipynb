{
 "cells": [
  {
   "cell_type": "markdown",
   "metadata": {
    "id": "sUm7kokski_K"
   },
   "source": [
    "# SHACL"
   ]
  },
  {
   "cell_type": "markdown",
   "metadata": {
    "id": "LMC6kMsUp3de"
   },
   "source": []
  },
  {
   "cell_type": "markdown",
   "metadata": {},
   "source": [
    "[![Open In Colab](https://colab.research.google.com/assets/colab-badge.svg)](\n",
    "https://colab.research.google.com/github/<yourusername>/<yourrepo>/blob/main/book/notebooks/example.ipynb)"
   ]
  },
  {
   "cell_type": "markdown",
   "metadata": {
    "id": "FlaljkGCkn_Q"
   },
   "source": [
    "This document contains a short introduction to [RDF](https://www.w3.org/TR/rdf11-primer/) using [rudof](https://rudof-project.github.io/). \n"
   ]
  },
  {
   "cell_type": "markdown",
   "metadata": {
    "id": "whZHWrGG6Y8O"
   },
   "source": [
    "## Install and configure rudof"
   ]
  },
  {
   "cell_type": "markdown",
   "metadata": {
    "id": "YpF48mZrjqwo"
   },
   "source": [
    "The library is available as `pyrudof`."
   ]
  },
  {
   "cell_type": "code",
   "execution_count": 1,
   "metadata": {
    "colab": {
     "base_uri": "https://localhost:8080/"
    },
    "id": "voGWk2uO6gcP",
    "outputId": "84b241ce-5369-408e-8b6b-5b80c33cc04d"
   },
   "outputs": [
    {
     "name": "stdout",
     "output_type": "stream",
     "text": [
      "Requirement already satisfied: pyrudof in /home/labra/src/python/rudof/tutorials/.venv/lib/python3.12/site-packages (0.1.120)\r\n"
     ]
    }
   ],
   "source": [
    "!pip install pyrudof"
   ]
  },
  {
   "cell_type": "markdown",
   "metadata": {
    "id": "FzsA78qu-xXP"
   },
   "source": [
    "The main entry point if a class called `Rudof` through which most of the functionality is provided."
   ]
  },
  {
   "cell_type": "code",
   "execution_count": 2,
   "metadata": {
    "id": "I3jvDAPBJ3OQ"
   },
   "outputs": [],
   "source": [
    "from pyrudof import Rudof, RudofConfig"
   ]
  },
  {
   "cell_type": "markdown",
   "metadata": {
    "id": "0Io7V7y9_G_P"
   },
   "source": [
    "In order to initialize that class, it is possible to pass a RudofConfig instance which contains configuration parameters for customization."
   ]
  },
  {
   "cell_type": "code",
   "execution_count": 3,
   "metadata": {
    "id": "OAV_KSrH6qn-"
   },
   "outputs": [],
   "source": [
    "rudof = Rudof(RudofConfig())"
   ]
  },
  {
   "cell_type": "markdown",
   "metadata": {
    "id": "RdCph-Et7PwG"
   },
   "source": [
    "## Validate using SHACL"
   ]
  },
  {
   "cell_type": "code",
   "execution_count": 4,
   "metadata": {
    "cellView": "form",
    "id": "3ridiHLC_eS-"
   },
   "outputs": [],
   "source": [
    "# @title\n",
    "rudof.reset_all()"
   ]
  },
  {
   "cell_type": "markdown",
   "metadata": {
    "id": "jr6gkZuQ_WaO"
   },
   "source": [
    "Let's read some RDF data."
   ]
  },
  {
   "cell_type": "code",
   "execution_count": 5,
   "metadata": {
    "id": "Mql8MdI06vj3"
   },
   "outputs": [],
   "source": [
    "rudof.read_data_str(\"\"\"\n",
    "prefix : <http://example.org/>\n",
    "prefix sh:     <http://www.w3.org/ns/shacl#>\n",
    "prefix xsd:    <http://www.w3.org/2001/XMLSchema#>\n",
    "\n",
    ":Person a sh:NodeShape;\n",
    "   sh:targetNode :ok, :ko ;\n",
    "   sh:property [\n",
    "    sh:path     :name ;\n",
    "    sh:minCount 1;\n",
    "    sh:maxCount 1;\n",
    "    sh:datatype xsd:string ;\n",
    "  ] .\n",
    "\"\"\")"
   ]
  },
  {
   "cell_type": "code",
   "execution_count": 6,
   "metadata": {
    "id": "jZzlVjXp60H2"
   },
   "outputs": [],
   "source": [
    "rudof.read_data_str(\"\"\"\n",
    "prefix : <http://example.org/>\n",
    "\n",
    ":ok :name \"alice\" .\n",
    ":ko :name 1 .\n",
    "\"\"\")"
   ]
  },
  {
   "cell_type": "code",
   "execution_count": 7,
   "metadata": {
    "id": "1fidxZsb643H"
   },
   "outputs": [],
   "source": [
    "result = rudof.validate_shacl()"
   ]
  },
  {
   "cell_type": "code",
   "execution_count": 8,
   "metadata": {
    "colab": {
     "base_uri": "https://localhost:8080/"
    },
    "id": "L_gWERG86665",
    "outputId": "a22ccb8b-041e-4091-c50e-a5f69e1ba310"
   },
   "outputs": [
    {
     "name": "stdout",
     "output_type": "stream",
     "text": [
      "\u001b[31m1 errors found\u001b[0m\n",
      "\u001b[31msh:Violation\u001b[0m node: :ko sh:datatype\n",
      "Datatype constraint not satisfied. Expected datatype: http://www.w3.org/2001/XMLSchema#string:name,_:d5f6c1791a8aa4c6b13beb5e1d6074c31\n",
      "\n"
     ]
    }
   ],
   "source": [
    "print(result.show())"
   ]
  }
 ],
 "metadata": {
  "colab": {
   "provenance": [],
   "toc_visible": true
  },
  "kernelspec": {
   "display_name": "Python 3",
   "name": "python3"
  },
  "language_info": {
   "codemirror_mode": {
    "name": "ipython",
    "version": 3
   },
   "file_extension": ".py",
   "mimetype": "text/x-python",
   "name": "python",
   "nbconvert_exporter": "python",
   "pygments_lexer": "ipython3",
   "version": "3.12.3"
  }
 },
 "nbformat": 4,
 "nbformat_minor": 0
}