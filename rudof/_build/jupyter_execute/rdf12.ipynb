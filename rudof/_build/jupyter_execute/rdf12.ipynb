{
 "cells": [
  {
   "cell_type": "markdown",
   "metadata": {
    "id": "sUm7kokski_K"
   },
   "source": [
    "# RDF 1.2"
   ]
  },
  {
   "cell_type": "markdown",
   "metadata": {
    "id": "LMC6kMsUp3de"
   },
   "source": []
  },
  {
   "cell_type": "markdown",
   "metadata": {},
   "source": [
    "[![Open In Colab](https://colab.research.google.com/assets/colab-badge.svg)](\n",
    "https://colab.research.google.com/github/<yourusername>/<yourrepo>/blob/main/book/notebooks/example.ipynb)"
   ]
  },
  {
   "cell_type": "markdown",
   "metadata": {
    "id": "FlaljkGCkn_Q"
   },
   "source": [
    "This document contains a short introduction to [RDF](https://www.w3.org/TR/rdf11-primer/) using [rudof](https://rudof-project.github.io/). \n"
   ]
  },
  {
   "cell_type": "markdown",
   "metadata": {
    "id": "whZHWrGG6Y8O"
   },
   "source": [
    "## Install and configure rudof"
   ]
  },
  {
   "cell_type": "markdown",
   "metadata": {
    "id": "YpF48mZrjqwo"
   },
   "source": [
    "The library is available as `pyrudof`."
   ]
  },
  {
   "cell_type": "code",
   "execution_count": 1,
   "metadata": {
    "colab": {
     "base_uri": "https://localhost:8080/"
    },
    "id": "voGWk2uO6gcP",
    "outputId": "84b241ce-5369-408e-8b6b-5b80c33cc04d"
   },
   "outputs": [
    {
     "name": "stdout",
     "output_type": "stream",
     "text": [
      "Requirement already satisfied: pyrudof in /home/labra/src/python/rudof/tutorials/.venv/lib/python3.12/site-packages (0.1.120)\r\n"
     ]
    }
   ],
   "source": [
    "!pip install pyrudof"
   ]
  },
  {
   "cell_type": "markdown",
   "metadata": {
    "id": "FzsA78qu-xXP"
   },
   "source": [
    "The main entry point if a class called `Rudof` through which most of the functionality is provided."
   ]
  },
  {
   "cell_type": "code",
   "execution_count": 2,
   "metadata": {
    "id": "I3jvDAPBJ3OQ"
   },
   "outputs": [],
   "source": [
    "from pyrudof import Rudof, RudofConfig"
   ]
  },
  {
   "cell_type": "markdown",
   "metadata": {
    "id": "0Io7V7y9_G_P"
   },
   "source": [
    "In order to initialize that class, it is possible to pass a RudofConfig instance which contains configuration parameters for customization."
   ]
  },
  {
   "cell_type": "code",
   "execution_count": 3,
   "metadata": {
    "id": "OAV_KSrH6qn-"
   },
   "outputs": [],
   "source": [
    "rudof = Rudof(RudofConfig())"
   ]
  },
  {
   "cell_type": "code",
   "execution_count": 4,
   "metadata": {},
   "outputs": [
    {
     "name": "stdout",
     "output_type": "stream",
     "text": [
      "Requirement already satisfied: ipython in /home/labra/src/python/rudof/tutorials/.venv/lib/python3.12/site-packages (9.6.0)\r\n",
      "Requirement already satisfied: decorator in /home/labra/src/python/rudof/tutorials/.venv/lib/python3.12/site-packages (from ipython) (5.2.1)\r\n",
      "Requirement already satisfied: ipython-pygments-lexers in /home/labra/src/python/rudof/tutorials/.venv/lib/python3.12/site-packages (from ipython) (1.1.1)\r\n",
      "Requirement already satisfied: jedi>=0.16 in /home/labra/src/python/rudof/tutorials/.venv/lib/python3.12/site-packages (from ipython) (0.19.2)\r\n",
      "Requirement already satisfied: matplotlib-inline in /home/labra/src/python/rudof/tutorials/.venv/lib/python3.12/site-packages (from ipython) (0.1.7)\r\n",
      "Requirement already satisfied: pexpect>4.3 in /home/labra/src/python/rudof/tutorials/.venv/lib/python3.12/site-packages (from ipython) (4.9.0)\r\n",
      "Requirement already satisfied: prompt_toolkit<3.1.0,>=3.0.41 in /home/labra/src/python/rudof/tutorials/.venv/lib/python3.12/site-packages (from ipython) (3.0.52)\r\n",
      "Requirement already satisfied: pygments>=2.4.0 in /home/labra/src/python/rudof/tutorials/.venv/lib/python3.12/site-packages (from ipython) (2.19.2)\r\n",
      "Requirement already satisfied: stack_data in /home/labra/src/python/rudof/tutorials/.venv/lib/python3.12/site-packages (from ipython) (0.6.3)\r\n",
      "Requirement already satisfied: traitlets>=5.13.0 in /home/labra/src/python/rudof/tutorials/.venv/lib/python3.12/site-packages (from ipython) (5.14.3)\r\n"
     ]
    },
    {
     "name": "stdout",
     "output_type": "stream",
     "text": [
      "Requirement already satisfied: parso<0.9.0,>=0.8.4 in /home/labra/src/python/rudof/tutorials/.venv/lib/python3.12/site-packages (from jedi>=0.16->ipython) (0.8.5)\r\n",
      "Requirement already satisfied: ptyprocess>=0.5 in /home/labra/src/python/rudof/tutorials/.venv/lib/python3.12/site-packages (from pexpect>4.3->ipython) (0.7.0)\r\n",
      "Requirement already satisfied: wcwidth in /home/labra/src/python/rudof/tutorials/.venv/lib/python3.12/site-packages (from prompt_toolkit<3.1.0,>=3.0.41->ipython) (0.2.14)\r\n",
      "Requirement already satisfied: executing>=1.2.0 in /home/labra/src/python/rudof/tutorials/.venv/lib/python3.12/site-packages (from stack_data->ipython) (2.2.1)\r\n",
      "Requirement already satisfied: asttokens>=2.1.0 in /home/labra/src/python/rudof/tutorials/.venv/lib/python3.12/site-packages (from stack_data->ipython) (3.0.0)\r\n",
      "Requirement already satisfied: pure-eval in /home/labra/src/python/rudof/tutorials/.venv/lib/python3.12/site-packages (from stack_data->ipython) (0.2.3)\r\n"
     ]
    }
   ],
   "source": [
    "! pip install ipython # If not already installed\n",
    "from IPython.display import Image # For displaying images"
   ]
  },
  {
   "cell_type": "markdown",
   "metadata": {
    "id": "yju-jjtPuNhO"
   },
   "source": [
    "## Support for RDF 1.2"
   ]
  },
  {
   "cell_type": "markdown",
   "metadata": {
    "id": "pAu8aiVgZ2m7"
   },
   "source": [
    "Reset previous state of `rudof` and remnove the temporary file `out.puml` if it exists."
   ]
  },
  {
   "cell_type": "code",
   "execution_count": 5,
   "metadata": {
    "id": "ihjNIGutGMUG"
   },
   "outputs": [],
   "source": [
    "rudof.reset_all()"
   ]
  },
  {
   "cell_type": "code",
   "execution_count": 6,
   "metadata": {
    "id": "fYMYBP9zvP9V"
   },
   "outputs": [],
   "source": [
    "!rm -f out.puml out.png"
   ]
  },
  {
   "cell_type": "markdown",
   "metadata": {
    "id": "XMMU1ERuuXBd"
   },
   "source": [
    "Rudof has added support for [RDF 1.2](https://www.w3.org/TR/rdf12-primer). It is possible, for example, to load some RDF 1.2 files and visualize them.\n"
   ]
  },
  {
   "cell_type": "markdown",
   "metadata": {
    "id": "gyP41zIRYGtr"
   },
   "source": [
    "RDF 1.2 introduces [triple terms](https://www.w3.org/TR/rdf12-primer/#section-triple-terms) which denote statements that can be the object of some triples.\n",
    "\n",
    "For example, we can state that `:bob` is interested in `:MonaLisa` since `4th October 1998` using the following code:"
   ]
  },
  {
   "cell_type": "code",
   "execution_count": 7,
   "metadata": {
    "id": "-nqLufg4upeV"
   },
   "outputs": [],
   "source": [
    "rudof.read_data_str(\"\"\"\n",
    " prefix : <http://example.org/>\n",
    " prefix rdf: <http://www.w3.org/1999/02/22-rdf-syntax-ns#>\n",
    " prefix xsd: <http://www.w3.org/2001/XMLSchema#>\n",
    "\n",
    " :aliceBelief a :Statement ;\n",
    "    rdf:reifies <<( :bob :knows :dave  )>> ;\n",
    "    :since 2025 ;\n",
    "    :accordingTo :dave  .\n",
    " \"\"\")\n"
   ]
  },
  {
   "cell_type": "code",
   "execution_count": 8,
   "metadata": {
    "id": "o96nBbWgvL-l"
   },
   "outputs": [
    {
     "name": "stdout",
     "output_type": "stream",
     "text": [
      "Visual graph: VisualRDFGraph with 11 nodes and 4 edges\n",
      "Node 6: Iri: :bob (http://example.org/bob)\n",
      "     count: UsageCount { as_predicate: 0, as_subject: 0, as_object: 0, as_predicate_in_triple: 0, as_subject_in_triple: 1, as_object_in_triple: 0 }\n",
      "Node 0: Iri: :aliceBelief (http://example.org/aliceBelief)\n",
      "     count: UsageCount { as_predicate: 0, as_subject: 4, as_object: 0, as_predicate_in_triple: 0, as_subject_in_triple: 0, as_object_in_triple: 0 }\n",
      "Node 10: Iri: :Statement (http://example.org/Statement)\n",
      "     count: UsageCount { as_predicate: 0, as_subject: 0, as_object: 1, as_predicate_in_triple: 0, as_subject_in_triple: 0, as_object_in_triple: 0 }\n",
      "Node 7: Predicate: :knows (<http://example.org/knows>)\n",
      "     count: UsageCount { as_predicate: 0, as_subject: 0, as_object: 0, as_predicate_in_triple: 1, as_subject_in_triple: 0, as_object_in_triple: 0 }\n",
      "Node 4: Literal: 2025\n",
      "     count: UsageCount { as_predicate: 0, as_subject: 0, as_object: 1, as_predicate_in_triple: 0, as_subject_in_triple"
     ]
    },
    {
     "name": "stdout",
     "output_type": "stream",
     "text": [
      ": 0, as_object_in_triple: 0 }\n",
      "Node 5: Reifies\n",
      "     count: UsageCount { as_predicate: 1, as_subject: 0, as_object: 0, as_predicate_in_triple: 0, as_subject_in_triple: 0, as_object_in_triple: 0 }\n",
      "Node 2: Iri: :dave (http://example.org/dave)\n",
      "     count: UsageCount { as_predicate: 0, as_subject: 0, as_object: 1, as_predicate_in_triple: 0, as_subject_in_triple: 0, as_object_in_triple: 1 }\n",
      "Node 9: Predicate: rdf:type (<http://www.w3.org/1999/02/22-rdf-syntax-ns#type>)\n",
      "     count: UsageCount { as_predicate: 1, as_subject: 0, as_object: 0, as_predicate_in_triple: 0, as_subject_in_triple: 0, as_object_in_triple: 0 }\n",
      "Node 1: Predicate: :accordingTo (<http://example.org/accordingTo>)\n",
      "     count: UsageCount { as_predicate: 1, as_subject: 0, as_object: 0, as_predicate_in_triple: 0, as_subject_in_triple: 0, as_object_in_triple: 0 }\n",
      "Node 8: NonAssertedTriple\n",
      "     count: UsageCount { as_predicate: 0, as_subject: 0, as_object: 1, as_predicate_in_triple: 0, as_subject_in_triple: 0, as_object_in_triple: 0 }\n",
      "Node 3: Predicate: :since (<http://example.org/since>)\n",
      "     count: UsageCount { as_predicate: 1, as_subject: 0, as_object: 0, as_predicate_in_triple: 0, as_subject_in_triple: 0, as_object_in_triple: 0 }\n",
      "Edge :since (http://example.org/since): 0 --> 4\n",
      "Edge reifies: 0 --> 8\n",
      "Edge rdf:type (http://www.w3.org/1999/02/22-rdf-syntax-ns#type): 0 --> 10\n",
      "Edge :accordingTo (http://example.org/accordingTo): 0 --> 2\n",
      "Starting conversion...\n",
      "Converting node Iri: :bob (http://example.org/bob) with node id 6 to plantuml\n",
      "Converting node Iri: :aliceBelief (http://example.org/aliceBelief) with node id 0 to plantuml\n",
      "Converting node Iri: :Statement (http://example.org/Statement) with node id 10 to plantuml\n",
      "Converting node Predicate: :knows (<http://example.org/knows>) with node id 7 to plantuml\n",
      "Converting node Literal: 2025 with node id 4 to plantuml\n",
      "Converting node Reifies with node id 5 to plantuml\n",
      "Converting node Iri: :dave (http://example.org/dave) with node id 2 to plantuml\n",
      "Converting node Predicate: rdf:type (<http://www.w3.org/1999/02/22-rdf-syntax-ns#type>) with node id 9 to plantuml\n",
      "Converting node Predicate: :accordingTo (<http://example.org/accordingTo>) with node id 1 to plantuml\n",
      "Converting node NonAssertedTriple with node id 8 to plantuml\n",
      "Converting node Predicate: :since (<http://example.org/since>) with node id 3 to plantuml\n"
     ]
    }
   ],
   "source": [
    "uml = rudof.data2plantuml_file('out.puml')"
   ]
  },
  {
   "cell_type": "markdown",
   "metadata": {
    "id": "jX9NeZAkafOq"
   },
   "source": [
    "Convert the `puml` to an image."
   ]
  },
  {
   "cell_type": "code",
   "execution_count": 46,
   "metadata": {
    "id": "zWmIFbFYwO_G"
   },
   "outputs": [],
   "source": []
  },
  {
   "cell_type": "code",
   "execution_count": 9,
   "metadata": {
    "colab": {
     "base_uri": "https://localhost:8080/"
    },
    "id": "znszHWGuvlvF",
    "outputId": "00b6a098-27af-45f5-e857-40ea49722c26"
   },
   "outputs": [
    {
     "name": "stdout",
     "output_type": "stream",
     "text": [
      "[{'filename': 'out.puml', 'gen_success': True}]\r\n"
     ]
    }
   ],
   "source": [
    "!python -m plantuml out.puml"
   ]
  },
  {
   "cell_type": "code",
   "execution_count": 10,
   "metadata": {
    "colab": {
     "base_uri": "https://localhost:8080/",
     "height": 291
    },
    "id": "PcTrKaabwZvW",
    "outputId": "01a60f01-270e-48eb-98d6-8a493b65895e"
   },
   "outputs": [
    {
     "data": {
      "image/png": "[encoded data removed]",
      "text/plain": [
       "<IPython.core.display.Image object>"
      ]
     },
     "execution_count": 10,
     "metadata": {},
     "output_type": "execute_result"
    }
   ],
   "source": [
    "Image(f\"out.png\")"
   ]
  },
  {
   "cell_type": "markdown",
   "metadata": {
    "id": "erXpY9MSbPNT"
   },
   "source": [
    "In [RDF 1.2 turtle syntax](https://www.w3.org/TR/rdf12-turtle/), there are several possibilities to define triple terms.\n",
    "\n"
   ]
  },
  {
   "cell_type": "markdown",
   "metadata": {
    "id": "2nbEG7h0b1N6"
   },
   "source": [
    "### Declaring triple terms directly"
   ]
  },
  {
   "cell_type": "code",
   "execution_count": 11,
   "metadata": {
    "id": "SKn-6FBLcAOi"
   },
   "outputs": [],
   "source": [
    "!rm -f out.puml out.pnf\n",
    "rudof.reset_all()"
   ]
  },
  {
   "cell_type": "markdown",
   "metadata": {
    "id": "KRVXarFNb3R2"
   },
   "source": [
    "A triple term can be declared enclosing it between `<<(` and `)>>`. For example:"
   ]
  },
  {
   "cell_type": "code",
   "execution_count": 12,
   "metadata": {
    "id": "YFNlU537b0yb"
   },
   "outputs": [],
   "source": [
    "rudof.read_data_str(\"\"\"\n",
    "PREFIX :    <http://www.example.org/>\n",
    "PREFIX rdf: <http://www.w3.org/1999/02/22-rdf-syntax-ns#>\n",
    "\n",
    "_:e38  :familyName                     \"Smith\" .\n",
    "_:anno rdf:reifies <<( _:e38 :jobTitle \"Designer\" )>> .\n",
    "_:anno :accordingTo                     :eric .\n",
    " \"\"\")"
   ]
  },
  {
   "cell_type": "code",
   "execution_count": 13,
   "metadata": {
    "id": "a-LI3oaOcTJC"
   },
   "outputs": [
    {
     "name": "stdout",
     "output_type": "stream",
     "text": [
      "Visual graph: VisualRDFGraph with 10 nodes and 3 edges\n",
      "Node 2: Literal: \"Smith\"\n",
      "     count: UsageCount { as_predicate: 0, as_subject: 0, as_object: 1, as_predicate_in_triple: 0, as_subject_in_triple: 0, as_object_in_triple: 0 }\n",
      "Node 1: Predicate: :familyName (<http://www.example.org/familyName>)\n",
      "     count: UsageCount { as_predicate: 1, as_subject: 0, as_object: 0, as_predicate_in_triple: 0, as_subject_in_triple: 0, as_object_in_triple: 0 }\n",
      "Node 7: NonAssertedTriple\n",
      "     count: UsageCount { as_predicate: 0, as_subject: 0, as_object: 1, as_predicate_in_triple: 0, as_subject_in_triple: 0, as_object_in_triple: 0 }\n",
      "Node 8: Predicate: :accordingTo (<http://www.example.org/accordingTo>)\n",
      "     count: UsageCount { as_predicate: 1, as_subject: 0, as_object: 0, as_predicate_in_triple: 0, as_subject_in_triple: 0, as_object_in_triple: 0 }\n",
      "Node 5: Predicate: :jobTitle (<http://www.example.org/jobTitle>)\n",
      "     count: UsageCount { as_predicate: 0, as_subject: 0, as_object: 0, as_predicate_in_triple: 1, as_subject_in_triple: 0, as_object_in_triple: 0 }\n",
      "Node 9: Iri: :eric (http://www.example.org/eric)\n",
      "     count: UsageCount { as_predicate: 0, as_subject: 0, as_object: 1, as_predicate_in_triple: 0, as_subject_in_triple: 0, as_object_in_triple: 0 }\n",
      "Node 6: Literal: \"Designer\"\n",
      "     count: UsageCount { as_predicate: 0, as_subject: 0, as_object: 0, as_predicate_in_triple: 0, as_subject_in_triple: 0, as_object_in_triple: 1 }\n",
      "Node 3: BlankNode: anno\n",
      "     count: UsageCount { as_predicate: 0, as_subject: 2, as_object: 0, as_predicate_in_triple: 0, as_subject_in_triple: 0, as_object_in_triple: 0 }\n",
      "Node 4: Reifies\n",
      "     count: UsageCount { as_predicate: 1, as_subject: 0, as_object: 0, as_predicate_in_triple: 0, as_subject_in_triple: 0, as_object_in_triple: 0 }\n",
      "Node 0: BlankNode: e38\n",
      "     count: UsageCount { as_predicate: 0, as_subject: 1, as_object: 0, as_predicate_in_triple: 0, as_subject_in_triple: 1, as_object_in_triple: 0 }\n",
      "Edge :familyName (http://www.example.org/familyName): 0 --> 2\n",
      "Edge reifies: 3 --> 7\n",
      "Edge :accordingTo (http://www.example.org/accordingTo): 3 --> 9\n",
      "Starting conversion...\n",
      "Converting node Literal: \"Smith\" with node id 2 to plantuml\n",
      "Converting node Predicate: :familyName (<http://www.example.org/familyName>) with node id 1 to plantuml\n",
      "Converting node NonAssertedTriple with node id 7 to plantuml\n",
      "Converting node Predicate: :accordingTo (<http://www.example.org/accordingTo>) with node id 8 to plantuml\n",
      "Converting node Predicate: :jobTitle (<http://www.example.org/jobTitle>) with node id 5 to plantuml\n",
      "Converting node Iri: :eric (http://www.example.org/eric) with node id 9 to plantuml\n",
      "Converting node Literal: \"Designer\" with node id 6 to plantuml\n",
      "Converting node BlankNode: anno with node id 3 to plantuml\n",
      "Converting node Reifies with node id 4 to plantuml\n",
      "Converting node BlankNode: e38 with node id 0 to plantuml\n"
     ]
    }
   ],
   "source": [
    "uml = rudof.data2plantuml_file('out.puml')"
   ]
  },
  {
   "cell_type": "code",
   "execution_count": 14,
   "metadata": {
    "colab": {
     "base_uri": "https://localhost:8080/"
    },
    "id": "ZhkGPQyscYwz",
    "outputId": "a0633504-fec6-49ca-b3c0-99a73cf32240"
   },
   "outputs": [
    {
     "name": "stdout",
     "output_type": "stream",
     "text": [
      "[{'filename': 'out.puml', 'gen_success': True}]\r\n"
     ]
    }
   ],
   "source": [
    "!python -m plantuml out.puml"
   ]
  },
  {
   "cell_type": "code",
   "execution_count": 15,
   "metadata": {
    "colab": {
     "base_uri": "https://localhost:8080/",
     "height": 388
    },
    "id": "01xaro82cciN",
    "outputId": "534b95e8-4b00-4f6d-ecc6-e70eef1b011b"
   },
   "outputs": [
    {
     "data": {
      "image/png": "[encoded data removed]",
      "text/plain": [
       "<IPython.core.display.Image object>"
      ]
     },
     "execution_count": 15,
     "metadata": {},
     "output_type": "execute_result"
    }
   ],
   "source": [
    "Image(f\"out.png\")"
   ]
  },
  {
   "cell_type": "markdown",
   "metadata": {
    "id": "iWMQVoWgchXL"
   },
   "source": [
    "### Reifying triples"
   ]
  },
  {
   "cell_type": "code",
   "execution_count": 16,
   "metadata": {
    "id": "rW4pPtohdQwc"
   },
   "outputs": [],
   "source": [
    "!rm -f out.puml out.pnf\n",
    "rudof.reset_all()"
   ]
  },
  {
   "cell_type": "markdown",
   "metadata": {
    "id": "OIAm5jIRck0C"
   },
   "source": [
    "Enclosing a triple between `<<` and `>>`, is a syntactic sugar that declares that there is a reifier whose object is that triple and that can be used to add more declarations about that reifier.\n",
    "\n",
    "For example:"
   ]
  },
  {
   "cell_type": "code",
   "execution_count": 17,
   "metadata": {
    "id": "eVatupSpdJRN"
   },
   "outputs": [],
   "source": [
    "rudof.read_data_str(\"\"\"\n",
    " PREFIX :    <http://www.example.org/>\n",
    "PREFIX rdf: <http://www.w3.org/1999/02/22-rdf-syntax-ns#>\n",
    "\n",
    ":employee38 :familyName \"Smith\" .\n",
    "<< :employee38 :jobTitle \"Assistant Designer\" >> :accordingTo :employee22 .\n",
    " \"\"\")"
   ]
  },
  {
   "cell_type": "code",
   "execution_count": 18,
   "metadata": {
    "colab": {
     "base_uri": "https://localhost:8080/",
     "height": 405
    },
    "id": "fAR310j1dZiq",
    "outputId": "16a733d3-75f8-426f-dd23-130551e9d4d2"
   },
   "outputs": [
    {
     "name": "stdout",
     "output_type": "stream",
     "text": [
      "Visual graph: VisualRDFGraph with 10 nodes and 3 edges\n",
      "Node 4: Predicate: :accordingTo (<http://www.example.org/accordingTo>)\n",
      "     count: UsageCount { as_predicate: 1, as_subject: 0, as_object: 0, as_predicate_in_triple: 0, as_subject_in_triple: 0, as_object_in_triple: 0 }\n",
      "Node 3: BlankNode: d01ec065a4c8669dbee3d5dbc6a9fa9e\n",
      "     count: UsageCount { as_predicate: 0, as_subject: 2, as_object: 0, as_predicate_in_triple: 0, as_subject_in_triple: 0, as_object_in_triple: 0 }\n",
      "Node 8: Literal: \"Assistant Designer\"\n",
      "     count: UsageCount { as_predicate: 0, as_subject: 0, as_object: 0, as_predicate_in_triple: 0, as_subject_in_triple: 0, as_object_in_triple: 1 }\n",
      "Node 0: Iri: :employee38 (http://www.example.org/employee38)\n",
      "     count: UsageCount { as_predicate: 0, as_subject: 1, as_object: 0, as_predicate_in_triple: 0, as_subject_in_triple: 1, as_object_in_triple: 0 }\n",
      "Node 9: NonAssertedTriple\n",
      "     count: UsageCount { as_predicate: 0, as_subject: 0, as_object: 1, as_predicate_in_triple: 0, as_subject_in_triple: 0, as_object_in_triple: 0 }\n",
      "Node 7: Predicate: :jobTitle (<http://www.example.org/jobTitle>)\n",
      "     count: UsageCount { as_predicate: 0, as_subject: 0, as_object: 0, as_predicate_in_triple: 1, as_subject_in_triple: 0, as_object_in_triple: 0 }\n",
      "Node 5: Iri: :employee22 (http://www.example.org/employee22)\n",
      "     count: UsageCount { as_predicate: 0, as_subject: 0, as_object: 1, as_predicate_in_triple: 0, as_subject_in_triple: 0, as_object_in_triple: 0 }\n",
      "Node 1: Predicate: :familyName (<http://www.example.org/familyName>)\n",
      "     count: UsageCount { as_predicate: 1, as_subject: 0, as_object: 0, as_predicate_in_triple: 0, as_subject_in_triple: 0, as_object_in_triple: 0 }\n",
      "Node 6: Reifies\n",
      "     count: UsageCount { as_predicate: 1, as_subject: 0, as_object: 0, as_predicate_in_triple: 0, as_subject_in_triple: 0, as_object_in_triple: 0 }\n",
      "Node 2: Literal: \"Smith\"\n",
      "     count: UsageCount { as_predicate: 0, as_subject: 0, as_object: 1, as_predicate_in_triple: 0, as_subject_in_triple: 0, as_object_in_triple: 0 }\n",
      "Edge reifies: 3 --> 9\n",
      "Edge :accordingTo (http://www.example.org/accordingTo): 3 --> 5\n",
      "Edge :familyName (http://www.example.org/familyName): 0 --> 2\n",
      "Starting conversion...\n",
      "Converting node Predicate: :accordingTo (<http://www.example.org/accordingTo>) with node id 4 to plantuml\n",
      "Converting node BlankNode: d01ec065a4c8669dbee3d5dbc6a9fa9e with node id 3 to plantuml\n",
      "Converting node Literal: \"Assistant Designer\" with node id 8 to plantuml\n",
      "Converting node Iri: :employee38 (http://www.example.org/employee38) with node id 0 to plantuml\n",
      "Converting node NonAssertedTriple with node id 9 to plantuml\n",
      "Converting node Predicate: :jobTitle (<http://www.example.org/jobTitle>) with node id 7 to plantuml\n",
      "Converting node Iri: :employee22 (http://www.example.org/employee22) with node id 5 to plantuml\n",
      "Converting node Predicate: :familyName (<http://www.example.org/familyName>) with node id 1 to plantuml\n",
      "Converting node Reifies with node id 6 to plantuml\n",
      "Converting node Literal: \"Smith\" with node id 2 to plantuml\n"
     ]
    },
    {
     "name": "stdout",
     "output_type": "stream",
     "text": [
      "[{'filename': 'out.puml', 'gen_success': True}]\r\n"
     ]
    },
    {
     "data": {
      "image/png": "[encoded data removed]",
      "text/plain": [
       "<IPython.core.display.Image object>"
      ]
     },
     "execution_count": 18,
     "metadata": {},
     "output_type": "execute_result"
    }
   ],
   "source": [
    "uml = rudof.data2plantuml_file('out.puml')\n",
    "!python -m plantuml out.puml\n",
    "Image(f\"out.png\")"
   ]
  },
  {
   "cell_type": "markdown",
   "metadata": {
    "id": "r_SUp610dn1P"
   },
   "source": [
    "### Annotation syntax"
   ]
  },
  {
   "cell_type": "code",
   "execution_count": 19,
   "metadata": {
    "id": "kCgn0u2CeApq"
   },
   "outputs": [],
   "source": [
    "# Clean the workspace\n",
    "!rm -f out.puml out.pnf\n",
    "rudof.reset_all()"
   ]
  },
  {
   "cell_type": "markdown",
   "metadata": {
    "id": "teWMPNSQdsPr"
   },
   "source": [
    "It is also possible to use the annotation syntax where a statement can be annotated with `{|` and `|}` as follows:\n"
   ]
  },
  {
   "cell_type": "code",
   "execution_count": 20,
   "metadata": {
    "id": "Trman2A3d9Py"
   },
   "outputs": [],
   "source": [
    "rudof.read_data_str(\"\"\"\n",
    " PREFIX : <http://example.com/>\n",
    " PREFIX xsd: <http://www.w3.org/2001/XMLSchema#>\n",
    " :alice :name \"Alice\" ~ :t {|\n",
    "   :statedBy :bob ;\n",
    "   :recorded \"2021-07-07\"^^xsd:date\n",
    " |} .\n",
    " \"\"\")"
   ]
  },
  {
   "cell_type": "code",
   "execution_count": 21,
   "metadata": {
    "colab": {
     "base_uri": "https://localhost:8080/",
     "height": 422
    },
    "id": "hnIFvo4PeUSz",
    "outputId": "e56a81cf-b11b-4523-ff61-8b77c170aa9c"
   },
   "outputs": [
    {
     "name": "stdout",
     "output_type": "stream",
     "text": [
      "Visual graph: VisualRDFGraph with 10 nodes and 4 edges\n",
      "Node 5: Iri: :bob (http://example.com/bob)\n",
      "     count: UsageCount { as_predicate: 0, as_subject: 0, as_object: 1, as_predicate_in_triple: 0, as_subject_in_triple: 0, as_object_in_triple: 0 }\n",
      "Node 6: Predicate: :recorded (<http://example.com/recorded>)\n",
      "     count: UsageCount { as_predicate: 1, as_subject: 0, as_object: 0, as_predicate_in_triple: 0, as_subject_in_triple: 0, as_object_in_triple: 0 }\n",
      "Node 3: Iri: :t (http://example.com/t)\n",
      "     count: UsageCount { as_predicate: 0, as_subject: 3, as_object: 0, as_predicate_in_triple: 0, as_subject_in_triple: 0, as_object_in_triple: 0 }\n",
      "Node 4: Predicate: :statedBy (<http://example.com/statedBy>)\n",
      "     count: UsageCount { as_predicate: 1, as_subject: 0, as_object: 0, as_predicate_in_triple: 0, as_subject_in_triple: 0, as_object_in_triple: 0 }\n",
      "Node 0: Iri: :alice (http://example.com/alice)\n",
      "     count: UsageCount { as_predicate: 0, as_subject: 1, as_object: 0, as_predicate_in_triple: 0, as_subject_in_triple: 1, as_object_in_triple: 0 }\n",
      "Node 8: Reifies\n",
      "     count: UsageCount { as_predicate: 1, as_subject: 0, as_object: 0, as_predicate_in_triple: 0, as_subject_in_triple: 0, as_object_in_triple: 0 }\n",
      "Node 1: Predicate: :name (<http://example.com/name>)\n",
      "     count: UsageCount { as_predicate: 1, as_subject: 0, as_object: 0, as_predicate_in_triple: 1, as_subject_in_triple: 0, as_object_in_triple: 0 }\n",
      "Node 9: AssertedTriple\n",
      "     count: UsageCount { as_predicate: 0, as_subject: 0, as_object: 1, as_predicate_in_triple: 0, as_subject_in_triple: 0, as_object_in_triple: 0 }\n",
      "Node 7: Literal: \"2021-07-07\"^^xsd:date\n",
      "     count: UsageCount { as_predicate: 0, as_subject: 0, as_object: 1, as_predicate_in_triple: 0, as_subject_in_triple: 0, as_object_in_triple: 0 }\n",
      "Node 2: Literal: \"Alice\"\n",
      "     count: UsageCount { as_predicate: 0, as_subject: 0, as_object: 1, as_predicate_in_triple: 0, as_subject_in_triple: 0, as_object_in_triple: 1 }\n",
      "Edge :recorded (http://example.com/recorded): 3 --> 7\n",
      "Edge :name (http://example.com/name): 0 --> 2\n",
      "Edge reifies: 3 --> 9\n",
      "Edge :statedBy (http://example.com/statedBy): 3 --> 5\n",
      "Starting conversion...\n",
      "Converting node Iri: :bob (http://example.com/bob) with node id 5 to plantuml\n",
      "Converting node Predicate: :recorded (<http://example.com/recorded>) with node id 6 to plantuml\n",
      "Converting node Iri: :t (http://example.com/t) with node id 3 to plantuml\n",
      "Converting node Predicate: :statedBy (<http://example.com/statedBy>) with node id 4 to plantuml\n",
      "Converting node Iri: :alice (http://example.com/alice) with node id 0 to plantuml\n",
      "Converting node Reifies with node id 8 to plantuml\n",
      "Converting node Predicate: :name (<http://example.com/name>) with node id 1 to plantuml\n",
      "Converting node AssertedTriple with node id 9 to plantuml\n",
      "Converting node Literal: \"2021-07-07\"^^xsd:date with node id 7 to plantuml\n",
      "Converting node Literal: \"Alice\" with node id 2 to plantuml\n"
     ]
    },
    {
     "name": "stdout",
     "output_type": "stream",
     "text": [
      "[{'filename': 'out.puml', 'gen_success': True}]\r\n"
     ]
    },
    {
     "data": {
      "image/png": "[encoded data removed]",
      "text/plain": [
       "<IPython.core.display.Image object>"
      ]
     },
     "execution_count": 21,
     "metadata": {},
     "output_type": "execute_result"
    }
   ],
   "source": [
    "uml = rudof.data2plantuml_file('out.puml')\n",
    "!python -m plantuml out.puml\n",
    "Image(f\"out.png\")"
   ]
  },
  {
   "cell_type": "markdown",
   "metadata": {
    "id": "VySOS5cOemOr"
   },
   "source": [
    "Notice that in the visualization, we differentiate between a statement that is part of the graph which is represented by a box from a statement that is not part of the graph, which is represented by a cloud symbol."
   ]
  }
 ],
 "metadata": {
  "colab": {
   "provenance": [],
   "toc_visible": true
  },
  "kernelspec": {
   "display_name": "Python 3",
   "name": "python3"
  },
  "language_info": {
   "codemirror_mode": {
    "name": "ipython",
    "version": 3
   },
   "file_extension": ".py",
   "mimetype": "text/x-python",
   "name": "python",
   "nbconvert_exporter": "python",
   "pygments_lexer": "ipython3",
   "version": "3.12.3"
  }
 },
 "nbformat": 4,
 "nbformat_minor": 0
}