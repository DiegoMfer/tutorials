{
 "cells": [
  {
   "cell_type": "markdown",
   "metadata": {
    "id": "sUm7kokski_K"
   },
   "source": [
    "# SPARQL 1.2"
   ]
  },
  {
   "cell_type": "markdown",
   "metadata": {
    "id": "LMC6kMsUp3de"
   },
   "source": []
  },
  {
   "cell_type": "markdown",
   "metadata": {},
   "source": [
    "[![Open In Colab](https://colab.research.google.com/assets/colab-badge.svg)](\n",
    "https://colab.research.google.com/github/<yourusername>/<yourrepo>/blob/main/book/notebooks/example.ipynb)"
   ]
  },
  {
   "cell_type": "markdown",
   "metadata": {
    "id": "FlaljkGCkn_Q"
   },
   "source": [
    "This document contains a short introduction to [RDF](https://www.w3.org/TR/rdf11-primer/) using [rudof](https://rudof-project.github.io/). \n"
   ]
  },
  {
   "cell_type": "markdown",
   "metadata": {
    "id": "whZHWrGG6Y8O"
   },
   "source": [
    "## Install and configure rudof"
   ]
  },
  {
   "cell_type": "markdown",
   "metadata": {
    "id": "YpF48mZrjqwo"
   },
   "source": [
    "The library is available as `pyrudof`."
   ]
  },
  {
   "cell_type": "code",
   "execution_count": 1,
   "metadata": {
    "colab": {
     "base_uri": "https://localhost:8080/"
    },
    "id": "voGWk2uO6gcP",
    "outputId": "84b241ce-5369-408e-8b6b-5b80c33cc04d"
   },
   "outputs": [
    {
     "name": "stdout",
     "output_type": "stream",
     "text": [
      "Requirement already satisfied: pyrudof in /home/labra/src/python/rudof/tutorials/.venv/lib/python3.12/site-packages (0.1.120)\r\n"
     ]
    }
   ],
   "source": [
    "!pip install pyrudof"
   ]
  },
  {
   "cell_type": "markdown",
   "metadata": {
    "id": "FzsA78qu-xXP"
   },
   "source": [
    "The main entry point if a class called `Rudof` through which most of the functionality is provided."
   ]
  },
  {
   "cell_type": "code",
   "execution_count": 2,
   "metadata": {
    "id": "I3jvDAPBJ3OQ"
   },
   "outputs": [],
   "source": [
    "from pyrudof import Rudof, RudofConfig"
   ]
  },
  {
   "cell_type": "markdown",
   "metadata": {
    "id": "0Io7V7y9_G_P"
   },
   "source": [
    "In order to initialize that class, it is possible to pass a RudofConfig instance which contains configuration parameters for customization."
   ]
  },
  {
   "cell_type": "code",
   "execution_count": 3,
   "metadata": {
    "id": "OAV_KSrH6qn-"
   },
   "outputs": [],
   "source": [
    "rudof = Rudof(RudofConfig())"
   ]
  },
  {
   "cell_type": "markdown",
   "metadata": {
    "id": "yju-jjtPuNhO"
   },
   "source": [
    "## Creating some RDF 1.2 content"
   ]
  },
  {
   "cell_type": "markdown",
   "metadata": {
    "id": "pAu8aiVgZ2m7"
   },
   "source": [
    "Reset previous state of `rudof` and remnove the temporary file `out.puml` if it exists."
   ]
  },
  {
   "cell_type": "code",
   "execution_count": 4,
   "metadata": {
    "id": "ihjNIGutGMUG"
   },
   "outputs": [],
   "source": [
    "rudof.reset_all()"
   ]
  },
  {
   "cell_type": "code",
   "execution_count": 5,
   "metadata": {
    "id": "fYMYBP9zvP9V"
   },
   "outputs": [],
   "source": [
    "!rm -f out.puml out.png"
   ]
  },
  {
   "cell_type": "markdown",
   "metadata": {
    "id": "XMMU1ERuuXBd"
   },
   "source": [
    "Rudof has added support for [RDF 1.2](https://www.w3.org/TR/rdf12-primer). It is possible, for example, to load some RDF 1.2 files and visualize them.\n"
   ]
  },
  {
   "cell_type": "markdown",
   "metadata": {
    "id": "gyP41zIRYGtr"
   },
   "source": [
    "RDF 1.2 introduces [triple terms](https://www.w3.org/TR/rdf12-primer/#section-triple-terms) which denote statements that can be the object of some triples.\n",
    "\n",
    "For example, we can state that `:bob` is interested in `:MonaLisa` since `4th October 1998` using the following code:"
   ]
  },
  {
   "cell_type": "code",
   "execution_count": 6,
   "metadata": {
    "id": "-nqLufg4upeV"
   },
   "outputs": [],
   "source": [
    "rudof.read_data_str(\"\"\"\n",
    " prefix : <http://example.org/>\n",
    " prefix rdf: <http://www.w3.org/1999/02/22-rdf-syntax-ns#>\n",
    " prefix xsd: <http://www.w3.org/2001/XMLSchema#>\n",
    "\n",
    " :aliceBelief a :Statement ;\n",
    "    rdf:reifies <<( :bob :knows :dave  )>> ;\n",
    "    :since 2025 ;\n",
    "    :accordingTo :dave  .\n",
    " \"\"\")\n"
   ]
  },
  {
   "cell_type": "code",
   "execution_count": 7,
   "metadata": {
    "id": "o96nBbWgvL-l"
   },
   "outputs": [
    {
     "name": "stdout",
     "output_type": "stream",
     "text": [
      "Visual graph: VisualRDFGraph with 11 nodes and 4 edges\n",
      "Node 6: Iri: :bob (http://example.org/bob)\n",
      "     count: UsageCount { as_predicate: 0, as_subject: 0, as_object: 0, as_predicate_in_triple: 0, as_subject_in_triple: 1, as_object_in_triple: 0 }\n",
      "Node 9: Predicate: :since (<http://example.org/since>)\n",
      "     count: UsageCount { as_predicate: 1, as_subject: 0, as_object: 0, as_predicate_in_triple: 0, as_subject_in_triple: 0, as_object_in_triple: 0 }\n",
      "Node 4: Iri: :dave (http://example.org/dave)\n",
      "     count: UsageCount { as_predicate: 0, as_subject: 0, as_object: 1, as_predicate_in_triple: 0, as_subject_in_triple: 0, as_object_in_triple: 1 }\n",
      "Node 1: Predicate: rdf:type (<http://www.w3.org/1999/02/22-rdf-syntax-ns#type>)\n",
      "     count: UsageCount { as_predicate: 1, as_subject: 0, as_object: 0, as_predicate_in_triple: 0, as_subject_in_triple: 0, as_object_in_triple: 0 }\n",
      "Node 5: Reifies\n",
      "     count: UsageCount { as_predicate: 1, as_subject: 0, as_object: 0, as_predicate_in_triple: 0, as_subject_in_triple: 0, as_object_in_triple: 0 }\n",
      "Node 7: Predicate: :knows (<http://example.org/knows>)\n",
      "     count: UsageCount { as_predicate: 0, as_subject: 0, as_object: 0, as_predicate_in_triple: 1, as_subject_in_triple: 0, as_object_in_triple: 0 }\n",
      "Node 3: Predicate: :accordingTo (<http://example.org/accordingTo>)\n",
      "     count: UsageCount { as_predicate: 1, as_subject: 0, as_object: 0, as_predicate_in_triple: 0, as_subject_in_triple: 0, as_object_in_triple: 0 }\n",
      "Node 10: Literal: 2025\n",
      "     count: UsageCount { as_predicate: 0, as_subject: 0, as_object: 1, as_predicate_in_triple: 0, as_subject_in_triple: 0, as_object_in_triple: 0 }\n",
      "Node 2: Iri: :Statement (http://example.org/Statement)\n",
      "     count: UsageCount { as_predicate: 0, as_subject: 0, as_object: 1, as_predicate_in_triple: 0, as_subject_in_triple: 0, as_object_in_triple: 0 }\n",
      "Node 0: Iri: :aliceBelief (http://example.org/aliceBelief)\n",
      "     count: UsageCount { as_predicate: 0, as_subject: 4, as_object: 0, as_predicate_in_triple: 0, as_subject_in_tri"
     ]
    },
    {
     "name": "stdout",
     "output_type": "stream",
     "text": [
      "ple: 0, as_object_in_triple: 0 }\n",
      "Node 8: NonAssertedTriple\n",
      "     count: UsageCount { as_predicate: 0, as_subject: 0, as_object: 1, as_predicate_in_triple: 0, as_subject_in_triple: 0, as_object_in_triple: 0 }\n",
      "Edge :accordingTo (http://example.org/accordingTo): 0 --> 4\n",
      "Edge rdf:type (http://www.w3.org/1999/02/22-rdf-syntax-ns#type): 0 --> 2\n",
      "Edge :since (http://example.org/since): 0 --> 10\n",
      "Edge reifies: 0 --> 8\n",
      "Starting conversion...\n",
      "Converting node Iri: :bob (http://example.org/bob) with node id 6 to plantuml\n",
      "Converting node Predicate: :since (<http://example.org/since>) with node id 9 to plantuml\n",
      "Converting node Iri: :dave (http://example.org/dave) with node id 4 to plantuml\n",
      "Converting node Predicate: rdf:type (<http://www.w3.org/1999/02/22-rdf-syntax-ns#type>) with node id 1 to plantuml\n",
      "Converting node Reifies with node id 5 to plantuml\n",
      "Converting node Predicate: :knows (<http://example.org/knows>) with node id 7 to plantuml\n",
      "Converting node Predicate: :accordingTo (<http://example.org/accordingTo>) with node id 3 to plantuml\n",
      "Converting node Literal: 2025 with node id 10 to plantuml\n",
      "Converting node Iri: :Statement (http://example.org/Statement) with node id 2 to plantuml\n",
      "Converting node Iri: :aliceBelief (http://example.org/aliceBelief) with node id 0 to plantuml\n",
      "Converting node NonAssertedTriple with node id 8 to plantuml\n"
     ]
    }
   ],
   "source": [
    "uml = rudof.data2plantuml_file('out.puml')"
   ]
  },
  {
   "cell_type": "markdown",
   "metadata": {
    "id": "jX9NeZAkafOq"
   },
   "source": [
    "Convert the `puml` to an image."
   ]
  },
  {
   "cell_type": "code",
   "execution_count": 46,
   "metadata": {
    "id": "zWmIFbFYwO_G"
   },
   "outputs": [],
   "source": []
  },
  {
   "cell_type": "code",
   "execution_count": 8,
   "metadata": {
    "colab": {
     "base_uri": "https://localhost:8080/"
    },
    "id": "znszHWGuvlvF",
    "outputId": "00b6a098-27af-45f5-e857-40ea49722c26"
   },
   "outputs": [
    {
     "name": "stdout",
     "output_type": "stream",
     "text": [
      "[{'filename': 'out.puml', 'gen_success': True}]\r\n"
     ]
    }
   ],
   "source": [
    "!python -m plantuml out.puml"
   ]
  },
  {
   "cell_type": "code",
   "execution_count": 9,
   "metadata": {
    "colab": {
     "base_uri": "https://localhost:8080/",
     "height": 291
    },
    "id": "PcTrKaabwZvW",
    "outputId": "01a60f01-270e-48eb-98d6-8a493b65895e"
   },
   "outputs": [
    {
     "ename": "NameError",
     "evalue": "name 'Image' is not defined",
     "output_type": "error",
     "traceback": [
      "\u001b[31m---------------------------------------------------------------------------\u001b[39m",
      "\u001b[31mNameError\u001b[39m                                 Traceback (most recent call last)",
      "\u001b[36mCell\u001b[39m\u001b[36m \u001b[39m\u001b[32mIn[9]\u001b[39m\u001b[32m, line 1\u001b[39m\n\u001b[32m----> \u001b[39m\u001b[32m1\u001b[39m \u001b[43mImage\u001b[49m(\u001b[33mf\u001b[39m\u001b[33m\"\u001b[39m\u001b[33mout.png\u001b[39m\u001b[33m\"\u001b[39m)\n",
      "\u001b[31mNameError\u001b[39m: name 'Image' is not defined"
     ]
    }
   ],
   "source": [
    "Image(f\"out.png\")"
   ]
  },
  {
   "cell_type": "markdown",
   "metadata": {
    "id": "erXpY9MSbPNT"
   },
   "source": [
    "In [RDF 1.2 turtle syntax](https://www.w3.org/TR/rdf12-turtle/), there are several possibilities to define triple terms.\n",
    "\n"
   ]
  },
  {
   "cell_type": "markdown",
   "metadata": {
    "id": "2nbEG7h0b1N6"
   },
   "source": [
    "### Declaring triple terms directly"
   ]
  },
  {
   "cell_type": "code",
   "execution_count": 49,
   "metadata": {
    "id": "SKn-6FBLcAOi"
   },
   "outputs": [],
   "source": [
    "!rm -f out.puml out.pnf\n",
    "rudof.reset_all()"
   ]
  },
  {
   "cell_type": "markdown",
   "metadata": {
    "id": "KRVXarFNb3R2"
   },
   "source": [
    "A triple term can be declared enclosing it between `<<(` and `)>>`. For example:"
   ]
  },
  {
   "cell_type": "code",
   "execution_count": 50,
   "metadata": {
    "id": "YFNlU537b0yb"
   },
   "outputs": [],
   "source": [
    "rudof.read_data_str(\"\"\"\n",
    "PREFIX :    <http://www.example.org/>\n",
    "PREFIX rdf: <http://www.w3.org/1999/02/22-rdf-syntax-ns#>\n",
    "\n",
    "_:e38  :familyName                     \"Smith\" .\n",
    "_:anno rdf:reifies <<( _:e38 :jobTitle \"Designer\" )>> .\n",
    "_:anno :accordingTo                     :eric .\n",
    " \"\"\")"
   ]
  },
  {
   "cell_type": "code",
   "execution_count": 51,
   "metadata": {
    "id": "a-LI3oaOcTJC"
   },
   "outputs": [],
   "source": [
    "uml = rudof.data2plantuml_file('out.puml')"
   ]
  },
  {
   "cell_type": "code",
   "execution_count": 52,
   "metadata": {
    "colab": {
     "base_uri": "https://localhost:8080/"
    },
    "id": "ZhkGPQyscYwz",
    "outputId": "a0633504-fec6-49ca-b3c0-99a73cf32240"
   },
   "outputs": [
    {
     "name": "stdout",
     "output_type": "stream",
     "text": [
      "[{'filename': 'out.puml', 'gen_success': True}]\n"
     ]
    }
   ],
   "source": [
    "!python -m plantuml out.puml"
   ]
  },
  {
   "cell_type": "code",
   "execution_count": 53,
   "metadata": {
    "colab": {
     "base_uri": "https://localhost:8080/",
     "height": 388
    },
    "id": "01xaro82cciN",
    "outputId": "534b95e8-4b00-4f6d-ecc6-e70eef1b011b"
   },
   "outputs": [
    {
     "data": {
      "image/png": "[encoded data removed]",
      "text/plain": [
       "<IPython.core.display.Image object>"
      ]
     },
     "execution_count": 53,
     "metadata": {},
     "output_type": "execute_result"
    }
   ],
   "source": [
    "Image(f\"out.png\")"
   ]
  },
  {
   "cell_type": "markdown",
   "metadata": {
    "id": "iWMQVoWgchXL"
   },
   "source": [
    "### Reifying triples"
   ]
  },
  {
   "cell_type": "code",
   "execution_count": 54,
   "metadata": {
    "id": "rW4pPtohdQwc"
   },
   "outputs": [],
   "source": [
    "!rm -f out.puml out.pnf\n",
    "rudof.reset_all()"
   ]
  },
  {
   "cell_type": "markdown",
   "metadata": {
    "id": "OIAm5jIRck0C"
   },
   "source": [
    "Enclosing a triple between `<<` and `>>`, is a syntactic sugar that declares that there is a reifier whose object is that triple and that can be used to add more declarations about that reifier.\n",
    "\n",
    "For example:"
   ]
  },
  {
   "cell_type": "code",
   "execution_count": 55,
   "metadata": {
    "id": "eVatupSpdJRN"
   },
   "outputs": [],
   "source": [
    "rudof.read_data_str(\"\"\"\n",
    " PREFIX :    <http://www.example.org/>\n",
    "PREFIX rdf: <http://www.w3.org/1999/02/22-rdf-syntax-ns#>\n",
    "\n",
    ":employee38 :familyName \"Smith\" .\n",
    "<< :employee38 :jobTitle \"Assistant Designer\" >> :accordingTo :employee22 .\n",
    " \"\"\")"
   ]
  },
  {
   "cell_type": "code",
   "execution_count": 57,
   "metadata": {
    "colab": {
     "base_uri": "https://localhost:8080/",
     "height": 405
    },
    "id": "fAR310j1dZiq",
    "outputId": "16a733d3-75f8-426f-dd23-130551e9d4d2"
   },
   "outputs": [
    {
     "name": "stdout",
     "output_type": "stream",
     "text": [
      "[{'filename': 'out.puml', 'gen_success': True}]\n"
     ]
    },
    {
     "data": {
      "image/png": "[encoded data removed]",
      "text/plain": [
       "<IPython.core.display.Image object>"
      ]
     },
     "execution_count": 57,
     "metadata": {},
     "output_type": "execute_result"
    }
   ],
   "source": [
    "uml = rudof.data2plantuml_file('out.puml')\n",
    "!python -m plantuml out.puml\n",
    "Image(f\"out.png\")"
   ]
  },
  {
   "cell_type": "markdown",
   "metadata": {
    "id": "r_SUp610dn1P"
   },
   "source": [
    "### Annotation syntax"
   ]
  },
  {
   "cell_type": "code",
   "execution_count": 58,
   "metadata": {
    "id": "kCgn0u2CeApq"
   },
   "outputs": [],
   "source": [
    "# Clean the workspace\n",
    "!rm -f out.puml out.pnf\n",
    "rudof.reset_all()"
   ]
  },
  {
   "cell_type": "markdown",
   "metadata": {
    "id": "teWMPNSQdsPr"
   },
   "source": [
    "It is also possible to use the annotation syntax where a statement can be annotated with `{|` and `|}` as follows:\n"
   ]
  },
  {
   "cell_type": "code",
   "execution_count": 59,
   "metadata": {
    "id": "Trman2A3d9Py"
   },
   "outputs": [],
   "source": [
    "rudof.read_data_str(\"\"\"\n",
    " PREFIX : <http://example.com/>\n",
    " PREFIX xsd: <http://www.w3.org/2001/XMLSchema#>\n",
    " :alice :name \"Alice\" ~ :t {|\n",
    "   :statedBy :bob ;\n",
    "   :recorded \"2021-07-07\"^^xsd:date\n",
    " |} .\n",
    " \"\"\")"
   ]
  },
  {
   "cell_type": "code",
   "execution_count": 60,
   "metadata": {
    "colab": {
     "base_uri": "https://localhost:8080/",
     "height": 422
    },
    "id": "hnIFvo4PeUSz",
    "outputId": "e56a81cf-b11b-4523-ff61-8b77c170aa9c"
   },
   "outputs": [
    {
     "name": "stdout",
     "output_type": "stream",
     "text": [
      "[{'filename': 'out.puml', 'gen_success': True}]\n"
     ]
    },
    {
     "data": {
      "image/png": "[encoded data removed]",
      "text/plain": [
       "<IPython.core.display.Image object>"
      ]
     },
     "execution_count": 60,
     "metadata": {},
     "output_type": "execute_result"
    }
   ],
   "source": [
    "uml = rudof.data2plantuml_file('out.puml')\n",
    "!python -m plantuml out.puml\n",
    "Image(f\"out.png\")"
   ]
  },
  {
   "cell_type": "markdown",
   "metadata": {
    "id": "VySOS5cOemOr"
   },
   "source": [
    "Notice that in the visualization, we differentiate between a statement that is part of the graph which is represented by a box from a statement that is not part of the graph, which is represented by a cloud symbol."
   ]
  },
  {
   "cell_type": "markdown",
   "metadata": {},
   "source": [
    "## SPARQL 1.2"
   ]
  }
 ],
 "metadata": {
  "colab": {
   "provenance": [],
   "toc_visible": true
  },
  "kernelspec": {
   "display_name": "Python 3",
   "name": "python3"
  },
  "language_info": {
   "codemirror_mode": {
    "name": "ipython",
    "version": 3
   },
   "file_extension": ".py",
   "mimetype": "text/x-python",
   "name": "python",
   "nbconvert_exporter": "python",
   "pygments_lexer": "ipython3",
   "version": "3.12.3"
  }
 },
 "nbformat": 4,
 "nbformat_minor": 0
}