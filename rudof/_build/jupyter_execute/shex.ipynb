{
 "cells": [
  {
   "cell_type": "markdown",
   "metadata": {
    "id": "sUm7kokski_K"
   },
   "source": [
    "# ShEx"
   ]
  },
  {
   "cell_type": "markdown",
   "metadata": {
    "id": "LMC6kMsUp3de"
   },
   "source": []
  },
  {
   "cell_type": "markdown",
   "metadata": {
    "id": "FlaljkGCkn_Q"
   },
   "source": [
    "This document contains a short introduction to ShEx using [rudof](https://rudof-project.github.io/). \n"
   ]
  },
  {
   "cell_type": "markdown",
   "metadata": {
    "id": "whZHWrGG6Y8O"
   },
   "source": [
    "## Install and configure rudof"
   ]
  },
  {
   "cell_type": "markdown",
   "metadata": {
    "id": "YpF48mZrjqwo"
   },
   "source": [
    "The library is available as `pyrudof`."
   ]
  },
  {
   "cell_type": "code",
   "execution_count": 1,
   "metadata": {
    "colab": {
     "base_uri": "https://localhost:8080/"
    },
    "id": "voGWk2uO6gcP",
    "outputId": "84b241ce-5369-408e-8b6b-5b80c33cc04d"
   },
   "outputs": [
    {
     "name": "stdout",
     "output_type": "stream",
     "text": [
      "Requirement already satisfied: pyrudof in /home/labra/src/python/rudof/tutorials/.venv/lib/python3.12/site-packages (0.1.120)\r\n"
     ]
    }
   ],
   "source": [
    "!pip install pyrudof"
   ]
  },
  {
   "cell_type": "markdown",
   "metadata": {
    "id": "FzsA78qu-xXP"
   },
   "source": [
    "The main entry point if a class called `Rudof` through which most of the functionality is provided."
   ]
  },
  {
   "cell_type": "code",
   "execution_count": 2,
   "metadata": {
    "id": "I3jvDAPBJ3OQ"
   },
   "outputs": [],
   "source": [
    "from pyrudof import Rudof, RudofConfig"
   ]
  },
  {
   "cell_type": "markdown",
   "metadata": {
    "id": "0Io7V7y9_G_P"
   },
   "source": [
    "In order to initialize that class, it is possible to pass a RudofConfig instance which contains configuration parameters for customization."
   ]
  },
  {
   "cell_type": "code",
   "execution_count": 3,
   "metadata": {
    "id": "OAV_KSrH6qn-"
   },
   "outputs": [],
   "source": [
    "rudof = Rudof(RudofConfig())"
   ]
  },
  {
   "cell_type": "markdown",
   "metadata": {
    "id": "JUgsyHtW7bA5"
   },
   "source": [
    "## Validate using ShEx"
   ]
  },
  {
   "cell_type": "code",
   "execution_count": 4,
   "metadata": {
    "id": "CwDQcbAq7XJe"
   },
   "outputs": [],
   "source": [
    "rudof.read_shex_str(\"\"\"\n",
    "prefix : <http://example.org/>\n",
    "prefix xsd:    <http://www.w3.org/2001/XMLSchema#>\n",
    "\n",
    ":Person {\n",
    " :name xsd:string\n",
    "}\n",
    "\"\"\")\n"
   ]
  },
  {
   "cell_type": "code",
   "execution_count": 5,
   "metadata": {
    "id": "yo97eI09nFOm"
   },
   "outputs": [],
   "source": [
    "rudof.read_data_str(\"\"\"\n",
    "prefix : <http://example.org/>\n",
    "\n",
    ":ok :name \"alice\" .\n",
    ":ko :name 1 .\n",
    "\"\"\")"
   ]
  },
  {
   "cell_type": "code",
   "execution_count": 6,
   "metadata": {
    "id": "_EFY-RpNnHwh"
   },
   "outputs": [],
   "source": [
    "rudof.read_shapemap_str(\":ok@:Person, :ko@:Person\")"
   ]
  },
  {
   "cell_type": "markdown",
   "metadata": {
    "id": "0VA7Nyh3xa36"
   },
   "source": [
    "Once the ShEx schema and the Shapemap have been added to `rudof`, it is possible to validate the current RDF data with the `validate_shex()` method:"
   ]
  },
  {
   "cell_type": "code",
   "execution_count": 7,
   "metadata": {
    "id": "RtJYkJ6T7tm1"
   },
   "outputs": [],
   "source": [
    "results = rudof.validate_shex()"
   ]
  },
  {
   "cell_type": "markdown",
   "metadata": {
    "id": "-kqBLihnxoZz"
   },
   "source": [
    "`validate_shex()` returns a `ResultShapeMap` object which contains a `show()` method to show the results of the validation:"
   ]
  },
  {
   "cell_type": "code",
   "execution_count": 8,
   "metadata": {
    "colab": {
     "base_uri": "https://localhost:8080/"
    },
    "id": "5-gu1z1NnUkO",
    "outputId": "cdfe0d74-d608-4203-8503-5e39d24f7b07"
   },
   "outputs": [
    {
     "name": "stdout",
     "output_type": "stream",
     "text": [
      "Node: http://example.org/ko\n",
      "Shape: http://example.org/Person\n",
      "Conformant?: False\n",
      "Appinfo: {'info': [{'error': 'Datatype error: Datatype expected http://www.w3.org/2001/XMLSchema#string but found http://www.w3.org/2001/XMLSchema#integer for literal with lexical form 1'}], 'reason': 'Error Datatype error: Datatype expected http://www.w3.org/2001/XMLSchema#string but found http://www.w3.org/2001/XMLSchema#integer for literal with lexical form 1\\n', 'status': 'nonconformant'}\n",
      "\n",
      "Node: http://example.org/ok\n",
      "Shape: http://example.org/Person\n",
      "Conformant?: True\n",
      "Appinfo: {'info': [{'reason': 'Shape passed. Node http://example.org/ok, shape 0: Shape  Preds: http://example.org/name, TripleExpr: RBE [C0], Keys: [http://example.org/name -> {C0}], conds: [C0 -> xsd:string], References: []'}], 'reason': 'Shape passed. Node :ok, shape 0: :Person = {:name xsd:string}\\n', 'status': 'conformant'}\n",
      "\n"
     ]
    }
   ],
   "source": [
    "for (node, shape, status) in results.to_list():\n",
    "    print(f\"Node: {node.show()}\")\n",
    "    print(f\"Shape: {shape.show()}\")\n",
    "    print(f\"Conformant?: {status.is_conformant()}\")\n",
    "    print(f\"Appinfo: {status.as_json()}\")\n",
    "    print(\"\")\n"
   ]
  },
  {
   "cell_type": "markdown",
   "metadata": {
    "id": "jiEga6RWx8sf"
   },
   "source": [
    "We reset the status of the `ShEx` schema, the `Shapemap` and the current `RDF data` for the next section."
   ]
  },
  {
   "cell_type": "code",
   "execution_count": 9,
   "metadata": {
    "id": "6YD7UcNXnjkN"
   },
   "outputs": [],
   "source": [
    "rudof.reset_all()"
   ]
  },
  {
   "cell_type": "markdown",
   "metadata": {
    "id": "_7iBx5Ocn1Fc"
   },
   "source": [
    "## Converting ShEx to UML"
   ]
  },
  {
   "cell_type": "markdown",
   "metadata": {
    "id": "2KRvu2HXJ3Bi"
   },
   "source": [
    "`rudof` can be used to convert ShEx to diagrams in UML-like style. The converter generates a [PlantUML](https://plantuml.com/) string which can be written to a file and converted to an image using the PlantUML tool."
   ]
  },
  {
   "cell_type": "code",
   "execution_count": 10,
   "metadata": {
    "id": "cO0QQJJSlm1j"
   },
   "outputs": [],
   "source": [
    "from pyrudof import UmlGenerationMode"
   ]
  },
  {
   "cell_type": "code",
   "execution_count": 11,
   "metadata": {
    "id": "cZThqbvXn4y1"
   },
   "outputs": [],
   "source": [
    "rudof.read_shex_str(\"\"\"\n",
    "prefix : <http://example.org/>\n",
    "prefix xsd:    <http://www.w3.org/2001/XMLSchema#>\n",
    "\n",
    ":User {\n",
    " :name     xsd:string  ;\n",
    " :worksFor @:Company * ;\n",
    " :addres   @:Address   ;\n",
    " :knows    @:User\n",
    "}\n",
    "\n",
    ":Company {\n",
    "  :name     xsd:string     ;\n",
    "  :code     xsd:string     ;\n",
    "  :employee @:User\n",
    "}\n",
    ":Address {\n",
    "  :name     xsd:string ;\n",
    "  :zip_code xsd:string\n",
    "}\n",
    "\"\"\")"
   ]
  },
  {
   "cell_type": "code",
   "execution_count": 12,
   "metadata": {
    "id": "TgF9X8BoHyft"
   },
   "outputs": [],
   "source": [
    "plant_uml = rudof.shex2plantuml_file(UmlGenerationMode(), 'out.puml')"
   ]
  },
  {
   "cell_type": "markdown",
   "metadata": {
    "id": "BkET25UlKblP"
   },
   "source": [
    "Now we install the PlantUML tools necessary to process the generated `plant_uml`"
   ]
  },
  {
   "cell_type": "code",
   "execution_count": 13,
   "metadata": {
    "colab": {
     "base_uri": "https://localhost:8080/"
    },
    "id": "WK_yRDiXIS9x",
    "outputId": "54eb50c2-3b47-4142-b6b9-2a80d59f7258"
   },
   "outputs": [
    {
     "name": "stdout",
     "output_type": "stream",
     "text": [
      "Requirement already satisfied: plantuml in /home/labra/src/python/rudof/tutorials/.venv/lib/python3.12/site-packages (0.3.0)\r\n",
      "Requirement already satisfied: httplib2 in /home/labra/src/python/rudof/tutorials/.venv/lib/python3.12/site-packages (from plantuml) (0.31.0)\r\n",
      "Requirement already satisfied: pyparsing<4,>=3.0.4 in /home/labra/src/python/rudof/tutorials/.venv/lib/python3.12/site-packages (from httplib2->plantuml) (3.2.5)\r\n"
     ]
    }
   ],
   "source": [
    "! pip install plantuml"
   ]
  },
  {
   "cell_type": "code",
   "execution_count": 14,
   "metadata": {
    "colab": {
     "base_uri": "https://localhost:8080/"
    },
    "id": "Uztbqe6bJGXj",
    "outputId": "403c6580-e99b-41dc-9ad5-c6d6df83c849"
   },
   "outputs": [
    {
     "name": "stdout",
     "output_type": "stream",
     "text": [
      "Requirement already satisfied: ipython in /home/labra/src/python/rudof/tutorials/.venv/lib/python3.12/site-packages (9.6.0)\r\n"
     ]
    },
    {
     "name": "stdout",
     "output_type": "stream",
     "text": [
      "Requirement already satisfied: decorator in /home/labra/src/python/rudof/tutorials/.venv/lib/python3.12/site-packages (from ipython) (5.2.1)\r\n",
      "Requirement already satisfied: ipython-pygments-lexers in /home/labra/src/python/rudof/tutorials/.venv/lib/python3.12/site-packages (from ipython) (1.1.1)\r\n",
      "Requirement already satisfied: jedi>=0.16 in /home/labra/src/python/rudof/tutorials/.venv/lib/python3.12/site-packages (from ipython) (0.19.2)\r\n",
      "Requirement already satisfied: matplotlib-inline in /home/labra/src/python/rudof/tutorials/.venv/lib/python3.12/site-packages (from ipython) (0.1.7)\r\n",
      "Requirement already satisfied: pexpect>4.3 in /home/labra/src/python/rudof/tutorials/.venv/lib/python3.12/site-packages (from ipython) (4.9.0)\r\n",
      "Requirement already satisfied: prompt_toolkit<3.1.0,>=3.0.41 in /home/labra/src/python/rudof/tutorials/.venv/lib/python3.12/site-packages (from ipython) (3.0.52)\r\n",
      "Requirement already satisfied: pygments>=2.4.0 in /home/labra/src/python/rudof/tutorials/.venv/lib/python3.12/site-packages (from ipython) (2.19.2)\r\n",
      "Requirement already satisfied: stack_data in /home/labra/src/python/rudof/tutorials/.venv/lib/python3.12/site-packages (from ipython) (0.6.3)\r\n",
      "Requirement already satisfied: traitlets>=5.13.0 in /home/labra/src/python/rudof/tutorials/.venv/lib/python3.12/site-packages (from ipython) (5.14.3)\r\n",
      "Requirement already satisfied: parso<0.9.0,>=0.8.4 in /home/labra/src/python/rudof/tutorials/.venv/lib/python3.12/site-packages (from jedi>=0.16->ipython) (0.8.5)\r\n",
      "Requirement already satisfied: ptyprocess>=0.5 in /home/labra/src/python/rudof/tutorials/.venv/lib/python3.12/site-packages (from pexpect>4.3->ipython) (0.7.0)\r\n",
      "Requirement already satisfied: wcwidth in /home/labra/src/python/rudof/tutorials/.venv/lib/python3.12/site-packages (from prompt_toolkit<3.1.0,>=3.0.41->ipython) (0.2.14)\r\n",
      "Requirement already satisfied: executing>=1.2.0 in /home/labra/src/python/rudof/tutorials/.venv/lib/python3.12/site-packages (from stack_data->ipython) (2.2.1)\r\n",
      "Requirement already satisfied: asttokens>=2.1.0 in /home/labra/src/python/rudof/tutorials/.venv/lib/python3.12/site-packages (from stack_data->ipython) (3.0.0)\r\n",
      "Requirement already satisfied: pure-eval in /home/labra/src/python/rudof/tutorials/.venv/lib/python3.12/site-packages (from stack_data->ipython) (0.2.3)\r\n"
     ]
    }
   ],
   "source": [
    "! pip install ipython"
   ]
  },
  {
   "cell_type": "code",
   "execution_count": 15,
   "metadata": {
    "colab": {
     "base_uri": "https://localhost:8080/"
    },
    "id": "VTN0x4H-I4Mo",
    "outputId": "818682ad-0482-4468-8d6c-5f808b0450bc"
   },
   "outputs": [
    {
     "name": "stdout",
     "output_type": "stream",
     "text": [
      "[{'filename': 'out.puml', 'gen_success': True}]\r\n"
     ]
    }
   ],
   "source": [
    "!python -m plantuml out.puml"
   ]
  },
  {
   "cell_type": "code",
   "execution_count": 16,
   "metadata": {
    "id": "XrFhCm6yJP3x"
   },
   "outputs": [],
   "source": [
    "from IPython.display import Image"
   ]
  },
  {
   "cell_type": "code",
   "execution_count": 17,
   "metadata": {
    "colab": {
     "base_uri": "https://localhost:8080/",
     "height": 379
    },
    "id": "e4dRHoIUJabG",
    "outputId": "1cac7dae-6588-4bfd-c425-37fe84a59a67"
   },
   "outputs": [
    {
     "data": {
      "image/png": "[encoded data removed]",
      "text/plain": [
       "<IPython.core.display.Image object>"
      ]
     },
     "execution_count": 17,
     "metadata": {},
     "output_type": "execute_result"
    }
   ],
   "source": [
    "Image(f\"out.png\")"
   ]
  },
  {
   "cell_type": "code",
   "execution_count": 18,
   "metadata": {
    "id": "ZLuBCHWpFuIR"
   },
   "outputs": [],
   "source": [
    "rudof.reset_all()"
   ]
  },
  {
   "cell_type": "markdown",
   "metadata": {
    "id": "W0j6rPmxJfPY"
   },
   "source": [
    "## Converting DCTAP to ShEx"
   ]
  },
  {
   "cell_type": "markdown",
   "metadata": {
    "id": "xFXK6AkjJnmy"
   },
   "source": [
    "Rudof can be used to convert [DCTAP](https://www.dublincore.org/specifications/dctap/) files to ShEx."
   ]
  },
  {
   "cell_type": "markdown",
   "metadata": {
    "id": "mFtcvAieQP7Q"
   },
   "source": [
    "DCTAP can be used to represent shapes using a tabular representation using CSV or an spreadsheet format like XLSX. As an example, the following CSV data:\n"
   ]
  },
  {
   "cell_type": "code",
   "execution_count": 19,
   "metadata": {
    "id": "2E6N1wzZQk23"
   },
   "outputs": [],
   "source": [
    "dctap_str = \"\"\"shapeId,propertyId,Mandatory,Repeatable,valueDatatype,valueShape\n",
    "Person,name,true,false,xsd:string,\n",
    ",birthdate,false,false,xsd:date,\n",
    ",worksFor,false,true,,Company\n",
    "Company,name,true,false,xsd:string,\n",
    ",employee,false,true,,Person\n",
    "\"\"\""
   ]
  },
  {
   "cell_type": "code",
   "execution_count": 20,
   "metadata": {
    "id": "k66wE-LPJyvR"
   },
   "outputs": [],
   "source": [
    "rudof.read_dctap_str(dctap_str)"
   ]
  },
  {
   "cell_type": "code",
   "execution_count": 21,
   "metadata": {
    "id": "1vx602BebWqH"
   },
   "outputs": [],
   "source": [
    "dctap = rudof.get_dctap()"
   ]
  },
  {
   "cell_type": "code",
   "execution_count": 22,
   "metadata": {
    "colab": {
     "base_uri": "https://localhost:8080/"
    },
    "id": "G-SnI2jfbnpX",
    "outputId": "520d1c60-9229-452b-f080-c877c4187d78"
   },
   "outputs": [
    {
     "name": "stdout",
     "output_type": "stream",
     "text": [
      "Shape(Person)  \n",
      " name xsd:string \n",
      " birthdate xsd:date ?\n",
      " worksFor @Company *\n",
      "Shape(Company)  \n",
      " name xsd:string \n",
      " employee @Person *\n",
      "\n"
     ]
    }
   ],
   "source": [
    "print(dctap)"
   ]
  },
  {
   "cell_type": "markdown",
   "metadata": {
    "id": "utlhcAiYFjdv"
   },
   "source": [
    "It is possible to convert the DCTAP obtained to ShEx"
   ]
  },
  {
   "cell_type": "code",
   "execution_count": 23,
   "metadata": {
    "id": "djzyJkAxFhIV"
   },
   "outputs": [],
   "source": [
    "rudof.dctap2shex()\n"
   ]
  },
  {
   "cell_type": "code",
   "execution_count": 24,
   "metadata": {
    "id": "2IwnrHIOFxGM"
   },
   "outputs": [],
   "source": [
    "from pyrudof import ShExFormatter"
   ]
  },
  {
   "cell_type": "code",
   "execution_count": 25,
   "metadata": {
    "id": "04gjCw2lFoak"
   },
   "outputs": [],
   "source": [
    "shex = rudof.get_shex()\n",
    "\n",
    "result = rudof.serialize_shex(shex, ShExFormatter())\n"
   ]
  },
  {
   "cell_type": "code",
   "execution_count": 26,
   "metadata": {
    "colab": {
     "base_uri": "https://localhost:8080/"
    },
    "id": "KZBeAbztGCSh",
    "outputId": "b1146e92-f6af-456b-89c0-bce182a797a1"
   },
   "outputs": [
    {
     "name": "stdout",
     "output_type": "stream",
     "text": [
      "\u001b[94mprefix\u001b[0m rdfs: <http://www.w3.org/2000/01/rdf-schema#>\n",
      "\u001b[94mprefix\u001b[0m xsd: <http://www.w3.org/2001/XMLSchema#>\n",
      "\u001b[94mprefix\u001b[0m : <http://example.org/>\n",
      "\u001b[94mprefix\u001b[0m rdf: <http://www.w3.org/1999/02/22-rdf-syntax-ns#>\n",
      "\u001b[94mprefix\u001b[0m sh: <http://www.w3.org/ns/shacl#>\n",
      "\u001b[94mprefix\u001b[0m dc: <http://purl.org/dc/elements/1.1/>\n",
      "\u001b[34m\u001b[0m\u001b[92m:\u001b[0m\u001b[30mPerson\u001b[0m {\n",
      "    \u001b[34m\u001b[0m\u001b[92m:\u001b[0m\u001b[30mname\u001b[0m \u001b[34mxsd\u001b[0m\u001b[92m:\u001b[0m\u001b[30mstring\u001b[0m;\n",
      "    \u001b[34m\u001b[0m\u001b[92m:\u001b[0m\u001b[30mbirthdate\u001b[0m \u001b[34mxsd\u001b[0m\u001b[92m:\u001b[0m\u001b[30mdate\u001b[0m ?;\n",
      "    \u001b[34m\u001b[0m\u001b[92m:\u001b[0m\u001b[30mworksFor\u001b[0m @\u001b[34m\u001b[0m\u001b[92m:\u001b[0m\u001b[30mCompany\u001b[0m *\n",
      "}\n",
      "\u001b[34m\u001b[0m\u001b[92m:\u001b[0m\u001b[30mCompany\u001b[0m {\n",
      "    \u001b[34m\u001b[0m\u001b[92m:\u001b[0m\u001b[30mname\u001b[0m \u001b[34mxsd\u001b[0m\u001b[92m:\u001b[0m\u001b[30mstring\u001b[0m;\n",
      "    \u001b[34m\u001b[0m\u001b[92m:\u001b[0m\u001b[30memployee\u001b[0m @\u001b[34m\u001b[0m\u001b[92m:\u001b[0m\u001b[30mPerson\u001b[0m *\n",
      "}\n"
     ]
    }
   ],
   "source": [
    "print(result)"
   ]
  }
 ],
 "metadata": {
  "colab": {
   "provenance": [],
   "toc_visible": true
  },
  "kernelspec": {
   "display_name": "Python 3",
   "name": "python3"
  },
  "language_info": {
   "codemirror_mode": {
    "name": "ipython",
    "version": 3
   },
   "file_extension": ".py",
   "mimetype": "text/x-python",
   "name": "python",
   "nbconvert_exporter": "python",
   "pygments_lexer": "ipython3",
   "version": "3.12.3"
  }
 },
 "nbformat": 4,
 "nbformat_minor": 0
}