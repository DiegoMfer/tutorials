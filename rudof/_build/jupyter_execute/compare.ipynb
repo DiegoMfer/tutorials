{
 "cells": [
  {
   "cell_type": "markdown",
   "metadata": {
    "id": "sUm7kokski_K"
   },
   "source": [
    "# Using rudof to compare schemas"
   ]
  },
  {
   "cell_type": "markdown",
   "metadata": {
    "id": "LMC6kMsUp3de"
   },
   "source": []
  },
  {
   "cell_type": "markdown",
   "metadata": {},
   "source": [
    "[![Open In Colab](https://colab.research.google.com/assets/colab-badge.svg)](\n",
    "https://colab.research.google.com/github/<yourusername>/<yourrepo>/blob/main/book/notebooks/example.ipynb)"
   ]
  },
  {
   "cell_type": "code",
   "execution_count": 1,
   "metadata": {},
   "outputs": [
    {
     "name": "stdout",
     "output_type": "stream",
     "text": [
      "Requirement already satisfied: pyrudof in /home/labra/src/python/rudof/tutorials/.venv/lib/python3.12/site-packages (0.1.120)\r\n"
     ]
    }
   ],
   "source": [
    "!pip install pyrudof"
   ]
  },
  {
   "cell_type": "code",
   "execution_count": 2,
   "metadata": {},
   "outputs": [],
   "source": [
    "from pyrudof import Rudof, RudofConfig\n",
    "rudof = Rudof(RudofConfig())"
   ]
  },
  {
   "cell_type": "markdown",
   "metadata": {
    "id": "QtCQjCyUhkoI"
   },
   "source": [
    "## Comparing Schemas"
   ]
  },
  {
   "cell_type": "markdown",
   "metadata": {
    "id": "EtecYMyOhooQ"
   },
   "source": [
    "It is possible to use rudof to compare different schemas. For example:"
   ]
  },
  {
   "cell_type": "code",
   "execution_count": 3,
   "metadata": {
    "id": "2m7-w7NEhvzo"
   },
   "outputs": [],
   "source": [
    "schema1 = \"\"\"\n",
    " PREFIX : <http://example.org/>\n",
    " PREFIX xsd: <http://www.w3.org/2001/XMLSchema#>\n",
    " :Person {\n",
    "    :name xsd:string ;\n",
    "    :age xsd:integer ;\n",
    "    :weight xsd:float ;\n",
    "    :worksFor .\n",
    " }\n",
    "\"\"\";"
   ]
  },
  {
   "cell_type": "code",
   "execution_count": 4,
   "metadata": {
    "id": "u-DOFji_iIyw"
   },
   "outputs": [],
   "source": [
    "schema2 = \"\"\"\n",
    " PREFIX ex: <http://example.org/>\n",
    " PREFIX xsd: <http://www.w3.org/2001/XMLSchema#>\n",
    " ex:Person {\n",
    "    ex:name xsd:string ;\n",
    "    ex:birthDate xsd:date ;\n",
    "    ex:worksFor .\n",
    "}\n",
    "\"\"\""
   ]
  },
  {
   "cell_type": "code",
   "execution_count": 5,
   "metadata": {
    "id": "19TByao3icnw"
   },
   "outputs": [],
   "source": [
    "result = rudof.compare_schemas_str(\n",
    "    schema1, schema2,\n",
    "    \"shex\", \"shex\",\n",
    "    \"shexc\", \"shexc\",\n",
    "    None, None,\n",
    "    \"http://example.org/Person\", \"http://example.org/Person\"\n",
    "    )"
   ]
  },
  {
   "cell_type": "code",
   "execution_count": 6,
   "metadata": {
    "id": "At6iW8MB0CYo"
   },
   "outputs": [
    {
     "name": "stdout",
     "output_type": "stream",
     "text": [
      "Result of comparison:\n",
      "{\n",
      "  \"equal_properties\": {\n",
      "    \"http://example.org/worksFor\": {\n",
      "      \"description1\": {\n",
      "        \"iri_ref\": \"http://example.org/worksFor\"\n",
      "      },\n",
      "      \"description2\": {\n",
      "        \"iri_ref\": \"http://example.org/worksFor\"\n",
      "      }\n",
      "    },\n",
      "    \"http://example.org/name\": {\n",
      "      \"description1\": {\n",
      "        \"iri_ref\": \"http://example.org/name\",\n",
      "        \"value_constraint\": {\n",
      "          \"Datatype\": \"http://www.w3.org/2001/XMLSchema#string\"\n",
      "        }\n",
      "      },\n",
      "      \"description2\": {\n",
      "        \"iri_ref\": \"http://example.org/name\",\n",
      "        \"value_constraint\": {\n",
      "          \"Datatype\": \"http://www.w3.org/2001/XMLSchema#string\"\n",
      "        }\n",
      "      }\n",
      "    }\n",
      "  },\n",
      "  \"properties1\": {\n",
      "    \"http://example.org/weight\": {\n",
      "      \"description\": {\n",
      "        \"iri_ref\": \"http://example.org/weight\",\n",
      "        \"value_constraint\": {\n",
      "          \"Datatype\": \"http://www.w3.org/2001/XMLSchema#float\"\n",
      "        }\n",
      "      }\n",
      "    },\n",
      "    \"http://example.org/age\": {\n",
      "      \"description\": {\n",
      "        \"iri_ref\": \"http://example.org/age\",\n",
      "        \"value_constraint\": {\n",
      "          \"Datatype\": \"http://www.w3.org/2001/XMLSchema#integer\"\n",
      "        }\n",
      "      }\n",
      "    }\n",
      "  },\n",
      "  \"properties2\": {\n",
      "    \"http://example.org/birthDate\": {\n",
      "      \"description\": {\n",
      "        \"iri_ref\": \"http://example.org/birthDate\",\n",
      "        \"value_constraint\": {\n",
      "          \"Datatype\": \"http://www.w3.org/2001/XMLSchema#date\"\n",
      "        }\n",
      "      }\n",
      "    }\n",
      "  }\n",
      "}\n"
     ]
    }
   ],
   "source": [
    "print(f\"Result of comparison:\\n{result.as_json()}\")"
   ]
  }
 ],
 "metadata": {
  "colab": {
   "provenance": [],
   "toc_visible": true
  },
  "kernelspec": {
   "display_name": "Python 3",
   "name": "python3"
  },
  "language_info": {
   "codemirror_mode": {
    "name": "ipython",
    "version": 3
   },
   "file_extension": ".py",
   "mimetype": "text/x-python",
   "name": "python",
   "nbconvert_exporter": "python",
   "pygments_lexer": "ipython3",
   "version": "3.12.3"
  }
 },
 "nbformat": 4,
 "nbformat_minor": 0
}