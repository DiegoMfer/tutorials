{
 "cells": [
  {
   "cell_type": "markdown",
   "metadata": {
    "id": "sUm7kokski_K"
   },
   "source": [
    "# RDF"
   ]
  },
  {
   "cell_type": "markdown",
   "metadata": {
    "id": "LMC6kMsUp3de"
   },
   "source": []
  },
  {
   "cell_type": "markdown",
   "metadata": {
    "id": "FlaljkGCkn_Q"
   },
   "source": [
    "This document contains a short introduction to [RDF](https://www.w3.org/TR/rdf11-primer/) using [rudof](https://rudof-project.github.io/). \n"
   ]
  },
  {
   "cell_type": "markdown",
   "metadata": {
    "id": "whZHWrGG6Y8O"
   },
   "source": [
    "## Preliminaries: install and configure rudof"
   ]
  },
  {
   "cell_type": "markdown",
   "metadata": {
    "id": "YpF48mZrjqwo"
   },
   "source": [
    "The library is available as `pyrudof`."
   ]
  },
  {
   "cell_type": "code",
   "execution_count": 1,
   "metadata": {
    "colab": {
     "base_uri": "https://localhost:8080/"
    },
    "id": "voGWk2uO6gcP",
    "outputId": "84b241ce-5369-408e-8b6b-5b80c33cc04d"
   },
   "outputs": [
    {
     "name": "stdout",
     "output_type": "stream",
     "text": [
      "Requirement already satisfied: pyrudof in /home/labra/src/python/rudof/tutorials/.venv/lib/python3.12/site-packages (0.1.120)\r\n"
     ]
    }
   ],
   "source": [
    "!pip install pyrudof"
   ]
  },
  {
   "cell_type": "markdown",
   "metadata": {
    "id": "FzsA78qu-xXP"
   },
   "source": [
    "The main entry point if a class called [`Rudof`](https://pyrudof.readthedocs.io/en/stable/library.html#rudof) through which most of the functionality is provided."
   ]
  },
  {
   "cell_type": "code",
   "execution_count": 2,
   "metadata": {
    "id": "I3jvDAPBJ3OQ"
   },
   "outputs": [],
   "source": [
    "from pyrudof import Rudof, RudofConfig"
   ]
  },
  {
   "cell_type": "markdown",
   "metadata": {
    "id": "0Io7V7y9_G_P"
   },
   "source": [
    "In order to initialize that class, it is possible to pass a [`RudofConfig`](https://pyrudof.readthedocs.io/en/stable/library.html#pyrudof.RudofConfig) instance which contains configuration parameters for customization. An instance of `RudofConfig` can be obtained from the default initialization method or can be read from a TOML file."
   ]
  },
  {
   "cell_type": "code",
   "execution_count": 3,
   "metadata": {
    "id": "OAV_KSrH6qn-"
   },
   "outputs": [],
   "source": [
    "rudof = Rudof(RudofConfig())"
   ]
  },
  {
   "cell_type": "markdown",
   "metadata": {},
   "source": [
    "## RDF data model"
   ]
  },
  {
   "cell_type": "markdown",
   "metadata": {},
   "source": [
    "RDF is based on statements or triples of the form `<subject> <predicate> <object>` where the predicates are identified by IRIs and in the most basic form, subjects and objects are also IRIs. An example could be: `<http://example.org/alice> <http://example.org/knows> <http:/example.org/bob>`. In `rudof`, it is possible to load a set of triples with as follows:"
   ]
  },
  {
   "cell_type": "code",
   "execution_count": 4,
   "metadata": {},
   "outputs": [],
   "source": [
    "rudof.read_data_str(\"<http://example.org/alice> <http://example.org/knows> <http://example.org/bob> .\")"
   ]
  },
  {
   "cell_type": "markdown",
   "metadata": {
    "id": "rCOlUq9H_5b2"
   },
   "source": [
    "## Handling RDF data"
   ]
  },
  {
   "cell_type": "code",
   "execution_count": 5,
   "metadata": {
    "id": "WH2rBJ5b_8go"
   },
   "outputs": [],
   "source": [
    "rudof.read_data_str(\"\"\"\n",
    "prefix : <http://example.org/>\n",
    "prefix xsd: <http://www.w3.org/2001/XMLSchema#>\n",
    "\n",
    ":x a :Person     ;\n",
    "   :name \"Alice\" ;\n",
    "   :knows :y     .\n",
    ":y a :Person     ;\n",
    "   :name \"Bob\"   ;\n",
    "   :knows :z     .\n",
    ":z a :Person     ;\n",
    "   :knows :x     .\n",
    "\"\"\")"
   ]
  },
  {
   "cell_type": "markdown",
   "metadata": {
    "id": "i-XbhuVvAwE3"
   },
   "source": [
    "The RDF data can easily be merged with other data."
   ]
  },
  {
   "cell_type": "code",
   "execution_count": 6,
   "metadata": {
    "id": "WMFRb2QqA0xA"
   },
   "outputs": [],
   "source": [
    "rudof.read_data_str(\"\"\"\n",
    "prefix : <http://example.org/>\n",
    "prefix xsd: <http://www.w3.org/2001/XMLSchema#>\n",
    "\n",
    ":u a :Person     ;\n",
    "   :name \"Dave\" ;\n",
    "   :knows :y     .\n",
    ":v a :Person     ;\n",
    "   :name \"Emily\" ;\n",
    "   :knows _:1    .\n",
    "_:1 a :Person     ;\n",
    "   :knows :x     .\n",
    "\"\"\")"
   ]
  },
  {
   "cell_type": "markdown",
   "metadata": {
    "id": "wP64tMo5BESa"
   },
   "source": [
    "And the data can be serialized to different formats."
   ]
  },
  {
   "cell_type": "code",
   "execution_count": 7,
   "metadata": {
    "colab": {
     "base_uri": "https://localhost:8080/"
    },
    "id": "yAUCSKN8BI3P",
    "outputId": "4cfd399e-77df-481d-d161-cefbe3d76eca"
   },
   "outputs": [
    {
     "name": "stdout",
     "output_type": "stream",
     "text": [
      "<http://example.org/v> <http://www.w3.org/1999/02/22-rdf-syntax-ns#type> <http://example.org/Person> .\n",
      "<http://example.org/v> <http://example.org/knows> _:1 .\n",
      "<http://example.org/v> <http://example.org/name> \"Emily\" .\n",
      "<http://example.org/u> <http://www.w3.org/1999/02/22-rdf-syntax-ns#type> <http://example.org/Person> .\n",
      "<http://example.org/u> <http://example.org/knows> <http://example.org/y> .\n",
      "<http://example.org/u> <http://example.org/name> \"Dave\" .\n",
      "<http://example.org/alice> <http://example.org/knows> <http://example.org/bob> .\n",
      "<http://example.org/z> <http://www.w3.org/1999/02/22-rdf-syntax-ns#type> <http://example.org/Person> .\n",
      "<http://example.org/z> <http://example.org/knows> <http://example.org/x> .\n",
      "<http://example.org/y> <http://www.w3.org/1999/02/22-rdf-syntax-ns#type> <http://example.org/Person> .\n",
      "<http://example.org/y> <http://example.org/knows> <http://example.org/z> .\n",
      "<http://example.org/y> <http://example.org/name> \"Bob\" .\n",
      "<http://example.org/x> <http://www.w3.org/1999/02/22-rdf-syntax-ns#type> <http://example.org/Person> .\n",
      "<http://example.org/x> <http://example.org/knows> <http://example.org/y> .\n",
      "<http://example.org/x> <http://example.org/name> \"Alice\" .\n",
      "_:1 <http://www.w3.org/1999/02/22-rdf-syntax-ns#type> <http://example.org/Person> .\n",
      "_:1 <http://example.org/knows> <http://example.org/x> .\n",
      "\n"
     ]
    }
   ],
   "source": [
    "from pyrudof import RDFFormat\n",
    "str = rudof.serialize_data(format=RDFFormat.NTriples)\n",
    "print(str)"
   ]
  },
  {
   "cell_type": "markdown",
   "metadata": {
    "id": "5aaV_e6KBpk_"
   },
   "source": [
    "## Running SPARQL queries"
   ]
  },
  {
   "cell_type": "code",
   "execution_count": 8,
   "metadata": {
    "id": "8SmLIHQ-Cwn-"
   },
   "outputs": [],
   "source": [
    "from pyrudof import Rudof, RudofConfig, QuerySolutions\n",
    "rudof = Rudof(RudofConfig())\n",
    "rudof.reset_all()"
   ]
  },
  {
   "cell_type": "code",
   "execution_count": 9,
   "metadata": {
    "id": "4gxr_0bgCf2u"
   },
   "outputs": [],
   "source": [
    "rdf = \"\"\"prefix : <http://example.org/>\n",
    ":alice a :Person ;\n",
    " :name \"Alice\"   ;\n",
    " :knows :bob     .\n",
    ":bob a :Person   ;\n",
    " :name \"Robert\"  .\n",
    "\"\"\"\n",
    "rudof.read_data_str(rdf)"
   ]
  },
  {
   "cell_type": "code",
   "execution_count": 10,
   "metadata": {
    "id": "ags_QBb4DVaC"
   },
   "outputs": [],
   "source": [
    "query = \"\"\"prefix : <http://example.org/>\n",
    "select * where {\n",
    "  ?x a :Person\n",
    "}\n",
    "\"\"\"\n",
    "\n",
    "results = rudof.run_query_str(query)\n"
   ]
  },
  {
   "cell_type": "markdown",
   "metadata": {
    "id": "w4x5cYh-CBnP"
   },
   "source": [
    "Show the results:"
   ]
  },
  {
   "cell_type": "code",
   "execution_count": 11,
   "metadata": {
    "colab": {
     "base_uri": "https://localhost:8080/"
    },
    "id": "t8Bp-fcSCDsW",
    "outputId": "67f5acfb-e340-47ec-8483-35db58fa00a1"
   },
   "outputs": [
    {
     "name": "stdout",
     "output_type": "stream",
     "text": [
      "?x -> <http://example.org/bob>\n",
      "\n",
      "?x -> <http://example.org/alice>\n",
      "\n"
     ]
    }
   ],
   "source": [
    "for result in iter(results):\n",
    "    print(result.show())"
   ]
  }
 ],
 "metadata": {
  "colab": {
   "provenance": [],
   "toc_visible": true
  },
  "kernelspec": {
   "display_name": "Python 3",
   "name": "python3"
  },
  "language_info": {
   "codemirror_mode": {
    "name": "ipython",
    "version": 3
   },
   "file_extension": ".py",
   "mimetype": "text/x-python",
   "name": "python",
   "nbconvert_exporter": "python",
   "pygments_lexer": "ipython3",
   "version": "3.12.3"
  }
 },
 "nbformat": 4,
 "nbformat_minor": 0
}