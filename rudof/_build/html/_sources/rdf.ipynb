{
  "cells": [
    {
      "cell_type": "markdown",
      "metadata": {
        "id": "sUm7kokski_K"
      },
      "source": [
        "# RDF"
      ]
    },
    {
      "cell_type": "markdown",
      "metadata": {
        "id": "NQTwWaE8_Yns"
      },
      "source": [
        "[![Open In Colab](https://colab.research.google.com/assets/colab-badge.svg)](\n",
        "https://colab.research.google.com/github/rudof-project/tutorials/blob/main/rudof/rdf.ipynb)"
      ]
    },
    {
      "cell_type": "markdown",
      "metadata": {
        "id": "LMC6kMsUp3de"
      },
      "source": []
    },
    {
      "cell_type": "markdown",
      "metadata": {
        "id": "FlaljkGCkn_Q"
      },
      "source": [
        "This document contains a short introduction to [RDF](https://www.w3.org/TR/rdf11-primer/) using [rudof](https://rudof-project.github.io/).\n"
      ]
    },
    {
      "cell_type": "markdown",
      "metadata": {
        "id": "whZHWrGG6Y8O"
      },
      "source": [
        "## Preliminaries: install and configure rudof"
      ]
    },
    {
      "cell_type": "markdown",
      "metadata": {
        "id": "YpF48mZrjqwo"
      },
      "source": [
        "The library is available as `pyrudof`."
      ]
    },
    {
      "cell_type": "code",
      "execution_count": 2,
      "metadata": {
        "colab": {
          "base_uri": "https://localhost:8080/"
        },
        "id": "voGWk2uO6gcP",
        "outputId": "08df34b8-284e-4832-8e6d-1e15b34f4882"
      },
      "outputs": [
        {
          "output_type": "stream",
          "name": "stdout",
          "text": [
            "Collecting pyrudof\n",
            "  Downloading pyrudof-0.1.121-cp37-abi3-manylinux_2_17_x86_64.manylinux2014_x86_64.whl.metadata (1.9 kB)\n",
            "Downloading pyrudof-0.1.121-cp37-abi3-manylinux_2_17_x86_64.manylinux2014_x86_64.whl (10.2 MB)\n",
            "\u001b[2K   \u001b[90m━━━━━━━━━━━━━━━━━━━━━━━━━━━━━━━━━━━━━━━━\u001b[0m \u001b[32m10.2/10.2 MB\u001b[0m \u001b[31m62.4 MB/s\u001b[0m eta \u001b[36m0:00:00\u001b[0m\n",
            "\u001b[?25hInstalling collected packages: pyrudof\n",
            "Successfully installed pyrudof-0.1.121\n"
          ]
        }
      ],
      "source": [
        "!pip install pyrudof"
      ]
    },
    {
      "cell_type": "markdown",
      "metadata": {
        "id": "FzsA78qu-xXP"
      },
      "source": [
        "The main entry point if a class called [`Rudof`](https://pyrudof.readthedocs.io/en/stable/library.html#rudof) through which most of the functionality is provided."
      ]
    },
    {
      "cell_type": "code",
      "execution_count": 3,
      "metadata": {
        "id": "I3jvDAPBJ3OQ"
      },
      "outputs": [],
      "source": [
        "from pyrudof import Rudof, RudofConfig"
      ]
    },
    {
      "cell_type": "markdown",
      "metadata": {
        "id": "0Io7V7y9_G_P"
      },
      "source": [
        "In order to initialize that class, it is possible to pass a [`RudofConfig`](https://pyrudof.readthedocs.io/en/stable/library.html#pyrudof.RudofConfig) instance which contains configuration parameters for customization. An instance of `RudofConfig` can be obtained from the default initialization method or can be read from a TOML file."
      ]
    },
    {
      "cell_type": "code",
      "execution_count": 4,
      "metadata": {
        "id": "OAV_KSrH6qn-"
      },
      "outputs": [],
      "source": [
        "rudof = Rudof(RudofConfig())"
      ]
    },
    {
      "cell_type": "markdown",
      "metadata": {
        "id": "9clJ_PyQ_Ynv"
      },
      "source": [
        "## RDF data model"
      ]
    },
    {
      "cell_type": "markdown",
      "metadata": {
        "id": "BeBPu1Fo_Ynv"
      },
      "source": [
        "RDF is based on statements or triples of the form `<subject> <predicate> <object>` where the predicates are identified by IRIs and in the most basic form, subjects and objects are also IRIs. An example could be: `<http://example.org/alice> <http://example.org/knows> <http:/example.org/bob>`. In `rudof`, it is possible to load a set of triples with as follows:"
      ]
    },
    {
      "cell_type": "code",
      "execution_count": 5,
      "metadata": {
        "id": "BkdnrwYW_Ynv"
      },
      "outputs": [],
      "source": [
        "rudof.read_data_str(\"<http://example.org/alice> <http://example.org/knows> <http://example.org/bob> .\")"
      ]
    },
    {
      "cell_type": "markdown",
      "metadata": {
        "id": "rCOlUq9H_5b2"
      },
      "source": [
        "## Handling RDF data"
      ]
    },
    {
      "cell_type": "code",
      "execution_count": 6,
      "metadata": {
        "id": "WH2rBJ5b_8go"
      },
      "outputs": [],
      "source": [
        "rudof.read_data_str(\"\"\"\n",
        "prefix : <http://example.org/>\n",
        "prefix xsd: <http://www.w3.org/2001/XMLSchema#>\n",
        "\n",
        ":x a :Person     ;\n",
        "   :name \"Alice\" ;\n",
        "   :knows :y     .\n",
        ":y a :Person     ;\n",
        "   :name \"Bob\"   ;\n",
        "   :knows :z     .\n",
        ":z a :Person     ;\n",
        "   :knows :x     .\n",
        "\"\"\")"
      ]
    },
    {
      "cell_type": "markdown",
      "metadata": {
        "id": "i-XbhuVvAwE3"
      },
      "source": [
        "The RDF data can easily be merged with other data."
      ]
    },
    {
      "cell_type": "code",
      "execution_count": 7,
      "metadata": {
        "id": "WMFRb2QqA0xA"
      },
      "outputs": [],
      "source": [
        "rudof.read_data_str(\"\"\"\n",
        "prefix : <http://example.org/>\n",
        "prefix xsd: <http://www.w3.org/2001/XMLSchema#>\n",
        "\n",
        ":u a :Person     ;\n",
        "   :name \"Dave\" ;\n",
        "   :knows :y     .\n",
        ":v a :Person     ;\n",
        "   :name \"Emily\" ;\n",
        "   :knows _:1    .\n",
        "_:1 a :Person     ;\n",
        "   :knows :x     .\n",
        "\"\"\")"
      ]
    },
    {
      "cell_type": "markdown",
      "metadata": {
        "id": "wP64tMo5BESa"
      },
      "source": [
        "And the data can be serialized to different formats."
      ]
    },
    {
      "cell_type": "code",
      "execution_count": 8,
      "metadata": {
        "colab": {
          "base_uri": "https://localhost:8080/"
        },
        "id": "yAUCSKN8BI3P",
        "outputId": "c6a20ef5-bb77-4908-ed25-fce8a75afc77"
      },
      "outputs": [
        {
          "output_type": "stream",
          "name": "stdout",
          "text": [
            "<http://example.org/x> <http://example.org/name> \"Alice\" .\n",
            "<http://example.org/x> <http://example.org/knows> <http://example.org/y> .\n",
            "<http://example.org/x> <http://www.w3.org/1999/02/22-rdf-syntax-ns#type> <http://example.org/Person> .\n",
            "<http://example.org/v> <http://example.org/name> \"Emily\" .\n",
            "<http://example.org/v> <http://example.org/knows> _:1 .\n",
            "<http://example.org/v> <http://www.w3.org/1999/02/22-rdf-syntax-ns#type> <http://example.org/Person> .\n",
            "<http://example.org/y> <http://example.org/name> \"Bob\" .\n",
            "<http://example.org/y> <http://example.org/knows> <http://example.org/z> .\n",
            "<http://example.org/y> <http://www.w3.org/1999/02/22-rdf-syntax-ns#type> <http://example.org/Person> .\n",
            "<http://example.org/alice> <http://example.org/knows> <http://example.org/bob> .\n",
            "<http://example.org/u> <http://example.org/name> \"Dave\" .\n",
            "<http://example.org/u> <http://example.org/knows> <http://example.org/y> .\n",
            "<http://example.org/u> <http://www.w3.org/1999/02/22-rdf-syntax-ns#type> <http://example.org/Person> .\n",
            "<http://example.org/z> <http://example.org/knows> <http://example.org/x> .\n",
            "<http://example.org/z> <http://www.w3.org/1999/02/22-rdf-syntax-ns#type> <http://example.org/Person> .\n",
            "_:1 <http://example.org/knows> <http://example.org/x> .\n",
            "_:1 <http://www.w3.org/1999/02/22-rdf-syntax-ns#type> <http://example.org/Person> .\n",
            "\n"
          ]
        }
      ],
      "source": [
        "from pyrudof import RDFFormat\n",
        "str = rudof.serialize_data(format=RDFFormat.NTriples)\n",
        "print(str)"
      ]
    },
    {
      "cell_type": "markdown",
      "metadata": {
        "id": "5aaV_e6KBpk_"
      },
      "source": [
        "## Running SPARQL queries"
      ]
    },
    {
      "cell_type": "code",
      "execution_count": 48,
      "metadata": {
        "id": "8SmLIHQ-Cwn-"
      },
      "outputs": [],
      "source": [
        "from pyrudof import Rudof, RudofConfig, QuerySolutions\n",
        "rudof = Rudof(RudofConfig())\n",
        "rudof.reset_all()"
      ]
    },
    {
      "cell_type": "code",
      "execution_count": 49,
      "metadata": {
        "id": "4gxr_0bgCf2u"
      },
      "outputs": [],
      "source": [
        "rdf = \"\"\"\n",
        "prefix :    <http://example.org/>\n",
        "prefix xsd: <http://www.w3.org/2001/XMLSchema#>\n",
        "\n",
        ":alice a :Person ;\n",
        " :name      \"Alice\"                ;\n",
        " :birthDate \"2005-03-01\"^^xsd:date ;\n",
        " :worksFor  :acme                   .\n",
        ":bob a :Person   ;\n",
        " :name      \"Robert Smith\"         ;\n",
        " :birthDate \"2003-01-02\"^^xsd:date ;\n",
        " :worksFor  :acme  .\n",
        ":acme a :Company ;\n",
        " :name \"Acme Inc.\" .\n",
        "\"\"\"\n",
        "rudof.read_data_str(rdf)"
      ]
    },
    {
      "cell_type": "code",
      "execution_count": 50,
      "metadata": {
        "id": "ags_QBb4DVaC"
      },
      "outputs": [],
      "source": [
        "query = \"\"\"\n",
        "PREFIX : <http://example.org/>\n",
        "\n",
        "SELECT ?person ?name ?date ?company WHERE {\n",
        "  ?person a          :Person ;\n",
        "          :name      ?name   ;\n",
        "          :birthDate ?date   ;\n",
        "          :worksFor  ?c   .\n",
        "  ?c      :name      ?company .\n",
        "}\n",
        "\"\"\"\n",
        "\n",
        "results = rudof.run_query_str(query)\n"
      ]
    },
    {
      "cell_type": "markdown",
      "metadata": {
        "id": "w4x5cYh-CBnP"
      },
      "source": [
        "Show the results:"
      ]
    },
    {
      "cell_type": "code",
      "execution_count": 51,
      "metadata": {
        "colab": {
          "base_uri": "https://localhost:8080/"
        },
        "id": "t8Bp-fcSCDsW",
        "outputId": "0b2f9827-42b4-4590-f8e2-7acd96d89030"
      },
      "outputs": [
        {
          "output_type": "stream",
          "name": "stdout",
          "text": [
            "╭───┬─────────┬────────────────┬────────────────────────┬─────────────╮\n",
            "│   │ ?person │ ?name          │ ?date                  │ ?company    │\n",
            "├───┼─────────┼────────────────┼────────────────────────┼─────────────┤\n",
            "│ 1 │ :alice  │ \"Alice\"        │ \"2005-03-01\"^^xsd:date │ \"Acme Inc.\" │\n",
            "├───┼─────────┼────────────────┼────────────────────────┼─────────────┤\n",
            "│ 2 │ :bob    │ \"Robert Smith\" │ \"2003-01-02\"^^xsd:date │ \"Acme Inc.\" │\n",
            "╰───┴─────────┴────────────────┴────────────────────────┴─────────────╯\n",
            "\n"
          ]
        }
      ],
      "source": [
        "print(results.show())"
      ]
    }
  ],
  "metadata": {
    "colab": {
      "provenance": [],
      "toc_visible": true
    },
    "kernelspec": {
      "display_name": "Python 3",
      "name": "python3"
    },
    "language_info": {
      "name": "python"
    }
  },
  "nbformat": 4,
  "nbformat_minor": 0
}