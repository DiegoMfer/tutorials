{
  "cells": [
    {
      "cell_type": "markdown",
      "metadata": {
        "id": "sUm7kokski_K"
      },
      "source": [
        "# Using rudof to compare schemas"
      ]
    },
    {
      "cell_type": "markdown",
      "metadata": {
        "id": "LMC6kMsUp3de"
      },
      "source": []
    },
    {
      "cell_type": "markdown",
      "metadata": {},
      "source": [
        "[![Open In Colab](https://colab.research.google.com/assets/colab-badge.svg)](\n",
        "https://colab.research.google.com/github/<yourusername>/<yourrepo>/blob/main/book/notebooks/example.ipynb)"
      ]
    },
    {
      "cell_type": "code",
      "execution_count": null,
      "metadata": {},
      "outputs": [],
      "source": [
        "!pip install pyrudof"
      ]
    },
    {
      "cell_type": "code",
      "execution_count": null,
      "metadata": {},
      "outputs": [],
      "source": [
        "from pyrudof import Rudof, RudofConfig\n",
        "rudof = Rudof(RudofConfig())"
      ]
    },
    {
      "cell_type": "markdown",
      "metadata": {
        "id": "QtCQjCyUhkoI"
      },
      "source": [
        "## Comparing Schemas"
      ]
    },
    {
      "cell_type": "markdown",
      "metadata": {
        "id": "EtecYMyOhooQ"
      },
      "source": [
        "It is possible to use rudof to compare different schemas. For example:"
      ]
    },
    {
      "cell_type": "code",
      "execution_count": 61,
      "metadata": {
        "id": "2m7-w7NEhvzo"
      },
      "outputs": [],
      "source": [
        "schema1 = \"\"\"\n",
        " PREFIX : <http://example.org/>\n",
        " PREFIX xsd: <http://www.w3.org/2001/XMLSchema#>\n",
        " :Person {\n",
        "    :name xsd:string ;\n",
        "    :age xsd:integer ;\n",
        "    :weight xsd:float ;\n",
        "    :worksFor .\n",
        " }\n",
        "\"\"\";"
      ]
    },
    {
      "cell_type": "code",
      "execution_count": 62,
      "metadata": {
        "id": "u-DOFji_iIyw"
      },
      "outputs": [],
      "source": [
        "schema2 = \"\"\"\n",
        " PREFIX ex: <http://example.org/>\n",
        " PREFIX xsd: <http://www.w3.org/2001/XMLSchema#>\n",
        " ex:Person {\n",
        "    ex:name xsd:string ;\n",
        "    ex:birthDate xsd:date ;\n",
        "    ex:worksFor .\n",
        "}\n",
        "\"\"\""
      ]
    },
    {
      "cell_type": "code",
      "execution_count": 63,
      "metadata": {
        "id": "19TByao3icnw"
      },
      "outputs": [],
      "source": [
        "result = rudof.compare_schemas_str(\n",
        "    schema1, schema2,\n",
        "    \"shex\", \"shex\",\n",
        "    \"shexc\", \"shexc\",\n",
        "    None, None,\n",
        "    \"http://example.org/Person\", \"http://example.org/Person\"\n",
        "    )"
      ]
    },
    {
      "cell_type": "code",
      "execution_count": null,
      "metadata": {
        "id": "At6iW8MB0CYo"
      },
      "outputs": [],
      "source": [
        "print(f\"Result of comparison:\\n{result.as_json()}\")"
      ]
    }
  ],
  "metadata": {
    "colab": {
      "provenance": [],
      "toc_visible": true
    },
    "kernelspec": {
      "display_name": "Python 3",
      "name": "python3"
    },
    "language_info": {
      "name": "python"
    }
  },
  "nbformat": 4,
  "nbformat_minor": 0
}
