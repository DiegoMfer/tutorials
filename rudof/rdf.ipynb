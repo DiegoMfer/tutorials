{
  "cells": [
    {
      "cell_type": "markdown",
      "metadata": {
        "id": "sUm7kokski_K"
      },
      "source": [
        "# RDF"
      ]
    },
    {
      "cell_type": "markdown",
      "metadata": {
        "id": "lY2o8WN6f9hv"
      },
      "source": [
        "[![Open In Colab](https://colab.research.google.com/assets/colab-badge.svg)](\n",
        "https://colab.research.google.com/github/rudof-project/tutorials/blob/main/rudof/rdf.ipynb)"
      ]
    },
    {
      "cell_type": "markdown",
      "metadata": {
        "id": "LMC6kMsUp3de"
      },
      "source": []
    },
    {
      "cell_type": "markdown",
      "metadata": {
        "id": "FlaljkGCkn_Q"
      },
      "source": [
        "This document contains a short introduction to [RDF](https://www.w3.org/TR/rdf11-primer/) using [rudof](https://rudof-project.github.io/).\n"
      ]
    },
    {
      "cell_type": "markdown",
      "metadata": {
        "id": "whZHWrGG6Y8O"
      },
      "source": [
        "## Preliminaries: install and configure rudof"
      ]
    },
    {
      "cell_type": "markdown",
      "metadata": {
        "id": "YpF48mZrjqwo"
      },
      "source": [
        "The library is available as `pyrudof`."
      ]
    },
    {
      "cell_type": "code",
      "execution_count": 153,
      "metadata": {
        "colab": {
          "base_uri": "https://localhost:8080/"
        },
        "id": "voGWk2uO6gcP",
        "outputId": "326231d1-e4be-40d7-d5ee-87638d68266a"
      },
      "outputs": [
        {
          "output_type": "stream",
          "name": "stdout",
          "text": [
            "Requirement already satisfied: pyrudof in /usr/local/lib/python3.12/dist-packages (0.1.132)\n"
          ]
        }
      ],
      "source": [
        "!pip install pyrudof"
      ]
    },
    {
      "cell_type": "markdown",
      "metadata": {
        "id": "FzsA78qu-xXP"
      },
      "source": [
        "The main entry point if a class called [`Rudof`](https://pyrudof.readthedocs.io/en/stable/library.html#rudof) through which most of the functionality is provided."
      ]
    },
    {
      "cell_type": "code",
      "execution_count": 154,
      "metadata": {
        "id": "I3jvDAPBJ3OQ"
      },
      "outputs": [],
      "source": [
        "from pyrudof import Rudof, RudofConfig"
      ]
    },
    {
      "cell_type": "markdown",
      "metadata": {
        "id": "0Io7V7y9_G_P"
      },
      "source": [
        "In order to initialize that class, it is possible to pass a [`RudofConfig`](https://pyrudof.readthedocs.io/en/stable/library.html#pyrudof.RudofConfig) instance which contains configuration parameters for customization. An instance of `RudofConfig` can be obtained from the default initialization method or can be read from a TOML file."
      ]
    },
    {
      "cell_type": "code",
      "execution_count": 155,
      "metadata": {
        "id": "OAV_KSrH6qn-"
      },
      "outputs": [],
      "source": [
        "rudof = Rudof(RudofConfig())"
      ]
    },
    {
      "cell_type": "markdown",
      "source": [
        "We will use `Image` to visualize images of RDF graphs generated using `rudof` and `plantuml`."
      ],
      "metadata": {
        "id": "HYl1L9OPhiA4"
      }
    },
    {
      "cell_type": "code",
      "source": [
        "!pip install plantuml\n",
        "from IPython.display import Image # For displaying images"
      ],
      "metadata": {
        "colab": {
          "base_uri": "https://localhost:8080/"
        },
        "id": "dK1eGEMahgl4",
        "outputId": "77c06a99-71f0-40bf-f66d-65db479b4e65"
      },
      "execution_count": 156,
      "outputs": [
        {
          "output_type": "stream",
          "name": "stdout",
          "text": [
            "Requirement already satisfied: plantuml in /usr/local/lib/python3.12/dist-packages (0.3.0)\n",
            "Requirement already satisfied: httplib2 in /usr/local/lib/python3.12/dist-packages (from plantuml) (0.31.0)\n",
            "Requirement already satisfied: pyparsing<4,>=3.0.4 in /usr/local/lib/python3.12/dist-packages (from httplib2->plantuml) (3.2.5)\n"
          ]
        }
      ]
    },
    {
      "cell_type": "markdown",
      "source": [
        "The method `reset_all()` can be useful to clean the previous contents of `rudof`."
      ],
      "metadata": {
        "id": "em3sGdh7ivmI"
      }
    },
    {
      "cell_type": "markdown",
      "metadata": {
        "id": "VRpS4Ou4f9h8"
      },
      "source": [
        "## RDF data model"
      ]
    },
    {
      "cell_type": "markdown",
      "metadata": {
        "id": "xVXlEl0Mf9h8"
      },
      "source": [
        "RDF is based on statements or triples of the form `<subject> <predicate> <object>` where the predicates are identified by IRIs and in the most basic form, subjects and objects are also IRIs. An example could be: `<http://example.org/alice> <http://example.org/knows> <http:/example.org/bob>`.\n",
        "\n",
        "In `rudof`, it is possible to load a triple as follows:"
      ]
    },
    {
      "cell_type": "code",
      "execution_count": 157,
      "metadata": {
        "id": "OUpFt4F2f9h9"
      },
      "outputs": [],
      "source": [
        "rudof.read_data_str(\"<http://example.org/alice> <http://example.org/knows> <http://example.org/bob> .\")"
      ]
    },
    {
      "cell_type": "markdown",
      "source": [
        "RDF graphs are defined as a set of triples. In the basic notation, a set of triples is just one triple after another separated by a dot. So we can add more statements as:"
      ],
      "metadata": {
        "id": "JZ63xDuAgK8Q"
      }
    },
    {
      "cell_type": "code",
      "source": [
        "rudof.read_data_str(\"\"\"\n",
        "  <http://example.org/alice> <http://example.org/knows> <http://example.org/carol> .\n",
        "  <http://example.org/alice> <http://example.org/worksFor> <http://example.org/acme> .\n",
        "  <http://example.org/alice> <http://example.org/birthPlace> <http://example.org/spain> .\n",
        "  <http://example.org/carol> <http://example.org/knows> <http://example.org/bob> .\n",
        "  <http://example.org/bob> <http://example.org/knows> <http://example.org/alice> .\n",
        "\"\"\")"
      ],
      "metadata": {
        "id": "ABysCqY6gVC4"
      },
      "execution_count": 158,
      "outputs": []
    },
    {
      "cell_type": "markdown",
      "source": [
        "Rudof can be used to visualize small RDF triples."
      ],
      "metadata": {
        "id": "3B0NzINlhPP5"
      }
    },
    {
      "cell_type": "code",
      "source": [
        "uml = rudof.data2plantuml_file('out.puml')\n",
        "!python -m plantuml out.puml\n",
        "Image(f\"out.png\")"
      ],
      "metadata": {
        "colab": {
          "base_uri": "https://localhost:8080/",
          "height": 309
        },
        "id": "J3aF2o7ZhOT4",
        "outputId": "21bf2bee-0c22-4331-c9b8-ed4b53c837fb"
      },
      "execution_count": 159,
      "outputs": [
        {
          "output_type": "stream",
          "name": "stdout",
          "text": [
            "[{'filename': 'out.puml', 'gen_success': True}]\n"
          ]
        },
        {
          "output_type": "execute_result",
          "data": {
            "image/png": "[encoded data removed]",
            "text/plain": [
              "<IPython.core.display.Image object>"
            ]
          },
          "metadata": {},
          "execution_count": 159
        }
      ]
    },
    {
      "cell_type": "markdown",
      "source": [
        "In order to obtain interoperability, it is better to employ IRIs of some agreed vocabularies. In this case, we could use the predicate [`<https://schema.org/knows>`](https://schema.org/knows), [`https://schema.org/worksFor`](https://schema.org/worksFor) and [`https://schema.org/birthPlace`](https://schema.org/birthPlace) from [Schema.org](https://schema.org/), and [`<http://dbpedia.org/resource/Spain`] from [DBpedia](https://dbpedia.org/) to represent Spain."
      ],
      "metadata": {
        "id": "rz_bdu7skKpB"
      }
    },
    {
      "cell_type": "code",
      "source": [
        "rudof.reset_all()\n",
        "rudof.read_data_str(\"\"\"\n",
        "  <http://example.org/alice> <https://schema.org/knows>      <http://example.org/carol> .\n",
        "  <http://example.org/alice> <https://schema.org/worksFor>   <http://example.org/acme> .\n",
        "  <http://example.org/alice> <https://schema.org/birthPlace> <http://dbpedia.org/resource/Spain> .\n",
        "  <http://example.org/carol> <https://schema.org/knows>      <http://example.org/bob> .\n",
        "  <http://example.org/bob>   <http://schema.org/knows>       <http://example.org/alice> .\n",
        "\"\"\")"
      ],
      "metadata": {
        "id": "MxTUdR42lkBx"
      },
      "execution_count": 160,
      "outputs": []
    },
    {
      "cell_type": "code",
      "source": [
        "!rm -f out.puml out.png\n",
        "uml = rudof.data2plantuml_file('out.puml')\n",
        "!python -m plantuml out.puml\n",
        "Image(f\"out.png\")"
      ],
      "metadata": {
        "colab": {
          "base_uri": "https://localhost:8080/",
          "height": 423
        },
        "id": "kS7XKzpnl5jA",
        "outputId": "664d58de-391d-4497-f69c-d55b94b0ba3d"
      },
      "execution_count": 161,
      "outputs": [
        {
          "output_type": "stream",
          "name": "stdout",
          "text": [
            "[{'filename': 'out.puml', 'gen_success': True}]\n"
          ]
        },
        {
          "output_type": "execute_result",
          "data": {
            "image/png": "[encoded data removed]",
            "text/plain": [
              "<IPython.core.display.Image object>"
            ]
          },
          "metadata": {},
          "execution_count": 161
        }
      ]
    },
    {
      "cell_type": "markdown",
      "source": [
        "Having long IRIs can make RDF difficult to read. In order to have more readable RDF documents, it is possible to declare prefixes for some URIs and use qualified names formed by `prefix:name`. So the previous example could be rewritten as:"
      ],
      "metadata": {
        "id": "TsG9FiAijES4"
      }
    },
    {
      "cell_type": "markdown",
      "source": [
        "### Prefixed declarations and qualified names"
      ],
      "metadata": {
        "id": "chvMSZfln0tQ"
      }
    },
    {
      "cell_type": "code",
      "source": [
        "rudof.reset_all()\n",
        "rudof.read_data_str(\"\"\"\n",
        " prefix : <http://example.org/>\n",
        " prefix schema: <http://schema.org/>\n",
        " prefix dbr: <http://dbpedia.org/resource/>\n",
        "\n",
        " :alice schema:knows :carol .\n",
        " :alice schema:worksFor :acme .\n",
        " :alice schema:birthPlace :spain .\n",
        " :carol schema:knows :bob .\n",
        " :bob   schema:knows :alice .\n",
        "\"\"\")"
      ],
      "metadata": {
        "id": "IHnFyEQ0jkcZ"
      },
      "execution_count": 162,
      "outputs": []
    },
    {
      "cell_type": "code",
      "source": [
        "!rm -f out.puml out.png\n",
        "uml = rudof.data2plantuml_file('out.puml')\n",
        "!python -m plantuml out.puml\n",
        "Image(f\"out.png\")"
      ],
      "metadata": {
        "colab": {
          "base_uri": "https://localhost:8080/",
          "height": 423
        },
        "id": "lo5shaNRmIOg",
        "outputId": "330214b1-4ce0-4e3b-a068-3fbf2db84c85"
      },
      "execution_count": 163,
      "outputs": [
        {
          "output_type": "stream",
          "name": "stdout",
          "text": [
            "[{'filename': 'out.puml', 'gen_success': True}]\n"
          ]
        },
        {
          "output_type": "execute_result",
          "data": {
            "image/png": "[encoded data removed]",
            "text/plain": [
              "<IPython.core.display.Image object>"
            ]
          },
          "metadata": {},
          "execution_count": 163
        }
      ]
    },
    {
      "cell_type": "markdown",
      "source": [
        "### RDF Literals"
      ],
      "metadata": {
        "id": "1REjFD4Qnv3B"
      }
    },
    {
      "cell_type": "markdown",
      "source": [],
      "metadata": {
        "id": "WJr-D158p7dA"
      }
    },
    {
      "cell_type": "markdown",
      "source": [
        "Apart from IRIs, the objects in triples can also be literals, which can be seen as constants. There are 3 types of literals:\n",
        "\n",
        "\n",
        "* Plain strings, like `\"Robert Smith\"`\n",
        "* Language tagged strings, like `\"Spain\"@en` or `\"España@es\"`\n",
        "* Datatype literals, like `\"23\"^^xsd:integer`\n"
      ],
      "metadata": {
        "id": "ASPo4p_AmVIg"
      }
    },
    {
      "cell_type": "code",
      "source": [
        "rudof.reset_all()\n",
        "rudof.read_data_str(\"\"\"\n",
        " prefix : <http://example.org/>\n",
        " prefix schema: <http://schema.org/>\n",
        " prefix dbr: <http://dbpedia.org/resource/>\n",
        " prefix xsd: <http://www.w3.org/2001/XMLSchema#>\n",
        "\n",
        " :alice schema:knows :carol .\n",
        " :alice schema:worksFor :acme .\n",
        " :alice schema:birthPlace dbr:Spain .\n",
        " :alice schema:birthDate \"1990-01-01\"^^xsd:date .\n",
        " :carol schema:knows :bob .\n",
        " :bob   schema:name \"Robert Smith\" .\n",
        " :bob   schema:knows :alice .\n",
        " :acme  schema:name \"Acme Inc.\" .\n",
        "\"\"\")\n"
      ],
      "metadata": {
        "id": "vSQgU9lgnMBA"
      },
      "execution_count": 164,
      "outputs": []
    },
    {
      "cell_type": "code",
      "source": [
        "!rm -f out.puml out.png\n",
        "uml = rudof.data2plantuml_file('out.puml')\n",
        "!python -m plantuml out.puml\n",
        "Image(f\"out.png\")"
      ],
      "metadata": {
        "colab": {
          "base_uri": "https://localhost:8080/",
          "height": 423
        },
        "id": "9QOyMRGZnjRQ",
        "outputId": "4eb50db9-7c1f-46d0-e945-97673ec02c57"
      },
      "execution_count": 165,
      "outputs": [
        {
          "output_type": "stream",
          "name": "stdout",
          "text": [
            "[{'filename': 'out.puml', 'gen_success': True}]\n"
          ]
        },
        {
          "output_type": "execute_result",
          "data": {
            "image/png": "[encoded data removed]",
            "text/plain": [
              "<IPython.core.display.Image object>"
            ]
          },
          "metadata": {},
          "execution_count": 165
        }
      ]
    },
    {
      "cell_type": "markdown",
      "source": [
        "### Blank nodes"
      ],
      "metadata": {
        "id": "fREUeuE0n9EI"
      }
    },
    {
      "cell_type": "markdown",
      "source": [
        "Sometimes, we want to add some statements about things which don't have some IRI. For example, we may want to say that `:alice` knows someone who was born in Italy that works for `Acme` as:"
      ],
      "metadata": {
        "id": "i_jw0H8xn_Zw"
      }
    },
    {
      "cell_type": "code",
      "source": [
        "rudof.reset_all()\n",
        "rudof.read_data_str(\"\"\"\n",
        " prefix : <http://example.org/>\n",
        " prefix schema: <http://schema.org/>\n",
        " prefix dbr: <http://dbpedia.org/resource/>\n",
        " prefix xsd: <http://www.w3.org/2001/XMLSchema#>\n",
        "\n",
        " :alice schema:knows _:1 .\n",
        " _:1 schema:worksFor :acme .\n",
        " _:1 schema:birthPlace dbr:Italy .\n",
        "\"\"\")\n",
        "#"
      ],
      "metadata": {
        "id": "144Ne2RWocaB"
      },
      "execution_count": 166,
      "outputs": []
    },
    {
      "cell_type": "code",
      "source": [
        "!rm -f out.puml out.png\n",
        "uml = rudof.data2plantuml_file('out.puml')\n",
        "!python -m plantuml out.puml\n",
        "Image(f\"out.png\")"
      ],
      "metadata": {
        "colab": {
          "base_uri": "https://localhost:8080/",
          "height": 293
        },
        "id": "w0bqufypo4oI",
        "outputId": "c60d31e1-f4d9-4ef6-b8bb-31a194406605"
      },
      "execution_count": 167,
      "outputs": [
        {
          "output_type": "stream",
          "name": "stdout",
          "text": [
            "[{'filename': 'out.puml', 'gen_success': True}]\n"
          ]
        },
        {
          "output_type": "execute_result",
          "data": {
            "image/png": "[encoded data removed]",
            "text/plain": [
              "<IPython.core.display.Image object>"
            ]
          },
          "metadata": {},
          "execution_count": 167
        }
      ]
    },
    {
      "cell_type": "markdown",
      "source": [
        "The notation `_:id` represents a blank node. The `id` of the blank node can be used to refer to it in the definition of the RDF graph, but there is no warranty that it will be preserved internally.\n",
        "\n",
        "If we want to add that `:bob` knows someone who works for `Acme` and was born in `Germany`, we can do the following:"
      ],
      "metadata": {
        "id": "LP56fbnzpAuJ"
      }
    },
    {
      "cell_type": "code",
      "source": [
        "rudof.read_data_str(\"\"\"\n",
        " prefix : <http://example.org/>\n",
        " prefix schema: <http://schema.org/>\n",
        " prefix dbr: <http://dbpedia.org/resource/>\n",
        " prefix xsd: <http://www.w3.org/2001/XMLSchema#>\n",
        "\n",
        " :bob schema:knows _:2 .\n",
        " _:2 schema:worksFor :acme .\n",
        " _:2 schema:birthPlace dbr:Germany .\n",
        "\"\"\")"
      ],
      "metadata": {
        "id": "TuoQmgzYpjc6"
      },
      "execution_count": 168,
      "outputs": []
    },
    {
      "cell_type": "code",
      "source": [
        "# @title\n",
        "!rm -f out.puml out.png\n",
        "uml = rudof.data2plantuml_file('out.puml')\n",
        "!python -m plantuml out.puml\n",
        "Image(f\"out.png\")"
      ],
      "metadata": {
        "cellView": "form",
        "id": "qUfk-2CDKwda",
        "outputId": "8de5785b-debd-49e4-d961-e55e27c24318",
        "colab": {
          "base_uri": "https://localhost:8080/",
          "height": 293
        }
      },
      "execution_count": 169,
      "outputs": [
        {
          "output_type": "stream",
          "name": "stdout",
          "text": [
            "[{'filename': 'out.puml', 'gen_success': True}]\n"
          ]
        },
        {
          "output_type": "execute_result",
          "data": {
            "image/png": "[encoded data removed]",
            "text/plain": [
              "<IPython.core.display.Image object>"
            ]
          },
          "metadata": {},
          "execution_count": 169
        }
      ]
    },
    {
      "cell_type": "markdown",
      "metadata": {
        "id": "rCOlUq9H_5b2"
      },
      "source": [
        "### Merging RDF data"
      ]
    },
    {
      "cell_type": "code",
      "source": [
        "rudof.reset_all()"
      ],
      "metadata": {
        "id": "cGULvJW1KYMv"
      },
      "execution_count": 170,
      "outputs": []
    },
    {
      "cell_type": "markdown",
      "source": [
        "You may have noticed that we did `rudof.reset_all()` in some of the previous examples. The reason is that by default, the `rdf_data_str()` method in `rudof`, merges the current RDF data with the data that has been read.\n",
        "\n",
        "As RDF data models are defined as sets of triples, they support merging quite easily.\n",
        "\n",
        "One RDF graph plus another RDf graph is another RDF graph. This is feature can be quite powerful and is one of the reasons why RDF can help data interoperability."
      ],
      "metadata": {
        "id": "3ah3EWf5v8Zh"
      }
    },
    {
      "cell_type": "code",
      "execution_count": 171,
      "metadata": {
        "id": "WH2rBJ5b_8go"
      },
      "outputs": [],
      "source": [
        "rudof.read_data_str(\"\"\"\n",
        "prefix : <http://example.org/>\n",
        "prefix xsd: <http://www.w3.org/2001/XMLSchema#>\n",
        "prefix rdf: <http://www.w3.org/1999/02/22-rdf-syntax-ns#>\n",
        "\n",
        ":x a :Person     ;\n",
        "   :name \"Alice\" ;\n",
        "   :knows :y     .\n",
        ":y a :Person     ;\n",
        "   :name \"Bob\"   ;\n",
        "   :knows :x     .\n",
        "\"\"\")"
      ]
    },
    {
      "cell_type": "markdown",
      "metadata": {
        "id": "i-XbhuVvAwE3"
      },
      "source": [
        "The RDF data can easily be merged with other data."
      ]
    },
    {
      "cell_type": "code",
      "execution_count": 172,
      "metadata": {
        "id": "WMFRb2QqA0xA"
      },
      "outputs": [],
      "source": [
        "rudof.read_data_str(\"\"\"\n",
        "prefix : <http://example.org/>\n",
        "prefix xsd: <http://www.w3.org/2001/XMLSchema#>\n",
        "prefix rdf: <http://www.w3.org/1999/02/22-rdf-syntax-ns#>\n",
        "\n",
        ":u a :Person     ;\n",
        "   :name \"Dave\"  ;\n",
        "   :knows :x, :y .\n",
        "\"\"\", merge = True)"
      ]
    },
    {
      "cell_type": "code",
      "source": [
        "# @title\n",
        "!rm -f out.puml out.png\n",
        "uml = rudof.data2plantuml_file('out.puml')\n",
        "!python -m plantuml out.puml\n",
        "Image(f\"out.png\")"
      ],
      "metadata": {
        "id": "-VdA75iDK63x",
        "outputId": "a4c8b96c-336e-429d-9bd8-1e753274c0e3",
        "colab": {
          "base_uri": "https://localhost:8080/",
          "height": 423
        },
        "cellView": "form"
      },
      "execution_count": 173,
      "outputs": [
        {
          "output_type": "stream",
          "name": "stdout",
          "text": [
            "[{'filename': 'out.puml', 'gen_success': True}]\n"
          ]
        },
        {
          "output_type": "execute_result",
          "data": {
            "image/png": "[encoded data removed]",
            "text/plain": [
              "<IPython.core.display.Image object>"
            ]
          },
          "metadata": {},
          "execution_count": 173
        }
      ]
    },
    {
      "cell_type": "markdown",
      "metadata": {
        "id": "wP64tMo5BESa"
      },
      "source": []
    },
    {
      "cell_type": "markdown",
      "source": [
        "### Different RDF data formats"
      ],
      "metadata": {
        "id": "NFVONtMfKdAC"
      }
    },
    {
      "cell_type": "markdown",
      "source": [
        "There are several RDF data formats like:\n",
        "\n",
        "\n",
        "*   N-Triples: this is the most basic format where an RDF graph is defined as a list of triples ended by a dot. This format doesn't define any syntactic sugar like prefix declarations or other abreviations.\n",
        "*   Turtle: this format is intended for human-readability. It contains some syntactic sugar like prefix declarations, numeric literals or joining together statements with the same subject-predicate using a comma or the same subject using a semicolon.\n",
        "* RDF/XML: this format was one of the first RDF formats and was defined when XML was popular.\n",
        "* JSON-LD: this format is a representation of RDF in JSON.\n",
        "\n",
        "Rudof can be used to convert between different RDF formats.\n"
      ],
      "metadata": {
        "id": "VYBJudORK-c5"
      }
    },
    {
      "cell_type": "markdown",
      "source": [
        "The following code converts the current RDF data to N-Triples:"
      ],
      "metadata": {
        "id": "1mHDEhogL746"
      }
    },
    {
      "cell_type": "code",
      "execution_count": 174,
      "metadata": {
        "colab": {
          "base_uri": "https://localhost:8080/"
        },
        "id": "yAUCSKN8BI3P",
        "outputId": "43bb3e27-49bd-4f90-a2b7-b2fb0e81482c"
      },
      "outputs": [
        {
          "output_type": "stream",
          "name": "stdout",
          "text": [
            "<http://example.org/u> <http://example.org/name> \"Dave\" .\n",
            "<http://example.org/u> <http://example.org/knows> <http://example.org/y> .\n",
            "<http://example.org/u> <http://example.org/knows> <http://example.org/x> .\n",
            "<http://example.org/u> <http://www.w3.org/1999/02/22-rdf-syntax-ns#type> <http://example.org/Person> .\n",
            "<http://example.org/y> <http://example.org/name> \"Bob\" .\n",
            "<http://example.org/y> <http://example.org/knows> <http://example.org/x> .\n",
            "<http://example.org/y> <http://www.w3.org/1999/02/22-rdf-syntax-ns#type> <http://example.org/Person> .\n",
            "<http://example.org/x> <http://example.org/name> \"Alice\" .\n",
            "<http://example.org/x> <http://example.org/knows> <http://example.org/y> .\n",
            "<http://example.org/x> <http://www.w3.org/1999/02/22-rdf-syntax-ns#type> <http://example.org/Person> .\n",
            "\n"
          ]
        }
      ],
      "source": [
        "from pyrudof import RDFFormat\n",
        "str = rudof.serialize_data(format=RDFFormat.NTriples)\n",
        "print(str)"
      ]
    },
    {
      "cell_type": "markdown",
      "source": [
        "The following code converts it to RDF/XML:"
      ],
      "metadata": {
        "id": "UP5AmbtnMBAq"
      }
    },
    {
      "cell_type": "code",
      "source": [
        "str = rudof.serialize_data(format=RDFFormat.RDFXML)\n",
        "print(str)"
      ],
      "metadata": {
        "id": "0rlhdeDMMFbf",
        "outputId": "d4e02c33-51c8-49af-9992-9849e8131493",
        "colab": {
          "base_uri": "https://localhost:8080/"
        }
      },
      "execution_count": 175,
      "outputs": [
        {
          "output_type": "stream",
          "name": "stdout",
          "text": [
            "<?xml version=\"1.0\" encoding=\"UTF-8\"?>\n",
            "<rdf:RDF xmlns=\"http://example.org/\" xmlns:rdf=\"http://www.w3.org/1999/02/22-rdf-syntax-ns#\" xmlns:xsd=\"http://www.w3.org/2001/XMLSchema#\">\n",
            "\t<rdf:Description rdf:about=\"http://example.org/u\">\n",
            "\t\t<name>Dave</name>\n",
            "\t\t<knows rdf:resource=\"http://example.org/y\"/>\n",
            "\t\t<knows rdf:resource=\"http://example.org/x\"/>\n",
            "\t\t<rdf:type rdf:resource=\"http://example.org/Person\"/>\n",
            "\t</rdf:Description>\n",
            "\t<rdf:Description rdf:about=\"http://example.org/y\">\n",
            "\t\t<name>Bob</name>\n",
            "\t\t<knows rdf:resource=\"http://example.org/x\"/>\n",
            "\t\t<rdf:type rdf:resource=\"http://example.org/Person\"/>\n",
            "\t</rdf:Description>\n",
            "\t<rdf:Description rdf:about=\"http://example.org/x\">\n",
            "\t\t<name>Alice</name>\n",
            "\t\t<knows rdf:resource=\"http://example.org/y\"/>\n",
            "\t\t<rdf:type rdf:resource=\"http://example.org/Person\"/>\n",
            "\t</rdf:Description>\n",
            "</rdf:RDF>\n"
          ]
        }
      ]
    },
    {
      "cell_type": "markdown",
      "source": [
        "The following code converts it to JSON-LD:"
      ],
      "metadata": {
        "id": "Nxvs7SYQMKXJ"
      }
    },
    {
      "cell_type": "code",
      "source": [
        "str = rudof.serialize_data(format=RDFFormat.JsonLd)\n",
        "print(str)"
      ],
      "metadata": {
        "id": "hOMMi7rcMNZY",
        "outputId": "93520d65-09f2-46c9-b3f3-e6eba25c4953",
        "colab": {
          "base_uri": "https://localhost:8080/"
        }
      },
      "execution_count": 176,
      "outputs": [
        {
          "output_type": "stream",
          "name": "stdout",
          "text": [
            "[{\"@id\":\"http://example.org/u\",\"http://example.org/name\":[{\"@value\":\"Dave\"}],\"http://example.org/knows\":[{\"@id\":\"http://example.org/y\"},{\"@id\":\"http://example.org/x\"}],\"http://www.w3.org/1999/02/22-rdf-syntax-ns#type\":[{\"@id\":\"http://example.org/Person\"}]},{\"@id\":\"http://example.org/y\",\"http://example.org/name\":[{\"@value\":\"Bob\"}],\"http://example.org/knows\":[{\"@id\":\"http://example.org/x\"}],\"http://www.w3.org/1999/02/22-rdf-syntax-ns#type\":[{\"@id\":\"http://example.org/Person\"}]},{\"@id\":\"http://example.org/x\",\"http://example.org/name\":[{\"@value\":\"Alice\"}],\"http://example.org/knows\":[{\"@id\":\"http://example.org/y\"}],\"http://www.w3.org/1999/02/22-rdf-syntax-ns#type\":[{\"@id\":\"http://example.org/Person\"}]}]\n"
          ]
        }
      ]
    },
    {
      "cell_type": "code",
      "source": [
        "rudof.reset_all()"
      ],
      "metadata": {
        "id": "Y7cVfzQXdk7N"
      },
      "execution_count": 177,
      "outputs": []
    },
    {
      "cell_type": "markdown",
      "source": [
        "### Information about a node in an RDF graph"
      ],
      "metadata": {
        "id": "T0xHPlXXdEHt"
      }
    },
    {
      "cell_type": "markdown",
      "source": [
        "rudof provides a command to get information about the neighbours of a node in an RDF graph. The neighbours are the outgoing arcs or the incoming arcs.\n",
        "\n",
        "For example:"
      ],
      "metadata": {
        "id": "EXUgunAhdUM9"
      }
    },
    {
      "cell_type": "code",
      "source": [
        "rudof.read_data_str(\"\"\"\n",
        "prefix : <http://example.org/>\n",
        "prefix rdf: <http://www.w3.org/1999/02/22-rdf-syntax-ns#>\n",
        "prefix xsd: <http://www.w3.org/2001/XMLSchema#>\n",
        "\n",
        ":alice a :Person ;\n",
        " :name      \"Alice\"                ;\n",
        " :birthDate \"2005-03-01\"^^xsd:date ;\n",
        " :worksFor  :acme                  ;\n",
        " :knows     :bob                   .\n",
        ":bob a :Person   ;\n",
        " :name      \"Robert Smith\"         ;\n",
        " :birthDate \"2003-01-02\"^^xsd:date ;\n",
        " :worksFor  :acme                  ;\n",
        " :knows     :alice                 .\n",
        ":acme a :Company ;\n",
        " :name \"Acme Inc.\" .\n",
        "\"\"\")"
      ],
      "metadata": {
        "id": "JUELe-EWdm5E"
      },
      "execution_count": 178,
      "outputs": []
    },
    {
      "cell_type": "code",
      "source": [
        "print(rudof.node_info(\":alice\", []))"
      ],
      "metadata": {
        "colab": {
          "base_uri": "https://localhost:8080/"
        },
        "id": "1qHhhQO5d1P1",
        "outputId": "f0ec47f6-9526-4b13-bfa4-21146e9bb201"
      },
      "execution_count": 179,
      "outputs": [
        {
          "output_type": "stream",
          "name": "stdout",
          "text": [
            "Outgoing arcs\n",
            ":alice\n",
            "├─── :birthDate ─► \"2005-03-01\"^^xsd:date\n",
            "├─── :knows ─► :bob\n",
            "├─── :name ─► \"Alice\"\n",
            "├─── :worksFor ─► :acme\n",
            "└─── rdf:type ─► :Person\n",
            "\n",
            "\n"
          ]
        }
      ]
    },
    {
      "cell_type": "markdown",
      "source": [
        "If you want to get the incoming edges, you can use:"
      ],
      "metadata": {
        "id": "TNfbl4oTezfq"
      }
    },
    {
      "cell_type": "code",
      "source": [
        "print(rudof.node_info(\":alice\", [], show_incoming = True, show_outgoing = False))"
      ],
      "metadata": {
        "colab": {
          "base_uri": "https://localhost:8080/"
        },
        "id": "qOWeh80ae76k",
        "outputId": "acfcda26-f5fb-4a19-a9a1-cc701d3cf21b"
      },
      "execution_count": 180,
      "outputs": [
        {
          "output_type": "stream",
          "name": "stdout",
          "text": [
            "Incoming arcs\n",
            ":alice\n",
            "▲\n",
            "└─── :knows ── :bob\n",
            "\n",
            "\n"
          ]
        }
      ]
    },
    {
      "cell_type": "markdown",
      "source": [
        "The list of predicates can be used to filter only the predicates that we are interested in:"
      ],
      "metadata": {
        "id": "5bBySaCTfiVd"
      }
    },
    {
      "cell_type": "code",
      "source": [
        "print(rudof.node_info(\":alice\", [ \"rdf:type\", \":worksFor\"]))"
      ],
      "metadata": {
        "colab": {
          "base_uri": "https://localhost:8080/"
        },
        "id": "Hq03kPw9foCt",
        "outputId": "ad518b0b-3a60-44aa-ca62-2dd187221e3a"
      },
      "execution_count": 181,
      "outputs": [
        {
          "output_type": "stream",
          "name": "stdout",
          "text": [
            "Outgoing arcs\n",
            ":alice\n",
            "├─── :worksFor ─► :acme\n",
            "└─── rdf:type ─► :Person\n",
            "\n",
            "\n"
          ]
        }
      ]
    },
    {
      "cell_type": "markdown",
      "source": [
        "The command `node_info` can be useful when you work with SPARQL endpoints, for example:"
      ],
      "metadata": {
        "id": "AaccoaDKf1I-"
      }
    },
    {
      "cell_type": "code",
      "source": [
        "rudof = Rudof(RudofConfig())"
      ],
      "metadata": {
        "id": "spUCDMQTgiNG"
      },
      "execution_count": 182,
      "outputs": []
    },
    {
      "cell_type": "code",
      "source": [
        "rudof.use_endpoint(\"dbpedia\")"
      ],
      "metadata": {
        "id": "yuMfkmGbgBZF"
      },
      "execution_count": 183,
      "outputs": []
    },
    {
      "cell_type": "code",
      "source": [
        "print(rudof.node_info(\"dbr:Oviedo\", [\"foaf:depiction\"]))"
      ],
      "metadata": {
        "colab": {
          "base_uri": "https://localhost:8080/"
        },
        "id": "ET2FE-QKgFAN",
        "outputId": "9f59c111-f74a-4b4d-8b7f-4cb770897116"
      },
      "execution_count": 184,
      "outputs": [
        {
          "output_type": "stream",
          "name": "stdout",
          "text": [
            "Outgoing arcs\n",
            "dbr:Oviedo\n",
            "├─── foaf:depiction ─► <http://commons.wikimedia.org/wiki/Special:FilePath/Oviedo,_Espanha_-_panoramio_(9).jpg>\n",
            "├─── foaf:depiction ─► <http://commons.wikimedia.org/wiki/Special:FilePath/Real_Monasterio_de_San_Pelayo_(Oviedo).jpg>\n",
            "├─── foaf:depiction ─► <http://commons.wikimedia.org/wiki/Special:FilePath/Catedral_de_Oviedo_03.jpg>\n",
            "├─── foaf:depiction ─► <http://commons.wikimedia.org/wiki/Special:FilePath/11._Teatro_Campoamor_(36104135806).jpg>\n",
            "├─── foaf:depiction ─► <http://commons.wikimedia.org/wiki/Special:FilePath/Oviedo_Landscape_(230140305).jpeg>\n",
            "├─── foaf:depiction ─► <http://commons.wikimedia.org/wiki/Special:FilePath/San_Miguel_de_Lillo_01.jpg>\n",
            "├─── foaf:depiction ─► <http://commons.wikimedia.org/wiki/Special:FilePath/Oviedo_Uría.jpg>\n",
            "├─── foaf:depiction ─► <http://commons.wikimedia.org/wiki/Special:FilePath/Mapa_Parroquial_Uviéu_(color).jpg>\n",
            "├─── foaf:depiction ─► <http://commons.wikimedia.org/wiki/Special:FilePath/Santa_María_Naranco.jpg>\n",
            "├─── foaf:depiction ─► <http://commons.wikimedia.org/wiki/Special:FilePath/Uvieu_flag.svg>\n",
            "├─── foaf:depiction ─► <http://commons.wikimedia.org/wiki/Special:FilePath/C_44_OVIEDO_OESTE.jpg>\n",
            "├─── foaf:depiction ─► <http://commons.wikimedia.org/wiki/Special:FilePath/Oviedo_desde_el_monte_Naranco.jpg>\n",
            "├─── foaf:depiction ─► <http://commons.wikimedia.org/wiki/Special:FilePath/Santa_María_del_Naranco._Oviedo.jpg>\n",
            "├─── foaf:depiction ─► <http://commons.wikimedia.org/wiki/Special:FilePath/Fachada_principal_del_Teatro_Campoamor.jpg>\n",
            "├─── foaf:depiction ─► <http://commons.wikimedia.org/wiki/Special:FilePath/Oviedo-ayuntamiento4.jpg>\n",
            "├─── foaf:depiction ─► <http://commons.wikimedia.org/wiki/Special:FilePath/C_44_OVIEDO_CENTRO.jpg>\n",
            "├─── foaf:depiction ─► <http://commons.wikimedia.org/wiki/Special:FilePath/Ayuntamiento-de-oviedo.jpg>\n",
            "├─── foaf:depiction ─► <http://commons.wikimedia.org/wiki/Special:FilePath/15._Junta_General_del_Principado_de_Asturias_(36143894785).jpg>\n",
            "├─── foaf:depiction ─► <http://commons.wikimedia.org/wiki/Special:FilePath/1._Iglesia_San_Julián_de_los_Prados_(35752657690).jpg>\n",
            "├─── foaf:depiction ─► <http://commons.wikimedia.org/wiki/Special:FilePath/Church_of_San_Isidoro_el_Real,_Oviedo_16.jpg>\n",
            "├─── foaf:depiction ─► <http://commons.wikimedia.org/wiki/Special:FilePath/Oviedo02.jpg>\n",
            "├─── foaf:depiction ─► <http://commons.wikimedia.org/wiki/Special:FilePath/Ceremonia_de_entrega_de_los_Premios_Príncipe_de_Asturias_2010.jpg>\n",
            "├─── foaf:depiction ─► <http://commons.wikimedia.org/wiki/Special:FilePath/Estadio_Municipal_Carlos_Tartiere_(Real_Oviedo_S.A.D.).jpg>\n",
            "├─── foaf:depiction ─► <http://commons.wikimedia.org/wiki/Special:FilePath/Oviedo-Plaza_del_Fontán.jpg>\n",
            "├─── foaf:depiction ─► <http://commons.wikimedia.org/wiki/Special:FilePath/C_44_OVIEDO_ESTE.jpg>\n",
            "├─── foaf:depiction ─► <http://commons.wikimedia.org/wiki/Special:FilePath/Día_de_América_en_Asturias-2015_35.jpg>\n",
            "├─── foaf:depiction ─► <http://commons.wikimedia.org/wiki/Special:FilePath/La-Regenta-y-Catedral.jpg>\n",
            "├─── foaf:depiction ─► <http://commons.wikimedia.org/wiki/Special:FilePath/Escudo_de_Oviedo.svg>\n",
            "└─── foaf:depiction ─► <http://commons.wikimedia.org/wiki/Special:FilePath/Museo_arte_oviedo.jpg>\n",
            "\n",
            "\n"
          ]
        }
      ]
    },
    {
      "cell_type": "markdown",
      "source": [
        "> Notice that the command `node_info` can be simulated with SPARQL queries (see next chapter). Nevertheless, it can be useful as a nice and easy way to get the neighborhood of a node when you want to validate it.\n",
        "\n"
      ],
      "metadata": {
        "id": "mniJiKoshjtN"
      }
    },
    {
      "cell_type": "markdown",
      "metadata": {
        "id": "5aaV_e6KBpk_"
      },
      "source": [
        "### Running SPARQL queries"
      ]
    },
    {
      "cell_type": "markdown",
      "source": [
        "SPARQL is an RDF query language which is also available in rudof:"
      ],
      "metadata": {
        "id": "RYf1zB-vMfb6"
      }
    },
    {
      "cell_type": "code",
      "execution_count": 185,
      "metadata": {
        "id": "8SmLIHQ-Cwn-",
        "cellView": "form"
      },
      "outputs": [],
      "source": [
        "# @title\n",
        "from pyrudof import Rudof, RudofConfig, QuerySolutions\n",
        "rudof = Rudof(RudofConfig())\n",
        "rudof.reset_all()"
      ]
    },
    {
      "cell_type": "code",
      "execution_count": 186,
      "metadata": {
        "id": "tJnEoS7DJmM7"
      },
      "outputs": [],
      "source": [
        "rdf = \"\"\"\n",
        "prefix :    <http://example.org/>\n",
        "prefix xsd: <http://www.w3.org/2001/XMLSchema#>\n",
        "\n",
        ":alice a :Person ;\n",
        " :name      \"Alice\"                ;\n",
        " :birthDate \"2005-03-01\"^^xsd:date ;\n",
        " :worksFor  :acme                   .\n",
        ":bob a :Person   ;\n",
        " :name      \"Robert Smith\"         ;\n",
        " :birthDate \"2003-01-02\"^^xsd:date ;\n",
        " :worksFor  :acme  .\n",
        ":acme a :Company ;\n",
        " :name \"Acme Inc.\" .\n",
        "\"\"\"\n",
        "rudof.read_data_str(rdf)"
      ]
    },
    {
      "cell_type": "code",
      "execution_count": 187,
      "metadata": {
        "id": "ags_QBb4DVaC"
      },
      "outputs": [],
      "source": [
        "query = \"\"\"\n",
        "PREFIX : <http://example.org/>\n",
        "\n",
        "SELECT ?person ?name ?date ?company WHERE {\n",
        "  ?person a          :Person ;\n",
        "          :name      ?name   ;\n",
        "          :birthDate ?date   ;\n",
        "          :worksFor  ?c   .\n",
        "  ?c      :name      ?company .\n",
        "}\n",
        "\"\"\"\n",
        "\n",
        "results = rudof.run_query_str(query)\n"
      ]
    },
    {
      "cell_type": "markdown",
      "metadata": {
        "id": "w4x5cYh-CBnP"
      },
      "source": [
        "Show the results:"
      ]
    },
    {
      "cell_type": "code",
      "execution_count": 188,
      "metadata": {
        "colab": {
          "base_uri": "https://localhost:8080/"
        },
        "id": "t8Bp-fcSCDsW",
        "outputId": "e8c7589d-9399-492d-9a04-93e87a3b79cc"
      },
      "outputs": [
        {
          "output_type": "stream",
          "name": "stdout",
          "text": [
            "╭───┬─────────┬────────────────┬────────────────────────┬─────────────╮\n",
            "│   │ ?person │ ?name          │ ?date                  │ ?company    │\n",
            "├───┼─────────┼────────────────┼────────────────────────┼─────────────┤\n",
            "│ 1 │ :alice  │ \"Alice\"        │ \"2005-03-01\"^^xsd:date │ \"Acme Inc.\" │\n",
            "├───┼─────────┼────────────────┼────────────────────────┼─────────────┤\n",
            "│ 2 │ :bob    │ \"Robert Smith\" │ \"2003-01-02\"^^xsd:date │ \"Acme Inc.\" │\n",
            "╰───┴─────────┴────────────────┴────────────────────────┴─────────────╯\n",
            "\n"
          ]
        }
      ],
      "source": [
        "print(results.show())"
      ]
    },
    {
      "cell_type": "markdown",
      "source": [
        "## Example about Tim Berners-Lee"
      ],
      "metadata": {
        "id": "sgsLr_qOcd7s"
      }
    },
    {
      "cell_type": "markdown",
      "source": [
        "The following is an example of RDF used in some slides.\n",
        "\n",
        "It describes a node `:timbl` which represents information about Tim Berners-Lee, declaring that he was born in London, in 1955 and knows someone who is from Spain."
      ],
      "metadata": {
        "id": "p87hvlfgcikk"
      }
    },
    {
      "cell_type": "code",
      "source": [
        "rudof.read_data_str(\"\"\"\n",
        "prefix :       <http://example.org/>\n",
        "prefix xsd:    <http://www.w3.org/2001/XMLSchema#>\n",
        "prefix rdf:    <http://www.w3.org/1999/02/22-rdf-syntax-ns#>\n",
        "prefix schema: <http://schema.org/>\n",
        "prefix rdfs: <http://www.w3.org/2000/01/rdf-schema#>\n",
        "\n",
        ":timbl  rdf:type    :Human ;\n",
        "        rdfs:label  \"Tim Berners-Lee\" ;\n",
        "        :birthPlace :london ;\n",
        "        :birthDate  \"1955-06-08\"^^xsd:date ;\n",
        "        :employer   :CERN ;\n",
        "        :knows      _:1 .\n",
        "_:1     :birthPlace :Spain .\n",
        ":CERN   rdf:type    :Organization .\n",
        ":london rdf:type    :City, :Metropolis ;\n",
        "        :country    :UK .\n",
        "\"\"\")"
      ],
      "metadata": {
        "id": "f-il7UJGcw2n"
      },
      "execution_count": 190,
      "outputs": []
    },
    {
      "cell_type": "markdown",
      "source": [
        "Which can be visualized as:"
      ],
      "metadata": {
        "id": "AH6m4wLHeUgB"
      }
    },
    {
      "cell_type": "code",
      "source": [
        "!rm -f out.puml out.png\n",
        "uml = rudof.data2plantuml_file('out.puml')\n",
        "!python -m plantuml out.puml\n",
        "Image(f\"out.png\")"
      ],
      "metadata": {
        "id": "EqolBuNReXIT",
        "outputId": "ce59ed46-3f68-4843-a3bd-4609c0d92455",
        "colab": {
          "base_uri": "https://localhost:8080/",
          "height": 309
        }
      },
      "execution_count": 191,
      "outputs": [
        {
          "output_type": "stream",
          "name": "stdout",
          "text": [
            "[{'filename': 'out.puml', 'gen_success': True}]\n"
          ]
        },
        {
          "output_type": "execute_result",
          "data": {
            "image/png": "[encoded data removed]",
            "text/plain": [
              "<IPython.core.display.Image object>"
            ]
          },
          "metadata": {},
          "execution_count": 191
        }
      ]
    },
    {
      "cell_type": "markdown",
      "source": [
        "And a simple SPARQL query:"
      ],
      "metadata": {
        "id": "kXSyPsn4f-Qz"
      }
    },
    {
      "cell_type": "code",
      "source": [
        "rudof.read_query_str(\"\"\"\n",
        "prefix :       <http://example.org/>\n",
        "prefix rdf:    <http://www.w3.org/1999/02/22-rdf-syntax-ns#>\n",
        "\n",
        "SELECT ?person ?date ?place ?country WHERE {\n",
        "  ?person rdf:type    :Human    ;\n",
        "          :birthDate  ?date     ;\n",
        "          :birthPlace ?place .\n",
        "  ?place  :country    ?country .\n",
        "}\n",
        "\"\"\")"
      ],
      "metadata": {
        "id": "PAATJrWcgAO0"
      },
      "execution_count": 199,
      "outputs": []
    },
    {
      "cell_type": "code",
      "source": [
        "results = rudof.run_current_query_select()\n",
        "print(results.show())"
      ],
      "metadata": {
        "id": "iD9RfKgshCNl",
        "outputId": "f56b019a-c77b-4b69-a493-5900dc1d3820",
        "colab": {
          "base_uri": "https://localhost:8080/"
        }
      },
      "execution_count": 200,
      "outputs": [
        {
          "output_type": "stream",
          "name": "stdout",
          "text": [
            "╭───┬─────────┬────────────────────────┬─────────┬──────────╮\n",
            "│   │ ?person │ ?date                  │ ?place  │ ?country │\n",
            "├───┼─────────┼────────────────────────┼─────────┼──────────┤\n",
            "│ 1 │ :timbl  │ \"1955-06-08\"^^xsd:date │ :london │ :UK      │\n",
            "╰───┴─────────┴────────────────────────┴─────────┴──────────╯\n",
            "\n"
          ]
        }
      ]
    }
  ],
  "metadata": {
    "colab": {
      "provenance": [],
      "toc_visible": true
    },
    "kernelspec": {
      "display_name": "Python 3",
      "name": "python3"
    },
    "language_info": {
      "name": "python"
    }
  },
  "nbformat": 4,
  "nbformat_minor": 0
}