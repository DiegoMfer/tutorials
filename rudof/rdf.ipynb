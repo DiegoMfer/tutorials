{
  "cells": [
    {
      "cell_type": "markdown",
      "metadata": {
        "id": "sUm7kokski_K"
      },
      "source": [
        "# RDF"
      ]
    },
    {
      "cell_type": "markdown",
      "metadata": {
        "id": "lY2o8WN6f9hv"
      },
      "source": [
        "[![Open In Colab](https://colab.research.google.com/assets/colab-badge.svg)](\n",
        "https://colab.research.google.com/github/rudof-project/tutorials/blob/main/rudof/rdf.ipynb)"
      ]
    },
    {
      "cell_type": "markdown",
      "metadata": {
        "id": "LMC6kMsUp3de"
      },
      "source": []
    },
    {
      "cell_type": "markdown",
      "metadata": {
        "id": "FlaljkGCkn_Q"
      },
      "source": [
        "This document contains a short introduction to [RDF](https://www.w3.org/TR/rdf11-primer/) using [rudof](https://rudof-project.github.io/).\n"
      ]
    },
    {
      "cell_type": "markdown",
      "metadata": {
        "id": "whZHWrGG6Y8O"
      },
      "source": [
        "## Preliminaries: install and configure rudof"
      ]
    },
    {
      "cell_type": "markdown",
      "metadata": {
        "id": "YpF48mZrjqwo"
      },
      "source": [
        "The library is available as `pyrudof`."
      ]
    },
    {
      "cell_type": "code",
      "execution_count": 2,
      "metadata": {
        "colab": {
          "base_uri": "https://localhost:8080/"
        },
        "id": "voGWk2uO6gcP",
        "outputId": "d9acbf83-6843-4143-a2ca-3a5be0b0bc95"
      },
      "outputs": [
        {
          "output_type": "stream",
          "name": "stdout",
          "text": [
            "Collecting pyrudof\n",
            "  Downloading pyrudof-0.1.121-cp37-abi3-manylinux_2_17_x86_64.manylinux2014_x86_64.whl.metadata (1.9 kB)\n",
            "Downloading pyrudof-0.1.121-cp37-abi3-manylinux_2_17_x86_64.manylinux2014_x86_64.whl (10.2 MB)\n",
            "\u001b[2K   \u001b[90m━━━━━━━━━━━━━━━━━━━━━━━━━━━━━━━━━━━━━━━━\u001b[0m \u001b[32m10.2/10.2 MB\u001b[0m \u001b[31m66.6 MB/s\u001b[0m eta \u001b[36m0:00:00\u001b[0m\n",
            "\u001b[?25hInstalling collected packages: pyrudof\n",
            "Successfully installed pyrudof-0.1.121\n"
          ]
        }
      ],
      "source": [
        "!pip install pyrudof"
      ]
    },
    {
      "cell_type": "markdown",
      "metadata": {
        "id": "FzsA78qu-xXP"
      },
      "source": [
        "The main entry point if a class called [`Rudof`](https://pyrudof.readthedocs.io/en/stable/library.html#rudof) through which most of the functionality is provided."
      ]
    },
    {
      "cell_type": "code",
      "execution_count": 3,
      "metadata": {
        "id": "I3jvDAPBJ3OQ"
      },
      "outputs": [],
      "source": [
        "from pyrudof import Rudof, RudofConfig"
      ]
    },
    {
      "cell_type": "markdown",
      "metadata": {
        "id": "0Io7V7y9_G_P"
      },
      "source": [
        "In order to initialize that class, it is possible to pass a [`RudofConfig`](https://pyrudof.readthedocs.io/en/stable/library.html#pyrudof.RudofConfig) instance which contains configuration parameters for customization. An instance of `RudofConfig` can be obtained from the default initialization method or can be read from a TOML file."
      ]
    },
    {
      "cell_type": "code",
      "execution_count": 4,
      "metadata": {
        "id": "OAV_KSrH6qn-"
      },
      "outputs": [],
      "source": [
        "rudof = Rudof(RudofConfig())"
      ]
    },
    {
      "cell_type": "markdown",
      "source": [
        "We will use `Image` to visualize images of RDF graphs generated using `rudof` and `plantuml`."
      ],
      "metadata": {
        "id": "HYl1L9OPhiA4"
      }
    },
    {
      "cell_type": "code",
      "source": [
        "!pip install plantuml\n",
        "from IPython.display import Image # For displaying images"
      ],
      "metadata": {
        "colab": {
          "base_uri": "https://localhost:8080/"
        },
        "id": "dK1eGEMahgl4",
        "outputId": "6cc39727-a332-4283-dea1-d2915424c246"
      },
      "execution_count": 5,
      "outputs": [
        {
          "output_type": "stream",
          "name": "stdout",
          "text": [
            "Collecting plantuml\n",
            "  Downloading plantuml-0.3.0-py3-none-any.whl.metadata (2.5 kB)\n",
            "Requirement already satisfied: httplib2 in /usr/local/lib/python3.12/dist-packages (from plantuml) (0.31.0)\n",
            "Requirement already satisfied: pyparsing<4,>=3.0.4 in /usr/local/lib/python3.12/dist-packages (from httplib2->plantuml) (3.2.5)\n",
            "Downloading plantuml-0.3.0-py3-none-any.whl (5.8 kB)\n",
            "Installing collected packages: plantuml\n",
            "Successfully installed plantuml-0.3.0\n"
          ]
        }
      ]
    },
    {
      "cell_type": "markdown",
      "source": [
        "The method `reset_all()` can be useful to clean the previous contents of `rudof`."
      ],
      "metadata": {
        "id": "em3sGdh7ivmI"
      }
    },
    {
      "cell_type": "code",
      "source": [
        "rudof.reset_all()"
      ],
      "metadata": {
        "id": "k0dUwsyNitEI"
      },
      "execution_count": 6,
      "outputs": []
    },
    {
      "cell_type": "markdown",
      "metadata": {
        "id": "VRpS4Ou4f9h8"
      },
      "source": [
        "## RDF data model"
      ]
    },
    {
      "cell_type": "markdown",
      "metadata": {
        "id": "xVXlEl0Mf9h8"
      },
      "source": [
        "RDF is based on statements or triples of the form `<subject> <predicate> <object>` where the predicates are identified by IRIs and in the most basic form, subjects and objects are also IRIs. An example could be: `<http://example.org/alice> <http://example.org/knows> <http:/example.org/bob>`.\n",
        "\n",
        "In `rudof`, it is possible to load a triple as follows:"
      ]
    },
    {
      "cell_type": "code",
      "execution_count": 7,
      "metadata": {
        "id": "OUpFt4F2f9h9"
      },
      "outputs": [],
      "source": [
        "rudof.read_data_str(\"<http://example.org/alice> <http://example.org/knows> <http://example.org/bob> .\")"
      ]
    },
    {
      "cell_type": "markdown",
      "source": [
        "RDF graphs are defined as a set of triples. In the basic notation, a set of triples is just one triple after another separated by a dot. So we can add more statements as:"
      ],
      "metadata": {
        "id": "JZ63xDuAgK8Q"
      }
    },
    {
      "cell_type": "code",
      "source": [
        "rudof.read_data_str(\"\"\"\n",
        "  <http://example.org/alice> <http://example.org/knows> <http://example.org/carol> .\n",
        "  <http://example.org/alice> <http://example.org/worksFor> <http://example.org/acme> .\n",
        "  <http://example.org/alice> <http://example.org/birthPlace> <http://example.org/spain> .\n",
        "  <http://example.org/carol> <http://example.org/knows> <http://example.org/bob> .\n",
        "  <http://example.org/bob> <http://example.org/knows> <http://example.org/alice> .\n",
        "\"\"\")"
      ],
      "metadata": {
        "id": "ABysCqY6gVC4"
      },
      "execution_count": 8,
      "outputs": []
    },
    {
      "cell_type": "markdown",
      "source": [
        "Rudof can be used to visualize small RDF triples."
      ],
      "metadata": {
        "id": "3B0NzINlhPP5"
      }
    },
    {
      "cell_type": "code",
      "source": [
        "uml = rudof.data2plantuml_file('out.puml')\n",
        "!python -m plantuml out.puml\n",
        "Image(f\"out.png\")"
      ],
      "metadata": {
        "colab": {
          "base_uri": "https://localhost:8080/",
          "height": 422
        },
        "id": "J3aF2o7ZhOT4",
        "outputId": "f0ff125b-5fd5-49b8-acc7-eef4aced9b9f"
      },
      "execution_count": 9,
      "outputs": [
        {
          "output_type": "stream",
          "name": "stdout",
          "text": [
            "[{'filename': 'out.puml', 'gen_success': True}]\n"
          ]
        },
        {
          "output_type": "execute_result",
          "data": {
            "image/png": "[encoded data removed]",
            "text/plain": [
              "<IPython.core.display.Image object>"
            ]
          },
          "metadata": {},
          "execution_count": 9
        }
      ]
    },
    {
      "cell_type": "markdown",
      "source": [
        "In order to obtain interoperability, it is better to employ IRIs of some agreed vocabularies. In this case, we could use the predicate [`<https://schema.org/knows>`](https://schema.org/knows), [`https://schema.org/worksFor`](https://schema.org/worksFor) and [`https://schema.org/birthPlace`](https://schema.org/birthPlace) from [Schema.org](https://schema.org/), and [`<http://dbpedia.org/resource/Spain`] from [DBpedia](https://dbpedia.org/) to represent Spain."
      ],
      "metadata": {
        "id": "rz_bdu7skKpB"
      }
    },
    {
      "cell_type": "code",
      "source": [
        "rudof.reset_all()\n",
        "rudof.read_data_str(\"\"\"\n",
        "  <http://example.org/alice> <https://schema.org/knows>      <http://example.org/carol> .\n",
        "  <http://example.org/alice> <https://schema.org/worksFor>   <http://example.org/acme> .\n",
        "  <http://example.org/alice> <https://schema.org/birthPlace> <http://dbpedia.org/resource/Spain> .\n",
        "  <http://example.org/carol> <https://schema.org/knows>      <http://example.org/bob> .\n",
        "  <http://example.org/bob>   <http://schema.org/knows>       <http://example.org/alice> .\n",
        "\"\"\")"
      ],
      "metadata": {
        "id": "MxTUdR42lkBx"
      },
      "execution_count": 10,
      "outputs": []
    },
    {
      "cell_type": "code",
      "source": [
        "!rm -f out.puml out.png\n",
        "uml = rudof.data2plantuml_file('out.puml')\n",
        "!python -m plantuml out.puml\n",
        "Image(f\"out.png\")"
      ],
      "metadata": {
        "colab": {
          "base_uri": "https://localhost:8080/",
          "height": 308
        },
        "id": "kS7XKzpnl5jA",
        "outputId": "785cf98a-d718-4bf6-f218-bab249fb01ba"
      },
      "execution_count": 11,
      "outputs": [
        {
          "output_type": "stream",
          "name": "stdout",
          "text": [
            "[{'filename': 'out.puml', 'gen_success': True}]\n"
          ]
        },
        {
          "output_type": "execute_result",
          "data": {
            "image/png": "[encoded data removed]",
            "text/plain": [
              "<IPython.core.display.Image object>"
            ]
          },
          "metadata": {},
          "execution_count": 11
        }
      ]
    },
    {
      "cell_type": "markdown",
      "source": [
        "Having long IRIs can make RDF difficult to read. In order to have more readable RDF documents, it is possible to declare prefixes for some URIs and use qualified names formed by `prefix:name`. So the previous example could be rewritten as:"
      ],
      "metadata": {
        "id": "TsG9FiAijES4"
      }
    },
    {
      "cell_type": "markdown",
      "source": [
        "### Prefixed declarations and qualified names"
      ],
      "metadata": {
        "id": "chvMSZfln0tQ"
      }
    },
    {
      "cell_type": "code",
      "source": [
        "rudof.reset_all()\n",
        "rudof.read_data_str(\"\"\"\n",
        " prefix : <http://example.org/>\n",
        " prefix schema: <http://schema.org/>\n",
        " prefix dbr: <http://dbpedia.org/resource/>\n",
        "\n",
        " :alice schema:knows :carol .\n",
        " :alice schema:worksFor :acme .\n",
        " :alice schema:birthPlace :spain .\n",
        " :carol schema:knows :bob .\n",
        " :bob   schema:knows :alice .\n",
        "\"\"\")"
      ],
      "metadata": {
        "id": "IHnFyEQ0jkcZ"
      },
      "execution_count": 12,
      "outputs": []
    },
    {
      "cell_type": "code",
      "source": [
        "!rm -f out.puml out.png\n",
        "uml = rudof.data2plantuml_file('out.puml')\n",
        "!python -m plantuml out.puml\n",
        "Image(f\"out.png\")"
      ],
      "metadata": {
        "colab": {
          "base_uri": "https://localhost:8080/",
          "height": 308
        },
        "id": "lo5shaNRmIOg",
        "outputId": "66bcdefa-c32e-440a-b732-ca67b7d5c27c"
      },
      "execution_count": 13,
      "outputs": [
        {
          "output_type": "stream",
          "name": "stdout",
          "text": [
            "[{'filename': 'out.puml', 'gen_success': True}]\n"
          ]
        },
        {
          "output_type": "execute_result",
          "data": {
            "image/png": "[encoded data removed]",
            "text/plain": [
              "<IPython.core.display.Image object>"
            ]
          },
          "metadata": {},
          "execution_count": 13
        }
      ]
    },
    {
      "cell_type": "markdown",
      "source": [
        "### RDF Literals"
      ],
      "metadata": {
        "id": "1REjFD4Qnv3B"
      }
    },
    {
      "cell_type": "markdown",
      "source": [],
      "metadata": {
        "id": "WJr-D158p7dA"
      }
    },
    {
      "cell_type": "markdown",
      "source": [
        "Apart from IRIs, the objects in triples can also be literals, which can be seen as constants. There are 3 types of literals:\n",
        "\n",
        "\n",
        "* Plain strings, like `\"Robert Smith\"`\n",
        "* Language tagged strings, like `\"Spain\"@en` or `\"España@es\"`\n",
        "* Datatype literals, like `\"23\"^^xsd:integer`\n"
      ],
      "metadata": {
        "id": "ASPo4p_AmVIg"
      }
    },
    {
      "cell_type": "code",
      "source": [
        "rudof.reset_all()\n",
        "rudof.read_data_str(\"\"\"\n",
        " prefix : <http://example.org/>\n",
        " prefix schema: <http://schema.org/>\n",
        " prefix dbr: <http://dbpedia.org/resource/>\n",
        " prefix xsd: <http://www.w3.org/2001/XMLSchema#>\n",
        "\n",
        " :alice schema:knows :carol .\n",
        " :alice schema:worksFor :acme .\n",
        " :alice schema:birthPlace dbr:Spain .\n",
        " :alice schema:birthDate \"1990-01-01\"^^xsd:date .\n",
        " :carol schema:knows :bob .\n",
        " :bob   schema:name \"Robert Smith\" .\n",
        " :bob   schema:knows :alice .\n",
        " :acme  schema:name \"Acme Inc.\" .\n",
        "\"\"\")\n"
      ],
      "metadata": {
        "id": "vSQgU9lgnMBA"
      },
      "execution_count": 14,
      "outputs": []
    },
    {
      "cell_type": "code",
      "source": [
        "!rm -f out.puml out.png\n",
        "uml = rudof.data2plantuml_file('out.puml')\n",
        "!python -m plantuml out.puml\n",
        "Image(f\"out.png\")"
      ],
      "metadata": {
        "colab": {
          "base_uri": "https://localhost:8080/",
          "height": 422
        },
        "id": "9QOyMRGZnjRQ",
        "outputId": "cd3017ad-914d-4aed-aa76-d3ebe6707f1b"
      },
      "execution_count": 15,
      "outputs": [
        {
          "output_type": "stream",
          "name": "stdout",
          "text": [
            "[{'filename': 'out.puml', 'gen_success': True}]\n"
          ]
        },
        {
          "output_type": "execute_result",
          "data": {
            "image/png": "[encoded data removed]",
            "text/plain": [
              "<IPython.core.display.Image object>"
            ]
          },
          "metadata": {},
          "execution_count": 15
        }
      ]
    },
    {
      "cell_type": "markdown",
      "source": [
        "### Blank nodes"
      ],
      "metadata": {
        "id": "fREUeuE0n9EI"
      }
    },
    {
      "cell_type": "markdown",
      "source": [
        "Sometimes, we want to add some statements about things which don't have some IRI. For example, we may want to say that `:alice` knows someone who was born in Italy that works for `Acme` as:"
      ],
      "metadata": {
        "id": "i_jw0H8xn_Zw"
      }
    },
    {
      "cell_type": "code",
      "source": [
        "rudof.reset_all()\n",
        "rudof.read_data_str(\"\"\"\n",
        " prefix : <http://example.org/>\n",
        " prefix schema: <http://schema.org/>\n",
        " prefix dbr: <http://dbpedia.org/resource/>\n",
        " prefix xsd: <http://www.w3.org/2001/XMLSchema#>\n",
        "\n",
        " :alice schema:knows _:1 .\n",
        " _:1 schema:worksFor :acme .\n",
        " _:1 schema:birthPlace dbr:Italy .\n",
        "\"\"\")\n",
        "#"
      ],
      "metadata": {
        "id": "144Ne2RWocaB"
      },
      "execution_count": 16,
      "outputs": []
    },
    {
      "cell_type": "code",
      "source": [
        "!rm -f out.puml out.png\n",
        "uml = rudof.data2plantuml_file('out.puml')\n",
        "!python -m plantuml out.puml\n",
        "Image(f\"out.png\")"
      ],
      "metadata": {
        "colab": {
          "base_uri": "https://localhost:8080/",
          "height": 292
        },
        "id": "w0bqufypo4oI",
        "outputId": "6585ab7f-32d5-4faa-be8e-182ba21d7de7"
      },
      "execution_count": 17,
      "outputs": [
        {
          "output_type": "stream",
          "name": "stdout",
          "text": [
            "[{'filename': 'out.puml', 'gen_success': True}]\n"
          ]
        },
        {
          "output_type": "execute_result",
          "data": {
            "image/png": "[encoded data removed]",
            "text/plain": [
              "<IPython.core.display.Image object>"
            ]
          },
          "metadata": {},
          "execution_count": 17
        }
      ]
    },
    {
      "cell_type": "markdown",
      "source": [
        "The notation `_:id` represents a blank node. The `id` of the blank node can be used to refer to it in the definition of the RDF graph, but there is no warranty that it will be preserved internally.\n",
        "\n",
        "If we want to add that `:bob` knows someone who works for `Acme` and was born in `Germany`, we can do the following:"
      ],
      "metadata": {
        "id": "LP56fbnzpAuJ"
      }
    },
    {
      "cell_type": "code",
      "source": [
        "rudof.read_data_str(\"\"\"\n",
        " prefix : <http://example.org/>\n",
        " prefix schema: <http://schema.org/>\n",
        " prefix dbr: <http://dbpedia.org/resource/>\n",
        " prefix xsd: <http://www.w3.org/2001/XMLSchema#>\n",
        "\n",
        " :bob schema:knows _:2 .\n",
        " _:2 schema:worksFor :acme .\n",
        " _:2 schema:birthPlace dbr:Germany .\n",
        "\"\"\")"
      ],
      "metadata": {
        "id": "TuoQmgzYpjc6"
      },
      "execution_count": 18,
      "outputs": []
    },
    {
      "cell_type": "code",
      "source": [
        "# @title\n",
        "!rm -f out.puml out.png\n",
        "uml = rudof.data2plantuml_file('out.puml')\n",
        "!python -m plantuml out.puml\n",
        "Image(f\"out.png\")"
      ],
      "metadata": {
        "cellView": "form",
        "id": "qUfk-2CDKwda",
        "outputId": "bee33935-287c-4426-aa0b-9c75ccae1142",
        "colab": {
          "base_uri": "https://localhost:8080/",
          "height": 292
        }
      },
      "execution_count": 19,
      "outputs": [
        {
          "output_type": "stream",
          "name": "stdout",
          "text": [
            "[{'filename': 'out.puml', 'gen_success': True}]\n"
          ]
        },
        {
          "output_type": "execute_result",
          "data": {
            "image/png": "[encoded data removed]",
            "text/plain": [
              "<IPython.core.display.Image object>"
            ]
          },
          "metadata": {},
          "execution_count": 19
        }
      ]
    },
    {
      "cell_type": "markdown",
      "metadata": {
        "id": "rCOlUq9H_5b2"
      },
      "source": [
        "### Merging RDF data"
      ]
    },
    {
      "cell_type": "code",
      "source": [
        "rudof.reset_all()"
      ],
      "metadata": {
        "id": "cGULvJW1KYMv"
      },
      "execution_count": 20,
      "outputs": []
    },
    {
      "cell_type": "markdown",
      "source": [
        "You may have noticed that we did `rudof.reset_all()` in some of the previous examples. The reason is that by default, the `rdf_data_str()` method in `rudof`, merges the current RDF data with the data that has been read.\n",
        "\n",
        "As RDF data models are defined as sets of triples, they support merging quite easily.\n",
        "\n",
        "One RDF graph plus another RDf graph is another RDF graph. This is feature can be quite powerful and is one of the reasons why RDF can help data interoperability."
      ],
      "metadata": {
        "id": "3ah3EWf5v8Zh"
      }
    },
    {
      "cell_type": "code",
      "execution_count": 21,
      "metadata": {
        "id": "WH2rBJ5b_8go"
      },
      "outputs": [],
      "source": [
        "rudof.read_data_str(\"\"\"\n",
        "prefix : <http://example.org/>\n",
        "prefix xsd: <http://www.w3.org/2001/XMLSchema#>\n",
        "\n",
        ":x a :Person     ;\n",
        "   :name \"Alice\" ;\n",
        "   :knows :y     .\n",
        ":y a :Person     ;\n",
        "   :name \"Bob\"   ;\n",
        "   :knows :z     .\n",
        ":z a :Person     ;\n",
        "   :knows :x     .\n",
        "\"\"\")"
      ]
    },
    {
      "cell_type": "markdown",
      "metadata": {
        "id": "i-XbhuVvAwE3"
      },
      "source": [
        "The RDF data can easily be merged with other data."
      ]
    },
    {
      "cell_type": "code",
      "execution_count": 22,
      "metadata": {
        "id": "WMFRb2QqA0xA"
      },
      "outputs": [],
      "source": [
        "rudof.read_data_str(\"\"\"\n",
        "prefix : <http://example.org/>\n",
        "prefix xsd: <http://www.w3.org/2001/XMLSchema#>\n",
        "\n",
        ":u a :Person     ;\n",
        "   :name \"Dave\" ;\n",
        "   :knows :y     .\n",
        ":v a :Person     ;\n",
        "   :name \"Emily\" ;\n",
        "   :knows _:1    .\n",
        "_:1 a :Person     ;\n",
        "   :knows :x     .\n",
        "\"\"\")"
      ]
    },
    {
      "cell_type": "code",
      "source": [
        "!rm -f out.puml out.png\n",
        "uml = rudof.data2plantuml_file('out.puml')\n",
        "!python -m plantuml out.puml\n",
        "Image(f\"out.png\")"
      ],
      "metadata": {
        "id": "-VdA75iDK63x",
        "outputId": "ed71e77f-654d-4d8f-f0e3-4198fd4ecd4a",
        "colab": {
          "base_uri": "https://localhost:8080/",
          "height": 324
        }
      },
      "execution_count": 23,
      "outputs": [
        {
          "output_type": "stream",
          "name": "stdout",
          "text": [
            "[{'filename': 'out.puml', 'gen_success': True}]\n"
          ]
        },
        {
          "output_type": "execute_result",
          "data": {
            "image/png": "[encoded data removed]",
            "text/plain": [
              "<IPython.core.display.Image object>"
            ]
          },
          "metadata": {},
          "execution_count": 23
        }
      ]
    },
    {
      "cell_type": "markdown",
      "metadata": {
        "id": "wP64tMo5BESa"
      },
      "source": []
    },
    {
      "cell_type": "markdown",
      "source": [
        "### Different RDF data formats"
      ],
      "metadata": {
        "id": "NFVONtMfKdAC"
      }
    },
    {
      "cell_type": "markdown",
      "source": [
        "There are several RDF data formats like:\n",
        "\n",
        "\n",
        "*   N-Triples: this is the most basic format where an RDF graph is defined as a list of triples ended by a dot. This format doesn't define any syntactic sugar like prefix declarations or other abreviations.\n",
        "*   Turtle: this format is intended for human-readability. It contains some syntactic sugar like prefix declarations, numeric literals or joining together statements with the same subject-predicate using a comma or the same subject using a semicolon.\n",
        "* RDF/XML: this format was one of the first RDF formats and was defined when XML was popular.\n",
        "* JSON-LD: this format is a representation of RDF in JSON.\n",
        "\n",
        "Rudof can be used to convert between different RDF formats.\n"
      ],
      "metadata": {
        "id": "VYBJudORK-c5"
      }
    },
    {
      "cell_type": "markdown",
      "source": [
        "The following code converts the current RDF data to N-Triples:"
      ],
      "metadata": {
        "id": "1mHDEhogL746"
      }
    },
    {
      "cell_type": "code",
      "execution_count": 24,
      "metadata": {
        "colab": {
          "base_uri": "https://localhost:8080/"
        },
        "id": "yAUCSKN8BI3P",
        "outputId": "51ebbfbb-f175-448d-d609-2f33e7ccb606"
      },
      "outputs": [
        {
          "output_type": "stream",
          "name": "stdout",
          "text": [
            "<http://example.org/z> <http://example.org/knows> <http://example.org/x> .\n",
            "<http://example.org/z> <http://www.w3.org/1999/02/22-rdf-syntax-ns#type> <http://example.org/Person> .\n",
            "<http://example.org/v> <http://example.org/name> \"Emily\" .\n",
            "<http://example.org/v> <http://example.org/knows> _:1 .\n",
            "<http://example.org/v> <http://www.w3.org/1999/02/22-rdf-syntax-ns#type> <http://example.org/Person> .\n",
            "<http://example.org/x> <http://example.org/name> \"Alice\" .\n",
            "<http://example.org/x> <http://example.org/knows> <http://example.org/y> .\n",
            "<http://example.org/x> <http://www.w3.org/1999/02/22-rdf-syntax-ns#type> <http://example.org/Person> .\n",
            "<http://example.org/u> <http://example.org/name> \"Dave\" .\n",
            "<http://example.org/u> <http://example.org/knows> <http://example.org/y> .\n",
            "<http://example.org/u> <http://www.w3.org/1999/02/22-rdf-syntax-ns#type> <http://example.org/Person> .\n",
            "<http://example.org/y> <http://example.org/name> \"Bob\" .\n",
            "<http://example.org/y> <http://example.org/knows> <http://example.org/z> .\n",
            "<http://example.org/y> <http://www.w3.org/1999/02/22-rdf-syntax-ns#type> <http://example.org/Person> .\n",
            "_:1 <http://example.org/knows> <http://example.org/x> .\n",
            "_:1 <http://www.w3.org/1999/02/22-rdf-syntax-ns#type> <http://example.org/Person> .\n",
            "\n"
          ]
        }
      ],
      "source": [
        "from pyrudof import RDFFormat\n",
        "str = rudof.serialize_data(format=RDFFormat.NTriples)\n",
        "print(str)"
      ]
    },
    {
      "cell_type": "markdown",
      "source": [
        "The following code converts it to RDF/XML:"
      ],
      "metadata": {
        "id": "UP5AmbtnMBAq"
      }
    },
    {
      "cell_type": "code",
      "source": [
        "str = rudof.serialize_data(format=RDFFormat.RDFXML)\n",
        "print(str)"
      ],
      "metadata": {
        "id": "0rlhdeDMMFbf",
        "outputId": "5cfb1b7e-06ac-44ea-b8a7-fe2435ba4f51",
        "colab": {
          "base_uri": "https://localhost:8080/"
        }
      },
      "execution_count": 25,
      "outputs": [
        {
          "output_type": "stream",
          "name": "stdout",
          "text": [
            "<?xml version=\"1.0\" encoding=\"UTF-8\"?>\n",
            "<rdf:RDF xmlns=\"http://example.org/\" xmlns:rdf=\"http://www.w3.org/1999/02/22-rdf-syntax-ns#\" xmlns:xsd=\"http://www.w3.org/2001/XMLSchema#\">\n",
            "\t<rdf:Description rdf:about=\"http://example.org/z\">\n",
            "\t\t<knows rdf:resource=\"http://example.org/x\"/>\n",
            "\t\t<rdf:type rdf:resource=\"http://example.org/Person\"/>\n",
            "\t</rdf:Description>\n",
            "\t<rdf:Description rdf:about=\"http://example.org/v\">\n",
            "\t\t<name>Emily</name>\n",
            "\t\t<knows rdf:nodeID=\"1\"/>\n",
            "\t\t<rdf:type rdf:resource=\"http://example.org/Person\"/>\n",
            "\t</rdf:Description>\n",
            "\t<rdf:Description rdf:about=\"http://example.org/x\">\n",
            "\t\t<name>Alice</name>\n",
            "\t\t<knows rdf:resource=\"http://example.org/y\"/>\n",
            "\t\t<rdf:type rdf:resource=\"http://example.org/Person\"/>\n",
            "\t</rdf:Description>\n",
            "\t<rdf:Description rdf:about=\"http://example.org/u\">\n",
            "\t\t<name>Dave</name>\n",
            "\t\t<knows rdf:resource=\"http://example.org/y\"/>\n",
            "\t\t<rdf:type rdf:resource=\"http://example.org/Person\"/>\n",
            "\t</rdf:Description>\n",
            "\t<rdf:Description rdf:about=\"http://example.org/y\">\n",
            "\t\t<name>Bob</name>\n",
            "\t\t<knows rdf:resource=\"http://example.org/z\"/>\n",
            "\t\t<rdf:type rdf:resource=\"http://example.org/Person\"/>\n",
            "\t</rdf:Description>\n",
            "\t<rdf:Description rdf:nodeID=\"1\">\n",
            "\t\t<knows rdf:resource=\"http://example.org/x\"/>\n",
            "\t\t<rdf:type rdf:resource=\"http://example.org/Person\"/>\n",
            "\t</rdf:Description>\n",
            "</rdf:RDF>\n"
          ]
        }
      ]
    },
    {
      "cell_type": "markdown",
      "source": [
        "The following code converts it to JSON-LD:"
      ],
      "metadata": {
        "id": "Nxvs7SYQMKXJ"
      }
    },
    {
      "cell_type": "code",
      "source": [
        "str = rudof.serialize_data(format=RDFFormat.JsonLd)\n",
        "print(str)"
      ],
      "metadata": {
        "id": "hOMMi7rcMNZY",
        "outputId": "8e421065-346f-4016-8d98-107a6587339b",
        "colab": {
          "base_uri": "https://localhost:8080/"
        }
      },
      "execution_count": 26,
      "outputs": [
        {
          "output_type": "stream",
          "name": "stdout",
          "text": [
            "[{\"@id\":\"http://example.org/z\",\"http://example.org/knows\":[{\"@id\":\"http://example.org/x\"}],\"http://www.w3.org/1999/02/22-rdf-syntax-ns#type\":[{\"@id\":\"http://example.org/Person\"}]},{\"@id\":\"http://example.org/v\",\"http://example.org/name\":[{\"@value\":\"Emily\"}],\"http://example.org/knows\":[{\"@id\":\"_:1\"}],\"http://www.w3.org/1999/02/22-rdf-syntax-ns#type\":[{\"@id\":\"http://example.org/Person\"}]},{\"@id\":\"http://example.org/x\",\"http://example.org/name\":[{\"@value\":\"Alice\"}],\"http://example.org/knows\":[{\"@id\":\"http://example.org/y\"}],\"http://www.w3.org/1999/02/22-rdf-syntax-ns#type\":[{\"@id\":\"http://example.org/Person\"}]},{\"@id\":\"http://example.org/u\",\"http://example.org/name\":[{\"@value\":\"Dave\"}],\"http://example.org/knows\":[{\"@id\":\"http://example.org/y\"}],\"http://www.w3.org/1999/02/22-rdf-syntax-ns#type\":[{\"@id\":\"http://example.org/Person\"}]},{\"@id\":\"http://example.org/y\",\"http://example.org/name\":[{\"@value\":\"Bob\"}],\"http://example.org/knows\":[{\"@id\":\"http://example.org/z\"}],\"http://www.w3.org/1999/02/22-rdf-syntax-ns#type\":[{\"@id\":\"http://example.org/Person\"}]},{\"@id\":\"_:1\",\"http://example.org/knows\":[{\"@id\":\"http://example.org/x\"}],\"http://www.w3.org/1999/02/22-rdf-syntax-ns#type\":[{\"@id\":\"http://example.org/Person\"}]}]\n"
          ]
        }
      ]
    },
    {
      "cell_type": "markdown",
      "metadata": {
        "id": "5aaV_e6KBpk_"
      },
      "source": [
        "## Running SPARQL queries"
      ]
    },
    {
      "cell_type": "markdown",
      "source": [
        "SPARQL is an RDF query language which is also available in rudof:"
      ],
      "metadata": {
        "id": "RYf1zB-vMfb6"
      }
    },
    {
      "cell_type": "code",
      "execution_count": 27,
      "metadata": {
        "id": "8SmLIHQ-Cwn-"
      },
      "outputs": [],
      "source": [
        "from pyrudof import Rudof, RudofConfig, QuerySolutions\n",
        "rudof = Rudof(RudofConfig())\n",
        "rudof.reset_all()"
      ]
    },
    {
      "cell_type": "code",
      "execution_count": 28,
      "metadata": {
        "id": "tJnEoS7DJmM7"
      },
      "outputs": [],
      "source": [
        "rdf = \"\"\"\n",
        "prefix :    <http://example.org/>\n",
        "prefix xsd: <http://www.w3.org/2001/XMLSchema#>\n",
        "\n",
        ":alice a :Person ;\n",
        " :name      \"Alice\"                ;\n",
        " :birthDate \"2005-03-01\"^^xsd:date ;\n",
        " :worksFor  :acme                   .\n",
        ":bob a :Person   ;\n",
        " :name      \"Robert Smith\"         ;\n",
        " :birthDate \"2003-01-02\"^^xsd:date ;\n",
        " :worksFor  :acme  .\n",
        ":acme a :Company ;\n",
        " :name \"Acme Inc.\" .\n",
        "\"\"\"\n",
        "rudof.read_data_str(rdf)"
      ]
    },
    {
      "cell_type": "code",
      "execution_count": 29,
      "metadata": {
        "id": "ags_QBb4DVaC"
      },
      "outputs": [],
      "source": [
        "query = \"\"\"\n",
        "PREFIX : <http://example.org/>\n",
        "\n",
        "SELECT ?person ?name ?date ?company WHERE {\n",
        "  ?person a          :Person ;\n",
        "          :name      ?name   ;\n",
        "          :birthDate ?date   ;\n",
        "          :worksFor  ?c   .\n",
        "  ?c      :name      ?company .\n",
        "}\n",
        "\"\"\"\n",
        "\n",
        "results = rudof.run_query_str(query)\n"
      ]
    },
    {
      "cell_type": "markdown",
      "metadata": {
        "id": "w4x5cYh-CBnP"
      },
      "source": [
        "Show the results:"
      ]
    },
    {
      "cell_type": "code",
      "execution_count": 31,
      "metadata": {
        "colab": {
          "base_uri": "https://localhost:8080/"
        },
        "id": "t8Bp-fcSCDsW",
        "outputId": "b4198f55-7c02-4172-cfe0-0f57086be53d"
      },
      "outputs": [
        {
          "output_type": "stream",
          "name": "stdout",
          "text": [
            "╭───┬─────────┬────────────────┬────────────────────────┬─────────────╮\n",
            "│   │ ?person │ ?name          │ ?date                  │ ?company    │\n",
            "├───┼─────────┼────────────────┼────────────────────────┼─────────────┤\n",
            "│ 1 │ :alice  │ \"Alice\"        │ \"2005-03-01\"^^xsd:date │ \"Acme Inc.\" │\n",
            "├───┼─────────┼────────────────┼────────────────────────┼─────────────┤\n",
            "│ 2 │ :bob    │ \"Robert Smith\" │ \"2003-01-02\"^^xsd:date │ \"Acme Inc.\" │\n",
            "╰───┴─────────┴────────────────┴────────────────────────┴─────────────╯\n",
            "\n"
          ]
        }
      ],
      "source": [
        "print(results.show())"
      ]
    }
  ],
  "metadata": {
    "colab": {
      "provenance": [],
      "toc_visible": true
    },
    "kernelspec": {
      "display_name": "Python 3",
      "name": "python3"
    },
    "language_info": {
      "name": "python"
    }
  },
  "nbformat": 4,
  "nbformat_minor": 0
}