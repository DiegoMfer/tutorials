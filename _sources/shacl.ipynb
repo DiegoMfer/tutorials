{
  "cells": [
    {
      "cell_type": "markdown",
      "metadata": {
        "id": "sUm7kokski_K"
      },
      "source": [
        "# SHACL"
      ]
    },
    {
      "cell_type": "markdown",
      "metadata": {
        "id": "LMC6kMsUp3de"
      },
      "source": []
    },
    {
      "cell_type": "markdown",
      "metadata": {
        "id": "FlaljkGCkn_Q"
      },
      "source": [
        "This document contains a short introduction to [RDF](https://www.w3.org/TR/rdf11-primer/) using [rudof](https://rudof-project.github.io/). \n"
      ]
    },
    {
      "cell_type": "markdown",
      "metadata": {
        "id": "whZHWrGG6Y8O"
      },
      "source": [
        "## Install and configure rudof"
      ]
    },
    {
      "cell_type": "markdown",
      "metadata": {
        "id": "YpF48mZrjqwo"
      },
      "source": [
        "The library is available as `pyrudof`."
      ]
    },
    {
      "cell_type": "code",
      "execution_count": 1,
      "metadata": {
        "colab": {
          "base_uri": "https://localhost:8080/"
        },
        "id": "voGWk2uO6gcP",
        "outputId": "84b241ce-5369-408e-8b6b-5b80c33cc04d"
      },
      "outputs": [
        {
          "name": "stdout",
          "output_type": "stream",
          "text": [
            "Collecting pyrudof\n",
            "  Downloading pyrudof-0.1.120-cp37-abi3-manylinux_2_17_x86_64.manylinux2014_x86_64.whl.metadata (1.8 kB)\n",
            "Downloading pyrudof-0.1.120-cp37-abi3-manylinux_2_17_x86_64.manylinux2014_x86_64.whl (10.6 MB)\n",
            "\u001b[2K   \u001b[90m━━━━━━━━━━━━━━━━━━━━━━━━━━━━━━━━━━━━━━━━\u001b[0m \u001b[32m10.6/10.6 MB\u001b[0m \u001b[31m23.2 MB/s\u001b[0m eta \u001b[36m0:00:00\u001b[0m\n",
            "\u001b[?25hInstalling collected packages: pyrudof\n",
            "Successfully installed pyrudof-0.1.120\n"
          ]
        }
      ],
      "source": [
        "!pip install pyrudof"
      ]
    },
    {
      "cell_type": "markdown",
      "metadata": {
        "id": "FzsA78qu-xXP"
      },
      "source": [
        "The main entry point if a class called `Rudof` through which most of the functionality is provided."
      ]
    },
    {
      "cell_type": "code",
      "execution_count": 2,
      "metadata": {
        "id": "I3jvDAPBJ3OQ"
      },
      "outputs": [],
      "source": [
        "from pyrudof import Rudof, RudofConfig"
      ]
    },
    {
      "cell_type": "markdown",
      "metadata": {
        "id": "0Io7V7y9_G_P"
      },
      "source": [
        "In order to initialize that class, it is possible to pass a RudofConfig instance which contains configuration parameters for customization."
      ]
    },
    {
      "cell_type": "code",
      "execution_count": 3,
      "metadata": {
        "id": "OAV_KSrH6qn-"
      },
      "outputs": [],
      "source": [
        "rudof = Rudof(RudofConfig())"
      ]
    },
    {
      "cell_type": "markdown",
      "metadata": {
        "id": "RdCph-Et7PwG"
      },
      "source": [
        "## Validate using SHACL"
      ]
    },
    {
      "cell_type": "code",
      "execution_count": 11,
      "metadata": {
        "cellView": "form",
        "id": "3ridiHLC_eS-"
      },
      "outputs": [],
      "source": [
        "# @title\n",
        "rudof.reset_all()"
      ]
    },
    {
      "cell_type": "markdown",
      "metadata": {
        "id": "jr6gkZuQ_WaO"
      },
      "source": [
        "Let's read some RDF data."
      ]
    },
    {
      "cell_type": "code",
      "execution_count": 12,
      "metadata": {
        "id": "Mql8MdI06vj3"
      },
      "outputs": [],
      "source": [
        "rudof.read_data_str(\"\"\"\n",
        "prefix : <http://example.org/>\n",
        "prefix sh:     <http://www.w3.org/ns/shacl#>\n",
        "prefix xsd:    <http://www.w3.org/2001/XMLSchema#>\n",
        "\n",
        ":Person a sh:NodeShape;\n",
        "   sh:targetNode :ok, :ko ;\n",
        "   sh:property [\n",
        "    sh:path     :name ;\n",
        "    sh:minCount 1;\n",
        "    sh:maxCount 1;\n",
        "    sh:datatype xsd:string ;\n",
        "  ] .\n",
        "\"\"\")"
      ]
    },
    {
      "cell_type": "code",
      "execution_count": 13,
      "metadata": {
        "id": "jZzlVjXp60H2"
      },
      "outputs": [],
      "source": [
        "rudof.read_data_str(\"\"\"\n",
        "prefix : <http://example.org/>\n",
        "\n",
        ":ok :name \"alice\" .\n",
        ":ko :name 1 .\n",
        "\"\"\")"
      ]
    },
    {
      "cell_type": "code",
      "execution_count": 14,
      "metadata": {
        "id": "1fidxZsb643H"
      },
      "outputs": [],
      "source": [
        "result = rudof.validate_shacl()"
      ]
    },
    {
      "cell_type": "code",
      "execution_count": 15,
      "metadata": {
        "colab": {
          "base_uri": "https://localhost:8080/"
        },
        "id": "L_gWERG86665",
        "outputId": "a22ccb8b-041e-4091-c50e-a5f69e1ba310"
      },
      "outputs": [
        {
          "name": "stdout",
          "output_type": "stream",
          "text": [
            "1 errors found\n",
            "sh:Violation node: :ko sh:datatype\n",
            "Datatype constraint not satisfied. Expected datatype: http://www.w3.org/2001/XMLSchema#string:name,_:c277c43346f2ed70fc0db8eede39afca1\n",
            "\n"
          ]
        }
      ],
      "source": [
        "print(result.show())"
      ]
    }
  ],
  "metadata": {
    "colab": {
      "provenance": [],
      "toc_visible": true
    },
    "kernelspec": {
      "display_name": "Python 3",
      "name": "python3"
    },
    "language_info": {
      "name": "python"
    }
  },
  "nbformat": 4,
  "nbformat_minor": 0
}
