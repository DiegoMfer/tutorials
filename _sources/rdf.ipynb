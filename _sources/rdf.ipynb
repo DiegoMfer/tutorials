{
  "cells": [
    {
      "cell_type": "markdown",
      "metadata": {
        "id": "sUm7kokski_K"
      },
      "source": [
        "# RDF"
      ]
    },
    {
      "cell_type": "markdown",
      "metadata": {
        "id": "lY2o8WN6f9hv"
      },
      "source": [
        "[![Open In Colab](https://colab.research.google.com/assets/colab-badge.svg)](\n",
        "https://colab.research.google.com/github/rudof-project/tutorials/blob/main/rudof/rdf.ipynb)"
      ]
    },
    {
      "cell_type": "markdown",
      "metadata": {
        "id": "LMC6kMsUp3de"
      },
      "source": []
    },
    {
      "cell_type": "markdown",
      "metadata": {
        "id": "FlaljkGCkn_Q"
      },
      "source": [
        "This document contains a short introduction to [RDF](https://www.w3.org/TR/rdf11-primer/) using [rudof](https://rudof-project.github.io/).\n"
      ]
    },
    {
      "cell_type": "markdown",
      "metadata": {
        "id": "whZHWrGG6Y8O"
      },
      "source": [
        "## Preliminaries: install and configure rudof"
      ]
    },
    {
      "cell_type": "markdown",
      "metadata": {
        "id": "YpF48mZrjqwo"
      },
      "source": [
        "The library is available as `pyrudof`."
      ]
    },
    {
      "cell_type": "code",
      "execution_count": 15,
      "metadata": {
        "colab": {
          "base_uri": "https://localhost:8080/"
        },
        "id": "voGWk2uO6gcP",
        "outputId": "8b3cb0bc-f761-49a7-da18-1a315bd1b11b"
      },
      "outputs": [
        {
          "output_type": "stream",
          "name": "stdout",
          "text": [
            "Requirement already satisfied: pyrudof in /usr/local/lib/python3.12/dist-packages (0.1.120)\n"
          ]
        }
      ],
      "source": [
        "!pip install pyrudof"
      ]
    },
    {
      "cell_type": "markdown",
      "metadata": {
        "id": "FzsA78qu-xXP"
      },
      "source": [
        "The main entry point if a class called [`Rudof`](https://pyrudof.readthedocs.io/en/stable/library.html#rudof) through which most of the functionality is provided."
      ]
    },
    {
      "cell_type": "code",
      "execution_count": 16,
      "metadata": {
        "id": "I3jvDAPBJ3OQ"
      },
      "outputs": [],
      "source": [
        "from pyrudof import Rudof, RudofConfig"
      ]
    },
    {
      "cell_type": "markdown",
      "metadata": {
        "id": "0Io7V7y9_G_P"
      },
      "source": [
        "In order to initialize that class, it is possible to pass a [`RudofConfig`](https://pyrudof.readthedocs.io/en/stable/library.html#pyrudof.RudofConfig) instance which contains configuration parameters for customization. An instance of `RudofConfig` can be obtained from the default initialization method or can be read from a TOML file."
      ]
    },
    {
      "cell_type": "code",
      "execution_count": 17,
      "metadata": {
        "id": "OAV_KSrH6qn-"
      },
      "outputs": [],
      "source": [
        "rudof = Rudof(RudofConfig())"
      ]
    },
    {
      "cell_type": "markdown",
      "source": [
        "We will use `Image` to visualize images of RDF graphs generated using `rudof` and `plantuml`."
      ],
      "metadata": {
        "id": "HYl1L9OPhiA4"
      }
    },
    {
      "cell_type": "code",
      "source": [
        "!pip install plantuml\n",
        "from IPython.display import Image # For displaying images"
      ],
      "metadata": {
        "id": "dK1eGEMahgl4",
        "outputId": "ad37213e-d6c9-4f6d-91f4-156d5f7d8d95",
        "colab": {
          "base_uri": "https://localhost:8080/"
        }
      },
      "execution_count": 18,
      "outputs": [
        {
          "output_type": "stream",
          "name": "stdout",
          "text": [
            "Requirement already satisfied: plantuml in /usr/local/lib/python3.12/dist-packages (0.3.0)\n",
            "Requirement already satisfied: httplib2 in /usr/local/lib/python3.12/dist-packages (from plantuml) (0.31.0)\n",
            "Requirement already satisfied: pyparsing<4,>=3.0.4 in /usr/local/lib/python3.12/dist-packages (from httplib2->plantuml) (3.2.5)\n"
          ]
        }
      ]
    },
    {
      "cell_type": "markdown",
      "source": [
        "The method `reset_all()` can be useful to clean the previous contents of `rudof`."
      ],
      "metadata": {
        "id": "em3sGdh7ivmI"
      }
    },
    {
      "cell_type": "code",
      "source": [
        "rudof.reset_all()"
      ],
      "metadata": {
        "id": "k0dUwsyNitEI"
      },
      "execution_count": 19,
      "outputs": []
    },
    {
      "cell_type": "markdown",
      "metadata": {
        "id": "VRpS4Ou4f9h8"
      },
      "source": [
        "## RDF data model"
      ]
    },
    {
      "cell_type": "markdown",
      "metadata": {
        "id": "xVXlEl0Mf9h8"
      },
      "source": [
        "RDF is based on statements or triples of the form `<subject> <predicate> <object>` where the predicates are identified by IRIs and in the most basic form, subjects and objects are also IRIs. An example could be: `<http://example.org/alice> <http://example.org/knows> <http:/example.org/bob>`.\n",
        "\n",
        "In `rudof`, it is possible to load a triple as follows:"
      ]
    },
    {
      "cell_type": "code",
      "execution_count": 20,
      "metadata": {
        "id": "OUpFt4F2f9h9"
      },
      "outputs": [],
      "source": [
        "rudof.read_data_str(\"<http://example.org/alice> <http://example.org/knows> <http://example.org/bob> .\")"
      ]
    },
    {
      "cell_type": "markdown",
      "source": [
        "RDF graphs are defined as a set of triples. In the basic notation, a set of triples is just one triple after another separated by a dot. So we can add more statements as:"
      ],
      "metadata": {
        "id": "JZ63xDuAgK8Q"
      }
    },
    {
      "cell_type": "code",
      "source": [
        "rudof.read_data_str(\"\"\"\n",
        "  <http://example.org/alice> <http://example.org/knows> <http://example.org/carol> .\n",
        "  <http://example.org/alice> <http://example.org/worksFor> <http://example.org/acme> .\n",
        "  <http://example.org/alice> <http://example.org/birthPlace> <http://example.org/spain> .\n",
        "  <http://example.org/carol> <http://example.org/knows> <http://example.org/bob> .\n",
        "  <http://example.org/bob> <http://example.org/knows> <http://example.org/alice> .\n",
        "\"\"\")"
      ],
      "metadata": {
        "id": "ABysCqY6gVC4"
      },
      "execution_count": 21,
      "outputs": []
    },
    {
      "cell_type": "markdown",
      "source": [
        "Rudof can be used to visualize small RDF triples."
      ],
      "metadata": {
        "id": "3B0NzINlhPP5"
      }
    },
    {
      "cell_type": "code",
      "source": [
        "uml = rudof.data2plantuml_file('out.puml')\n",
        "!python -m plantuml out.puml\n",
        "Image(f\"out.png\")"
      ],
      "metadata": {
        "id": "J3aF2o7ZhOT4",
        "outputId": "0d2cb02b-b9f4-43f1-cf2b-cc7e88f3595d",
        "colab": {
          "base_uri": "https://localhost:8080/",
          "height": 308
        }
      },
      "execution_count": 22,
      "outputs": [
        {
          "output_type": "stream",
          "name": "stdout",
          "text": [
            "[{'filename': 'out.puml', 'gen_success': True}]\n"
          ]
        },
        {
          "output_type": "execute_result",
          "data": {
            "image/png": "[encoded data removed]",
            "text/plain": [
              "<IPython.core.display.Image object>"
            ]
          },
          "metadata": {},
          "execution_count": 22
        }
      ]
    },
    {
      "cell_type": "markdown",
      "source": [
        "In order to obtain interoperability, it is better to employ IRIs of some agreed vocabularies. In this case, we could use the predicate [`<https://schema.org/knows>`](https://schema.org/knows), [`https://schema.org/worksFor`](https://schema.org/worksFor) and [`https://schema.org/birthPlace`](https://schema.org/birthPlace) from [Schema.org](https://schema.org/), and [`<http://dbpedia.org/resource/Spain`] from [DBpedia](https://dbpedia.org/) to represent Spain."
      ],
      "metadata": {
        "id": "rz_bdu7skKpB"
      }
    },
    {
      "cell_type": "code",
      "source": [
        "rudof.reset_all()\n",
        "rudof.read_data_str(\"\"\"\n",
        "  <http://example.org/alice> <https://schema.org/knows>      <http://example.org/carol> .\n",
        "  <http://example.org/alice> <https://schema.org/worksFor>   <http://example.org/acme> .\n",
        "  <http://example.org/alice> <https://schema.org/birthPlace> <http://dbpedia.org/resource/Spain> .\n",
        "  <http://example.org/carol> <https://schema.org/knows>      <http://example.org/bob> .\n",
        "  <http://example.org/bob>   <http://schema.org/knows>       <http://example.org/alice> .\n",
        "\"\"\")"
      ],
      "metadata": {
        "id": "MxTUdR42lkBx"
      },
      "execution_count": 30,
      "outputs": []
    },
    {
      "cell_type": "code",
      "source": [
        "!rm -f out.puml out.png\n",
        "uml = rudof.data2plantuml_file('out.puml')\n",
        "!python -m plantuml out.puml\n",
        "Image(f\"out.png\")"
      ],
      "metadata": {
        "id": "kS7XKzpnl5jA",
        "outputId": "a547bd27-0574-4a89-d6fa-f7ee3203bdf3",
        "colab": {
          "base_uri": "https://localhost:8080/",
          "height": 422
        }
      },
      "execution_count": 31,
      "outputs": [
        {
          "output_type": "stream",
          "name": "stdout",
          "text": [
            "[{'filename': 'out.puml', 'gen_success': True}]\n"
          ]
        },
        {
          "output_type": "execute_result",
          "data": {
            "image/png": "[encoded data removed]",
            "text/plain": [
              "<IPython.core.display.Image object>"
            ]
          },
          "metadata": {},
          "execution_count": 31
        }
      ]
    },
    {
      "cell_type": "markdown",
      "source": [
        "Having long IRIs can make RDF difficult to read. In order to have more readable RDF documents, it is possible to declare prefixes for some URIs and use qualified names formed by `prefix:name`. So the previous example could be rewritten as:"
      ],
      "metadata": {
        "id": "TsG9FiAijES4"
      }
    },
    {
      "cell_type": "markdown",
      "source": [
        "### Prefixed declarations and qualified names"
      ],
      "metadata": {
        "id": "chvMSZfln0tQ"
      }
    },
    {
      "cell_type": "code",
      "source": [
        "rudof.reset_all()\n",
        "rudof.read_data_str(\"\"\"\n",
        " prefix : <http://example.org/>\n",
        " prefix schema: <http://schema.org/>\n",
        " prefix dbr: <http://dbpedia.org/resource/>\n",
        "\n",
        " :alice schema:knows :carol .\n",
        " :alice schema:worksFor :acme .\n",
        " :alice schema:birthPlace :spain .\n",
        " :carol schema:knows :bob .\n",
        " :bob   schema:knows :alice .\n",
        "\"\"\")"
      ],
      "metadata": {
        "id": "IHnFyEQ0jkcZ"
      },
      "execution_count": 33,
      "outputs": []
    },
    {
      "cell_type": "code",
      "source": [
        "!rm -f out.puml out.png\n",
        "uml = rudof.data2plantuml_file('out.puml')\n",
        "!python -m plantuml out.puml\n",
        "Image(f\"out.png\")"
      ],
      "metadata": {
        "id": "lo5shaNRmIOg",
        "outputId": "bf752d32-6894-4424-ce84-add12b7f97d5",
        "colab": {
          "base_uri": "https://localhost:8080/",
          "height": 308
        }
      },
      "execution_count": 34,
      "outputs": [
        {
          "output_type": "stream",
          "name": "stdout",
          "text": [
            "[{'filename': 'out.puml', 'gen_success': True}]\n"
          ]
        },
        {
          "output_type": "execute_result",
          "data": {
            "image/png": "[encoded data removed]",
            "text/plain": [
              "<IPython.core.display.Image object>"
            ]
          },
          "metadata": {},
          "execution_count": 34
        }
      ]
    },
    {
      "cell_type": "markdown",
      "source": [
        "### RDF Literals"
      ],
      "metadata": {
        "id": "1REjFD4Qnv3B"
      }
    },
    {
      "cell_type": "markdown",
      "source": [],
      "metadata": {
        "id": "WJr-D158p7dA"
      }
    },
    {
      "cell_type": "markdown",
      "source": [
        "Apart from IRIs, the objects in triples can also be literals, which can be seen as constants. There are 3 types of literals:\n",
        "\n",
        "\n",
        "* Plain strings, like `\"Robert Smith\"`\n",
        "* Language tagged strings, like `\"Spain\"@en` or `\"España@es\"`\n",
        "* Datatype literals, like `\"23\"^^xsd:integer`\n"
      ],
      "metadata": {
        "id": "ASPo4p_AmVIg"
      }
    },
    {
      "cell_type": "code",
      "source": [
        "rudof.reset_all()\n",
        "rudof.read_data_str(\"\"\"\n",
        " prefix : <http://example.org/>\n",
        " prefix schema: <http://schema.org/>\n",
        " prefix dbr: <http://dbpedia.org/resource/>\n",
        " prefix xsd: <http://www.w3.org/2001/XMLSchema#>\n",
        "\n",
        " :alice schema:knows :carol .\n",
        " :alice schema:worksFor :acme .\n",
        " :alice schema:birthPlace dbr:Spain .\n",
        " :alice schema:birthDate \"1990-01-01\"^^xsd:date .\n",
        " :carol schema:knows :bob .\n",
        " :bob   schema:name \"Robert Smith\" .\n",
        " :bob   schema:knows :alice .\n",
        " :acme  schema:name \"Acme Inc.\" .\n",
        "\"\"\")\n"
      ],
      "metadata": {
        "id": "vSQgU9lgnMBA"
      },
      "execution_count": 37,
      "outputs": []
    },
    {
      "cell_type": "code",
      "source": [
        "!rm -f out.puml out.png\n",
        "uml = rudof.data2plantuml_file('out.puml')\n",
        "!python -m plantuml out.puml\n",
        "Image(f\"out.png\")"
      ],
      "metadata": {
        "id": "9QOyMRGZnjRQ",
        "outputId": "e5eae18e-d1e4-46c6-a1b0-2bb986ce5bc2",
        "colab": {
          "base_uri": "https://localhost:8080/",
          "height": 422
        }
      },
      "execution_count": 38,
      "outputs": [
        {
          "output_type": "stream",
          "name": "stdout",
          "text": [
            "[{'filename': 'out.puml', 'gen_success': True}]\n"
          ]
        },
        {
          "output_type": "execute_result",
          "data": {
            "image/png": "[encoded data removed]",
            "text/plain": [
              "<IPython.core.display.Image object>"
            ]
          },
          "metadata": {},
          "execution_count": 38
        }
      ]
    },
    {
      "cell_type": "markdown",
      "source": [
        "### Blank nodes"
      ],
      "metadata": {
        "id": "fREUeuE0n9EI"
      }
    },
    {
      "cell_type": "markdown",
      "source": [
        "Sometimes, we want to add some statements about things which don't have some IRI. For example, we may want to say that `:alice` knows someone who was born in Italy that works for `Acme` as:"
      ],
      "metadata": {
        "id": "i_jw0H8xn_Zw"
      }
    },
    {
      "cell_type": "code",
      "source": [
        "rudof.reset_all()\n",
        "rudof.read_data_str(\"\"\"\n",
        " prefix : <http://example.org/>\n",
        " prefix schema: <http://schema.org/>\n",
        " prefix dbr: <http://dbpedia.org/resource/>\n",
        " prefix xsd: <http://www.w3.org/2001/XMLSchema#>\n",
        "\n",
        " :alice schema:knows _:1 .\n",
        " _:1 schema:worksFor :acme .\n",
        " _:1 schema:birthPlace dbr:Italy .\n",
        "\"\"\")\n",
        "#"
      ],
      "metadata": {
        "id": "144Ne2RWocaB"
      },
      "execution_count": 46,
      "outputs": []
    },
    {
      "cell_type": "code",
      "source": [
        "!rm -f out.puml out.png\n",
        "uml = rudof.data2plantuml_file('out.puml')\n",
        "!python -m plantuml out.puml\n",
        "Image(f\"out.png\")"
      ],
      "metadata": {
        "id": "w0bqufypo4oI",
        "outputId": "4d33e240-3cba-4dff-a3bc-39cc929c7a45",
        "colab": {
          "base_uri": "https://localhost:8080/",
          "height": 292
        }
      },
      "execution_count": 43,
      "outputs": [
        {
          "output_type": "stream",
          "name": "stdout",
          "text": [
            "[{'filename': 'out.puml', 'gen_success': True}]\n"
          ]
        },
        {
          "output_type": "execute_result",
          "data": {
            "image/png": "[encoded data removed]",
            "text/plain": [
              "<IPython.core.display.Image object>"
            ]
          },
          "metadata": {},
          "execution_count": 43
        }
      ]
    },
    {
      "cell_type": "markdown",
      "source": [
        "The notation `_:id` represents a blank node. The `id` of the blank node can be used to refer to it in the definition of the RDF graph, but there is no warranty that it will be preserved internally.\n",
        "\n",
        "If we want to add that `:bob` knows someone who works for `Acme` and was born in `Germany`, we can do the following:"
      ],
      "metadata": {
        "id": "LP56fbnzpAuJ"
      }
    },
    {
      "cell_type": "code",
      "source": [
        "rudof.read_data_str(\"\"\"\n",
        " prefix : <http://example.org/>\n",
        " prefix schema: <http://schema.org/>\n",
        " prefix dbr: <http://dbpedia.org/resource/>\n",
        " prefix xsd: <http://www.w3.org/2001/XMLSchema#>\n",
        "\n",
        " :bob schema:knows _:2 .\n",
        " _:2 schema:worksFor :acme .\n",
        " _:2 schema:birthPlace dbr:Germany .\n",
        "\"\"\")\n",
        "!rm -f out.puml out.png\n",
        "uml = rudof.data2plantuml_file('out.puml')\n",
        "!python -m plantuml out.puml\n",
        "Image(f\"out.png\")"
      ],
      "metadata": {
        "id": "TuoQmgzYpjc6",
        "outputId": "ee3a8f23-1d34-415d-e0a7-e77292f0284e",
        "colab": {
          "base_uri": "https://localhost:8080/",
          "height": 292
        }
      },
      "execution_count": 47,
      "outputs": [
        {
          "output_type": "stream",
          "name": "stdout",
          "text": [
            "[{'filename': 'out.puml', 'gen_success': True}]\n"
          ]
        },
        {
          "output_type": "execute_result",
          "data": {
            "image/png": "[encoded data removed]",
            "text/plain": [
              "<IPython.core.display.Image object>"
            ]
          },
          "metadata": {},
          "execution_count": 47
        }
      ]
    },
    {
      "cell_type": "markdown",
      "metadata": {
        "id": "rCOlUq9H_5b2"
      },
      "source": [
        "## Handling RDF data"
      ]
    },
    {
      "cell_type": "code",
      "execution_count": 23,
      "metadata": {
        "id": "WH2rBJ5b_8go"
      },
      "outputs": [],
      "source": [
        "rudof.read_data_str(\"\"\"\n",
        "prefix : <http://example.org/>\n",
        "prefix xsd: <http://www.w3.org/2001/XMLSchema#>\n",
        "\n",
        ":x a :Person     ;\n",
        "   :name \"Alice\" ;\n",
        "   :knows :y     .\n",
        ":y a :Person     ;\n",
        "   :name \"Bob\"   ;\n",
        "   :knows :z     .\n",
        ":z a :Person     ;\n",
        "   :knows :x     .\n",
        "\"\"\")"
      ]
    },
    {
      "cell_type": "markdown",
      "metadata": {
        "id": "i-XbhuVvAwE3"
      },
      "source": [
        "The RDF data can easily be merged with other data."
      ]
    },
    {
      "cell_type": "code",
      "execution_count": 24,
      "metadata": {
        "id": "WMFRb2QqA0xA"
      },
      "outputs": [],
      "source": [
        "rudof.read_data_str(\"\"\"\n",
        "prefix : <http://example.org/>\n",
        "prefix xsd: <http://www.w3.org/2001/XMLSchema#>\n",
        "\n",
        ":u a :Person     ;\n",
        "   :name \"Dave\" ;\n",
        "   :knows :y     .\n",
        ":v a :Person     ;\n",
        "   :name \"Emily\" ;\n",
        "   :knows _:1    .\n",
        "_:1 a :Person     ;\n",
        "   :knows :x     .\n",
        "\"\"\")"
      ]
    },
    {
      "cell_type": "markdown",
      "metadata": {
        "id": "wP64tMo5BESa"
      },
      "source": [
        "And the data can be serialized to different formats."
      ]
    },
    {
      "cell_type": "code",
      "execution_count": 25,
      "metadata": {
        "colab": {
          "base_uri": "https://localhost:8080/"
        },
        "id": "yAUCSKN8BI3P",
        "outputId": "7a3ec5d8-5b1e-4cf9-dde1-4687f71987d8"
      },
      "outputs": [
        {
          "output_type": "stream",
          "name": "stdout",
          "text": [
            "<http://example.org/x> <http://www.w3.org/1999/02/22-rdf-syntax-ns#type> <http://example.org/Person> .\n",
            "<http://example.org/x> <http://example.org/knows> <http://example.org/y> .\n",
            "<http://example.org/x> <http://example.org/name> \"Alice\" .\n",
            "<http://example.org/z> <http://www.w3.org/1999/02/22-rdf-syntax-ns#type> <http://example.org/Person> .\n",
            "<http://example.org/z> <http://example.org/knows> <http://example.org/x> .\n",
            "<http://example.org/v> <http://www.w3.org/1999/02/22-rdf-syntax-ns#type> <http://example.org/Person> .\n",
            "<http://example.org/v> <http://example.org/knows> _:1 .\n",
            "<http://example.org/v> <http://example.org/name> \"Emily\" .\n",
            "<http://example.org/bob> <http://example.org/knows> <http://example.org/alice> .\n",
            "<http://example.org/carol> <http://example.org/knows> <http://example.org/bob> .\n",
            "<http://example.org/alice> <http://example.org/worksFor> <http://example.org/acme> .\n",
            "<http://example.org/alice> <http://example.org/birthPlace> <http://example.org/spain> .\n",
            "<http://example.org/alice> <http://example.org/knows> <http://example.org/bob> .\n",
            "<http://example.org/alice> <http://example.org/knows> <http://example.org/carol> .\n",
            "<http://example.org/y> <http://www.w3.org/1999/02/22-rdf-syntax-ns#type> <http://example.org/Person> .\n",
            "<http://example.org/y> <http://example.org/knows> <http://example.org/z> .\n",
            "<http://example.org/y> <http://example.org/name> \"Bob\" .\n",
            "<http://example.org/u> <http://www.w3.org/1999/02/22-rdf-syntax-ns#type> <http://example.org/Person> .\n",
            "<http://example.org/u> <http://example.org/knows> <http://example.org/y> .\n",
            "<http://example.org/u> <http://example.org/name> \"Dave\" .\n",
            "_:1 <http://www.w3.org/1999/02/22-rdf-syntax-ns#type> <http://example.org/Person> .\n",
            "_:1 <http://example.org/knows> <http://example.org/x> .\n",
            "\n"
          ]
        }
      ],
      "source": [
        "from pyrudof import RDFFormat\n",
        "str = rudof.serialize_data(format=RDFFormat.NTriples)\n",
        "print(str)"
      ]
    },
    {
      "cell_type": "markdown",
      "metadata": {
        "id": "5aaV_e6KBpk_"
      },
      "source": [
        "## Running SPARQL queries"
      ]
    },
    {
      "cell_type": "code",
      "execution_count": 26,
      "metadata": {
        "id": "8SmLIHQ-Cwn-"
      },
      "outputs": [],
      "source": [
        "from pyrudof import Rudof, RudofConfig, QuerySolutions\n",
        "rudof = Rudof(RudofConfig())\n",
        "rudof.reset_all()"
      ]
    },
    {
      "cell_type": "code",
      "execution_count": 27,
      "metadata": {
        "id": "4gxr_0bgCf2u"
      },
      "outputs": [],
      "source": [
        "rdf = \"\"\"prefix : <http://example.org/>\n",
        ":alice a :Person ;\n",
        " :name \"Alice\"   ;\n",
        " :knows :bob     .\n",
        ":bob a :Person   ;\n",
        " :name \"Robert\"  .\n",
        "\"\"\"\n",
        "rudof.read_data_str(rdf)"
      ]
    },
    {
      "cell_type": "code",
      "execution_count": 28,
      "metadata": {
        "id": "ags_QBb4DVaC"
      },
      "outputs": [],
      "source": [
        "query = \"\"\"prefix : <http://example.org/>\n",
        "select * where {\n",
        "  ?x a :Person\n",
        "}\n",
        "\"\"\"\n",
        "\n",
        "results = rudof.run_query_str(query)\n"
      ]
    },
    {
      "cell_type": "markdown",
      "metadata": {
        "id": "w4x5cYh-CBnP"
      },
      "source": [
        "Show the results:"
      ]
    },
    {
      "cell_type": "code",
      "execution_count": 29,
      "metadata": {
        "colab": {
          "base_uri": "https://localhost:8080/"
        },
        "id": "t8Bp-fcSCDsW",
        "outputId": "a131328e-dc5e-43c5-cb62-9e9037dbc99d"
      },
      "outputs": [
        {
          "output_type": "stream",
          "name": "stdout",
          "text": [
            "?x -> <http://example.org/alice>\n",
            "\n",
            "?x -> <http://example.org/bob>\n",
            "\n"
          ]
        }
      ],
      "source": [
        "for result in iter(results):\n",
        "    print(result.show())"
      ]
    }
  ],
  "metadata": {
    "colab": {
      "provenance": [],
      "toc_visible": true
    },
    "kernelspec": {
      "display_name": "Python 3",
      "name": "python3"
    },
    "language_info": {
      "name": "python"
    }
  },
  "nbformat": 4,
  "nbformat_minor": 0
}